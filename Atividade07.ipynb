{
  "nbformat": 4,
  "nbformat_minor": 0,
  "metadata": {
    "colab": {
      "name": "Atividade07.ipynb",
      "provenance": [],
      "collapsed_sections": [],
      "include_colab_link": true
    },
    "kernelspec": {
      "name": "python3",
      "display_name": "Python 3"
    },
    "language_info": {
      "name": "python"
    },
    "accelerator": "GPU",
    "gpuClass": "standard",
    "widgets": {
      "application/vnd.jupyter.widget-state+json": {
        "87acd57a77a6409fa5c09f984299d2e5": {
          "model_module": "@jupyter-widgets/controls",
          "model_name": "HBoxModel",
          "model_module_version": "2.0.0",
          "state": {
            "_dom_classes": [],
            "_model_module": "@jupyter-widgets/controls",
            "_model_module_version": "2.0.0",
            "_model_name": "HBoxModel",
            "_view_count": null,
            "_view_module": "@jupyter-widgets/controls",
            "_view_module_version": "2.0.0",
            "_view_name": "HBoxView",
            "box_style": "",
            "children": [
              "IPY_MODEL_1b190c7d41f247c2b7d041feacb1e8af",
              "IPY_MODEL_8958890f0c0343f88609e64f9b025b2e",
              "IPY_MODEL_3f23e4d371f24f9f9a6496520206dd42"
            ],
            "layout": "IPY_MODEL_8cd64d0a6ce84d61b1068513e6b81d1f",
            "tabbable": null,
            "tooltip": null
          }
        },
        "1b190c7d41f247c2b7d041feacb1e8af": {
          "model_module": "@jupyter-widgets/controls",
          "model_name": "HTMLModel",
          "model_module_version": "2.0.0",
          "state": {
            "_dom_classes": [],
            "_model_module": "@jupyter-widgets/controls",
            "_model_module_version": "2.0.0",
            "_model_name": "HTMLModel",
            "_view_count": null,
            "_view_module": "@jupyter-widgets/controls",
            "_view_module_version": "2.0.0",
            "_view_name": "HTMLView",
            "description": "",
            "description_allow_html": false,
            "layout": "IPY_MODEL_675be810b5104fa285afd061f05aac03",
            "placeholder": "​",
            "style": "IPY_MODEL_47a4aee0c1364deca162f6e288e4ae07",
            "tabbable": null,
            "tooltip": null,
            "value": " 14%"
          }
        },
        "8958890f0c0343f88609e64f9b025b2e": {
          "model_module": "@jupyter-widgets/controls",
          "model_name": "FloatProgressModel",
          "model_module_version": "2.0.0",
          "state": {
            "_dom_classes": [],
            "_model_module": "@jupyter-widgets/controls",
            "_model_module_version": "2.0.0",
            "_model_name": "FloatProgressModel",
            "_view_count": null,
            "_view_module": "@jupyter-widgets/controls",
            "_view_module_version": "2.0.0",
            "_view_name": "ProgressView",
            "bar_style": "danger",
            "description": "",
            "description_allow_html": false,
            "layout": "IPY_MODEL_d1b315a9dded4798b10172284174117a",
            "max": 829,
            "min": 0,
            "orientation": "horizontal",
            "style": "IPY_MODEL_49b1e9088e5d4470bb4a4daa21190be9",
            "tabbable": null,
            "tooltip": null,
            "value": 119
          }
        },
        "3f23e4d371f24f9f9a6496520206dd42": {
          "model_module": "@jupyter-widgets/controls",
          "model_name": "HTMLModel",
          "model_module_version": "2.0.0",
          "state": {
            "_dom_classes": [],
            "_model_module": "@jupyter-widgets/controls",
            "_model_module_version": "2.0.0",
            "_model_name": "HTMLModel",
            "_view_count": null,
            "_view_module": "@jupyter-widgets/controls",
            "_view_module_version": "2.0.0",
            "_view_name": "HTMLView",
            "description": "",
            "description_allow_html": false,
            "layout": "IPY_MODEL_39766cceab41485e836509777105b1b7",
            "placeholder": "​",
            "style": "IPY_MODEL_1eb21bbb0e1b4ec69c36ffa33bf260f5",
            "tabbable": null,
            "tooltip": null,
            "value": " 119/829 [43:57&lt;3:14:36, 16.45s/it]"
          }
        },
        "8cd64d0a6ce84d61b1068513e6b81d1f": {
          "model_module": "@jupyter-widgets/base",
          "model_name": "LayoutModel",
          "model_module_version": "2.0.0",
          "state": {
            "_model_module": "@jupyter-widgets/base",
            "_model_module_version": "2.0.0",
            "_model_name": "LayoutModel",
            "_view_count": null,
            "_view_module": "@jupyter-widgets/base",
            "_view_module_version": "2.0.0",
            "_view_name": "LayoutView",
            "align_content": null,
            "align_items": null,
            "align_self": null,
            "border_bottom": null,
            "border_left": null,
            "border_right": null,
            "border_top": null,
            "bottom": null,
            "display": null,
            "flex": null,
            "flex_flow": null,
            "grid_area": null,
            "grid_auto_columns": null,
            "grid_auto_flow": null,
            "grid_auto_rows": null,
            "grid_column": null,
            "grid_gap": null,
            "grid_row": null,
            "grid_template_areas": null,
            "grid_template_columns": null,
            "grid_template_rows": null,
            "height": null,
            "justify_content": null,
            "justify_items": null,
            "left": null,
            "margin": null,
            "max_height": null,
            "max_width": null,
            "min_height": null,
            "min_width": null,
            "object_fit": null,
            "object_position": null,
            "order": null,
            "overflow": null,
            "padding": null,
            "right": null,
            "top": null,
            "visibility": null,
            "width": null
          }
        },
        "675be810b5104fa285afd061f05aac03": {
          "model_module": "@jupyter-widgets/base",
          "model_name": "LayoutModel",
          "model_module_version": "2.0.0",
          "state": {
            "_model_module": "@jupyter-widgets/base",
            "_model_module_version": "2.0.0",
            "_model_name": "LayoutModel",
            "_view_count": null,
            "_view_module": "@jupyter-widgets/base",
            "_view_module_version": "2.0.0",
            "_view_name": "LayoutView",
            "align_content": null,
            "align_items": null,
            "align_self": null,
            "border_bottom": null,
            "border_left": null,
            "border_right": null,
            "border_top": null,
            "bottom": null,
            "display": null,
            "flex": null,
            "flex_flow": null,
            "grid_area": null,
            "grid_auto_columns": null,
            "grid_auto_flow": null,
            "grid_auto_rows": null,
            "grid_column": null,
            "grid_gap": null,
            "grid_row": null,
            "grid_template_areas": null,
            "grid_template_columns": null,
            "grid_template_rows": null,
            "height": null,
            "justify_content": null,
            "justify_items": null,
            "left": null,
            "margin": null,
            "max_height": null,
            "max_width": null,
            "min_height": null,
            "min_width": null,
            "object_fit": null,
            "object_position": null,
            "order": null,
            "overflow": null,
            "padding": null,
            "right": null,
            "top": null,
            "visibility": null,
            "width": null
          }
        },
        "47a4aee0c1364deca162f6e288e4ae07": {
          "model_module": "@jupyter-widgets/controls",
          "model_name": "HTMLStyleModel",
          "model_module_version": "2.0.0",
          "state": {
            "_model_module": "@jupyter-widgets/controls",
            "_model_module_version": "2.0.0",
            "_model_name": "HTMLStyleModel",
            "_view_count": null,
            "_view_module": "@jupyter-widgets/base",
            "_view_module_version": "2.0.0",
            "_view_name": "StyleView",
            "background": null,
            "description_width": "",
            "font_size": null,
            "text_color": null
          }
        },
        "d1b315a9dded4798b10172284174117a": {
          "model_module": "@jupyter-widgets/base",
          "model_name": "LayoutModel",
          "model_module_version": "2.0.0",
          "state": {
            "_model_module": "@jupyter-widgets/base",
            "_model_module_version": "2.0.0",
            "_model_name": "LayoutModel",
            "_view_count": null,
            "_view_module": "@jupyter-widgets/base",
            "_view_module_version": "2.0.0",
            "_view_name": "LayoutView",
            "align_content": null,
            "align_items": null,
            "align_self": null,
            "border_bottom": null,
            "border_left": null,
            "border_right": null,
            "border_top": null,
            "bottom": null,
            "display": null,
            "flex": null,
            "flex_flow": null,
            "grid_area": null,
            "grid_auto_columns": null,
            "grid_auto_flow": null,
            "grid_auto_rows": null,
            "grid_column": null,
            "grid_gap": null,
            "grid_row": null,
            "grid_template_areas": null,
            "grid_template_columns": null,
            "grid_template_rows": null,
            "height": null,
            "justify_content": null,
            "justify_items": null,
            "left": null,
            "margin": null,
            "max_height": null,
            "max_width": null,
            "min_height": null,
            "min_width": null,
            "object_fit": null,
            "object_position": null,
            "order": null,
            "overflow": null,
            "padding": null,
            "right": null,
            "top": null,
            "visibility": null,
            "width": null
          }
        },
        "49b1e9088e5d4470bb4a4daa21190be9": {
          "model_module": "@jupyter-widgets/controls",
          "model_name": "ProgressStyleModel",
          "model_module_version": "2.0.0",
          "state": {
            "_model_module": "@jupyter-widgets/controls",
            "_model_module_version": "2.0.0",
            "_model_name": "ProgressStyleModel",
            "_view_count": null,
            "_view_module": "@jupyter-widgets/base",
            "_view_module_version": "2.0.0",
            "_view_name": "StyleView",
            "bar_color": null,
            "description_width": ""
          }
        },
        "39766cceab41485e836509777105b1b7": {
          "model_module": "@jupyter-widgets/base",
          "model_name": "LayoutModel",
          "model_module_version": "2.0.0",
          "state": {
            "_model_module": "@jupyter-widgets/base",
            "_model_module_version": "2.0.0",
            "_model_name": "LayoutModel",
            "_view_count": null,
            "_view_module": "@jupyter-widgets/base",
            "_view_module_version": "2.0.0",
            "_view_name": "LayoutView",
            "align_content": null,
            "align_items": null,
            "align_self": null,
            "border_bottom": null,
            "border_left": null,
            "border_right": null,
            "border_top": null,
            "bottom": null,
            "display": null,
            "flex": null,
            "flex_flow": null,
            "grid_area": null,
            "grid_auto_columns": null,
            "grid_auto_flow": null,
            "grid_auto_rows": null,
            "grid_column": null,
            "grid_gap": null,
            "grid_row": null,
            "grid_template_areas": null,
            "grid_template_columns": null,
            "grid_template_rows": null,
            "height": null,
            "justify_content": null,
            "justify_items": null,
            "left": null,
            "margin": null,
            "max_height": null,
            "max_width": null,
            "min_height": null,
            "min_width": null,
            "object_fit": null,
            "object_position": null,
            "order": null,
            "overflow": null,
            "padding": null,
            "right": null,
            "top": null,
            "visibility": null,
            "width": null
          }
        },
        "1eb21bbb0e1b4ec69c36ffa33bf260f5": {
          "model_module": "@jupyter-widgets/controls",
          "model_name": "HTMLStyleModel",
          "model_module_version": "2.0.0",
          "state": {
            "_model_module": "@jupyter-widgets/controls",
            "_model_module_version": "2.0.0",
            "_model_name": "HTMLStyleModel",
            "_view_count": null,
            "_view_module": "@jupyter-widgets/base",
            "_view_module_version": "2.0.0",
            "_view_name": "StyleView",
            "background": null,
            "description_width": "",
            "font_size": null,
            "text_color": null
          }
        }
      }
    }
  },
  "cells": [
    {
      "cell_type": "markdown",
      "metadata": {
        "id": "view-in-github",
        "colab_type": "text"
      },
      "source": [
        "<a href=\"https://colab.research.google.com/github/nosgueira/PLN-2022-1/blob/main/Atividade07.ipynb\" target=\"_parent\"><img src=\"https://colab.research.google.com/assets/colab-badge.svg\" alt=\"Open In Colab\"/></a>"
      ]
    },
    {
      "cell_type": "markdown",
      "source": [
        "# Atividade 07 -  Classificação de Imagens de Documentos\n",
        "- Gabriel da Silva Corvino Nogueira (180113330)"
      ],
      "metadata": {
        "id": "e2oaoSW8KRfd"
      }
    },
    {
      "cell_type": "markdown",
      "source": [
        "## Imports"
      ],
      "metadata": {
        "id": "2RJq4M64Kcvc"
      }
    },
    {
      "cell_type": "code",
      "source": [
        "import matplotlib.pyplot as plt\n",
        "import numpy as np \n",
        "import os\n",
        "import pandas as pd\n",
        "\n",
        "from keras.utils.np_utils import to_categorical\n",
        "\n",
        "from sklearn.feature_extraction.text import TfidfVectorizer\n",
        "from sklearn.metrics import classification_report\n",
        "from sklearn.model_selection import train_test_split\n",
        "\n",
        "from tensorflow.keras import layers\n",
        "from tensorflow.keras.applications import ResNet50\n",
        "from tensorflow.keras.layers import Dense, Activation, Conv2D, BatchNormalization, MaxPool2D, Dropout, Flatten, MaxPooling2D\n",
        "from tensorflow.keras.models import Sequential\n",
        "from tensorflow.keras.optimizers import SGD\n",
        "from tensorflow.keras.preprocessing.image import ImageDataGenerator\n",
        "\n",
        "from tqdm.notebook import tqdm\n"
      ],
      "metadata": {
        "id": "y6JFUcrWhSaB"
      },
      "execution_count": 19,
      "outputs": []
    },
    {
      "cell_type": "markdown",
      "source": [
        "## Baixar Dataset de Documentos escaneados"
      ],
      "metadata": {
        "id": "fc-iItfzKg9m"
      }
    },
    {
      "cell_type": "code",
      "source": [
        "from google.colab import drive\n",
        "drive.mount('/content/drive')"
      ],
      "metadata": {
        "colab": {
          "base_uri": "https://localhost:8080/"
        },
        "id": "sqe6EwqYL_cg",
        "outputId": "ef09a323-d64c-48da-b7f7-58c06d99cd2f"
      },
      "execution_count": 2,
      "outputs": [
        {
          "output_type": "stream",
          "name": "stdout",
          "text": [
            "Drive already mounted at /content/drive; to attempt to forcibly remount, call drive.mount(\"/content/drive\", force_remount=True).\n"
          ]
        }
      ]
    },
    {
      "cell_type": "code",
      "source": [
        "import zipfile\n",
        "\n",
        "zip_ref = zipfile.ZipFile(\"/content/drive/My Drive/full_3.zip\", 'r')\n",
        "zip_ref.extractall()\n",
        "zip_ref.close()"
      ],
      "metadata": {
        "id": "hlTfaUefMMs9"
      },
      "execution_count": 3,
      "outputs": []
    },
    {
      "cell_type": "markdown",
      "source": [
        "Leitura de dados"
      ],
      "metadata": {
        "id": "FLNbp9EKKh1K"
      }
    },
    {
      "cell_type": "code",
      "source": [
        "path_documents ='/content/full_3' \n",
        "lista_subfolders = os.listdir(path_documents)\n",
        "\n",
        "\n",
        "dataset_dict = {}\n",
        "dataset_dict['filename'] = []\n",
        "dataset_dict['label'] = []\n",
        "\n",
        "for folder in lista_subfolders:\n",
        "    lista_imagens = os.listdir(path_documents+'/'+folder)\n",
        "\n",
        "    for img_file in lista_imagens:\n",
        "        dataset_dict['filename'].append(path_documents+'/'+folder+'/'+img_file)\n",
        "        dataset_dict['label'].append(folder)"
      ],
      "metadata": {
        "id": "LS3L9apHKk5F"
      },
      "execution_count": 3,
      "outputs": []
    },
    {
      "cell_type": "code",
      "source": [
        "df = pd.DataFrame(dataset_dict, columns= ['filename', 'label'])\n",
        "df"
      ],
      "metadata": {
        "colab": {
          "base_uri": "https://localhost:8080/",
          "height": 424
        },
        "id": "IyRjWs2xNYrk",
        "outputId": "87b18524-29e3-4084-94b5-7da5699b32ca"
      },
      "execution_count": 4,
      "outputs": [
        {
          "output_type": "execute_result",
          "data": {
            "text/plain": [
              "                                               filename  \\\n",
              "0     /content/full_3/scientific _publication/250225...   \n",
              "1     /content/full_3/scientific _publication/100469...   \n",
              "2     /content/full_3/scientific _publication/204639...   \n",
              "3     /content/full_3/scientific _publication/250535...   \n",
              "4     /content/full_3/scientific _publication/250542...   \n",
              "...                                                 ...   \n",
              "2956       /content/full_3/advertisement/2044905226.tif   \n",
              "2957       /content/full_3/advertisement/2058504145.tif   \n",
              "2958         /content/full_3/advertisement/91383464.tif   \n",
              "2959             /content/full_3/advertisement/6132.tif   \n",
              "2960         /content/full_3/advertisement/13025280.tif   \n",
              "\n",
              "                        label  \n",
              "0     scientific _publication  \n",
              "1     scientific _publication  \n",
              "2     scientific _publication  \n",
              "3     scientific _publication  \n",
              "4     scientific _publication  \n",
              "...                       ...  \n",
              "2956            advertisement  \n",
              "2957            advertisement  \n",
              "2958            advertisement  \n",
              "2959            advertisement  \n",
              "2960            advertisement  \n",
              "\n",
              "[2961 rows x 2 columns]"
            ],
            "text/html": [
              "\n",
              "  <div id=\"df-a14e6650-dadc-428e-b598-afaafb144264\">\n",
              "    <div class=\"colab-df-container\">\n",
              "      <div>\n",
              "<style scoped>\n",
              "    .dataframe tbody tr th:only-of-type {\n",
              "        vertical-align: middle;\n",
              "    }\n",
              "\n",
              "    .dataframe tbody tr th {\n",
              "        vertical-align: top;\n",
              "    }\n",
              "\n",
              "    .dataframe thead th {\n",
              "        text-align: right;\n",
              "    }\n",
              "</style>\n",
              "<table border=\"1\" class=\"dataframe\">\n",
              "  <thead>\n",
              "    <tr style=\"text-align: right;\">\n",
              "      <th></th>\n",
              "      <th>filename</th>\n",
              "      <th>label</th>\n",
              "    </tr>\n",
              "  </thead>\n",
              "  <tbody>\n",
              "    <tr>\n",
              "      <th>0</th>\n",
              "      <td>/content/full_3/scientific _publication/250225...</td>\n",
              "      <td>scientific _publication</td>\n",
              "    </tr>\n",
              "    <tr>\n",
              "      <th>1</th>\n",
              "      <td>/content/full_3/scientific _publication/100469...</td>\n",
              "      <td>scientific _publication</td>\n",
              "    </tr>\n",
              "    <tr>\n",
              "      <th>2</th>\n",
              "      <td>/content/full_3/scientific _publication/204639...</td>\n",
              "      <td>scientific _publication</td>\n",
              "    </tr>\n",
              "    <tr>\n",
              "      <th>3</th>\n",
              "      <td>/content/full_3/scientific _publication/250535...</td>\n",
              "      <td>scientific _publication</td>\n",
              "    </tr>\n",
              "    <tr>\n",
              "      <th>4</th>\n",
              "      <td>/content/full_3/scientific _publication/250542...</td>\n",
              "      <td>scientific _publication</td>\n",
              "    </tr>\n",
              "    <tr>\n",
              "      <th>...</th>\n",
              "      <td>...</td>\n",
              "      <td>...</td>\n",
              "    </tr>\n",
              "    <tr>\n",
              "      <th>2956</th>\n",
              "      <td>/content/full_3/advertisement/2044905226.tif</td>\n",
              "      <td>advertisement</td>\n",
              "    </tr>\n",
              "    <tr>\n",
              "      <th>2957</th>\n",
              "      <td>/content/full_3/advertisement/2058504145.tif</td>\n",
              "      <td>advertisement</td>\n",
              "    </tr>\n",
              "    <tr>\n",
              "      <th>2958</th>\n",
              "      <td>/content/full_3/advertisement/91383464.tif</td>\n",
              "      <td>advertisement</td>\n",
              "    </tr>\n",
              "    <tr>\n",
              "      <th>2959</th>\n",
              "      <td>/content/full_3/advertisement/6132.tif</td>\n",
              "      <td>advertisement</td>\n",
              "    </tr>\n",
              "    <tr>\n",
              "      <th>2960</th>\n",
              "      <td>/content/full_3/advertisement/13025280.tif</td>\n",
              "      <td>advertisement</td>\n",
              "    </tr>\n",
              "  </tbody>\n",
              "</table>\n",
              "<p>2961 rows × 2 columns</p>\n",
              "</div>\n",
              "      <button class=\"colab-df-convert\" onclick=\"convertToInteractive('df-a14e6650-dadc-428e-b598-afaafb144264')\"\n",
              "              title=\"Convert this dataframe to an interactive table.\"\n",
              "              style=\"display:none;\">\n",
              "        \n",
              "  <svg xmlns=\"http://www.w3.org/2000/svg\" height=\"24px\"viewBox=\"0 0 24 24\"\n",
              "       width=\"24px\">\n",
              "    <path d=\"M0 0h24v24H0V0z\" fill=\"none\"/>\n",
              "    <path d=\"M18.56 5.44l.94 2.06.94-2.06 2.06-.94-2.06-.94-.94-2.06-.94 2.06-2.06.94zm-11 1L8.5 8.5l.94-2.06 2.06-.94-2.06-.94L8.5 2.5l-.94 2.06-2.06.94zm10 10l.94 2.06.94-2.06 2.06-.94-2.06-.94-.94-2.06-.94 2.06-2.06.94z\"/><path d=\"M17.41 7.96l-1.37-1.37c-.4-.4-.92-.59-1.43-.59-.52 0-1.04.2-1.43.59L10.3 9.45l-7.72 7.72c-.78.78-.78 2.05 0 2.83L4 21.41c.39.39.9.59 1.41.59.51 0 1.02-.2 1.41-.59l7.78-7.78 2.81-2.81c.8-.78.8-2.07 0-2.86zM5.41 20L4 18.59l7.72-7.72 1.47 1.35L5.41 20z\"/>\n",
              "  </svg>\n",
              "      </button>\n",
              "      \n",
              "  <style>\n",
              "    .colab-df-container {\n",
              "      display:flex;\n",
              "      flex-wrap:wrap;\n",
              "      gap: 12px;\n",
              "    }\n",
              "\n",
              "    .colab-df-convert {\n",
              "      background-color: #E8F0FE;\n",
              "      border: none;\n",
              "      border-radius: 50%;\n",
              "      cursor: pointer;\n",
              "      display: none;\n",
              "      fill: #1967D2;\n",
              "      height: 32px;\n",
              "      padding: 0 0 0 0;\n",
              "      width: 32px;\n",
              "    }\n",
              "\n",
              "    .colab-df-convert:hover {\n",
              "      background-color: #E2EBFA;\n",
              "      box-shadow: 0px 1px 2px rgba(60, 64, 67, 0.3), 0px 1px 3px 1px rgba(60, 64, 67, 0.15);\n",
              "      fill: #174EA6;\n",
              "    }\n",
              "\n",
              "    [theme=dark] .colab-df-convert {\n",
              "      background-color: #3B4455;\n",
              "      fill: #D2E3FC;\n",
              "    }\n",
              "\n",
              "    [theme=dark] .colab-df-convert:hover {\n",
              "      background-color: #434B5C;\n",
              "      box-shadow: 0px 1px 3px 1px rgba(0, 0, 0, 0.15);\n",
              "      filter: drop-shadow(0px 1px 2px rgba(0, 0, 0, 0.3));\n",
              "      fill: #FFFFFF;\n",
              "    }\n",
              "  </style>\n",
              "\n",
              "      <script>\n",
              "        const buttonEl =\n",
              "          document.querySelector('#df-a14e6650-dadc-428e-b598-afaafb144264 button.colab-df-convert');\n",
              "        buttonEl.style.display =\n",
              "          google.colab.kernel.accessAllowed ? 'block' : 'none';\n",
              "\n",
              "        async function convertToInteractive(key) {\n",
              "          const element = document.querySelector('#df-a14e6650-dadc-428e-b598-afaafb144264');\n",
              "          const dataTable =\n",
              "            await google.colab.kernel.invokeFunction('convertToInteractive',\n",
              "                                                     [key], {});\n",
              "          if (!dataTable) return;\n",
              "\n",
              "          const docLinkHtml = 'Like what you see? Visit the ' +\n",
              "            '<a target=\"_blank\" href=https://colab.research.google.com/notebooks/data_table.ipynb>data table notebook</a>'\n",
              "            + ' to learn more about interactive tables.';\n",
              "          element.innerHTML = '';\n",
              "          dataTable['output_type'] = 'display_data';\n",
              "          await google.colab.output.renderOutput(dataTable, element);\n",
              "          const docLink = document.createElement('div');\n",
              "          docLink.innerHTML = docLinkHtml;\n",
              "          element.appendChild(docLink);\n",
              "        }\n",
              "      </script>\n",
              "    </div>\n",
              "  </div>\n",
              "  "
            ]
          },
          "metadata": {},
          "execution_count": 4
        }
      ]
    },
    {
      "cell_type": "markdown",
      "source": [
        "## Divisão dos dados em treinamento, validação e teste"
      ],
      "metadata": {
        "id": "Be0EU2A9LMY1"
      }
    },
    {
      "cell_type": "code",
      "source": [
        "X = df['filename'].values\n",
        "y = df['label'].values"
      ],
      "metadata": {
        "id": "ieqwNf4MOeyX"
      },
      "execution_count": 5,
      "outputs": []
    },
    {
      "cell_type": "code",
      "source": [
        "X_train, X_test, y_train,y_test = train_test_split(X, y, test_size=0.3, random_state=42)\n",
        "X_valid, X_test, y_valid,y_test = train_test_split(X_test, y_test, test_size=0.6, random_state=42)"
      ],
      "metadata": {
        "id": "SJVvqYiAJinY"
      },
      "execution_count": 6,
      "outputs": []
    },
    {
      "cell_type": "markdown",
      "source": [
        "Criação de logits:"
      ],
      "metadata": {
        "id": "rSzNcbXXLesW"
      }
    },
    {
      "cell_type": "code",
      "source": [
        "from keras.utils.np_utils import to_categorical\n",
        "\n",
        "y_train_logits = to_categorical(pd.Categorical(y_train).codes)\n",
        "y_valid_logits = to_categorical(pd.Categorical(y_valid).codes)\n",
        "y_test_logits = to_categorical(pd.Categorical(y_test).codes)"
      ],
      "metadata": {
        "id": "eZZXxIgmPfg7"
      },
      "execution_count": 7,
      "outputs": []
    },
    {
      "cell_type": "code",
      "source": [
        "lista_train = list(zip(X_train, y_train))\n",
        "lista_test  = list(zip(X_test, y_test))\n",
        "lista_valid = list(zip(X_valid, y_valid))"
      ],
      "metadata": {
        "id": "DL2RheL2RMOW"
      },
      "execution_count": 8,
      "outputs": []
    },
    {
      "cell_type": "code",
      "source": [
        "df_train = pd.DataFrame(lista_train, columns=['filename', 'label'])\n",
        "df_valid = pd.DataFrame(lista_valid, columns=['filename', 'label'])\n",
        "df_test = pd.DataFrame(lista_test, columns=['filename', 'label'])"
      ],
      "metadata": {
        "id": "J2fFSdVbRrdX"
      },
      "execution_count": 9,
      "outputs": []
    },
    {
      "cell_type": "code",
      "source": [
        "datagen = ImageDataGenerator(rescale=1./255)\n",
        "\n",
        "train_generator = datagen.flow_from_dataframe(df_train,\n",
        "                                             directory=path_documents,\n",
        "                                             x_col='filename',\n",
        "                                             y_col='label',\n",
        "                                             class_mode='categorical',\n",
        "                                             shuffle=True)\n",
        "\n",
        "valid_generator = datagen.flow_from_dataframe(df_valid,\n",
        "                                             directory=path_documents,\n",
        "                                             x_col='filename',\n",
        "                                             y_col='label',\n",
        "                                             class_mode='categorical',\n",
        "                                             shuffle=True)\n",
        "\n",
        "test_generator = datagen.flow_from_dataframe(df_test,\n",
        "                                             directory=path_documents,\n",
        "                                             x_col='filename',\n",
        "                                             y_col='label',\n",
        "                                             class_mode='categorical',\n",
        "                                             shuffle=True)"
      ],
      "metadata": {
        "colab": {
          "base_uri": "https://localhost:8080/"
        },
        "id": "R40MFE_SJSpu",
        "outputId": "49dd090a-203f-40e6-9099-94895797c9c0"
      },
      "execution_count": 11,
      "outputs": [
        {
          "output_type": "stream",
          "name": "stdout",
          "text": [
            "Found 2072 validated image filenames belonging to 3 classes.\n",
            "Found 355 validated image filenames belonging to 3 classes.\n",
            "Found 534 validated image filenames belonging to 3 classes.\n"
          ]
        }
      ]
    },
    {
      "cell_type": "markdown",
      "source": [
        "## AlexNet (sem pré-treinamento)"
      ],
      "metadata": {
        "id": "Vu83w8EIOAfC"
      }
    },
    {
      "cell_type": "code",
      "source": [
        "dims = (224,224,3)\n",
        "num_classes = 3"
      ],
      "metadata": {
        "id": "vwZ2ynTPjHRI"
      },
      "execution_count": 12,
      "outputs": []
    },
    {
      "cell_type": "markdown",
      "source": [
        "### Arquitetura"
      ],
      "metadata": {
        "id": "-clvTk4hVsge"
      }
    },
    {
      "cell_type": "code",
      "source": [
        "model_alexnet = Sequential()\n",
        "\n",
        "model_alexnet.add(layers.experimental.preprocessing.Resizing(224,224,interpolation=\"bilinear\",input_shape=(224,224,3)))\n",
        "model_alexnet.add(Conv2D(96,(11,11), strides=(4,4)))\n",
        "model_alexnet.add(Activation(\"relu\"))\n",
        "model_alexnet.add(MaxPooling2D((3, 3),strides=(2,2)))\n",
        "model_alexnet.add(BatchNormalization())\n",
        "\n",
        "model_alexnet.add(Conv2D(256,(5,5), strides=(1,1),padding=\"same\"))\n",
        "model_alexnet.add(Activation(\"relu\"))\n",
        "model_alexnet.add(MaxPooling2D((3, 3),strides=(2,2)))\n",
        "model_alexnet.add(BatchNormalization())\n",
        "\n",
        "model_alexnet.add(Conv2D(384,(3,3), strides=(1,1),padding=\"same\"))\n",
        "model_alexnet.add(Activation(\"relu\"))\n",
        "model_alexnet.add(BatchNormalization())\n",
        "\n",
        "model_alexnet.add(Conv2D(384,(3,3), strides=(1,1),padding=\"same\"))\n",
        "model_alexnet.add(Activation(\"relu\"))\n",
        "model_alexnet.add(BatchNormalization())\n",
        "\n",
        "model_alexnet.add(Conv2D(256,(3,3), strides=(1,1),padding=\"same\"))\n",
        "model_alexnet.add(Activation(\"relu\"))\n",
        "model_alexnet.add(MaxPooling2D((3, 3),strides=(2,2)))\n",
        "model_alexnet.add(BatchNormalization())\n",
        "\n",
        "model_alexnet.add(Flatten())\n",
        "model_alexnet.add(Dense(4096))\n",
        "model_alexnet.add(Activation(\"relu\"))\n",
        "model_alexnet.add(layers.Dropout(0.5))\n",
        "\n",
        "model_alexnet.add(Dense(4096))\n",
        "model_alexnet.add(Activation(\"relu\"))\n",
        "model_alexnet.add(layers.Dropout(0.5))\n",
        "\n",
        "model_alexnet.add(Dense(num_classes))\n",
        "model_alexnet.add(Activation(\"softmax\"))"
      ],
      "metadata": {
        "id": "ADggsOKeh1Lc"
      },
      "execution_count": 20,
      "outputs": []
    },
    {
      "cell_type": "markdown",
      "source": [
        "### Treinamento"
      ],
      "metadata": {
        "id": "afDBN7sVVu_5"
      }
    },
    {
      "cell_type": "code",
      "source": [
        "sgd = SGD(lr=0.0001)\n",
        "model_alexnet.compile(optimizer=sgd, loss='categorical_crossentropy', metrics=['accuracy'])\n",
        "\n",
        "model_alexnet.fit(train_generator,\n",
        "                  epochs=20, batch_size=16, \n",
        "                  validation_data=valid_generator)\n"
      ],
      "metadata": {
        "id": "IRuEYE-vHkas",
        "colab": {
          "base_uri": "https://localhost:8080/"
        },
        "outputId": "90cbae6e-64cc-467b-9e4a-71a4a034fe71"
      },
      "execution_count": 21,
      "outputs": [
        {
          "output_type": "stream",
          "name": "stderr",
          "text": [
            "/usr/local/lib/python3.7/dist-packages/keras/optimizer_v2/gradient_descent.py:102: UserWarning: The `lr` argument is deprecated, use `learning_rate` instead.\n",
            "  super(SGD, self).__init__(name, **kwargs)\n"
          ]
        },
        {
          "output_type": "stream",
          "name": "stdout",
          "text": [
            "Epoch 1/20\n",
            "65/65 [==============================] - 10s 151ms/step - loss: 1.0905 - accuracy: 0.5212 - val_loss: 1.1410 - val_accuracy: 0.3183\n",
            "Epoch 2/20\n",
            "65/65 [==============================] - 9s 146ms/step - loss: 0.7116 - accuracy: 0.7037 - val_loss: 1.2997 - val_accuracy: 0.3521\n",
            "Epoch 3/20\n",
            "65/65 [==============================] - 10s 159ms/step - loss: 0.6426 - accuracy: 0.7437 - val_loss: 1.4019 - val_accuracy: 0.3493\n",
            "Epoch 4/20\n",
            "65/65 [==============================] - 10s 148ms/step - loss: 0.5828 - accuracy: 0.7785 - val_loss: 1.5443 - val_accuracy: 0.3493\n",
            "Epoch 5/20\n",
            "65/65 [==============================] - 10s 147ms/step - loss: 0.5663 - accuracy: 0.7785 - val_loss: 1.2295 - val_accuracy: 0.3606\n",
            "Epoch 6/20\n",
            "65/65 [==============================] - 10s 147ms/step - loss: 0.5409 - accuracy: 0.7891 - val_loss: 1.0637 - val_accuracy: 0.4423\n",
            "Epoch 7/20\n",
            "65/65 [==============================] - 11s 162ms/step - loss: 0.5292 - accuracy: 0.7968 - val_loss: 0.8049 - val_accuracy: 0.6225\n",
            "Epoch 8/20\n",
            "65/65 [==============================] - 12s 184ms/step - loss: 0.5112 - accuracy: 0.8089 - val_loss: 0.6187 - val_accuracy: 0.7690\n",
            "Epoch 9/20\n",
            "65/65 [==============================] - 10s 154ms/step - loss: 0.4925 - accuracy: 0.8234 - val_loss: 0.4763 - val_accuracy: 0.8225\n",
            "Epoch 10/20\n",
            "65/65 [==============================] - 10s 147ms/step - loss: 0.4731 - accuracy: 0.8195 - val_loss: 0.4258 - val_accuracy: 0.8507\n",
            "Epoch 11/20\n",
            "65/65 [==============================] - 10s 147ms/step - loss: 0.4630 - accuracy: 0.8417 - val_loss: 0.4458 - val_accuracy: 0.8479\n",
            "Epoch 12/20\n",
            "65/65 [==============================] - 10s 159ms/step - loss: 0.4578 - accuracy: 0.8354 - val_loss: 0.4502 - val_accuracy: 0.8169\n",
            "Epoch 13/20\n",
            "65/65 [==============================] - 10s 147ms/step - loss: 0.4412 - accuracy: 0.8359 - val_loss: 0.3675 - val_accuracy: 0.8732\n",
            "Epoch 14/20\n",
            "65/65 [==============================] - 10s 147ms/step - loss: 0.4256 - accuracy: 0.8349 - val_loss: 0.4088 - val_accuracy: 0.8592\n",
            "Epoch 15/20\n",
            "65/65 [==============================] - 10s 150ms/step - loss: 0.4216 - accuracy: 0.8427 - val_loss: 0.3818 - val_accuracy: 0.8620\n",
            "Epoch 16/20\n",
            "65/65 [==============================] - 10s 147ms/step - loss: 0.3998 - accuracy: 0.8533 - val_loss: 0.4059 - val_accuracy: 0.8535\n",
            "Epoch 17/20\n",
            "65/65 [==============================] - 10s 155ms/step - loss: 0.3974 - accuracy: 0.8596 - val_loss: 0.4082 - val_accuracy: 0.8423\n",
            "Epoch 18/20\n",
            "65/65 [==============================] - 10s 149ms/step - loss: 0.3721 - accuracy: 0.8581 - val_loss: 0.3533 - val_accuracy: 0.8563\n",
            "Epoch 19/20\n",
            "65/65 [==============================] - 10s 148ms/step - loss: 0.3493 - accuracy: 0.8726 - val_loss: 0.3816 - val_accuracy: 0.8592\n",
            "Epoch 20/20\n",
            "65/65 [==============================] - 10s 148ms/step - loss: 0.3562 - accuracy: 0.8731 - val_loss: 0.3819 - val_accuracy: 0.8535\n"
          ]
        },
        {
          "output_type": "execute_result",
          "data": {
            "text/plain": [
              "<keras.callbacks.History at 0x7feed43bb790>"
            ]
          },
          "metadata": {},
          "execution_count": 21
        }
      ]
    },
    {
      "cell_type": "markdown",
      "source": [
        "Definindo função para mostrar funções de *loss*\n"
      ],
      "metadata": {
        "id": "1a6QJknIVgbH"
      }
    },
    {
      "cell_type": "code",
      "source": [
        "def show_graph(model, name):\n",
        "    plt.plot(model.history.history['loss'])\n",
        "    plt.plot(model.history.history['val_loss'])\n",
        "    plt.title(f'Model Loss - {name}')\n",
        "    plt.xlabel('epoch')\n",
        "    plt.legend(['training set','validation set'], loc='best')\n",
        "    plt.show()"
      ],
      "metadata": {
        "id": "Bfo4dwZxfceR"
      },
      "execution_count": 24,
      "outputs": []
    },
    {
      "cell_type": "code",
      "source": [
        "show_graph(model_alexnet, 'AlexNet')"
      ],
      "metadata": {
        "colab": {
          "base_uri": "https://localhost:8080/",
          "height": 295
        },
        "id": "-_v__kQ2U8e9",
        "outputId": "70fd99c2-7a11-429e-d137-a440d92a24e4"
      },
      "execution_count": 25,
      "outputs": [
        {
          "output_type": "display_data",
          "data": {
            "text/plain": [
              "<Figure size 432x288 with 1 Axes>"
            ],
            "image/png": "[encoded data removed]"
          },
          "metadata": {
            "needs_background": "light"
          }
        }
      ]
    },
    {
      "cell_type": "markdown",
      "source": [
        "### Teste\n"
      ],
      "metadata": {
        "id": "fLE4wMlEVz6m"
      }
    },
    {
      "cell_type": "code",
      "source": [
        "y_pred = np.argmax(model_alexnet.predict(test_generator), axis=1)"
      ],
      "metadata": {
        "id": "4yIm--z8WDdB"
      },
      "execution_count": 33,
      "outputs": []
    },
    {
      "cell_type": "code",
      "source": [
        "y_test = test_generator.classes"
      ],
      "metadata": {
        "id": "kW0orDU9WNgD"
      },
      "execution_count": 35,
      "outputs": []
    },
    {
      "cell_type": "code",
      "source": [
        "print(classification_report(y_test,y_pred))"
      ],
      "metadata": {
        "colab": {
          "base_uri": "https://localhost:8080/"
        },
        "id": "GNys1GwtWaqV",
        "outputId": "7b042c86-c373-45e4-d835-11c8f4fc86f0"
      },
      "execution_count": 36,
      "outputs": [
        {
          "output_type": "stream",
          "name": "stdout",
          "text": [
            "              precision    recall  f1-score   support\n",
            "\n",
            "           0       0.39      0.34      0.37       180\n",
            "           1       0.34      0.32      0.33       170\n",
            "           2       0.39      0.45      0.42       184\n",
            "\n",
            "    accuracy                           0.37       534\n",
            "   macro avg       0.37      0.37      0.37       534\n",
            "weighted avg       0.37      0.37      0.37       534\n",
            "\n"
          ]
        }
      ]
    },
    {
      "cell_type": "markdown",
      "source": [
        "## ResNet50 (sem pré-treinamento)"
      ],
      "metadata": {
        "id": "8KvwbwYjW9Aw"
      }
    },
    {
      "cell_type": "markdown",
      "source": [
        "### Arquitetura"
      ],
      "metadata": {
        "id": "Rom0kXx-YJMd"
      }
    },
    {
      "cell_type": "code",
      "source": [
        "model_resnet1 = Sequential()\n",
        "model_resnet_no_pt = ResNet50(input_shape=dims,\n",
        "                              include_top=False,\n",
        "                              pooling='avg',\n",
        "                              weights=None,\n",
        "                              classes=num_classes)\n",
        "model_resnet1.add(model_resnet_no_pt)\n",
        "model_resnet1.add(Flatten())\n",
        "model_resnet1.add(Dense(4096))\n",
        "model_resnet1.add(Activation(\"relu\"))\n",
        "model_resnet1.add(Dropout(0.5))\n",
        "\n",
        "model_resnet1.add(Dense(num_classes))\n",
        "model_resnet1.add(Activation(\"softmax\"))\n"
      ],
      "metadata": {
        "id": "QitXD2MgXBbN"
      },
      "execution_count": 38,
      "outputs": []
    },
    {
      "cell_type": "markdown",
      "source": [
        "### Treinamento"
      ],
      "metadata": {
        "id": "r16xqamPYK3J"
      }
    },
    {
      "cell_type": "code",
      "source": [
        "sgd = SGD(lr=0.0001)\n",
        "\n",
        "model_resnet1.compile(optimizer=sgd,loss='categorical_crossentropy',metrics=['accuracy'])\n",
        "\n",
        "model_resnet1.fit(train_generator,\n",
        "          epochs=20,\n",
        "          batch_size=16,\n",
        "          validation_data=valid_generator)"
      ],
      "metadata": {
        "colab": {
          "base_uri": "https://localhost:8080/"
        },
        "id": "vIP24DLuYSVi",
        "outputId": "c4a5adbf-9016-4913-c23f-a98b69a828c2"
      },
      "execution_count": 39,
      "outputs": [
        {
          "output_type": "stream",
          "name": "stdout",
          "text": [
            "Epoch 1/20\n"
          ]
        },
        {
          "output_type": "stream",
          "name": "stderr",
          "text": [
            "/usr/local/lib/python3.7/dist-packages/keras/optimizer_v2/gradient_descent.py:102: UserWarning: The `lr` argument is deprecated, use `learning_rate` instead.\n",
            "  super(SGD, self).__init__(name, **kwargs)\n"
          ]
        },
        {
          "output_type": "stream",
          "name": "stdout",
          "text": [
            "65/65 [==============================] - 50s 564ms/step - loss: 1.0486 - accuracy: 0.4788 - val_loss: 1.1100 - val_accuracy: 0.3493\n",
            "Epoch 2/20\n",
            "65/65 [==============================] - 31s 478ms/step - loss: 0.8364 - accuracy: 0.6211 - val_loss: 1.1884 - val_accuracy: 0.3493\n",
            "Epoch 3/20\n",
            "65/65 [==============================] - 30s 451ms/step - loss: 0.7690 - accuracy: 0.6540 - val_loss: 1.3543 - val_accuracy: 0.3493\n",
            "Epoch 4/20\n",
            "65/65 [==============================] - 31s 477ms/step - loss: 0.7145 - accuracy: 0.6993 - val_loss: 1.5457 - val_accuracy: 0.3493\n",
            "Epoch 5/20\n",
            "65/65 [==============================] - 34s 523ms/step - loss: 0.7201 - accuracy: 0.6897 - val_loss: 1.5687 - val_accuracy: 0.3493\n",
            "Epoch 6/20\n",
            "65/65 [==============================] - 29s 448ms/step - loss: 0.6829 - accuracy: 0.7075 - val_loss: 1.3469 - val_accuracy: 0.3493\n",
            "Epoch 7/20\n",
            "65/65 [==============================] - 30s 453ms/step - loss: 0.6617 - accuracy: 0.7312 - val_loss: 1.1519 - val_accuracy: 0.3606\n",
            "Epoch 8/20\n",
            "65/65 [==============================] - 29s 448ms/step - loss: 0.6356 - accuracy: 0.7365 - val_loss: 0.8817 - val_accuracy: 0.5775\n",
            "Epoch 9/20\n",
            "65/65 [==============================] - 29s 446ms/step - loss: 0.6291 - accuracy: 0.7312 - val_loss: 0.7983 - val_accuracy: 0.6986\n",
            "Epoch 10/20\n",
            "65/65 [==============================] - 29s 446ms/step - loss: 0.6217 - accuracy: 0.7524 - val_loss: 0.8978 - val_accuracy: 0.4986\n",
            "Epoch 11/20\n",
            "65/65 [==============================] - 29s 445ms/step - loss: 0.6047 - accuracy: 0.7510 - val_loss: 0.9707 - val_accuracy: 0.5239\n",
            "Epoch 12/20\n",
            "65/65 [==============================] - 29s 446ms/step - loss: 0.6119 - accuracy: 0.7601 - val_loss: 0.9260 - val_accuracy: 0.5268\n",
            "Epoch 13/20\n",
            "65/65 [==============================] - 29s 446ms/step - loss: 0.6041 - accuracy: 0.7577 - val_loss: 1.1406 - val_accuracy: 0.5324\n",
            "Epoch 14/20\n",
            "65/65 [==============================] - 29s 447ms/step - loss: 0.6018 - accuracy: 0.7640 - val_loss: 0.8597 - val_accuracy: 0.5324\n",
            "Epoch 15/20\n",
            "65/65 [==============================] - 29s 445ms/step - loss: 0.6100 - accuracy: 0.7577 - val_loss: 0.6578 - val_accuracy: 0.7521\n",
            "Epoch 16/20\n",
            "65/65 [==============================] - 30s 460ms/step - loss: 0.5831 - accuracy: 0.7693 - val_loss: 0.9035 - val_accuracy: 0.6394\n",
            "Epoch 17/20\n",
            "65/65 [==============================] - 32s 489ms/step - loss: 0.5852 - accuracy: 0.7693 - val_loss: 1.1277 - val_accuracy: 0.4761\n",
            "Epoch 18/20\n",
            "65/65 [==============================] - 31s 475ms/step - loss: 0.5900 - accuracy: 0.7654 - val_loss: 0.8111 - val_accuracy: 0.5634\n",
            "Epoch 19/20\n",
            "65/65 [==============================] - 32s 484ms/step - loss: 0.5837 - accuracy: 0.7645 - val_loss: 0.9444 - val_accuracy: 0.5211\n",
            "Epoch 20/20\n",
            "65/65 [==============================] - 31s 476ms/step - loss: 0.5879 - accuracy: 0.7703 - val_loss: 0.6640 - val_accuracy: 0.7324\n"
          ]
        },
        {
          "output_type": "execute_result",
          "data": {
            "text/plain": [
              "<keras.callbacks.History at 0x7fee5c52c810>"
            ]
          },
          "metadata": {},
          "execution_count": 39
        }
      ]
    },
    {
      "cell_type": "code",
      "source": [
        "show_graph(model_resnet1, 'ResNet50 (sem pré-treinamento)')"
      ],
      "metadata": {
        "colab": {
          "base_uri": "https://localhost:8080/",
          "height": 295
        },
        "id": "dNe1wAEZYgfH",
        "outputId": "2b2e363f-dbaf-4913-e649-614a9ae1ae17"
      },
      "execution_count": 41,
      "outputs": [
        {
          "output_type": "display_data",
          "data": {
            "text/plain": [
              "<Figure size 432x288 with 1 Axes>"
            ],
            "image/png": "[encoded data removed]"
          },
          "metadata": {
            "needs_background": "light"
          }
        }
      ]
    },
    {
      "cell_type": "markdown",
      "source": [
        "### Teste"
      ],
      "metadata": {
        "id": "PX_JlaWYY6Dn"
      }
    },
    {
      "cell_type": "code",
      "source": [
        "y_pred = np.argmax(model_resnet1.predict(test_generator), axis=1)\n",
        "y_test = test_generator.classes\n",
        "print(classification_report(y_test,y_pred))"
      ],
      "metadata": {
        "colab": {
          "base_uri": "https://localhost:8080/"
        },
        "id": "tTPvSQ2AY7Vh",
        "outputId": "77aa88c5-90db-4808-f7b2-7acf4a7f4668"
      },
      "execution_count": 42,
      "outputs": [
        {
          "output_type": "stream",
          "name": "stdout",
          "text": [
            "              precision    recall  f1-score   support\n",
            "\n",
            "           0       0.33      0.26      0.29       180\n",
            "           1       0.32      0.24      0.28       170\n",
            "           2       0.33      0.48      0.39       184\n",
            "\n",
            "    accuracy                           0.33       534\n",
            "   macro avg       0.33      0.33      0.32       534\n",
            "weighted avg       0.33      0.33      0.32       534\n",
            "\n"
          ]
        }
      ]
    },
    {
      "cell_type": "markdown",
      "source": [
        "## ResNet50 (com pré-treinamento a partir de transfer learning)"
      ],
      "metadata": {
        "id": "19eZAJy0aPaD"
      }
    },
    {
      "cell_type": "markdown",
      "source": [
        "### Arquitetura"
      ],
      "metadata": {
        "id": "kYixB3HZaWVZ"
      }
    },
    {
      "cell_type": "code",
      "source": [
        "model_resnet2 = Sequential()\n",
        "model_resnet_pt = ResNet50(input_shape=dims,\n",
        "                           include_top=False,\n",
        "                           pooling='avg',\n",
        "                           weights='imagenet',\n",
        "                           classes=num_classes )\n",
        "\n",
        "for layer in model_resnet2.layers : layer.trainable=False\n",
        "\n",
        "model_resnet2.add(model_resnet_pt)\n",
        "model_resnet2.add(Flatten())\n",
        "model_resnet2.add(Dense(4096))\n",
        "model_resnet2.add(Activation('relu'))\n",
        "model_resnet2.add(Dropout(0.5))\n",
        "\n",
        "model_resnet2.add(Dense(num_classes))\n",
        "model_resnet2.add(Activation(\"softmax\"))"
      ],
      "metadata": {
        "id": "klj0k6C9aYR0"
      },
      "execution_count": 48,
      "outputs": []
    },
    {
      "cell_type": "markdown",
      "source": [
        "### Treinamento"
      ],
      "metadata": {
        "id": "p6H6U9QQa-FR"
      }
    },
    {
      "cell_type": "code",
      "source": [
        "sgd = SGD(lr=0.0001)\n",
        "\n",
        "model_resnet2.compile(optimizer=sgd,loss='categorical_crossentropy',metrics=['accuracy'])\n",
        "\n",
        "model_resnet2.fit(train_generator,\n",
        "          epochs=20,\n",
        "          batch_size=16,\n",
        "          validation_data=valid_generator)"
      ],
      "metadata": {
        "colab": {
          "base_uri": "https://localhost:8080/"
        },
        "id": "eWZtmtgibfBp",
        "outputId": "264dcaa6-bf9d-443a-ee0c-5a4b66e16bb7"
      },
      "execution_count": 49,
      "outputs": [
        {
          "output_type": "stream",
          "name": "stderr",
          "text": [
            "/usr/local/lib/python3.7/dist-packages/keras/optimizer_v2/gradient_descent.py:102: UserWarning: The `lr` argument is deprecated, use `learning_rate` instead.\n",
            "  super(SGD, self).__init__(name, **kwargs)\n"
          ]
        },
        {
          "output_type": "stream",
          "name": "stdout",
          "text": [
            "Epoch 1/20\n",
            "65/65 [==============================] - 38s 508ms/step - loss: 1.0436 - accuracy: 0.4759 - val_loss: 1.0608 - val_accuracy: 0.5662\n",
            "Epoch 2/20\n",
            "65/65 [==============================] - 32s 488ms/step - loss: 0.8864 - accuracy: 0.6086 - val_loss: 1.1823 - val_accuracy: 0.3437\n",
            "Epoch 3/20\n",
            "65/65 [==============================] - 29s 450ms/step - loss: 0.7866 - accuracy: 0.6868 - val_loss: 1.2635 - val_accuracy: 0.2479\n",
            "Epoch 4/20\n",
            "65/65 [==============================] - 30s 455ms/step - loss: 0.7046 - accuracy: 0.7437 - val_loss: 1.1981 - val_accuracy: 0.2873\n",
            "Epoch 5/20\n",
            "65/65 [==============================] - 30s 454ms/step - loss: 0.6352 - accuracy: 0.7867 - val_loss: 1.2234 - val_accuracy: 0.2901\n",
            "Epoch 6/20\n",
            "65/65 [==============================] - 29s 446ms/step - loss: 0.5851 - accuracy: 0.8098 - val_loss: 1.2091 - val_accuracy: 0.3211\n",
            "Epoch 7/20\n",
            "65/65 [==============================] - 29s 448ms/step - loss: 0.5427 - accuracy: 0.8147 - val_loss: 1.1891 - val_accuracy: 0.3577\n",
            "Epoch 8/20\n",
            "65/65 [==============================] - 29s 451ms/step - loss: 0.5080 - accuracy: 0.8431 - val_loss: 1.2358 - val_accuracy: 0.5155\n",
            "Epoch 9/20\n",
            "65/65 [==============================] - 29s 448ms/step - loss: 0.4964 - accuracy: 0.8330 - val_loss: 1.2669 - val_accuracy: 0.5352\n",
            "Epoch 10/20\n",
            "65/65 [==============================] - 29s 444ms/step - loss: 0.4597 - accuracy: 0.8475 - val_loss: 1.2486 - val_accuracy: 0.5437\n",
            "Epoch 11/20\n",
            "65/65 [==============================] - 29s 446ms/step - loss: 0.4400 - accuracy: 0.8586 - val_loss: 1.2258 - val_accuracy: 0.5577\n",
            "Epoch 12/20\n",
            "65/65 [==============================] - 29s 446ms/step - loss: 0.4267 - accuracy: 0.8663 - val_loss: 1.1076 - val_accuracy: 0.5831\n",
            "Epoch 13/20\n",
            "65/65 [==============================] - 29s 444ms/step - loss: 0.4093 - accuracy: 0.8711 - val_loss: 0.9484 - val_accuracy: 0.6085\n",
            "Epoch 14/20\n",
            "65/65 [==============================] - 29s 446ms/step - loss: 0.3939 - accuracy: 0.8755 - val_loss: 0.8517 - val_accuracy: 0.5831\n",
            "Epoch 15/20\n",
            "65/65 [==============================] - 29s 452ms/step - loss: 0.3712 - accuracy: 0.8856 - val_loss: 0.7058 - val_accuracy: 0.7183\n",
            "Epoch 16/20\n",
            "65/65 [==============================] - 29s 445ms/step - loss: 0.3678 - accuracy: 0.8832 - val_loss: 0.6325 - val_accuracy: 0.7718\n",
            "Epoch 17/20\n",
            "65/65 [==============================] - 29s 446ms/step - loss: 0.3513 - accuracy: 0.8847 - val_loss: 0.5973 - val_accuracy: 0.7803\n",
            "Epoch 18/20\n",
            "65/65 [==============================] - 29s 446ms/step - loss: 0.3486 - accuracy: 0.8977 - val_loss: 0.5835 - val_accuracy: 0.7887\n",
            "Epoch 19/20\n",
            "65/65 [==============================] - 29s 447ms/step - loss: 0.3406 - accuracy: 0.8982 - val_loss: 0.5803 - val_accuracy: 0.8141\n",
            "Epoch 20/20\n",
            "65/65 [==============================] - 29s 444ms/step - loss: 0.3399 - accuracy: 0.8875 - val_loss: 0.5204 - val_accuracy: 0.8394\n"
          ]
        },
        {
          "output_type": "execute_result",
          "data": {
            "text/plain": [
              "<keras.callbacks.History at 0x7fedd6049190>"
            ]
          },
          "metadata": {},
          "execution_count": 49
        }
      ]
    },
    {
      "cell_type": "code",
      "source": [
        "show_graph(model_resnet2, 'ResNet (com pré-treinamento)')"
      ],
      "metadata": {
        "colab": {
          "base_uri": "https://localhost:8080/",
          "height": 295
        },
        "id": "vU7QMrx8bjB1",
        "outputId": "dc754c11-96fe-49df-fbc3-615b4d85b8eb"
      },
      "execution_count": 51,
      "outputs": [
        {
          "output_type": "display_data",
          "data": {
            "text/plain": [
              "<Figure size 432x288 with 1 Axes>"
            ],
            "image/png": "[encoded data removed]"
          },
          "metadata": {
            "needs_background": "light"
          }
        }
      ]
    },
    {
      "cell_type": "markdown",
      "source": [
        "### Teste"
      ],
      "metadata": {
        "id": "6CoSd3BocSqd"
      }
    },
    {
      "cell_type": "code",
      "source": [
        "y_pred = np.argmax(model_resnet1.predict(test_generator), axis=1)\n",
        "y_test = test_generator.classes\n",
        "print(classification_report(y_test,y_pred))"
      ],
      "metadata": {
        "colab": {
          "base_uri": "https://localhost:8080/"
        },
        "id": "biE626y-cT78",
        "outputId": "c12135b8-6e78-406f-b339-d8f463903493"
      },
      "execution_count": 50,
      "outputs": [
        {
          "output_type": "stream",
          "name": "stdout",
          "text": [
            "              precision    recall  f1-score   support\n",
            "\n",
            "           0       0.40      0.34      0.37       180\n",
            "           1       0.32      0.06      0.11       170\n",
            "           2       0.36      0.68      0.48       184\n",
            "\n",
            "    accuracy                           0.37       534\n",
            "   macro avg       0.36      0.36      0.32       534\n",
            "weighted avg       0.36      0.37      0.32       534\n",
            "\n"
          ]
        }
      ]
    },
    {
      "cell_type": "markdown",
      "source": [
        "## Extração de caracteres em cada documento (treinamento, validação e testes)"
      ],
      "metadata": {
        "id": "PhQbHwQYcbs0"
      }
    },
    {
      "cell_type": "markdown",
      "source": [
        "- A Ferramenta **PyMuPDF** não pôde ser utilizada para extração pois apenas funciona com documentos do tipo PDF.\n",
        "- A Ferramenta **Pytesserac**t não pode ser utilizada pois o binário `tesseract-ocr` deve estar instalado no sistema, o que não é possível fazer pelo colab\n",
        "- Sendo assim, a ferramenda **Keras-OC**R foi utilizada, contudo, como sera demonstrado abaixo, o processo é demorado e não consegue ser terminado devido aos recursos disponíveis no ambiente do colab.\n"
      ],
      "metadata": {
        "id": "Roim9GbggDRc"
      }
    },
    {
      "cell_type": "code",
      "source": [
        "!pip install -q keras-ocr"
      ],
      "metadata": {
        "id": "INGKUrRle72j"
      },
      "execution_count": 10,
      "outputs": []
    },
    {
      "cell_type": "code",
      "source": [
        "import keras_ocr \n",
        "pipeline = keras_ocr.pipeline.Pipeline()"
      ],
      "metadata": {
        "colab": {
          "base_uri": "https://localhost:8080/"
        },
        "id": "s9fk2KFNfMrb",
        "outputId": "83e90917-4532-4fa6-de00-ce3cc5239db4"
      },
      "execution_count": 11,
      "outputs": [
        {
          "output_type": "stream",
          "name": "stdout",
          "text": [
            "Looking for /root/.keras-ocr/craft_mlt_25k.h5\n",
            "Looking for /root/.keras-ocr/crnn_kurapan.h5\n"
          ]
        }
      ]
    },
    {
      "cell_type": "markdown",
      "source": [
        "### Extração de Texto de um Documento"
      ],
      "metadata": {
        "id": "QqZY44lChe64"
      }
    },
    {
      "cell_type": "code",
      "source": [
        "image = [keras_ocr.tools.read(\"full_3/email/0024.tif\")]"
      ],
      "metadata": {
        "id": "gbMZXTnZfbOz"
      },
      "execution_count": 12,
      "outputs": []
    },
    {
      "cell_type": "code",
      "source": [
        "%%time\n",
        "prediction_groups = pipeline.recognize(image)"
      ],
      "metadata": {
        "colab": {
          "base_uri": "https://localhost:8080/"
        },
        "id": "nHpp1SN_h0dM",
        "outputId": "efb6e213-8803-48b9-c9a8-6c6843d19615"
      },
      "execution_count": 13,
      "outputs": [
        {
          "output_type": "stream",
          "name": "stdout",
          "text": [
            "CPU times: user 17.7 s, sys: 1.7 s, total: 19.4 s\n",
            "Wall time: 28 s\n"
          ]
        }
      ]
    },
    {
      "cell_type": "code",
      "source": [
        "words = []\n",
        "for word, box in prediction_groups[0]:\n",
        "    words.append(word)\n",
        "print(' '.join(words))"
      ],
      "metadata": {
        "colab": {
          "base_uri": "https://localhost:8080/"
        },
        "id": "gPkb1zkHh6rq",
        "outputId": "84b7a462-122d-4ab7-a895-98649552c03d"
      },
      "execution_count": 14,
      "outputs": [
        {
          "output_type": "stream",
          "name": "stdout",
          "text": [
            "froms petrec vickic m stokcs jim ellis john fish to david powcrss donald foreman frank lesicr henry singlcton john judy albert karl gallant m hurst marshall mikc phillips murray jonesi tompson mozingo sicvc srawsburg tommy randy roger paync cci bcca primary dates 711al 999 1835s am modified igggjulla 1a14s last dates last touched dates sent gggjul ja lls55 dates gygjulla 1is3155 received dates subject ta tma topline attachments tm07 lun doc s s rjrooooolini 886 70028 6617\n"
          ]
        }
      ]
    },
    {
      "cell_type": "markdown",
      "source": [
        "### Extração de texto de todos os documentos"
      ],
      "metadata": {
        "id": "oRXEUl7Kip4V"
      }
    },
    {
      "cell_type": "markdown",
      "source": [
        "#### Treino"
      ],
      "metadata": {
        "id": "aaNijKYJiwPR"
      }
    },
    {
      "cell_type": "code",
      "source": [
        "df_train"
      ],
      "metadata": {
        "colab": {
          "base_uri": "https://localhost:8080/",
          "height": 424
        },
        "id": "IW1eARtPjB_5",
        "outputId": "fe40a46b-15f1-4a92-b18e-66e93602e5f5"
      },
      "execution_count": 15,
      "outputs": [
        {
          "output_type": "execute_result",
          "data": {
            "text/plain": [
              "                                               filename  \\\n",
              "0                  /content/full_3/email/2078712383.tif   \n",
              "1          /content/full_3/advertisement/2061001531.tif   \n",
              "2     /content/full_3/scientific _publication/600467...   \n",
              "3            /content/full_3/email/2071863518d_3519.tif   \n",
              "4                  /content/full_3/email/2085315655.tif   \n",
              "...                                                 ...   \n",
              "2067               /content/full_3/email/2085272065.tif   \n",
              "2068              /content/full_3/email/2080891376a.tif   \n",
              "2069               /content/full_3/email/2064833034.tif   \n",
              "2070                     /content/full_3/email/1041.tif   \n",
              "2071  /content/full_3/scientific _publication/100008...   \n",
              "\n",
              "                        label  \n",
              "0                       email  \n",
              "1               advertisement  \n",
              "2     scientific _publication  \n",
              "3                       email  \n",
              "4                       email  \n",
              "...                       ...  \n",
              "2067                    email  \n",
              "2068                    email  \n",
              "2069                    email  \n",
              "2070                    email  \n",
              "2071  scientific _publication  \n",
              "\n",
              "[2072 rows x 2 columns]"
            ],
            "text/html": [
              "\n",
              "  <div id=\"df-2d655382-fc97-41f1-8737-7d4b691c0f1e\">\n",
              "    <div class=\"colab-df-container\">\n",
              "      <div>\n",
              "<style scoped>\n",
              "    .dataframe tbody tr th:only-of-type {\n",
              "        vertical-align: middle;\n",
              "    }\n",
              "\n",
              "    .dataframe tbody tr th {\n",
              "        vertical-align: top;\n",
              "    }\n",
              "\n",
              "    .dataframe thead th {\n",
              "        text-align: right;\n",
              "    }\n",
              "</style>\n",
              "<table border=\"1\" class=\"dataframe\">\n",
              "  <thead>\n",
              "    <tr style=\"text-align: right;\">\n",
              "      <th></th>\n",
              "      <th>filename</th>\n",
              "      <th>label</th>\n",
              "    </tr>\n",
              "  </thead>\n",
              "  <tbody>\n",
              "    <tr>\n",
              "      <th>0</th>\n",
              "      <td>/content/full_3/email/2078712383.tif</td>\n",
              "      <td>email</td>\n",
              "    </tr>\n",
              "    <tr>\n",
              "      <th>1</th>\n",
              "      <td>/content/full_3/advertisement/2061001531.tif</td>\n",
              "      <td>advertisement</td>\n",
              "    </tr>\n",
              "    <tr>\n",
              "      <th>2</th>\n",
              "      <td>/content/full_3/scientific _publication/600467...</td>\n",
              "      <td>scientific _publication</td>\n",
              "    </tr>\n",
              "    <tr>\n",
              "      <th>3</th>\n",
              "      <td>/content/full_3/email/2071863518d_3519.tif</td>\n",
              "      <td>email</td>\n",
              "    </tr>\n",
              "    <tr>\n",
              "      <th>4</th>\n",
              "      <td>/content/full_3/email/2085315655.tif</td>\n",
              "      <td>email</td>\n",
              "    </tr>\n",
              "    <tr>\n",
              "      <th>...</th>\n",
              "      <td>...</td>\n",
              "      <td>...</td>\n",
              "    </tr>\n",
              "    <tr>\n",
              "      <th>2067</th>\n",
              "      <td>/content/full_3/email/2085272065.tif</td>\n",
              "      <td>email</td>\n",
              "    </tr>\n",
              "    <tr>\n",
              "      <th>2068</th>\n",
              "      <td>/content/full_3/email/2080891376a.tif</td>\n",
              "      <td>email</td>\n",
              "    </tr>\n",
              "    <tr>\n",
              "      <th>2069</th>\n",
              "      <td>/content/full_3/email/2064833034.tif</td>\n",
              "      <td>email</td>\n",
              "    </tr>\n",
              "    <tr>\n",
              "      <th>2070</th>\n",
              "      <td>/content/full_3/email/1041.tif</td>\n",
              "      <td>email</td>\n",
              "    </tr>\n",
              "    <tr>\n",
              "      <th>2071</th>\n",
              "      <td>/content/full_3/scientific _publication/100008...</td>\n",
              "      <td>scientific _publication</td>\n",
              "    </tr>\n",
              "  </tbody>\n",
              "</table>\n",
              "<p>2072 rows × 2 columns</p>\n",
              "</div>\n",
              "      <button class=\"colab-df-convert\" onclick=\"convertToInteractive('df-2d655382-fc97-41f1-8737-7d4b691c0f1e')\"\n",
              "              title=\"Convert this dataframe to an interactive table.\"\n",
              "              style=\"display:none;\">\n",
              "        \n",
              "  <svg xmlns=\"http://www.w3.org/2000/svg\" height=\"24px\"viewBox=\"0 0 24 24\"\n",
              "       width=\"24px\">\n",
              "    <path d=\"M0 0h24v24H0V0z\" fill=\"none\"/>\n",
              "    <path d=\"M18.56 5.44l.94 2.06.94-2.06 2.06-.94-2.06-.94-.94-2.06-.94 2.06-2.06.94zm-11 1L8.5 8.5l.94-2.06 2.06-.94-2.06-.94L8.5 2.5l-.94 2.06-2.06.94zm10 10l.94 2.06.94-2.06 2.06-.94-2.06-.94-.94-2.06-.94 2.06-2.06.94z\"/><path d=\"M17.41 7.96l-1.37-1.37c-.4-.4-.92-.59-1.43-.59-.52 0-1.04.2-1.43.59L10.3 9.45l-7.72 7.72c-.78.78-.78 2.05 0 2.83L4 21.41c.39.39.9.59 1.41.59.51 0 1.02-.2 1.41-.59l7.78-7.78 2.81-2.81c.8-.78.8-2.07 0-2.86zM5.41 20L4 18.59l7.72-7.72 1.47 1.35L5.41 20z\"/>\n",
              "  </svg>\n",
              "      </button>\n",
              "      \n",
              "  <style>\n",
              "    .colab-df-container {\n",
              "      display:flex;\n",
              "      flex-wrap:wrap;\n",
              "      gap: 12px;\n",
              "    }\n",
              "\n",
              "    .colab-df-convert {\n",
              "      background-color: #E8F0FE;\n",
              "      border: none;\n",
              "      border-radius: 50%;\n",
              "      cursor: pointer;\n",
              "      display: none;\n",
              "      fill: #1967D2;\n",
              "      height: 32px;\n",
              "      padding: 0 0 0 0;\n",
              "      width: 32px;\n",
              "    }\n",
              "\n",
              "    .colab-df-convert:hover {\n",
              "      background-color: #E2EBFA;\n",
              "      box-shadow: 0px 1px 2px rgba(60, 64, 67, 0.3), 0px 1px 3px 1px rgba(60, 64, 67, 0.15);\n",
              "      fill: #174EA6;\n",
              "    }\n",
              "\n",
              "    [theme=dark] .colab-df-convert {\n",
              "      background-color: #3B4455;\n",
              "      fill: #D2E3FC;\n",
              "    }\n",
              "\n",
              "    [theme=dark] .colab-df-convert:hover {\n",
              "      background-color: #434B5C;\n",
              "      box-shadow: 0px 1px 3px 1px rgba(0, 0, 0, 0.15);\n",
              "      filter: drop-shadow(0px 1px 2px rgba(0, 0, 0, 0.3));\n",
              "      fill: #FFFFFF;\n",
              "    }\n",
              "  </style>\n",
              "\n",
              "      <script>\n",
              "        const buttonEl =\n",
              "          document.querySelector('#df-2d655382-fc97-41f1-8737-7d4b691c0f1e button.colab-df-convert');\n",
              "        buttonEl.style.display =\n",
              "          google.colab.kernel.accessAllowed ? 'block' : 'none';\n",
              "\n",
              "        async function convertToInteractive(key) {\n",
              "          const element = document.querySelector('#df-2d655382-fc97-41f1-8737-7d4b691c0f1e');\n",
              "          const dataTable =\n",
              "            await google.colab.kernel.invokeFunction('convertToInteractive',\n",
              "                                                     [key], {});\n",
              "          if (!dataTable) return;\n",
              "\n",
              "          const docLinkHtml = 'Like what you see? Visit the ' +\n",
              "            '<a target=\"_blank\" href=https://colab.research.google.com/notebooks/data_table.ipynb>data table notebook</a>'\n",
              "            + ' to learn more about interactive tables.';\n",
              "          element.innerHTML = '';\n",
              "          dataTable['output_type'] = 'display_data';\n",
              "          await google.colab.output.renderOutput(dataTable, element);\n",
              "          const docLink = document.createElement('div');\n",
              "          docLink.innerHTML = docLinkHtml;\n",
              "          element.appendChild(docLink);\n",
              "        }\n",
              "      </script>\n",
              "    </div>\n",
              "  </div>\n",
              "  "
            ]
          },
          "metadata": {},
          "execution_count": 15
        }
      ]
    },
    {
      "cell_type": "markdown",
      "source": [
        "Primeiro, foi tentado extrair todos os dados de uma vez"
      ],
      "metadata": {
        "id": "1S7ORJjDjbJN"
      }
    },
    {
      "cell_type": "code",
      "source": [
        "images = [keras_ocr.tools.read(file) for file in df_train.filename] "
      ],
      "metadata": {
        "id": "ZJinALaJjFwa"
      },
      "execution_count": null,
      "outputs": []
    },
    {
      "cell_type": "markdown",
      "source": [
        "Após a tentativa da execução do comando abaixo, o seguinte diagnóstico foi gerado![warning_colab.jpeg](data:image/jpeg;base64,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):"
      ],
      "metadata": {
        "id": "_lxmBN5Xkv8C"
      }
    },
    {
      "cell_type": "code",
      "source": [
        "# %%time\n",
        "# prediction_groups = pipeline.recognize(images)"
      ],
      "metadata": {
        "id": "xqTsnquAjk1d"
      },
      "execution_count": null,
      "outputs": []
    },
    {
      "cell_type": "markdown",
      "source": [
        "Em seguida foi realizada a tentativa de separar o processo em batches, para não sobrecarregar o sistema. Porém, o seguinte erro acontece após mais de 30 minutos de execução."
      ],
      "metadata": {
        "id": "IymM53GSlbaV"
      }
    },
    {
      "cell_type": "code",
      "source": [
        "texts = []\n",
        "for i in tqdm(range(int(np.ceil(df_train.size/5)))):\n",
        "    images = [keras_ocr.tools.read(file) for file in df_train.filename[i:i+5]]\n",
        "    prediction_groups = pipeline.recognize(images)\n",
        "    for predicted_image in prediction_groups:\n",
        "        text = ' '.join([word for word, _ in predicted_image])\n",
        "        texts.append(text)"
      ],
      "metadata": {
        "colab": {
          "base_uri": "https://localhost:8080/",
          "height": 1000,
          "referenced_widgets": [
            "87acd57a77a6409fa5c09f984299d2e5",
            "1b190c7d41f247c2b7d041feacb1e8af",
            "8958890f0c0343f88609e64f9b025b2e",
            "3f23e4d371f24f9f9a6496520206dd42",
            "8cd64d0a6ce84d61b1068513e6b81d1f",
            "675be810b5104fa285afd061f05aac03",
            "47a4aee0c1364deca162f6e288e4ae07",
            "d1b315a9dded4798b10172284174117a",
            "49b1e9088e5d4470bb4a4daa21190be9",
            "39766cceab41485e836509777105b1b7",
            "1eb21bbb0e1b4ec69c36ffa33bf260f5"
          ]
        },
        "id": "ZdkBCneFlx9V",
        "outputId": "ba100688-309f-4489-831a-70af3243bb29"
      },
      "execution_count": 22,
      "outputs": [
        {
          "output_type": "display_data",
          "data": {
            "text/plain": [
              "  0%|          | 0/829 [00:00<?, ?it/s]"
            ],
            "application/vnd.jupyter.widget-view+json": {
              "version_major": 2,
              "version_minor": 0,
              "model_id": "87acd57a77a6409fa5c09f984299d2e5"
            },
            "application/json": {
              "n": 0,
              "total": 829,
              "elapsed": 0.05612826347351074,
              "ncols": null,
              "nrows": null,
              "prefix": "",
              "ascii": false,
              "unit": "it",
              "unit_scale": false,
              "rate": null,
              "bar_format": null,
              "postfix": null,
              "unit_divisor": 1000,
              "initial": 0,
              "colour": null
            }
          },
          "metadata": {}
        },
        {
          "output_type": "error",
          "ename": "ResourceExhaustedError",
          "evalue": "ignored",
          "traceback": [
            "\u001b[0;31m---------------------------------------------------------------------------\u001b[0m",
            "\u001b[0;31mResourceExhaustedError\u001b[0m                    Traceback (most recent call last)",
            "\u001b[0;32m<ipython-input-22-1e9a609c7397>\u001b[0m in \u001b[0;36m<module>\u001b[0;34m\u001b[0m\n\u001b[1;32m      2\u001b[0m \u001b[0;32mfor\u001b[0m \u001b[0mi\u001b[0m \u001b[0;32min\u001b[0m \u001b[0mtqdm\u001b[0m\u001b[0;34m(\u001b[0m\u001b[0mrange\u001b[0m\u001b[0;34m(\u001b[0m\u001b[0mint\u001b[0m\u001b[0;34m(\u001b[0m\u001b[0mnp\u001b[0m\u001b[0;34m.\u001b[0m\u001b[0mceil\u001b[0m\u001b[0;34m(\u001b[0m\u001b[0mdf_train\u001b[0m\u001b[0;34m.\u001b[0m\u001b[0msize\u001b[0m\u001b[0;34m/\u001b[0m\u001b[0;36m5\u001b[0m\u001b[0;34m)\u001b[0m\u001b[0;34m)\u001b[0m\u001b[0;34m)\u001b[0m\u001b[0;34m)\u001b[0m\u001b[0;34m:\u001b[0m\u001b[0;34m\u001b[0m\u001b[0;34m\u001b[0m\u001b[0m\n\u001b[1;32m      3\u001b[0m     \u001b[0mimages\u001b[0m \u001b[0;34m=\u001b[0m \u001b[0;34m[\u001b[0m\u001b[0mkeras_ocr\u001b[0m\u001b[0;34m.\u001b[0m\u001b[0mtools\u001b[0m\u001b[0;34m.\u001b[0m\u001b[0mread\u001b[0m\u001b[0;34m(\u001b[0m\u001b[0mfile\u001b[0m\u001b[0;34m)\u001b[0m \u001b[0;32mfor\u001b[0m \u001b[0mfile\u001b[0m \u001b[0;32min\u001b[0m \u001b[0mdf_train\u001b[0m\u001b[0;34m.\u001b[0m\u001b[0mfilename\u001b[0m\u001b[0;34m[\u001b[0m\u001b[0mi\u001b[0m\u001b[0;34m:\u001b[0m\u001b[0mi\u001b[0m\u001b[0;34m+\u001b[0m\u001b[0;36m5\u001b[0m\u001b[0;34m]\u001b[0m\u001b[0;34m]\u001b[0m\u001b[0;34m\u001b[0m\u001b[0;34m\u001b[0m\u001b[0m\n\u001b[0;32m----> 4\u001b[0;31m     \u001b[0mprediction_groups\u001b[0m \u001b[0;34m=\u001b[0m \u001b[0mpipeline\u001b[0m\u001b[0;34m.\u001b[0m\u001b[0mrecognize\u001b[0m\u001b[0;34m(\u001b[0m\u001b[0mimages\u001b[0m\u001b[0;34m)\u001b[0m\u001b[0;34m\u001b[0m\u001b[0;34m\u001b[0m\u001b[0m\n\u001b[0m\u001b[1;32m      5\u001b[0m     \u001b[0;32mfor\u001b[0m \u001b[0mpredicted_image\u001b[0m \u001b[0;32min\u001b[0m \u001b[0mprediction_groups\u001b[0m\u001b[0;34m:\u001b[0m\u001b[0;34m\u001b[0m\u001b[0;34m\u001b[0m\u001b[0m\n\u001b[1;32m      6\u001b[0m         \u001b[0mtext\u001b[0m \u001b[0;34m=\u001b[0m \u001b[0;34m' '\u001b[0m\u001b[0;34m.\u001b[0m\u001b[0mjoin\u001b[0m\u001b[0;34m(\u001b[0m\u001b[0;34m[\u001b[0m\u001b[0mword\u001b[0m \u001b[0;32mfor\u001b[0m \u001b[0mword\u001b[0m\u001b[0;34m,\u001b[0m \u001b[0m_\u001b[0m \u001b[0;32min\u001b[0m \u001b[0mpredicted_image\u001b[0m\u001b[0;34m]\u001b[0m\u001b[0;34m)\u001b[0m\u001b[0;34m\u001b[0m\u001b[0;34m\u001b[0m\u001b[0m\n",
            "\u001b[0;32m/usr/local/lib/python3.7/dist-packages/keras_ocr/pipeline.py\u001b[0m in \u001b[0;36mrecognize\u001b[0;34m(self, images, detection_kwargs, recognition_kwargs)\u001b[0m\n\u001b[1;32m     60\u001b[0m         \u001b[0;32mif\u001b[0m \u001b[0mrecognition_kwargs\u001b[0m \u001b[0;32mis\u001b[0m \u001b[0;32mNone\u001b[0m\u001b[0;34m:\u001b[0m\u001b[0;34m\u001b[0m\u001b[0;34m\u001b[0m\u001b[0m\n\u001b[1;32m     61\u001b[0m             \u001b[0mrecognition_kwargs\u001b[0m \u001b[0;34m=\u001b[0m \u001b[0;34m{\u001b[0m\u001b[0;34m}\u001b[0m\u001b[0;34m\u001b[0m\u001b[0;34m\u001b[0m\u001b[0m\n\u001b[0;32m---> 62\u001b[0;31m         \u001b[0mbox_groups\u001b[0m \u001b[0;34m=\u001b[0m \u001b[0mself\u001b[0m\u001b[0;34m.\u001b[0m\u001b[0mdetector\u001b[0m\u001b[0;34m.\u001b[0m\u001b[0mdetect\u001b[0m\u001b[0;34m(\u001b[0m\u001b[0mimages\u001b[0m\u001b[0;34m=\u001b[0m\u001b[0mimages\u001b[0m\u001b[0;34m,\u001b[0m \u001b[0;34m**\u001b[0m\u001b[0mdetection_kwargs\u001b[0m\u001b[0;34m)\u001b[0m\u001b[0;34m\u001b[0m\u001b[0;34m\u001b[0m\u001b[0m\n\u001b[0m\u001b[1;32m     63\u001b[0m         prediction_groups = self.recognizer.recognize_from_boxes(\n\u001b[1;32m     64\u001b[0m             \u001b[0mimages\u001b[0m\u001b[0;34m=\u001b[0m\u001b[0mimages\u001b[0m\u001b[0;34m,\u001b[0m \u001b[0mbox_groups\u001b[0m\u001b[0;34m=\u001b[0m\u001b[0mbox_groups\u001b[0m\u001b[0;34m,\u001b[0m \u001b[0;34m**\u001b[0m\u001b[0mrecognition_kwargs\u001b[0m\u001b[0;34m\u001b[0m\u001b[0;34m\u001b[0m\u001b[0m\n",
            "\u001b[0;32m/usr/local/lib/python3.7/dist-packages/keras_ocr/detection.py\u001b[0m in \u001b[0;36mdetect\u001b[0;34m(self, images, detection_threshold, text_threshold, link_threshold, size_threshold, **kwargs)\u001b[0m\n\u001b[1;32m    775\u001b[0m             \u001b[0msize_threshold\u001b[0m\u001b[0;34m:\u001b[0m \u001b[0mThe\u001b[0m \u001b[0mminimum\u001b[0m \u001b[0marea\u001b[0m \u001b[0;32mfor\u001b[0m \u001b[0ma\u001b[0m \u001b[0mword\u001b[0m\u001b[0;34m.\u001b[0m\u001b[0;34m\u001b[0m\u001b[0;34m\u001b[0m\u001b[0m\n\u001b[1;32m    776\u001b[0m         \"\"\"\n\u001b[0;32m--> 777\u001b[0;31m         \u001b[0mimages\u001b[0m \u001b[0;34m=\u001b[0m \u001b[0;34m[\u001b[0m\u001b[0mcompute_input\u001b[0m\u001b[0;34m(\u001b[0m\u001b[0mtools\u001b[0m\u001b[0;34m.\u001b[0m\u001b[0mread\u001b[0m\u001b[0;34m(\u001b[0m\u001b[0mimage\u001b[0m\u001b[0;34m)\u001b[0m\u001b[0;34m)\u001b[0m \u001b[0;32mfor\u001b[0m \u001b[0mimage\u001b[0m \u001b[0;32min\u001b[0m \u001b[0mimages\u001b[0m\u001b[0;34m]\u001b[0m\u001b[0;34m\u001b[0m\u001b[0;34m\u001b[0m\u001b[0m\n\u001b[0m\u001b[1;32m    778\u001b[0m         boxes = getBoxes(\n\u001b[1;32m    779\u001b[0m             \u001b[0mself\u001b[0m\u001b[0;34m.\u001b[0m\u001b[0mmodel\u001b[0m\u001b[0;34m.\u001b[0m\u001b[0mpredict\u001b[0m\u001b[0;34m(\u001b[0m\u001b[0mnp\u001b[0m\u001b[0;34m.\u001b[0m\u001b[0marray\u001b[0m\u001b[0;34m(\u001b[0m\u001b[0mimages\u001b[0m\u001b[0;34m)\u001b[0m\u001b[0;34m,\u001b[0m \u001b[0;34m**\u001b[0m\u001b[0mkwargs\u001b[0m\u001b[0;34m)\u001b[0m\u001b[0;34m,\u001b[0m\u001b[0;34m\u001b[0m\u001b[0;34m\u001b[0m\u001b[0m\n",
            "\u001b[0;32m/usr/local/lib/python3.7/dist-packages/keras/utils/traceback_utils.py\u001b[0m in \u001b[0;36merror_handler\u001b[0;34m(*args, **kwargs)\u001b[0m\n\u001b[1;32m     62\u001b[0m     \u001b[0mfiltered_tb\u001b[0m \u001b[0;34m=\u001b[0m \u001b[0;32mNone\u001b[0m\u001b[0;34m\u001b[0m\u001b[0;34m\u001b[0m\u001b[0m\n\u001b[1;32m     63\u001b[0m     \u001b[0;32mtry\u001b[0m\u001b[0;34m:\u001b[0m\u001b[0;34m\u001b[0m\u001b[0;34m\u001b[0m\u001b[0m\n\u001b[0;32m---> 64\u001b[0;31m       \u001b[0;32mreturn\u001b[0m \u001b[0mfn\u001b[0m\u001b[0;34m(\u001b[0m\u001b[0;34m*\u001b[0m\u001b[0margs\u001b[0m\u001b[0;34m,\u001b[0m \u001b[0;34m**\u001b[0m\u001b[0mkwargs\u001b[0m\u001b[0;34m)\u001b[0m\u001b[0;34m\u001b[0m\u001b[0;34m\u001b[0m\u001b[0m\n\u001b[0m\u001b[1;32m     65\u001b[0m     \u001b[0;32mexcept\u001b[0m \u001b[0mException\u001b[0m \u001b[0;32mas\u001b[0m \u001b[0me\u001b[0m\u001b[0;34m:\u001b[0m  \u001b[0;31m# pylint: disable=broad-except\u001b[0m\u001b[0;34m\u001b[0m\u001b[0;34m\u001b[0m\u001b[0m\n\u001b[1;32m     66\u001b[0m       \u001b[0mfiltered_tb\u001b[0m \u001b[0;34m=\u001b[0m \u001b[0m_process_traceback_frames\u001b[0m\u001b[0;34m(\u001b[0m\u001b[0me\u001b[0m\u001b[0;34m.\u001b[0m\u001b[0m__traceback__\u001b[0m\u001b[0;34m)\u001b[0m\u001b[0;34m\u001b[0m\u001b[0;34m\u001b[0m\u001b[0m\n",
            "\u001b[0;32m/usr/local/lib/python3.7/dist-packages/tensorflow/python/eager/execute.py\u001b[0m in \u001b[0;36mquick_execute\u001b[0;34m(op_name, num_outputs, inputs, attrs, ctx, name)\u001b[0m\n\u001b[1;32m     53\u001b[0m     \u001b[0mctx\u001b[0m\u001b[0;34m.\u001b[0m\u001b[0mensure_initialized\u001b[0m\u001b[0;34m(\u001b[0m\u001b[0;34m)\u001b[0m\u001b[0;34m\u001b[0m\u001b[0;34m\u001b[0m\u001b[0m\n\u001b[1;32m     54\u001b[0m     tensors = pywrap_tfe.TFE_Py_Execute(ctx._handle, device_name, op_name,\n\u001b[0;32m---> 55\u001b[0;31m                                         inputs, attrs, num_outputs)\n\u001b[0m\u001b[1;32m     56\u001b[0m   \u001b[0;32mexcept\u001b[0m \u001b[0mcore\u001b[0m\u001b[0;34m.\u001b[0m\u001b[0m_NotOkStatusException\u001b[0m \u001b[0;32mas\u001b[0m \u001b[0me\u001b[0m\u001b[0;34m:\u001b[0m\u001b[0;34m\u001b[0m\u001b[0;34m\u001b[0m\u001b[0m\n\u001b[1;32m     57\u001b[0m     \u001b[0;32mif\u001b[0m \u001b[0mname\u001b[0m \u001b[0;32mis\u001b[0m \u001b[0;32mnot\u001b[0m \u001b[0;32mNone\u001b[0m\u001b[0;34m:\u001b[0m\u001b[0;34m\u001b[0m\u001b[0;34m\u001b[0m\u001b[0m\n",
            "\u001b[0;31mResourceExhaustedError\u001b[0m: Graph execution error:\n\nDetected at node 'model_1/basenet.slice1.1/FusedBatchNormV3' defined at (most recent call last):\n    File \"/usr/lib/python3.7/runpy.py\", line 193, in _run_module_as_main\n      \"__main__\", mod_spec)\n    File \"/usr/lib/python3.7/runpy.py\", line 85, in _run_code\n      exec(code, run_globals)\n    File \"/usr/local/lib/python3.7/dist-packages/ipykernel_launcher.py\", line 16, in <module>\n      app.launch_new_instance()\n    File \"/usr/local/lib/python3.7/dist-packages/traitlets/config/application.py\", line 846, in launch_instance\n      app.start()\n    File \"/usr/local/lib/python3.7/dist-packages/ipykernel/kernelapp.py\", line 612, in start\n      self.io_loop.start()\n    File \"/usr/local/lib/python3.7/dist-packages/tornado/platform/asyncio.py\", line 132, in start\n      self.asyncio_loop.run_forever()\n    File \"/usr/lib/python3.7/asyncio/base_events.py\", line 541, in run_forever\n      self._run_once()\n    File \"/usr/lib/python3.7/asyncio/base_events.py\", line 1786, in _run_once\n      handle._run()\n    File \"/usr/lib/python3.7/asyncio/events.py\", line 88, in _run\n      self._context.run(self._callback, *self._args)\n    File \"/usr/local/lib/python3.7/dist-packages/tornado/ioloop.py\", line 758, in _run_callback\n      ret = callback()\n    File \"/usr/local/lib/python3.7/dist-packages/tornado/stack_context.py\", line 300, in null_wrapper\n      return fn(*args, **kwargs)\n    File \"/usr/local/lib/python3.7/dist-packages/tornado/gen.py\", line 1233, in inner\n      self.run()\n    File \"/usr/local/lib/python3.7/dist-packages/tornado/gen.py\", line 1147, in run\n      yielded = self.gen.send(value)\n    File \"/usr/local/lib/python3.7/dist-packages/ipykernel/kernelbase.py\", line 365, in process_one\n      yield gen.maybe_future(dispatch(*args))\n    File \"/usr/local/lib/python3.7/dist-packages/tornado/gen.py\", line 326, in wrapper\n      yielded = next(result)\n    File \"/usr/local/lib/python3.7/dist-packages/ipykernel/kernelbase.py\", line 268, in dispatch_shell\n      yield gen.maybe_future(handler(stream, idents, msg))\n    File \"/usr/local/lib/python3.7/dist-packages/tornado/gen.py\", line 326, in wrapper\n      yielded = next(result)\n    File \"/usr/local/lib/python3.7/dist-packages/ipykernel/kernelbase.py\", line 545, in execute_request\n      user_expressions, allow_stdin,\n    File \"/usr/local/lib/python3.7/dist-packages/tornado/gen.py\", line 326, in wrapper\n      yielded = next(result)\n    File \"/usr/local/lib/python3.7/dist-packages/ipykernel/ipkernel.py\", line 306, in do_execute\n      res = shell.run_cell(code, store_history=store_history, silent=silent)\n    File \"/usr/local/lib/python3.7/dist-packages/ipykernel/zmqshell.py\", line 536, in run_cell\n      return super(ZMQInteractiveShell, self).run_cell(*args, **kwargs)\n    File \"/usr/local/lib/python3.7/dist-packages/IPython/core/interactiveshell.py\", line 2855, in run_cell\n      raw_cell, store_history, silent, shell_futures)\n    File \"/usr/local/lib/python3.7/dist-packages/IPython/core/interactiveshell.py\", line 2881, in _run_cell\n      return runner(coro)\n    File \"/usr/local/lib/python3.7/dist-packages/IPython/core/async_helpers.py\", line 68, in _pseudo_sync_runner\n      coro.send(None)\n    File \"/usr/local/lib/python3.7/dist-packages/IPython/core/interactiveshell.py\", line 3058, in run_cell_async\n      interactivity=interactivity, compiler=compiler, result=result)\n    File \"/usr/local/lib/python3.7/dist-packages/IPython/core/interactiveshell.py\", line 3249, in run_ast_nodes\n      if (await self.run_code(code, result,  async_=asy)):\n    File \"/usr/local/lib/python3.7/dist-packages/IPython/core/interactiveshell.py\", line 3326, in run_code\n      exec(code_obj, self.user_global_ns, self.user_ns)\n    File \"<ipython-input-22-1e9a609c7397>\", line 4, in <module>\n      prediction_groups = pipeline.recognize(images)\n    File \"/usr/local/lib/python3.7/dist-packages/keras_ocr/pipeline.py\", line 62, in recognize\n      box_groups = self.detector.detect(images=images, **detection_kwargs)\n    File \"/usr/local/lib/python3.7/dist-packages/keras_ocr/detection.py\", line 779, in detect\n      self.model.predict(np.array(images), **kwargs),\n    File \"/usr/local/lib/python3.7/dist-packages/keras/utils/traceback_utils.py\", line 64, in error_handler\n      return fn(*args, **kwargs)\n    File \"/usr/local/lib/python3.7/dist-packages/keras/engine/training.py\", line 1982, in predict\n      tmp_batch_outputs = self.predict_function(iterator)\n    File \"/usr/local/lib/python3.7/dist-packages/keras/engine/training.py\", line 1801, in predict_function\n      return step_function(self, iterator)\n    File \"/usr/local/lib/python3.7/dist-packages/keras/engine/training.py\", line 1790, in step_function\n      outputs = model.distribute_strategy.run(run_step, args=(data,))\n    File \"/usr/local/lib/python3.7/dist-packages/keras/engine/training.py\", line 1783, in run_step\n      outputs = model.predict_step(data)\n    File \"/usr/local/lib/python3.7/dist-packages/keras/engine/training.py\", line 1751, in predict_step\n      return self(x, training=False)\n    File \"/usr/local/lib/python3.7/dist-packages/keras/utils/traceback_utils.py\", line 64, in error_handler\n      return fn(*args, **kwargs)\n    File \"/usr/local/lib/python3.7/dist-packages/keras/engine/base_layer.py\", line 1096, in __call__\n      outputs = call_fn(inputs, *args, **kwargs)\n    File \"/usr/local/lib/python3.7/dist-packages/keras/utils/traceback_utils.py\", line 92, in error_handler\n      return fn(*args, **kwargs)\n    File \"/usr/local/lib/python3.7/dist-packages/keras/engine/functional.py\", line 452, in call\n      inputs, training=training, mask=mask)\n    File \"/usr/local/lib/python3.7/dist-packages/keras/engine/functional.py\", line 589, in _run_internal_graph\n      outputs = node.layer(*args, **kwargs)\n    File \"/usr/local/lib/python3.7/dist-packages/keras/utils/traceback_utils.py\", line 64, in error_handler\n      return fn(*args, **kwargs)\n    File \"/usr/local/lib/python3.7/dist-packages/keras/engine/base_layer.py\", line 1096, in __call__\n      outputs = call_fn(inputs, *args, **kwargs)\n    File \"/usr/local/lib/python3.7/dist-packages/keras/utils/traceback_utils.py\", line 92, in error_handler\n      return fn(*args, **kwargs)\n    File \"/usr/local/lib/python3.7/dist-packages/keras/layers/normalization/batch_normalization.py\", line 767, in call\n      outputs = self._fused_batch_norm(inputs, training=training)\n    File \"/usr/local/lib/python3.7/dist-packages/keras/layers/normalization/batch_normalization.py\", line 624, in _fused_batch_norm\n      training, train_op, _fused_batch_norm_inference)\n    File \"/usr/local/lib/python3.7/dist-packages/keras/utils/control_flow_util.py\", line 106, in smart_cond\n      pred, true_fn=true_fn, false_fn=false_fn, name=name)\n    File \"/usr/local/lib/python3.7/dist-packages/keras/layers/normalization/batch_normalization.py\", line 613, in _fused_batch_norm_inference\n      data_format=self._data_format)\nNode: 'model_1/basenet.slice1.1/FusedBatchNormV3'\nOOM when allocating tensor with shape[5,64,2000,1554] and type float on /job:localhost/replica:0/task:0/device:GPU:0 by allocator GPU_0_bfc\n\t [[{{node model_1/basenet.slice1.1/FusedBatchNormV3}}]]\nHint: If you want to see a list of allocated tensors when OOM happens, add report_tensor_allocations_upon_oom to RunOptions for current allocation info. This isn't available when running in Eager mode.\n [Op:__inference_predict_function_9823]"
          ]
        }
      ]
    },
    {
      "cell_type": "markdown",
      "source": [
        "Sendo assim não foi possível gerar os dataframes, por completo, mas segue um dataframe de treino parcial:"
      ],
      "metadata": {
        "id": "r-5hWTGn1Z9C"
      }
    },
    {
      "cell_type": "code",
      "source": [
        "pd.DataFrame({'text': texts, 'label': df_train.label[:len(texts)]})"
      ],
      "metadata": {
        "colab": {
          "base_uri": "https://localhost:8080/",
          "height": 424
        },
        "id": "NftxjqZh1r1I",
        "outputId": "8a7f2ee3-62f3-4ef7-e513-bb347a5b21c9"
      },
      "execution_count": 23,
      "outputs": [
        {
          "output_type": "execute_result",
          "data": {
            "text/plain": [
              "                                                  text  \\\n",
              "0    2078712383 from marchesi tricia m tuesday janu...   \n",
              "1    nowi hlfi parliament is besth with recessed fi...   \n",
              "2    5849 mycassociated a zinc finger protein bindi...   \n",
              "3    e original messages henry froms femarndez l so...   \n",
              "4    2085315655 lipowicz peter j from lipowicz pele...   \n",
              "..                                                 ...   \n",
              "590   cohen denise a cohen denise a from 26 sent we...   \n",
              "591  review indoor built 199s76s66 indoor buil edvi...   \n",
              "592  hkes1s dalm ajebar sp pl taslgo uita 2 fos the...   \n",
              "593  2085115710 ostern eric from oslern eric sent m...   \n",
              "594  al cohr 1719 gno d blal ss 1a 31 82 hlemoglobi...   \n",
              "\n",
              "                       label  \n",
              "0                      email  \n",
              "1              advertisement  \n",
              "2    scientific _publication  \n",
              "3                      email  \n",
              "4                      email  \n",
              "..                       ...  \n",
              "590                    email  \n",
              "591  scientific _publication  \n",
              "592            advertisement  \n",
              "593                    email  \n",
              "594  scientific _publication  \n",
              "\n",
              "[595 rows x 2 columns]"
            ],
            "text/html": [
              "\n",
              "  <div id=\"df-669a60fa-df1a-462f-ab88-ee257cebfdf7\">\n",
              "    <div class=\"colab-df-container\">\n",
              "      <div>\n",
              "<style scoped>\n",
              "    .dataframe tbody tr th:only-of-type {\n",
              "        vertical-align: middle;\n",
              "    }\n",
              "\n",
              "    .dataframe tbody tr th {\n",
              "        vertical-align: top;\n",
              "    }\n",
              "\n",
              "    .dataframe thead th {\n",
              "        text-align: right;\n",
              "    }\n",
              "</style>\n",
              "<table border=\"1\" class=\"dataframe\">\n",
              "  <thead>\n",
              "    <tr style=\"text-align: right;\">\n",
              "      <th></th>\n",
              "      <th>text</th>\n",
              "      <th>label</th>\n",
              "    </tr>\n",
              "  </thead>\n",
              "  <tbody>\n",
              "    <tr>\n",
              "      <th>0</th>\n",
              "      <td>2078712383 from marchesi tricia m tuesday janu...</td>\n",
              "      <td>email</td>\n",
              "    </tr>\n",
              "    <tr>\n",
              "      <th>1</th>\n",
              "      <td>nowi hlfi parliament is besth with recessed fi...</td>\n",
              "      <td>advertisement</td>\n",
              "    </tr>\n",
              "    <tr>\n",
              "      <th>2</th>\n",
              "      <td>5849 mycassociated a zinc finger protein bindi...</td>\n",
              "      <td>scientific _publication</td>\n",
              "    </tr>\n",
              "    <tr>\n",
              "      <th>3</th>\n",
              "      <td>e original messages henry froms femarndez l so...</td>\n",
              "      <td>email</td>\n",
              "    </tr>\n",
              "    <tr>\n",
              "      <th>4</th>\n",
              "      <td>2085315655 lipowicz peter j from lipowicz pele...</td>\n",
              "      <td>email</td>\n",
              "    </tr>\n",
              "    <tr>\n",
              "      <th>...</th>\n",
              "      <td>...</td>\n",
              "      <td>...</td>\n",
              "    </tr>\n",
              "    <tr>\n",
              "      <th>590</th>\n",
              "      <td>cohen denise a cohen denise a from 26 sent we...</td>\n",
              "      <td>email</td>\n",
              "    </tr>\n",
              "    <tr>\n",
              "      <th>591</th>\n",
              "      <td>review indoor built 199s76s66 indoor buil edvi...</td>\n",
              "      <td>scientific _publication</td>\n",
              "    </tr>\n",
              "    <tr>\n",
              "      <th>592</th>\n",
              "      <td>hkes1s dalm ajebar sp pl taslgo uita 2 fos the...</td>\n",
              "      <td>advertisement</td>\n",
              "    </tr>\n",
              "    <tr>\n",
              "      <th>593</th>\n",
              "      <td>2085115710 ostern eric from oslern eric sent m...</td>\n",
              "      <td>email</td>\n",
              "    </tr>\n",
              "    <tr>\n",
              "      <th>594</th>\n",
              "      <td>al cohr 1719 gno d blal ss 1a 31 82 hlemoglobi...</td>\n",
              "      <td>scientific _publication</td>\n",
              "    </tr>\n",
              "  </tbody>\n",
              "</table>\n",
              "<p>595 rows × 2 columns</p>\n",
              "</div>\n",
              "      <button class=\"colab-df-convert\" onclick=\"convertToInteractive('df-669a60fa-df1a-462f-ab88-ee257cebfdf7')\"\n",
              "              title=\"Convert this dataframe to an interactive table.\"\n",
              "              style=\"display:none;\">\n",
              "        \n",
              "  <svg xmlns=\"http://www.w3.org/2000/svg\" height=\"24px\"viewBox=\"0 0 24 24\"\n",
              "       width=\"24px\">\n",
              "    <path d=\"M0 0h24v24H0V0z\" fill=\"none\"/>\n",
              "    <path d=\"M18.56 5.44l.94 2.06.94-2.06 2.06-.94-2.06-.94-.94-2.06-.94 2.06-2.06.94zm-11 1L8.5 8.5l.94-2.06 2.06-.94-2.06-.94L8.5 2.5l-.94 2.06-2.06.94zm10 10l.94 2.06.94-2.06 2.06-.94-2.06-.94-.94-2.06-.94 2.06-2.06.94z\"/><path d=\"M17.41 7.96l-1.37-1.37c-.4-.4-.92-.59-1.43-.59-.52 0-1.04.2-1.43.59L10.3 9.45l-7.72 7.72c-.78.78-.78 2.05 0 2.83L4 21.41c.39.39.9.59 1.41.59.51 0 1.02-.2 1.41-.59l7.78-7.78 2.81-2.81c.8-.78.8-2.07 0-2.86zM5.41 20L4 18.59l7.72-7.72 1.47 1.35L5.41 20z\"/>\n",
              "  </svg>\n",
              "      </button>\n",
              "      \n",
              "  <style>\n",
              "    .colab-df-container {\n",
              "      display:flex;\n",
              "      flex-wrap:wrap;\n",
              "      gap: 12px;\n",
              "    }\n",
              "\n",
              "    .colab-df-convert {\n",
              "      background-color: #E8F0FE;\n",
              "      border: none;\n",
              "      border-radius: 50%;\n",
              "      cursor: pointer;\n",
              "      display: none;\n",
              "      fill: #1967D2;\n",
              "      height: 32px;\n",
              "      padding: 0 0 0 0;\n",
              "      width: 32px;\n",
              "    }\n",
              "\n",
              "    .colab-df-convert:hover {\n",
              "      background-color: #E2EBFA;\n",
              "      box-shadow: 0px 1px 2px rgba(60, 64, 67, 0.3), 0px 1px 3px 1px rgba(60, 64, 67, 0.15);\n",
              "      fill: #174EA6;\n",
              "    }\n",
              "\n",
              "    [theme=dark] .colab-df-convert {\n",
              "      background-color: #3B4455;\n",
              "      fill: #D2E3FC;\n",
              "    }\n",
              "\n",
              "    [theme=dark] .colab-df-convert:hover {\n",
              "      background-color: #434B5C;\n",
              "      box-shadow: 0px 1px 3px 1px rgba(0, 0, 0, 0.15);\n",
              "      filter: drop-shadow(0px 1px 2px rgba(0, 0, 0, 0.3));\n",
              "      fill: #FFFFFF;\n",
              "    }\n",
              "  </style>\n",
              "\n",
              "      <script>\n",
              "        const buttonEl =\n",
              "          document.querySelector('#df-669a60fa-df1a-462f-ab88-ee257cebfdf7 button.colab-df-convert');\n",
              "        buttonEl.style.display =\n",
              "          google.colab.kernel.accessAllowed ? 'block' : 'none';\n",
              "\n",
              "        async function convertToInteractive(key) {\n",
              "          const element = document.querySelector('#df-669a60fa-df1a-462f-ab88-ee257cebfdf7');\n",
              "          const dataTable =\n",
              "            await google.colab.kernel.invokeFunction('convertToInteractive',\n",
              "                                                     [key], {});\n",
              "          if (!dataTable) return;\n",
              "\n",
              "          const docLinkHtml = 'Like what you see? Visit the ' +\n",
              "            '<a target=\"_blank\" href=https://colab.research.google.com/notebooks/data_table.ipynb>data table notebook</a>'\n",
              "            + ' to learn more about interactive tables.';\n",
              "          element.innerHTML = '';\n",
              "          dataTable['output_type'] = 'display_data';\n",
              "          await google.colab.output.renderOutput(dataTable, element);\n",
              "          const docLink = document.createElement('div');\n",
              "          docLink.innerHTML = docLinkHtml;\n",
              "          element.appendChild(docLink);\n",
              "        }\n",
              "      </script>\n",
              "    </div>\n",
              "  </div>\n",
              "  "
            ]
          },
          "metadata": {},
          "execution_count": 23
        }
      ]
    }
  ]
}