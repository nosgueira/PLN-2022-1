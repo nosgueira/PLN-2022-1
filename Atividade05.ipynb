{
  "nbformat": 4,
  "nbformat_minor": 0,
  "metadata": {
    "colab": {
      "name": "Atividade05.ipynb",
      "provenance": [],
      "collapsed_sections": [],
      "include_colab_link": true
    },
    "kernelspec": {
      "name": "python3",
      "display_name": "Python 3"
    },
    "language_info": {
      "name": "python"
    },
    "accelerator": "GPU",
    "gpuClass": "standard"
  },
  "cells": [
    {
      "cell_type": "markdown",
      "metadata": {
        "id": "view-in-github",
        "colab_type": "text"
      },
      "source": [
        "<a href=\"https://colab.research.google.com/github/nosgueira/PLN-2022-1/blob/main/Atividade05.ipynb\" target=\"_parent\"><img src=\"https://colab.research.google.com/assets/colab-badge.svg\" alt=\"Open In Colab\"/></a>"
      ]
    },
    {
      "cell_type": "markdown",
      "source": [
        "# Treinamento Da Rede"
      ],
      "metadata": {
        "id": "NMi8YTzRH8st"
      }
    },
    {
      "cell_type": "code",
      "source": [
        "import pandas as pd\n",
        "from keras.models import Sequential\n",
        "from keras.layers import Dense\n",
        "from sklearn.feature_extraction.text import TfidfVectorizer\n",
        "from tensorflow.keras.optimizers import SGD\n",
        "from keras.utils.np_utils import to_categorical\n",
        "import matplotlib.pyplot as plt"
      ],
      "metadata": {
        "id": "kLa3daEePeVT"
      },
      "execution_count": 1,
      "outputs": []
    },
    {
      "cell_type": "code",
      "source": [
        "path_train = 'https://raw.githubusercontent.com/viniciusrpb/cic0269_natural_language_processing/main/datasets/corpora/tweets_polarity_classification/twitter-2013train-A.txt'\n",
        "path_test = 'https://raw.githubusercontent.com/viniciusrpb/cic0269_natural_language_processing/main/datasets/corpora/tweets_polarity_classification/twitter-2013test-A.txt'\n",
        "path_valid = 'https://raw.githubusercontent.com/viniciusrpb/cic0269_natural_language_processing/main/datasets/corpora/tweets_polarity_classification/twitter-2013dev-A.txt'"
      ],
      "metadata": {
        "id": "kJ8N5yE_Nwm6"
      },
      "execution_count": 2,
      "outputs": []
    },
    {
      "cell_type": "code",
      "source": [
        "df_train = pd.read_csv(path_train,names=['id','polarity','text'],sep='\\t')\n",
        "df_valid = pd.read_csv(path_valid,names=['id','polarity','text'],sep='\\t')\n",
        "df_test = pd.read_csv(path_test,names=['id','polarity','text'],sep='\\t')"
      ],
      "metadata": {
        "id": "MWO6bS02PaeH"
      },
      "execution_count": 3,
      "outputs": []
    },
    {
      "cell_type": "code",
      "source": [
        "df_test"
      ],
      "metadata": {
        "colab": {
          "base_uri": "https://localhost:8080/",
          "height": 424
        },
        "id": "KEfJe3N5Pzpo",
        "outputId": "ea47546c-c4fa-4ab5-de9f-133406f9fec0"
      },
      "execution_count": 4,
      "outputs": [
        {
          "output_type": "execute_result",
          "data": {
            "text/plain": [
              "                      id  polarity  \\\n",
              "0     264238274963451904  positive   \n",
              "1     218775148495515649  positive   \n",
              "2     258965201766998017   neutral   \n",
              "3     262926411352903682  negative   \n",
              "4     171874368908050432   neutral   \n",
              "...                  ...       ...   \n",
              "3542  264233437060288512  negative   \n",
              "3543  263779058284904448   neutral   \n",
              "3544  250744453831213056  negative   \n",
              "3545  258679974591090688  positive   \n",
              "3546  243018372453916674   neutral   \n",
              "\n",
              "                                                   text  \n",
              "0     @jjuueellzz down in the Atlantic city, ventnor...  \n",
              "1     Musical awareness: Great Big Beautiful Tomorro...  \n",
              "2     On Radio786 100.4fm 7:10 Fri Oct 19 Labour ana...  \n",
              "3     Kapan sih lo ngebuktiin,jan ngomong doang Susa...  \n",
              "4     Excuse the connectivity of this live stream, f...  \n",
              "...                                                 ...  \n",
              "3542  Khaleda Zia's present India visit may have a b...  \n",
              "3543  FYI, golf fans: @jameslepp will join Moj on We...  \n",
              "3544  @__Aniko you think mr.Calle let practice with ...  \n",
              "3545  Don't hide under your desk! It's just a salsa ...  \n",
              "3546  Saturday flashmob on the music of The Runaways...  \n",
              "\n",
              "[3547 rows x 3 columns]"
            ],
            "text/html": [
              "\n",
              "  <div id=\"df-67d51cf6-fcc1-4ca7-b734-bf16ddb74a88\">\n",
              "    <div class=\"colab-df-container\">\n",
              "      <div>\n",
              "<style scoped>\n",
              "    .dataframe tbody tr th:only-of-type {\n",
              "        vertical-align: middle;\n",
              "    }\n",
              "\n",
              "    .dataframe tbody tr th {\n",
              "        vertical-align: top;\n",
              "    }\n",
              "\n",
              "    .dataframe thead th {\n",
              "        text-align: right;\n",
              "    }\n",
              "</style>\n",
              "<table border=\"1\" class=\"dataframe\">\n",
              "  <thead>\n",
              "    <tr style=\"text-align: right;\">\n",
              "      <th></th>\n",
              "      <th>id</th>\n",
              "      <th>polarity</th>\n",
              "      <th>text</th>\n",
              "    </tr>\n",
              "  </thead>\n",
              "  <tbody>\n",
              "    <tr>\n",
              "      <th>0</th>\n",
              "      <td>264238274963451904</td>\n",
              "      <td>positive</td>\n",
              "      <td>@jjuueellzz down in the Atlantic city, ventnor...</td>\n",
              "    </tr>\n",
              "    <tr>\n",
              "      <th>1</th>\n",
              "      <td>218775148495515649</td>\n",
              "      <td>positive</td>\n",
              "      <td>Musical awareness: Great Big Beautiful Tomorro...</td>\n",
              "    </tr>\n",
              "    <tr>\n",
              "      <th>2</th>\n",
              "      <td>258965201766998017</td>\n",
              "      <td>neutral</td>\n",
              "      <td>On Radio786 100.4fm 7:10 Fri Oct 19 Labour ana...</td>\n",
              "    </tr>\n",
              "    <tr>\n",
              "      <th>3</th>\n",
              "      <td>262926411352903682</td>\n",
              "      <td>negative</td>\n",
              "      <td>Kapan sih lo ngebuktiin,jan ngomong doang Susa...</td>\n",
              "    </tr>\n",
              "    <tr>\n",
              "      <th>4</th>\n",
              "      <td>171874368908050432</td>\n",
              "      <td>neutral</td>\n",
              "      <td>Excuse the connectivity of this live stream, f...</td>\n",
              "    </tr>\n",
              "    <tr>\n",
              "      <th>...</th>\n",
              "      <td>...</td>\n",
              "      <td>...</td>\n",
              "      <td>...</td>\n",
              "    </tr>\n",
              "    <tr>\n",
              "      <th>3542</th>\n",
              "      <td>264233437060288512</td>\n",
              "      <td>negative</td>\n",
              "      <td>Khaleda Zia's present India visit may have a b...</td>\n",
              "    </tr>\n",
              "    <tr>\n",
              "      <th>3543</th>\n",
              "      <td>263779058284904448</td>\n",
              "      <td>neutral</td>\n",
              "      <td>FYI, golf fans: @jameslepp will join Moj on We...</td>\n",
              "    </tr>\n",
              "    <tr>\n",
              "      <th>3544</th>\n",
              "      <td>250744453831213056</td>\n",
              "      <td>negative</td>\n",
              "      <td>@__Aniko you think mr.Calle let practice with ...</td>\n",
              "    </tr>\n",
              "    <tr>\n",
              "      <th>3545</th>\n",
              "      <td>258679974591090688</td>\n",
              "      <td>positive</td>\n",
              "      <td>Don't hide under your desk! It's just a salsa ...</td>\n",
              "    </tr>\n",
              "    <tr>\n",
              "      <th>3546</th>\n",
              "      <td>243018372453916674</td>\n",
              "      <td>neutral</td>\n",
              "      <td>Saturday flashmob on the music of The Runaways...</td>\n",
              "    </tr>\n",
              "  </tbody>\n",
              "</table>\n",
              "<p>3547 rows × 3 columns</p>\n",
              "</div>\n",
              "      <button class=\"colab-df-convert\" onclick=\"convertToInteractive('df-67d51cf6-fcc1-4ca7-b734-bf16ddb74a88')\"\n",
              "              title=\"Convert this dataframe to an interactive table.\"\n",
              "              style=\"display:none;\">\n",
              "        \n",
              "  <svg xmlns=\"http://www.w3.org/2000/svg\" height=\"24px\"viewBox=\"0 0 24 24\"\n",
              "       width=\"24px\">\n",
              "    <path d=\"M0 0h24v24H0V0z\" fill=\"none\"/>\n",
              "    <path d=\"M18.56 5.44l.94 2.06.94-2.06 2.06-.94-2.06-.94-.94-2.06-.94 2.06-2.06.94zm-11 1L8.5 8.5l.94-2.06 2.06-.94-2.06-.94L8.5 2.5l-.94 2.06-2.06.94zm10 10l.94 2.06.94-2.06 2.06-.94-2.06-.94-.94-2.06-.94 2.06-2.06.94z\"/><path d=\"M17.41 7.96l-1.37-1.37c-.4-.4-.92-.59-1.43-.59-.52 0-1.04.2-1.43.59L10.3 9.45l-7.72 7.72c-.78.78-.78 2.05 0 2.83L4 21.41c.39.39.9.59 1.41.59.51 0 1.02-.2 1.41-.59l7.78-7.78 2.81-2.81c.8-.78.8-2.07 0-2.86zM5.41 20L4 18.59l7.72-7.72 1.47 1.35L5.41 20z\"/>\n",
              "  </svg>\n",
              "      </button>\n",
              "      \n",
              "  <style>\n",
              "    .colab-df-container {\n",
              "      display:flex;\n",
              "      flex-wrap:wrap;\n",
              "      gap: 12px;\n",
              "    }\n",
              "\n",
              "    .colab-df-convert {\n",
              "      background-color: #E8F0FE;\n",
              "      border: none;\n",
              "      border-radius: 50%;\n",
              "      cursor: pointer;\n",
              "      display: none;\n",
              "      fill: #1967D2;\n",
              "      height: 32px;\n",
              "      padding: 0 0 0 0;\n",
              "      width: 32px;\n",
              "    }\n",
              "\n",
              "    .colab-df-convert:hover {\n",
              "      background-color: #E2EBFA;\n",
              "      box-shadow: 0px 1px 2px rgba(60, 64, 67, 0.3), 0px 1px 3px 1px rgba(60, 64, 67, 0.15);\n",
              "      fill: #174EA6;\n",
              "    }\n",
              "\n",
              "    [theme=dark] .colab-df-convert {\n",
              "      background-color: #3B4455;\n",
              "      fill: #D2E3FC;\n",
              "    }\n",
              "\n",
              "    [theme=dark] .colab-df-convert:hover {\n",
              "      background-color: #434B5C;\n",
              "      box-shadow: 0px 1px 3px 1px rgba(0, 0, 0, 0.15);\n",
              "      filter: drop-shadow(0px 1px 2px rgba(0, 0, 0, 0.3));\n",
              "      fill: #FFFFFF;\n",
              "    }\n",
              "  </style>\n",
              "\n",
              "      <script>\n",
              "        const buttonEl =\n",
              "          document.querySelector('#df-67d51cf6-fcc1-4ca7-b734-bf16ddb74a88 button.colab-df-convert');\n",
              "        buttonEl.style.display =\n",
              "          google.colab.kernel.accessAllowed ? 'block' : 'none';\n",
              "\n",
              "        async function convertToInteractive(key) {\n",
              "          const element = document.querySelector('#df-67d51cf6-fcc1-4ca7-b734-bf16ddb74a88');\n",
              "          const dataTable =\n",
              "            await google.colab.kernel.invokeFunction('convertToInteractive',\n",
              "                                                     [key], {});\n",
              "          if (!dataTable) return;\n",
              "\n",
              "          const docLinkHtml = 'Like what you see? Visit the ' +\n",
              "            '<a target=\"_blank\" href=https://colab.research.google.com/notebooks/data_table.ipynb>data table notebook</a>'\n",
              "            + ' to learn more about interactive tables.';\n",
              "          element.innerHTML = '';\n",
              "          dataTable['output_type'] = 'display_data';\n",
              "          await google.colab.output.renderOutput(dataTable, element);\n",
              "          const docLink = document.createElement('div');\n",
              "          docLink.innerHTML = docLinkHtml;\n",
              "          element.appendChild(docLink);\n",
              "        }\n",
              "      </script>\n",
              "    </div>\n",
              "  </div>\n",
              "  "
            ]
          },
          "metadata": {},
          "execution_count": 4
        }
      ]
    },
    {
      "cell_type": "code",
      "source": [
        "print(f'Train size {df_train.shape}')\n",
        "print(f'Valid size {df_valid.shape}')\n",
        "print(f'Test size {df_test.shape}')"
      ],
      "metadata": {
        "colab": {
          "base_uri": "https://localhost:8080/"
        },
        "id": "DSwe3wvLP_xb",
        "outputId": "603e6841-5e3a-4fce-e918-16310cfe00a0"
      },
      "execution_count": 5,
      "outputs": [
        {
          "output_type": "stream",
          "name": "stdout",
          "text": [
            "Train size (9684, 3)\n",
            "Valid size (1654, 3)\n",
            "Test size (3547, 3)\n"
          ]
        }
      ]
    },
    {
      "cell_type": "code",
      "source": [
        "df_train = df_train.drop(labels=['id'],axis=1)\n",
        "df_valid = df_valid.drop(labels=['id'],axis=1)\n",
        "df_test = df_test.drop(labels=['id'],axis=1)"
      ],
      "metadata": {
        "id": "JEEwUpt-Qa-o"
      },
      "execution_count": 6,
      "outputs": []
    },
    {
      "cell_type": "code",
      "source": [
        "vectorizer = TfidfVectorizer(norm=None,lowercase=True,stop_words=\"english\",max_df=0.95,min_df=2)\n",
        "\n",
        "vectorizer.fit(df_train['text'])\n",
        "\n",
        "tfidf_train = vectorizer.transform(df_train['text']).toarray()\n",
        "tfidf_valid = vectorizer.transform(df_valid['text']).toarray()\n",
        "tfidf_test = vectorizer.transform(df_test['text']).toarray()"
      ],
      "metadata": {
        "id": "dbtaZnFlRA8l"
      },
      "execution_count": 7,
      "outputs": []
    },
    {
      "cell_type": "code",
      "source": [
        "df_train['polarity'] = pd.Categorical(df_train['polarity'])\n",
        "y_train_int = df_train['polarity'].cat.codes\n",
        "\n",
        "df_valid['polarity'] = pd.Categorical(df_valid['polarity'])\n",
        "y_valid_int = df_valid['polarity'].cat.codes\n",
        "\n",
        "df_test['polarity'] = pd.Categorical(df_test['polarity'])\n",
        "y_test_int = df_test['polarity'].cat.codes"
      ],
      "metadata": {
        "id": "BrT8ydnGb4Eq"
      },
      "execution_count": 8,
      "outputs": []
    },
    {
      "cell_type": "code",
      "source": [
        "y_train = to_categorical(y_train_int)\n",
        "y_valid = to_categorical(y_valid_int)\n",
        "y_test = to_categorical(y_test_int)"
      ],
      "metadata": {
        "id": "V4Wd20UQdP9z"
      },
      "execution_count": 9,
      "outputs": []
    },
    {
      "cell_type": "code",
      "source": [
        ""
      ],
      "metadata": {
        "id": "9jjAj7fSdyP1"
      },
      "execution_count": 9,
      "outputs": []
    },
    {
      "cell_type": "code",
      "source": [
        "X_train = tfidf_train\n",
        "X_valid = tfidf_valid\n",
        "X_test = tfidf_test"
      ],
      "metadata": {
        "id": "7jC6GyCRbplq"
      },
      "execution_count": 10,
      "outputs": []
    },
    {
      "cell_type": "code",
      "source": [
        "N = tfidf_train.shape[0]\n",
        "vocab_size = tfidf_train.shape[1]\n",
        "print(f'Quantidade de instancias de treinamento {N} e tamanho do vocabulario {vocab_size}')"
      ],
      "metadata": {
        "colab": {
          "base_uri": "https://localhost:8080/"
        },
        "id": "vKP6m6AsXsql",
        "outputId": "9c4b1110-6894-4172-8086-849cf9d19e68"
      },
      "execution_count": 11,
      "outputs": [
        {
          "output_type": "stream",
          "name": "stdout",
          "text": [
            "Quantidade de instancias de treinamento 9684 e tamanho do vocabulario 7654\n"
          ]
        }
      ]
    },
    {
      "cell_type": "markdown",
      "source": [
        "Arquitetura da Rede Multilayer Perceptron Profunda"
      ],
      "metadata": {
        "id": "8ZBTwtGUR7oW"
      }
    },
    {
      "cell_type": "markdown",
      "source": [
        "Hyperparâmetros da rede"
      ],
      "metadata": {
        "id": "opRBBhsCTuiL"
      }
    },
    {
      "cell_type": "code",
      "source": [
        "number_of_neurons_layer1 = 20\n",
        "number_of_neurons_layer2 = 10\n",
        "number_of_neurons_output = 3\n",
        "lr = 0.01"
      ],
      "metadata": {
        "id": "knTDnztUTtyW"
      },
      "execution_count": 12,
      "outputs": []
    },
    {
      "cell_type": "code",
      "source": [
        "model = Sequential()\n",
        "# Input Layer\n",
        "model.add(Dense(number_of_neurons_layer1,input_dim=vocab_size,activation='sigmoid'))\n",
        "model.add(Dense(number_of_neurons_layer2,activation='sigmoid'))\n",
        "model.add(Dense(number_of_neurons_output,activation='softmax'))\n",
        "model.summary()"
      ],
      "metadata": {
        "colab": {
          "base_uri": "https://localhost:8080/"
        },
        "id": "lFnqMSwQR-C9",
        "outputId": "c78d96de-ce9a-448e-fd7a-44d44b85d89e"
      },
      "execution_count": 13,
      "outputs": [
        {
          "output_type": "stream",
          "name": "stdout",
          "text": [
            "Model: \"sequential\"\n",
            "_________________________________________________________________\n",
            " Layer (type)                Output Shape              Param #   \n",
            "=================================================================\n",
            " dense (Dense)               (None, 20)                153100    \n",
            "                                                                 \n",
            " dense_1 (Dense)             (None, 10)                210       \n",
            "                                                                 \n",
            " dense_2 (Dense)             (None, 3)                 33        \n",
            "                                                                 \n",
            "=================================================================\n",
            "Total params: 153,343\n",
            "Trainable params: 153,343\n",
            "Non-trainable params: 0\n",
            "_________________________________________________________________\n"
          ]
        }
      ]
    },
    {
      "cell_type": "code",
      "source": [
        "sgd = SGD(learning_rate=lr)\n",
        "model.compile(optimizer=sgd,loss='categorical_crossentropy',metrics=['accuracy'])"
      ],
      "metadata": {
        "id": "NVCoUJfAZ21I"
      },
      "execution_count": 14,
      "outputs": []
    },
    {
      "cell_type": "code",
      "source": [
        "history = model.fit(X_train,y_train,validation_data=(X_valid,y_valid),epochs=50)"
      ],
      "metadata": {
        "colab": {
          "base_uri": "https://localhost:8080/"
        },
        "id": "6f4dinSJbXft",
        "outputId": "759bdf02-dd62-4398-e9c3-db28f5e6567a"
      },
      "execution_count": 15,
      "outputs": [
        {
          "output_type": "stream",
          "name": "stdout",
          "text": [
            "Epoch 1/50\n",
            "303/303 [==============================] - 4s 8ms/step - loss: 1.0383 - accuracy: 0.4451 - val_loss: 1.0574 - val_accuracy: 0.4468\n",
            "Epoch 2/50\n",
            "303/303 [==============================] - 2s 6ms/step - loss: 1.0025 - accuracy: 0.4736 - val_loss: 1.0585 - val_accuracy: 0.4468\n",
            "Epoch 3/50\n",
            "303/303 [==============================] - 2s 7ms/step - loss: 0.9995 - accuracy: 0.4736 - val_loss: 1.0558 - val_accuracy: 0.4468\n",
            "Epoch 4/50\n",
            "303/303 [==============================] - 2s 7ms/step - loss: 0.9960 - accuracy: 0.4737 - val_loss: 1.0532 - val_accuracy: 0.4468\n",
            "Epoch 5/50\n",
            "303/303 [==============================] - 2s 6ms/step - loss: 0.9924 - accuracy: 0.4740 - val_loss: 1.0522 - val_accuracy: 0.4480\n",
            "Epoch 6/50\n",
            "303/303 [==============================] - 2s 6ms/step - loss: 0.9883 - accuracy: 0.4784 - val_loss: 1.0480 - val_accuracy: 0.4486\n",
            "Epoch 7/50\n",
            "303/303 [==============================] - 2s 6ms/step - loss: 0.9837 - accuracy: 0.4827 - val_loss: 1.0441 - val_accuracy: 0.4559\n",
            "Epoch 8/50\n",
            "303/303 [==============================] - 2s 7ms/step - loss: 0.9783 - accuracy: 0.5002 - val_loss: 1.0415 - val_accuracy: 0.4589\n",
            "Epoch 9/50\n",
            "303/303 [==============================] - 2s 6ms/step - loss: 0.9721 - accuracy: 0.5133 - val_loss: 1.0350 - val_accuracy: 0.4933\n",
            "Epoch 10/50\n",
            "303/303 [==============================] - 2s 6ms/step - loss: 0.9652 - accuracy: 0.5375 - val_loss: 1.0290 - val_accuracy: 0.5139\n",
            "Epoch 11/50\n",
            "303/303 [==============================] - 2s 6ms/step - loss: 0.9567 - accuracy: 0.5739 - val_loss: 1.0219 - val_accuracy: 0.4867\n",
            "Epoch 12/50\n",
            "303/303 [==============================] - 1s 4ms/step - loss: 0.9473 - accuracy: 0.5796 - val_loss: 1.0152 - val_accuracy: 0.5357\n",
            "Epoch 13/50\n",
            "303/303 [==============================] - 1s 4ms/step - loss: 0.9362 - accuracy: 0.6069 - val_loss: 1.0083 - val_accuracy: 0.5484\n",
            "Epoch 14/50\n",
            "303/303 [==============================] - 1s 4ms/step - loss: 0.9235 - accuracy: 0.6207 - val_loss: 0.9970 - val_accuracy: 0.5665\n",
            "Epoch 15/50\n",
            "303/303 [==============================] - 1s 4ms/step - loss: 0.9092 - accuracy: 0.6332 - val_loss: 0.9883 - val_accuracy: 0.5713\n",
            "Epoch 16/50\n",
            "303/303 [==============================] - 1s 3ms/step - loss: 0.8934 - accuracy: 0.6462 - val_loss: 0.9783 - val_accuracy: 0.5780\n",
            "Epoch 17/50\n",
            "303/303 [==============================] - 1s 4ms/step - loss: 0.8762 - accuracy: 0.6558 - val_loss: 0.9659 - val_accuracy: 0.5792\n",
            "Epoch 18/50\n",
            "303/303 [==============================] - 1s 4ms/step - loss: 0.8579 - accuracy: 0.6660 - val_loss: 0.9530 - val_accuracy: 0.5810\n",
            "Epoch 19/50\n",
            "303/303 [==============================] - 1s 4ms/step - loss: 0.8387 - accuracy: 0.6709 - val_loss: 0.9392 - val_accuracy: 0.5871\n",
            "Epoch 20/50\n",
            "303/303 [==============================] - 1s 4ms/step - loss: 0.8191 - accuracy: 0.6766 - val_loss: 0.9316 - val_accuracy: 0.5931\n",
            "Epoch 21/50\n",
            "303/303 [==============================] - 1s 3ms/step - loss: 0.7992 - accuracy: 0.6849 - val_loss: 0.9181 - val_accuracy: 0.5943\n",
            "Epoch 22/50\n",
            "303/303 [==============================] - 1s 4ms/step - loss: 0.7792 - accuracy: 0.6891 - val_loss: 0.9071 - val_accuracy: 0.6016\n",
            "Epoch 23/50\n",
            "303/303 [==============================] - 1s 3ms/step - loss: 0.7593 - accuracy: 0.6968 - val_loss: 0.8969 - val_accuracy: 0.6016\n",
            "Epoch 24/50\n",
            "303/303 [==============================] - 1s 4ms/step - loss: 0.7395 - accuracy: 0.7038 - val_loss: 0.8872 - val_accuracy: 0.6046\n",
            "Epoch 25/50\n",
            "303/303 [==============================] - 1s 4ms/step - loss: 0.7199 - accuracy: 0.7111 - val_loss: 0.8789 - val_accuracy: 0.6100\n",
            "Epoch 26/50\n",
            "303/303 [==============================] - 1s 4ms/step - loss: 0.7008 - accuracy: 0.7194 - val_loss: 0.8696 - val_accuracy: 0.6149\n",
            "Epoch 27/50\n",
            "303/303 [==============================] - 1s 4ms/step - loss: 0.6817 - accuracy: 0.7274 - val_loss: 0.8631 - val_accuracy: 0.6143\n",
            "Epoch 28/50\n",
            "303/303 [==============================] - 1s 3ms/step - loss: 0.6630 - accuracy: 0.7361 - val_loss: 0.8591 - val_accuracy: 0.6149\n",
            "Epoch 29/50\n",
            "303/303 [==============================] - 1s 4ms/step - loss: 0.6446 - accuracy: 0.7427 - val_loss: 0.8544 - val_accuracy: 0.6185\n",
            "Epoch 30/50\n",
            "303/303 [==============================] - 1s 4ms/step - loss: 0.6265 - accuracy: 0.7500 - val_loss: 0.8481 - val_accuracy: 0.6191\n",
            "Epoch 31/50\n",
            "303/303 [==============================] - 1s 4ms/step - loss: 0.6087 - accuracy: 0.7585 - val_loss: 0.8447 - val_accuracy: 0.6179\n",
            "Epoch 32/50\n",
            "303/303 [==============================] - 1s 4ms/step - loss: 0.5912 - accuracy: 0.7672 - val_loss: 0.8415 - val_accuracy: 0.6167\n",
            "Epoch 33/50\n",
            "303/303 [==============================] - 1s 4ms/step - loss: 0.5739 - accuracy: 0.7762 - val_loss: 0.8400 - val_accuracy: 0.6197\n",
            "Epoch 34/50\n",
            "303/303 [==============================] - 1s 4ms/step - loss: 0.5569 - accuracy: 0.7856 - val_loss: 0.8391 - val_accuracy: 0.6185\n",
            "Epoch 35/50\n",
            "303/303 [==============================] - 1s 4ms/step - loss: 0.5401 - accuracy: 0.7935 - val_loss: 0.8379 - val_accuracy: 0.6221\n",
            "Epoch 36/50\n",
            "303/303 [==============================] - 1s 3ms/step - loss: 0.5238 - accuracy: 0.8028 - val_loss: 0.8398 - val_accuracy: 0.6209\n",
            "Epoch 37/50\n",
            "303/303 [==============================] - 1s 3ms/step - loss: 0.5076 - accuracy: 0.8100 - val_loss: 0.8409 - val_accuracy: 0.6258\n",
            "Epoch 38/50\n",
            "303/303 [==============================] - 1s 4ms/step - loss: 0.4920 - accuracy: 0.8189 - val_loss: 0.8398 - val_accuracy: 0.6270\n",
            "Epoch 39/50\n",
            "303/303 [==============================] - 1s 4ms/step - loss: 0.4765 - accuracy: 0.8284 - val_loss: 0.8458 - val_accuracy: 0.6245\n",
            "Epoch 40/50\n",
            "303/303 [==============================] - 1s 3ms/step - loss: 0.4614 - accuracy: 0.8353 - val_loss: 0.8465 - val_accuracy: 0.6336\n",
            "Epoch 41/50\n",
            "303/303 [==============================] - 1s 4ms/step - loss: 0.4467 - accuracy: 0.8421 - val_loss: 0.8503 - val_accuracy: 0.6288\n",
            "Epoch 42/50\n",
            "303/303 [==============================] - 1s 4ms/step - loss: 0.4322 - accuracy: 0.8522 - val_loss: 0.8589 - val_accuracy: 0.6312\n",
            "Epoch 43/50\n",
            "303/303 [==============================] - 1s 4ms/step - loss: 0.4185 - accuracy: 0.8571 - val_loss: 0.8602 - val_accuracy: 0.6264\n",
            "Epoch 44/50\n",
            "303/303 [==============================] - 1s 4ms/step - loss: 0.4049 - accuracy: 0.8638 - val_loss: 0.8682 - val_accuracy: 0.6258\n",
            "Epoch 45/50\n",
            "303/303 [==============================] - 1s 4ms/step - loss: 0.3918 - accuracy: 0.8692 - val_loss: 0.8734 - val_accuracy: 0.6245\n",
            "Epoch 46/50\n",
            "303/303 [==============================] - 1s 4ms/step - loss: 0.3789 - accuracy: 0.8741 - val_loss: 0.8801 - val_accuracy: 0.6276\n",
            "Epoch 47/50\n",
            "303/303 [==============================] - 1s 4ms/step - loss: 0.3665 - accuracy: 0.8824 - val_loss: 0.8842 - val_accuracy: 0.6233\n",
            "Epoch 48/50\n",
            "303/303 [==============================] - 2s 6ms/step - loss: 0.3545 - accuracy: 0.8886 - val_loss: 0.8973 - val_accuracy: 0.6245\n",
            "Epoch 49/50\n",
            "303/303 [==============================] - 1s 4ms/step - loss: 0.3430 - accuracy: 0.8929 - val_loss: 0.9098 - val_accuracy: 0.6288\n",
            "Epoch 50/50\n",
            "303/303 [==============================] - 1s 4ms/step - loss: 0.3315 - accuracy: 0.8974 - val_loss: 0.9163 - val_accuracy: 0.6252\n"
          ]
        }
      ]
    },
    {
      "cell_type": "code",
      "source": [
        "plt.plot(history.history['loss'])\n",
        "plt.plot(history.history['val_loss'])\n",
        "plt.title('Model loss')\n",
        "plt.ylabel('Loss')\n",
        "plt.xlabel('Epoch')\n",
        "plt.legend(['Train', 'Validation'], loc='upper left')\n",
        "plt.show()"
      ],
      "metadata": {
        "colab": {
          "base_uri": "https://localhost:8080/",
          "height": 295
        },
        "id": "OJHj7NfRfJrS",
        "outputId": "c4cc5939-70f7-4e57-d282-f7c47c43f939"
      },
      "execution_count": 16,
      "outputs": [
        {
          "output_type": "display_data",
          "data": {
            "text/plain": [
              "<Figure size 432x288 with 1 Axes>"
            ],
            "image/png": "[encoded data removed]"
          },
          "metadata": {
            "needs_background": "light"
          }
        }
      ]
    },
    {
      "cell_type": "code",
      "source": [
        "plt.plot(history.history['accuracy'])\n",
        "plt.plot(history.history['val_accuracy'])\n",
        "plt.title('Model acc')\n",
        "plt.ylabel('Accuracy')\n",
        "plt.xlabel('Epoch')\n",
        "plt.legend(['Train', 'Validation'], loc='upper left')\n",
        "plt.show()"
      ],
      "metadata": {
        "colab": {
          "base_uri": "https://localhost:8080/",
          "height": 295
        },
        "id": "cUKzQDzCgdVX",
        "outputId": "8a3398cc-6368-4a70-9b2f-f83be585705b"
      },
      "execution_count": 17,
      "outputs": [
        {
          "output_type": "display_data",
          "data": {
            "text/plain": [
              "<Figure size 432x288 with 1 Axes>"
            ],
            "image/png": "[encoded data removed]"
          },
          "metadata": {
            "needs_background": "light"
          }
        }
      ]
    },
    {
      "cell_type": "markdown",
      "source": [
        "Avaliação com os Dados de Teste"
      ],
      "metadata": {
        "id": "QP7yxTEPg1Nv"
      }
    },
    {
      "cell_type": "code",
      "source": [
        "y = model.evaluate(X_test,y_test)"
      ],
      "metadata": {
        "colab": {
          "base_uri": "https://localhost:8080/"
        },
        "id": "yM-hXxVtg4J2",
        "outputId": "167fc263-bcd2-4b0a-b04d-016bc91ec5d6"
      },
      "execution_count": 18,
      "outputs": [
        {
          "output_type": "stream",
          "name": "stdout",
          "text": [
            "111/111 [==============================] - 0s 3ms/step - loss: 0.9051 - accuracy: 0.6414\n"
          ]
        }
      ]
    },
    {
      "cell_type": "code",
      "source": [
        "import numpy as np\n",
        "y_prob = model.predict(X_test)\n",
        "y_prob"
      ],
      "metadata": {
        "colab": {
          "base_uri": "https://localhost:8080/"
        },
        "id": "u42IOHfzlCnM",
        "outputId": "7c33dfa4-3143-4342-ba4d-4f8096ae8a35"
      },
      "execution_count": 19,
      "outputs": [
        {
          "output_type": "execute_result",
          "data": {
            "text/plain": [
              "array([[0.05312405, 0.14426625, 0.8026096 ],\n",
              "       [0.01022062, 0.0093495 , 0.9804299 ],\n",
              "       [0.0613253 , 0.8638762 , 0.07479848],\n",
              "       ...,\n",
              "       [0.11035757, 0.6680324 , 0.22160998],\n",
              "       [0.0621157 , 0.05702661, 0.8808577 ],\n",
              "       [0.09101706, 0.58561796, 0.323365  ]], dtype=float32)"
            ]
          },
          "metadata": {},
          "execution_count": 19
        }
      ]
    },
    {
      "cell_type": "code",
      "source": [
        "y_pred = np.argmax(y_prob,axis=1)\n",
        "y_pred"
      ],
      "metadata": {
        "colab": {
          "base_uri": "https://localhost:8080/"
        },
        "id": "zJDx8GlRlyPz",
        "outputId": "d8c9a10d-5ba2-41e4-e832-1a62c3cb51c1"
      },
      "execution_count": 20,
      "outputs": [
        {
          "output_type": "execute_result",
          "data": {
            "text/plain": [
              "array([2, 2, 1, ..., 1, 2, 1])"
            ]
          },
          "metadata": {},
          "execution_count": 20
        }
      ]
    },
    {
      "cell_type": "code",
      "source": [
        "y_test_int"
      ],
      "metadata": {
        "colab": {
          "base_uri": "https://localhost:8080/"
        },
        "id": "yTsaRqgVllE3",
        "outputId": "a64cdfc6-62ee-4395-9614-a6b8e9520cea"
      },
      "execution_count": 21,
      "outputs": [
        {
          "output_type": "execute_result",
          "data": {
            "text/plain": [
              "0       2\n",
              "1       2\n",
              "2       1\n",
              "3       0\n",
              "4       1\n",
              "       ..\n",
              "3542    0\n",
              "3543    1\n",
              "3544    0\n",
              "3545    2\n",
              "3546    1\n",
              "Length: 3547, dtype: int8"
            ]
          },
          "metadata": {},
          "execution_count": 21
        }
      ]
    },
    {
      "cell_type": "markdown",
      "source": [
        "# Avaliação do Desempenho"
      ],
      "metadata": {
        "id": "2BPN9HbQIEOV"
      }
    },
    {
      "cell_type": "markdown",
      "source": [
        "## Matriz de Confusão"
      ],
      "metadata": {
        "id": "LIra3zw8IKa7"
      }
    },
    {
      "cell_type": "code",
      "source": [
        "def confusion_matrix(y_pred, y_true):\n",
        "    conf = np.zeros((3, 3))\n",
        "\n",
        "    for pred, true in zip(y_pred, y_true):\n",
        "            conf[pred][true]+=1\n",
        "    return conf"
      ],
      "metadata": {
        "id": "Dg4YUjWwKcrW"
      },
      "execution_count": 22,
      "outputs": []
    },
    {
      "cell_type": "code",
      "source": [
        "conf = confusion_matrix(y_pred, y_test_int)\n",
        "conf"
      ],
      "metadata": {
        "colab": {
          "base_uri": "https://localhost:8080/"
        },
        "id": "4Zq2GkGuL3Ti",
        "outputId": "7eb0c889-3b3b-489d-ab27-5e3fae848114"
      },
      "execution_count": 23,
      "outputs": [
        {
          "output_type": "execute_result",
          "data": {
            "text/plain": [
              "array([[ 119.,   23.,   30.],\n",
              "       [ 330., 1233.,  522.],\n",
              "       [ 110.,  257.,  923.]])"
            ]
          },
          "metadata": {},
          "execution_count": 23
        }
      ]
    },
    {
      "cell_type": "markdown",
      "source": [
        "## Medidas"
      ],
      "metadata": {
        "id": "HBOH7ZjdIPtg"
      }
    },
    {
      "cell_type": "markdown",
      "source": [
        "Acurácia:"
      ],
      "metadata": {
        "id": "WApjENeoItKj"
      }
    },
    {
      "cell_type": "code",
      "source": [
        "def accuracy(conf): return conf.trace() / np.sum(conf)"
      ],
      "metadata": {
        "id": "SDWr32E2HtHf"
      },
      "execution_count": 24,
      "outputs": []
    },
    {
      "cell_type": "markdown",
      "source": [
        "Precisão:"
      ],
      "metadata": {
        "id": "zauPPGQ6ISnJ"
      }
    },
    {
      "cell_type": "code",
      "source": [
        "def precision(conf):\n",
        "    return np.array([conf[i][i]/np.sum(conf[:,i]) for i in range(3)])"
      ],
      "metadata": {
        "id": "WWJjSbM2HvVg"
      },
      "execution_count": 25,
      "outputs": []
    },
    {
      "cell_type": "markdown",
      "source": [
        "Revocação:"
      ],
      "metadata": {
        "id": "qAFbjOwbIVa4"
      }
    },
    {
      "cell_type": "code",
      "source": [
        "def recall(conf):\n",
        "    return np.array([conf[i][i]/np.sum(conf[i]) for i in range(3)])"
      ],
      "metadata": {
        "id": "mJNAWw9pHxpi"
      },
      "execution_count": 26,
      "outputs": []
    },
    {
      "cell_type": "markdown",
      "source": [
        "F1-Score:"
      ],
      "metadata": {
        "id": "Rh8JzguWIaBP"
      }
    },
    {
      "cell_type": "code",
      "source": [
        "def f1_score(conf):return  2/(1/recall(conf) + 1/precision(conf))"
      ],
      "metadata": {
        "id": "hT-PxiqSHz6z"
      },
      "execution_count": 27,
      "outputs": []
    },
    {
      "cell_type": "markdown",
      "source": [
        "## Classification Report"
      ],
      "metadata": {
        "id": "Z-pHa-B5Ic2y"
      }
    },
    {
      "cell_type": "code",
      "source": [
        "def my_classification_report(y_pred, y_true):\n",
        "    conf = confusion_matrix(y_pred, y_test_int)\n",
        "    acc =  accuracy(conf).round(2)\n",
        "    prec = precision(conf).round(2)\n",
        "    rec =  recall(conf).round(2)\n",
        "    f1 =  f1_score(conf).round(2)\n",
        "    counts  = [int(sum(row)) for row in conf]\n",
        "    print(f\"{' '*18}Precisão Revocação F1-Score Suporte\\n\")\n",
        "    for i, p, r, f, c in zip (range(3), prec, rec,f1, counts):\n",
        "        print(f\"{str(i).rjust(15)}{str(p).rjust(11)}{str(r).rjust(10)}{str(f).rjust(9)}{str(c).rjust(8)}\")\n",
        "    print(\"\\nmédia ponderada\",\n",
        "          str(np.average(prec, weights=counts).round(2)).rjust(10),\n",
        "          str(np.average(rec, weights=counts).round(2)).rjust(9),\n",
        "          str(np.average(f1, weights=counts).round(2)).rjust(8),\n",
        "          str(len(y_pred)).rjust(7))"
      ],
      "metadata": {
        "id": "3U04TwXYQlk5"
      },
      "execution_count": 28,
      "outputs": []
    },
    {
      "cell_type": "code",
      "source": [
        "my_classification_report(y_pred, y_test_int)"
      ],
      "metadata": {
        "colab": {
          "base_uri": "https://localhost:8080/"
        },
        "id": "fHgXw_EyRFQR",
        "outputId": "1931f4be-6d17-4e52-ecd1-e6ca898316ad"
      },
      "execution_count": 29,
      "outputs": [
        {
          "output_type": "stream",
          "name": "stdout",
          "text": [
            "                  Precisão Revocação F1-Score Suporte\n",
            "\n",
            "              0       0.21      0.69     0.33     172\n",
            "              1       0.81      0.59     0.69    2085\n",
            "              2       0.63      0.72     0.67    1290\n",
            "\n",
            "média ponderada       0.72      0.64     0.67    3547\n"
          ]
        }
      ]
    }
  ]
}