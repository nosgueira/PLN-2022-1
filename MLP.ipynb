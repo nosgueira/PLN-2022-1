{
  "nbformat": 4,
  "nbformat_minor": 0,
  "metadata": {
    "colab": {
      "name": "MLP.ipynb",
      "provenance": [],
      "authorship_tag": "ABX9TyONzb4YuzFKtLDUi7KwvV/1",
      "include_colab_link": true
    },
    "kernelspec": {
      "name": "python3",
      "display_name": "Python 3"
    },
    "language_info": {
      "name": "python"
    }
  },
  "cells": [
    {
      "cell_type": "markdown",
      "metadata": {
        "id": "view-in-github",
        "colab_type": "text"
      },
      "source": [
        "<a href=\"https://colab.research.google.com/github/nosgueira/PLN-2022-1/blob/main/MLP.ipynb\" target=\"_parent\"><img src=\"https://colab.research.google.com/assets/colab-badge.svg\" alt=\"Open In Colab\"/></a>"
      ]
    },
    {
      "cell_type": "markdown",
      "source": [
        "# Multilayer Perceptron\n",
        "\n",
        "- Aluno: Gabriel da Silva Corvino Nogueira (18/0113330)"
      ],
      "metadata": {
        "id": "VKA7aT52AQL5"
      }
    },
    {
      "cell_type": "code",
      "execution_count": 1,
      "metadata": {
        "id": "zD0beShh7msf"
      },
      "outputs": [],
      "source": [
        "import numpy as np"
      ]
    },
    {
      "cell_type": "code",
      "source": [
        "def sigmoid(x): return  1/(1 + np.exp(-x))"
      ],
      "metadata": {
        "id": "u_gjLw5t7vcd"
      },
      "execution_count": 2,
      "outputs": []
    },
    {
      "cell_type": "code",
      "source": [
        "class neuron:\n",
        "    def __init__(self):\n",
        "        self.w = np.random.randn(2)\n",
        "    def out(self, x):\n",
        "        return sigmoid(np.dot(x, self.w))\n",
        "    def update_weights(self, lr, grad, out):\n",
        "        self.w = [x+(lr*grad*out) for x in self.w]"
      ],
      "metadata": {
        "id": "qQnUNgxp7_mk"
      },
      "execution_count": 21,
      "outputs": []
    },
    {
      "cell_type": "code",
      "source": [
        "X =[[0, 0], [0,1], [1,0], [1,1]]\n",
        "labels = [0, 1, 1, 0]"
      ],
      "metadata": {
        "id": "BAINZio_9C7a"
      },
      "execution_count": 4,
      "outputs": []
    },
    {
      "cell_type": "code",
      "source": [
        "epochs = 30\n",
        "lr= 0.1\n",
        "\n",
        "mid_layer = [neuron(), neuron()]\n",
        "out_layer = [neuron()]\n",
        "for e in range(epochs):\n",
        "    print(f'Epoch {e}:')\n",
        "    for i, _ in enumerate(X):\n",
        "\n",
        "        outs_mid = [n.out(X[i]) for n in mid_layer]\n",
        "        outs = [n.out(outs_mid) for n in out_layer]\n",
        "\n",
        "        print(f'{X[i]}-> esperado:{labels[i]}, obtido:{outs[0]}')\n",
        "\n",
        "    \n",
        "        delta_out = [out*(out-1)*(labels[i] - out) for out in outs]\n",
        "        delta_mid = [outs_mid[i]*(1-outs_mid[i])*(out_layer[0].w[i])*delta for i in range(len(mid_layer)) for delta in delta_out]\n",
        "        for i,n in enumerate(mid_layer):n.update_weights(lr, delta_mid[i], outs_mid[i])\n",
        "        for i,n in enumerate(out_layer):n.update_weights(lr, delta_out[i], outs[i])\n",
        "\n"
      ],
      "metadata": {
        "id": "tzGA-geqJzXa",
        "colab": {
          "base_uri": "https://localhost:8080/"
        },
        "outputId": "a58b7b6b-6457-4f0b-8d16-414ec91e78d2"
      },
      "execution_count": 34,
      "outputs": [
        {
          "output_type": "stream",
          "name": "stdout",
          "text": [
            "Epoch 0:\n",
            "[0, 0]-> esperado:0, obtido:0.395682993251465\n",
            "[0, 1]-> esperado:1, obtido:0.40089821478984283\n",
            "[1, 0]-> esperado:1, obtido:0.4096698798131594\n",
            "[1, 1]-> esperado:0, obtido:0.41245393876814956\n",
            "Epoch 1:\n",
            "[0, 0]-> esperado:0, obtido:0.3947864267602065\n",
            "[0, 1]-> esperado:1, obtido:0.3999117626657244\n",
            "[1, 0]-> esperado:1, obtido:0.4089738514324503\n",
            "[1, 1]-> esperado:0, obtido:0.4116795422346436\n",
            "Epoch 2:\n",
            "[0, 0]-> esperado:0, obtido:0.3938852891216384\n",
            "[0, 1]-> esperado:1, obtido:0.39891947079507706\n",
            "[1, 0]-> esperado:1, obtido:0.4082732355658138\n",
            "[1, 1]-> esperado:0, obtido:0.4108992534601732\n",
            "Epoch 3:\n",
            "[0, 0]-> esperado:0, obtido:0.3929796120683394\n",
            "[0, 1]-> esperado:1, obtido:0.3979213541310084\n",
            "[1, 0]-> esperado:1, obtido:0.40756802906046563\n",
            "[1, 1]-> esperado:0, obtido:0.4101130479675696\n",
            "Epoch 4:\n",
            "[0, 0]-> esperado:0, obtido:0.3920694284368449\n",
            "[0, 1]-> esperado:1, obtido:0.39691742860677304\n",
            "[1, 0]-> esperado:1, obtido:0.4068582292243233\n",
            "[1, 1]-> esperado:0, obtido:0.4093209014983445\n",
            "Epoch 5:\n",
            "[0, 0]-> esperado:0, obtido:0.3911547721712163\n",
            "[0, 1]-> esperado:1, obtido:0.3959077111428285\n",
            "[1, 0]-> esperado:1, obtido:0.4061438338305145\n",
            "[1, 1]-> esperado:0, obtido:0.40852279001984876\n",
            "Epoch 6:\n",
            "[0, 0]-> esperado:0, obtido:0.3902356783261272\n",
            "[0, 1]-> esperado:1, obtido:0.39489221965359433\n",
            "[1, 0]-> esperado:1, obtido:0.4054248411217909\n",
            "[1, 1]-> esperado:0, obtido:0.40771868973261244\n",
            "Epoch 7:\n",
            "[0, 0]-> esperado:0, obtido:0.389312183069455\n",
            "[0, 1]-> esperado:1, obtido:0.39387097305390484\n",
            "[1, 0]-> esperado:1, obtido:0.40470124981484656\n",
            "[1, 1]-> esperado:0, obtido:0.406908577077874\n",
            "Epoch 8:\n",
            "[0, 0]-> esperado:0, obtido:0.3883843236843699\n",
            "[0, 1]-> esperado:1, obtido:0.3928439912651507\n",
            "[1, 0]-> esperado:1, obtido:0.4039730591045383\n",
            "[1, 1]-> esperado:0, obtido:0.40609242874530493\n",
            "Epoch 9:\n",
            "[0, 0]-> esperado:0, obtido:0.3874521385709096\n",
            "[0, 1]-> esperado:1, obtido:0.3918112952210996\n",
            "[1, 0]-> esperado:1, obtido:0.40324026866800594\n",
            "[1, 1]-> esperado:0, obtido:0.4052702216809368\n",
            "Epoch 10:\n",
            "[0, 0]-> esperado:0, obtido:0.38651566724703174\n",
            "[0, 1]-> esperado:1, obtido:0.3907729068733913\n",
            "[1, 0]-> esperado:1, obtido:0.4025028786686919\n",
            "[1, 1]-> esperado:0, obtido:0.40444193309529863\n",
            "Epoch 11:\n",
            "[0, 0]-> esperado:0, obtido:0.3855749503491337\n",
            "[0, 1]-> esperado:1, obtido:0.38972884919669826\n",
            "[1, 0]-> esperado:1, obtido:0.40176088976025787\n",
            "[1, 1]-> esperado:0, obtido:0.4036075404717715\n",
            "Epoch 12:\n",
            "[0, 0]-> esperado:0, obtido:0.3846300296320323\n",
            "[0, 1]-> esperado:1, obtido:0.3886791461935478\n",
            "[1, 0]-> esperado:1, obtido:0.4010143030903977\n",
            "[1, 1]-> esperado:0, obtido:0.4027670215751691\n",
            "Epoch 13:\n",
            "[0, 0]-> esperado:0, obtido:0.38368094796839397\n",
            "[0, 1]-> esperado:1, obtido:0.3876238228987968\n",
            "[1, 0]-> esperado:1, obtido:0.4002631203045445\n",
            "[1, 1]-> esperado:0, obtido:0.40192035446054886\n",
            "Epoch 14:\n",
            "[0, 0]-> esperado:0, obtido:0.3827277493476084\n",
            "[0, 1]-> esperado:1, obtido:0.38656290538375443\n",
            "[1, 0]-> esperado:1, obtido:0.3995073435494721\n",
            "[1, 1]-> esperado:0, obtido:0.4010675174822665\n",
            "Epoch 15:\n",
            "[0, 0]-> esperado:0, obtido:0.3817704788740973\n",
            "[0, 1]-> esperado:1, obtido:0.38549642075994744\n",
            "[1, 0]-> esperado:1, obtido:0.3987469754767887\n",
            "[1, 1]-> esperado:0, obtido:0.40020848930327735\n",
            "Epoch 16:\n",
            "[0, 0]-> esperado:0, obtido:0.3808091827650515\n",
            "[0, 1]-> esperado:1, obtido:0.3844243971825212\n",
            "[1, 0]-> esperado:1, obtido:0.3979820192463231\n",
            "[1, 1]-> esperado:0, obtido:0.3993432489046952\n",
            "Epoch 17:\n",
            "[0, 0]-> esperado:0, obtido:0.379843908347591\n",
            "[0, 1]-> esperado:1, obtido:0.3833468638532727\n",
            "[1, 0]-> esperado:1, obtido:0.39721247852940056\n",
            "[1, 1]-> esperado:0, obtido:0.39847177559561603\n",
            "Epoch 18:\n",
            "[0, 0]-> esperado:0, obtido:0.37887470405533974\n",
            "[0, 1]-> esperado:1, obtido:0.3822638510233086\n",
            "[1, 0]-> esperado:1, obtido:0.39643835751201145\n",
            "[1, 1]-> esperado:0, obtido:0.39759404902321505\n",
            "Epoch 19:\n",
            "[0, 0]-> esperado:0, obtido:0.3779016194244111\n",
            "[0, 1]-> esperado:1, obtido:0.38117538999532613\n",
            "[1, 0]-> esperado:1, obtido:0.395659660897868\n",
            "[1, 1]-> esperado:0, obtido:0.39671004918312613\n",
            "Epoch 20:\n",
            "[0, 0]-> esperado:0, obtido:0.37692470508879833\n",
            "[0, 1]-> esperado:1, obtido:0.3800815131255102\n",
            "[1, 0]-> esperado:1, obtido:0.3948763939113527\n",
            "[1, 1]-> esperado:0, obtido:0.3958197564301109\n",
            "Epoch 21:\n",
            "[0, 0]-> esperado:0, obtido:0.37594401277516615\n",
            "[0, 1]-> esperado:1, obtido:0.37898225382504375\n",
            "[1, 0]-> esperado:1, obtido:0.3940885623003548\n",
            "[1, 1]-> esperado:0, obtido:0.39492315148902674\n",
            "Epoch 22:\n",
            "[0, 0]-> esperado:0, obtido:0.3749595952970382\n",
            "[0, 1]-> esperado:1, obtido:0.3778776465612278\n",
            "[1, 0]-> esperado:1, obtido:0.39329617233899844\n",
            "[1, 1]-> esperado:0, obtido:0.3940202154661037\n",
            "Epoch 23:\n",
            "[0, 0]-> esperado:0, obtido:0.3739715065483781\n",
            "[0, 1]-> esperado:1, obtido:0.3767677268582069\n",
            "[1, 0]-> esperado:1, obtido:0.39249923083025967\n",
            "[1, 1]-> esperado:0, obtido:0.3931109298605358\n",
            "Epoch 24:\n",
            "[0, 0]-> esperado:0, obtido:0.37297980149656096\n",
            "[0, 1]-> esperado:1, obtido:0.375652531297298\n",
            "[1, 0]-> esperado:1, obtido:0.39169774510847355\n",
            "[1, 1]-> esperado:0, obtido:0.392195276576399\n",
            "Epoch 25:\n",
            "[0, 0]-> esperado:0, obtido:0.37198453617473276\n",
            "[0, 1]-> esperado:1, obtido:0.3745320975169187\n",
            "[1, 0]-> esperado:1, obtido:0.390891723041733\n",
            "[1, 1]-> esperado:0, obtido:0.39127323793490226\n",
            "Epoch 26:\n",
            "[0, 0]-> esperado:0, obtido:0.3709857676735559\n",
            "[0, 1]-> esperado:1, obtido:0.37340646421211343\n",
            "[1, 0]-> esperado:1, obtido:0.39008117303417844\n",
            "[1, 1]-> esperado:0, obtido:0.390344796686981\n",
            "Epoch 27:\n",
            "[0, 0]-> esperado:0, obtido:0.36998355413234063\n",
            "[0, 1]-> esperado:1, obtido:0.37227567113367516\n",
            "[1, 0]-> esperado:1, obtido:0.3892661040281796\n",
            "[1, 1]-> esperado:0, obtido:0.38940993602624246\n",
            "Epoch 28:\n",
            "[0, 0]-> esperado:0, obtido:0.3689779547295608\n",
            "[0, 1]-> esperado:1, obtido:0.37113975908686153\n",
            "[1, 0]-> esperado:1, obtido:0.3884465255064108\n",
            "[1, 1]-> esperado:0, obtido:0.3884686396022706\n",
            "Epoch 29:\n",
            "[0, 0]-> esperado:0, obtido:0.36796902967275535\n",
            "[0, 1]-> esperado:1, obtido:0.3699987699297021\n",
            "[1, 0]-> esperado:1, obtido:0.38762244749382\n",
            "[1, 1]-> esperado:0, obtido:0.3875208915342998\n"
          ]
        }
      ]
    }
  ]
}