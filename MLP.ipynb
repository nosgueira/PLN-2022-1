{
  "nbformat": 4,
  "nbformat_minor": 0,
  "metadata": {
    "colab": {
      "name": "MLP.ipynb",
      "provenance": [],
      "authorship_tag": "ABX9TyOzD2svTdsLr0HCZorNT9BK",
      "include_colab_link": true
    },
    "kernelspec": {
      "name": "python3",
      "display_name": "Python 3"
    },
    "language_info": {
      "name": "python"
    }
  },
  "cells": [
    {
      "cell_type": "markdown",
      "metadata": {
        "id": "view-in-github",
        "colab_type": "text"
      },
      "source": [
        "<a href=\"https://colab.research.google.com/github/nosgueira/PLN-2022-1/blob/main/MLP.ipynb\" target=\"_parent\"><img src=\"https://colab.research.google.com/assets/colab-badge.svg\" alt=\"Open In Colab\"/></a>"
      ]
    },
    {
      "cell_type": "markdown",
      "source": [
        "# Multilayer Perceptron\n",
        "\n",
        "- Aluno: Gabriel da Silva Corvino Nogueira (18/0113330)"
      ],
      "metadata": {
        "id": "VKA7aT52AQL5"
      }
    },
    {
      "cell_type": "code",
      "execution_count": 9,
      "metadata": {
        "id": "zD0beShh7msf"
      },
      "outputs": [],
      "source": [
        "import numpy as np\n",
        "\n",
        "np.random.seed(0)\n"
      ]
    },
    {
      "cell_type": "code",
      "source": [
        "def sigmoid(x): return  1/(1 + np.exp(-x))"
      ],
      "metadata": {
        "id": "u_gjLw5t7vcd"
      },
      "execution_count": 2,
      "outputs": []
    },
    {
      "cell_type": "code",
      "source": [
        "class neuron:\n",
        "    def __init__(self):\n",
        "        self.w = np.random.randn(2)\n",
        "    def out(self, x):\n",
        "        return sigmoid(np.dot(x, self.w))\n",
        "    def update_weights(self, lr, grad, inputs):\n",
        "        self.w += lr*grad*inputs  "
      ],
      "metadata": {
        "id": "qQnUNgxp7_mk"
      },
      "execution_count": 3,
      "outputs": []
    },
    {
      "cell_type": "code",
      "source": [
        "X =np.array([[0, 0], [0,1], [1,0], [1,1]])\n",
        "labels = np.array([0, 1, 1, 0])"
      ],
      "metadata": {
        "id": "BAINZio_9C7a"
      },
      "execution_count": 5,
      "outputs": []
    },
    {
      "cell_type": "code",
      "source": [
        "epochs = 100000\n",
        "lr= 1\n",
        "\n",
        "mid_layer = [neuron(), neuron()]\n",
        "out_layer = neuron()\n",
        "for e in range(epochs):\n",
        "    outs = []\n",
        "    for i, _ in enumerate(X):\n",
        "\n",
        "        outs_mid = np.array([n.out(X[i]) for n in mid_layer])\n",
        "        out = out_layer.out(outs_mid) \n",
        "        outs.append(out)\n",
        "\n",
        "\n",
        "        delta_out = (labels[i]-out)*out*(1-out)\n",
        "        delta_mid1 =outs_mid[0]*(1-outs_mid[0])*(delta_out*out_layer.w[0])\n",
        "        delta_mid2 =outs_mid[1]*(1-outs_mid[1])*(delta_out*out_layer.w[1])\n",
        "\n",
        "        mid_layer[0].update_weights(lr, delta_mid1, X[i] )\n",
        "        mid_layer[1].update_weights(lr, delta_mid2, X[i] )\n",
        "        out_layer.update_weights(lr, delta_out, outs_mid )\n",
        "\n",
        "for x, label, out in zip(X, labels, outs):\n",
        "    print(f'{x}: {label} - {1 if out > 0.5 else 0}')\n",
        "\n"
      ],
      "metadata": {
        "id": "tzGA-geqJzXa",
        "colab": {
          "base_uri": "https://localhost:8080/"
        },
        "outputId": "5b753e7a-9bf5-4eb8-dd1d-5596e44e8d3f"
      },
      "execution_count": 10,
      "outputs": [
        {
          "output_type": "stream",
          "name": "stdout",
          "text": [
            "[0 0]: 0 - 0\n",
            "[0 1]: 1 - 1\n",
            "[1 0]: 1 - 1\n",
            "[1 1]: 0 - 0\n"
          ]
        }
      ]
    },
    {
      "cell_type": "code",
      "source": [
        "print(outs)"
      ],
      "metadata": {
        "colab": {
          "base_uri": "https://localhost:8080/"
        },
        "id": "488fYkq8eava",
        "outputId": "60ad3fbb-d3ba-4d12-ec0e-cf1a27cc9195"
      },
      "execution_count": 12,
      "outputs": [
        {
          "output_type": "stream",
          "name": "stdout",
          "text": [
            "[0.00652576723880327, 0.9803833217751476, 0.9803829974997857, 0.0264095588528827]\n"
          ]
        }
      ]
    }
  ]
}