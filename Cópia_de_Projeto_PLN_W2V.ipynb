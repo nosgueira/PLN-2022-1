{
  "nbformat": 4,
  "nbformat_minor": 0,
  "metadata": {
    "colab": {
      "provenance": [],
      "collapsed_sections": [],
      "authorship_tag": "ABX9TyPARevGrhDqrqQ0P6/wNp7s",
      "include_colab_link": true
    },
    "kernelspec": {
      "name": "python3",
      "display_name": "Python 3"
    },
    "language_info": {
      "name": "python"
    }
  },
  "cells": [
    {
      "cell_type": "markdown",
      "metadata": {
        "id": "view-in-github",
        "colab_type": "text"
      },
      "source": [
        "<a href=\"https://colab.research.google.com/github/nosgueira/PLN-2022-1/blob/main/C%C3%B3pia_de_Projeto_PLN_W2V.ipynb\" target=\"_parent\"><img src=\"https://colab.research.google.com/assets/colab-badge.svg\" alt=\"Open In Colab\"/></a>"
      ]
    },
    {
      "cell_type": "markdown",
      "source": [
        "## Classification Using Word2Vec "
      ],
      "metadata": {
        "id": "nAagbBE4eI2q"
      }
    },
    {
      "cell_type": "code",
      "source": [
        "!pip install -qU gensim"
      ],
      "metadata": {
        "colab": {
          "base_uri": "https://localhost:8080/"
        },
        "id": "bS8mHtbKAG1O",
        "outputId": "368960e3-6a31-4371-a16d-f3f584196f65"
      },
      "execution_count": null,
      "outputs": [
        {
          "output_type": "stream",
          "name": "stdout",
          "text": [
            "\u001b[K     |████████████████████████████████| 24.1 MB 58.5 MB/s \n",
            "\u001b[?25h"
          ]
        }
      ]
    },
    {
      "cell_type": "markdown",
      "source": [
        "## Imports"
      ],
      "metadata": {
        "id": "YxAZA0a4eO3l"
      }
    },
    {
      "cell_type": "code",
      "execution_count": null,
      "metadata": {
        "colab": {
          "base_uri": "https://localhost:8080/"
        },
        "id": "-zPxIrqW1eAL",
        "outputId": "e25e76fb-bb50-44df-fe9d-db0c2bd22cec"
      },
      "outputs": [
        {
          "output_type": "stream",
          "name": "stderr",
          "text": [
            "[nltk_data] Downloading package punkt to /root/nltk_data...\n",
            "[nltk_data]   Unzipping tokenizers/punkt.zip.\n",
            "[nltk_data] Downloading package stopwords to /root/nltk_data...\n",
            "[nltk_data]   Unzipping corpora/stopwords.zip.\n"
          ]
        }
      ],
      "source": [
        "from nltk.corpus import stopwords\n",
        "from nltk.stem import PorterStemmer\n",
        "from sklearn.linear_model import LogisticRegression\n",
        "from sklearn.model_selection import RandomizedSearchCV\n",
        "from sklearn.metrics import classification_report\n",
        "from sklearn.model_selection import PredefinedSplit\n",
        "from sklearn.model_selection import train_test_split\n",
        "from sklearn.metrics import ConfusionMatrixDisplay\n",
        "from sklearn.svm import SVC\n",
        "from sklearn.naive_bayes import GaussianNB\n",
        "import matplotlib.pyplot as plt\n",
        "import seaborn as sns\n",
        "import gensim\n",
        "\n",
        "\n",
        "from scipy.sparse import hstack\n",
        "from scipy.sparse import vstack\n",
        "from scipy.stats import loguniform\n",
        "import nltk\n",
        "import pandas as pd\n",
        "import numpy as np\n",
        "\n",
        "import re\n",
        "\n",
        "nltk.download('punkt')\n",
        "nltk.download('stopwords')\n",
        "\n",
        "# Defining stop words\n",
        "stop_words = set(stopwords.words('english'))\n"
      ]
    },
    {
      "cell_type": "markdown",
      "source": [
        "##  Data processing"
      ],
      "metadata": {
        "id": "J32RcdKNlJBM"
      }
    },
    {
      "cell_type": "markdown",
      "source": [
        "### Loading data"
      ],
      "metadata": {
        "id": "vxs-jfbuFy7r"
      }
    },
    {
      "cell_type": "code",
      "source": [
        "corpus = pd.read_csv('https://query.data.world/s/aikveq4giwygvkn4wyirtwiqwmyc7q')"
      ],
      "metadata": {
        "id": "3_d8zWgv1mHG"
      },
      "execution_count": null,
      "outputs": []
    },
    {
      "cell_type": "code",
      "source": [
        "corpus"
      ],
      "metadata": {
        "colab": {
          "base_uri": "https://localhost:8080/",
          "height": 939
        },
        "id": "2m_Nz9Ae1tR-",
        "outputId": "0113f597-1e4b-44ca-89e3-a888acee6fb8"
      },
      "execution_count": null,
      "outputs": [
        {
          "output_type": "execute_result",
          "data": {
            "text/plain": [
              "        Unnamed: 0  tweet_category            user         location  \\\n",
              "0                0               1        dflenick        Davie, FL   \n",
              "1                1               1    RestartMIGA6              NaN   \n",
              "2                2               1        RayeannJ  California, USA   \n",
              "3                3               1  peggydumptrump    United States   \n",
              "4                4               1   LochnerWalter              NaN   \n",
              "...            ...             ...             ...              ...   \n",
              "209872      104932               0     CrypticIcon              NaN   \n",
              "209873      104933               0  SwordofTruth10              NaN   \n",
              "209874      104934               0       thegre8_1              USA   \n",
              "209875      104935               0      billslater      Chicago, IL   \n",
              "209876      104936               0  bolding_daniel   Greenville, SC   \n",
              "\n",
              "                       date                                               text  \n",
              "0       2020-02-11 20:03:56  b'RT @TribulationThe: Deep State Dems continue...  \n",
              "1       2020-02-11 20:03:54  b'RT @restartleader: The Republicans of Americ...  \n",
              "2       2020-02-11 20:03:54  b'RT @DeeTwoCents: This is the Republican\\xe2\\...  \n",
              "3       2020-02-11 20:03:53  b\"RT @mog7546: \\xe2\\x80\\x9cSOFT ON CRIME\\xe2\\x...  \n",
              "4       2020-02-11 20:03:52  b'RT @AndyOstroy: @realDonaldTrump YOU\\xe2\\x80...  \n",
              "...                     ...                                                ...  \n",
              "209872  2020-03-07 04:51:48  RT @Jim_Jordan: The Comey FBI lied to the FISA...  \n",
              "209873  2020-03-07 08:30:30  RT @DiamondandSilk: Ex-Treasury Employee Plead...  \n",
              "209874  2020-03-07 04:27:53  RT @DailyMail: US hospitals are preparing for ...  \n",
              "209875  2020-03-07 04:55:39  RT @RealJamesWoods: MY NAME IS BILL W.  I like...  \n",
              "209876  2020-03-07 06:48:22            @XesLana1 @Scholar_Atheist You said it!  \n",
              "\n",
              "[209877 rows x 6 columns]"
            ],
            "text/html": [
              "\n",
              "  <div id=\"df-bd13a86e-4047-4816-a4d4-6787ca9e40ec\">\n",
              "    <div class=\"colab-df-container\">\n",
              "      <div>\n",
              "<style scoped>\n",
              "    .dataframe tbody tr th:only-of-type {\n",
              "        vertical-align: middle;\n",
              "    }\n",
              "\n",
              "    .dataframe tbody tr th {\n",
              "        vertical-align: top;\n",
              "    }\n",
              "\n",
              "    .dataframe thead th {\n",
              "        text-align: right;\n",
              "    }\n",
              "</style>\n",
              "<table border=\"1\" class=\"dataframe\">\n",
              "  <thead>\n",
              "    <tr style=\"text-align: right;\">\n",
              "      <th></th>\n",
              "      <th>Unnamed: 0</th>\n",
              "      <th>tweet_category</th>\n",
              "      <th>user</th>\n",
              "      <th>location</th>\n",
              "      <th>date</th>\n",
              "      <th>text</th>\n",
              "    </tr>\n",
              "  </thead>\n",
              "  <tbody>\n",
              "    <tr>\n",
              "      <th>0</th>\n",
              "      <td>0</td>\n",
              "      <td>1</td>\n",
              "      <td>dflenick</td>\n",
              "      <td>Davie, FL</td>\n",
              "      <td>2020-02-11 20:03:56</td>\n",
              "      <td>b'RT @TribulationThe: Deep State Dems continue...</td>\n",
              "    </tr>\n",
              "    <tr>\n",
              "      <th>1</th>\n",
              "      <td>1</td>\n",
              "      <td>1</td>\n",
              "      <td>RestartMIGA6</td>\n",
              "      <td>NaN</td>\n",
              "      <td>2020-02-11 20:03:54</td>\n",
              "      <td>b'RT @restartleader: The Republicans of Americ...</td>\n",
              "    </tr>\n",
              "    <tr>\n",
              "      <th>2</th>\n",
              "      <td>2</td>\n",
              "      <td>1</td>\n",
              "      <td>RayeannJ</td>\n",
              "      <td>California, USA</td>\n",
              "      <td>2020-02-11 20:03:54</td>\n",
              "      <td>b'RT @DeeTwoCents: This is the Republican\\xe2\\...</td>\n",
              "    </tr>\n",
              "    <tr>\n",
              "      <th>3</th>\n",
              "      <td>3</td>\n",
              "      <td>1</td>\n",
              "      <td>peggydumptrump</td>\n",
              "      <td>United States</td>\n",
              "      <td>2020-02-11 20:03:53</td>\n",
              "      <td>b\"RT @mog7546: \\xe2\\x80\\x9cSOFT ON CRIME\\xe2\\x...</td>\n",
              "    </tr>\n",
              "    <tr>\n",
              "      <th>4</th>\n",
              "      <td>4</td>\n",
              "      <td>1</td>\n",
              "      <td>LochnerWalter</td>\n",
              "      <td>NaN</td>\n",
              "      <td>2020-02-11 20:03:52</td>\n",
              "      <td>b'RT @AndyOstroy: @realDonaldTrump YOU\\xe2\\x80...</td>\n",
              "    </tr>\n",
              "    <tr>\n",
              "      <th>...</th>\n",
              "      <td>...</td>\n",
              "      <td>...</td>\n",
              "      <td>...</td>\n",
              "      <td>...</td>\n",
              "      <td>...</td>\n",
              "      <td>...</td>\n",
              "    </tr>\n",
              "    <tr>\n",
              "      <th>209872</th>\n",
              "      <td>104932</td>\n",
              "      <td>0</td>\n",
              "      <td>CrypticIcon</td>\n",
              "      <td>NaN</td>\n",
              "      <td>2020-03-07 04:51:48</td>\n",
              "      <td>RT @Jim_Jordan: The Comey FBI lied to the FISA...</td>\n",
              "    </tr>\n",
              "    <tr>\n",
              "      <th>209873</th>\n",
              "      <td>104933</td>\n",
              "      <td>0</td>\n",
              "      <td>SwordofTruth10</td>\n",
              "      <td>NaN</td>\n",
              "      <td>2020-03-07 08:30:30</td>\n",
              "      <td>RT @DiamondandSilk: Ex-Treasury Employee Plead...</td>\n",
              "    </tr>\n",
              "    <tr>\n",
              "      <th>209874</th>\n",
              "      <td>104934</td>\n",
              "      <td>0</td>\n",
              "      <td>thegre8_1</td>\n",
              "      <td>USA</td>\n",
              "      <td>2020-03-07 04:27:53</td>\n",
              "      <td>RT @DailyMail: US hospitals are preparing for ...</td>\n",
              "    </tr>\n",
              "    <tr>\n",
              "      <th>209875</th>\n",
              "      <td>104935</td>\n",
              "      <td>0</td>\n",
              "      <td>billslater</td>\n",
              "      <td>Chicago, IL</td>\n",
              "      <td>2020-03-07 04:55:39</td>\n",
              "      <td>RT @RealJamesWoods: MY NAME IS BILL W.  I like...</td>\n",
              "    </tr>\n",
              "    <tr>\n",
              "      <th>209876</th>\n",
              "      <td>104936</td>\n",
              "      <td>0</td>\n",
              "      <td>bolding_daniel</td>\n",
              "      <td>Greenville, SC</td>\n",
              "      <td>2020-03-07 06:48:22</td>\n",
              "      <td>@XesLana1 @Scholar_Atheist You said it!</td>\n",
              "    </tr>\n",
              "  </tbody>\n",
              "</table>\n",
              "<p>209877 rows × 6 columns</p>\n",
              "</div>\n",
              "      <button class=\"colab-df-convert\" onclick=\"convertToInteractive('df-bd13a86e-4047-4816-a4d4-6787ca9e40ec')\"\n",
              "              title=\"Convert this dataframe to an interactive table.\"\n",
              "              style=\"display:none;\">\n",
              "        \n",
              "  <svg xmlns=\"http://www.w3.org/2000/svg\" height=\"24px\"viewBox=\"0 0 24 24\"\n",
              "       width=\"24px\">\n",
              "    <path d=\"M0 0h24v24H0V0z\" fill=\"none\"/>\n",
              "    <path d=\"M18.56 5.44l.94 2.06.94-2.06 2.06-.94-2.06-.94-.94-2.06-.94 2.06-2.06.94zm-11 1L8.5 8.5l.94-2.06 2.06-.94-2.06-.94L8.5 2.5l-.94 2.06-2.06.94zm10 10l.94 2.06.94-2.06 2.06-.94-2.06-.94-.94-2.06-.94 2.06-2.06.94z\"/><path d=\"M17.41 7.96l-1.37-1.37c-.4-.4-.92-.59-1.43-.59-.52 0-1.04.2-1.43.59L10.3 9.45l-7.72 7.72c-.78.78-.78 2.05 0 2.83L4 21.41c.39.39.9.59 1.41.59.51 0 1.02-.2 1.41-.59l7.78-7.78 2.81-2.81c.8-.78.8-2.07 0-2.86zM5.41 20L4 18.59l7.72-7.72 1.47 1.35L5.41 20z\"/>\n",
              "  </svg>\n",
              "      </button>\n",
              "      \n",
              "  <style>\n",
              "    .colab-df-container {\n",
              "      display:flex;\n",
              "      flex-wrap:wrap;\n",
              "      gap: 12px;\n",
              "    }\n",
              "\n",
              "    .colab-df-convert {\n",
              "      background-color: #E8F0FE;\n",
              "      border: none;\n",
              "      border-radius: 50%;\n",
              "      cursor: pointer;\n",
              "      display: none;\n",
              "      fill: #1967D2;\n",
              "      height: 32px;\n",
              "      padding: 0 0 0 0;\n",
              "      width: 32px;\n",
              "    }\n",
              "\n",
              "    .colab-df-convert:hover {\n",
              "      background-color: #E2EBFA;\n",
              "      box-shadow: 0px 1px 2px rgba(60, 64, 67, 0.3), 0px 1px 3px 1px rgba(60, 64, 67, 0.15);\n",
              "      fill: #174EA6;\n",
              "    }\n",
              "\n",
              "    [theme=dark] .colab-df-convert {\n",
              "      background-color: #3B4455;\n",
              "      fill: #D2E3FC;\n",
              "    }\n",
              "\n",
              "    [theme=dark] .colab-df-convert:hover {\n",
              "      background-color: #434B5C;\n",
              "      box-shadow: 0px 1px 3px 1px rgba(0, 0, 0, 0.15);\n",
              "      filter: drop-shadow(0px 1px 2px rgba(0, 0, 0, 0.3));\n",
              "      fill: #FFFFFF;\n",
              "    }\n",
              "  </style>\n",
              "\n",
              "      <script>\n",
              "        const buttonEl =\n",
              "          document.querySelector('#df-bd13a86e-4047-4816-a4d4-6787ca9e40ec button.colab-df-convert');\n",
              "        buttonEl.style.display =\n",
              "          google.colab.kernel.accessAllowed ? 'block' : 'none';\n",
              "\n",
              "        async function convertToInteractive(key) {\n",
              "          const element = document.querySelector('#df-bd13a86e-4047-4816-a4d4-6787ca9e40ec');\n",
              "          const dataTable =\n",
              "            await google.colab.kernel.invokeFunction('convertToInteractive',\n",
              "                                                     [key], {});\n",
              "          if (!dataTable) return;\n",
              "\n",
              "          const docLinkHtml = 'Like what you see? Visit the ' +\n",
              "            '<a target=\"_blank\" href=https://colab.research.google.com/notebooks/data_table.ipynb>data table notebook</a>'\n",
              "            + ' to learn more about interactive tables.';\n",
              "          element.innerHTML = '';\n",
              "          dataTable['output_type'] = 'display_data';\n",
              "          await google.colab.output.renderOutput(dataTable, element);\n",
              "          const docLink = document.createElement('div');\n",
              "          docLink.innerHTML = docLinkHtml;\n",
              "          element.appendChild(docLink);\n",
              "        }\n",
              "      </script>\n",
              "    </div>\n",
              "  </div>\n",
              "  "
            ]
          },
          "metadata": {},
          "execution_count": 4
        }
      ]
    },
    {
      "cell_type": "markdown",
      "source": [
        "Por questões de economia de tempo, serão utilizados apenas 25% dos tweets:"
      ],
      "metadata": {
        "id": "XvVrqh6x5aAZ"
      }
    },
    {
      "cell_type": "code",
      "source": [
        "corpus = corpus.groupby('tweet_category', group_keys=False).apply(lambda x:x.sample(frac=0.25, random_state=42))\n"
      ],
      "metadata": {
        "id": "ousTGIYt2-yt"
      },
      "execution_count": null,
      "outputs": []
    },
    {
      "cell_type": "code",
      "source": [
        "corpus['tweet_category'].value_counts()"
      ],
      "metadata": {
        "colab": {
          "base_uri": "https://localhost:8080/"
        },
        "id": "nH0Hr0rX4DXR",
        "outputId": "3d4e9f3c-1e9e-4e8e-c951-78c5547ba325"
      },
      "execution_count": null,
      "outputs": [
        {
          "output_type": "execute_result",
          "data": {
            "text/plain": [
              "1    26235\n",
              "0    26234\n",
              "Name: tweet_category, dtype: int64"
            ]
          },
          "metadata": {},
          "execution_count": 6
        }
      ]
    },
    {
      "cell_type": "markdown",
      "source": [
        "### Text preprocessing"
      ],
      "metadata": {
        "id": "UAqcxH62qmmF"
      }
    },
    {
      "cell_type": "code",
      "source": [
        "\n",
        "def preproc(tweet):\n",
        "\n",
        "    tweet = re.sub(r\"(?:\\@|https?\\://)\\S+\", \" \", tweet) # remove mentions and urls\n",
        "    tweet = re.sub(r\"\\\\n\", \" \", tweet)                  # remove line breaks\n",
        "    tweet = re.sub(r\"\\\\\", \" \\\\\\\\\", tweet)               # separate unicode characters (emoji)\n",
        "    tweet = re.sub(r\"b?'?RT[\\s$]\", \" \", tweet)          # remove RT\n",
        "\n",
        "    # Tokenization\n",
        "    tokens = nltk.word_tokenize(tweet) \n",
        "\n",
        "    # Decapitalization\n",
        "    tokens = [t.lower() for t in tokens] \n",
        "\n",
        "    # Remove stop words\n",
        "    tokens = [t for t in tokens if t not in stop_words] \n",
        "\n",
        "    ps = PorterStemmer()\n",
        "\n",
        "    # Stemming\n",
        "    tokens = [ps.stem(t) for t in tokens]\n",
        "\n",
        "    return \" \".join(tokens)\n"
      ],
      "metadata": {
        "id": "shpJfNPDq1eT"
      },
      "execution_count": null,
      "outputs": []
    },
    {
      "cell_type": "code",
      "source": [
        "corpus['normalized_text'] = corpus.text.apply(preproc)"
      ],
      "metadata": {
        "id": "i8S-J3UMrpv9"
      },
      "execution_count": null,
      "outputs": []
    },
    {
      "cell_type": "code",
      "source": [
        "corpus['tweet_category'].value_counts()"
      ],
      "metadata": {
        "colab": {
          "base_uri": "https://localhost:8080/"
        },
        "id": "7pYbpXIz3Kk-",
        "outputId": "bf729508-fc60-49a9-c3c5-11a45f710292"
      },
      "execution_count": null,
      "outputs": [
        {
          "output_type": "execute_result",
          "data": {
            "text/plain": [
              "1    26235\n",
              "0    26234\n",
              "Name: tweet_category, dtype: int64"
            ]
          },
          "metadata": {},
          "execution_count": 9
        }
      ]
    },
    {
      "cell_type": "code",
      "source": [
        "corpus[['text', 'normalized_text']].head()\n"
      ],
      "metadata": {
        "colab": {
          "base_uri": "https://localhost:8080/",
          "height": 337
        },
        "id": "RpokE3429IaR",
        "outputId": "8b862601-a14a-454f-8b43-6fb9a506e12b"
      },
      "execution_count": null,
      "outputs": [
        {
          "output_type": "execute_result",
          "data": {
            "text/plain": [
              "                                                     text  \\\n",
              "111310  RT @jessefelder: 'How bad is it in the energy ...   \n",
              "186713  @0ctoberReignz This Movie was so coded and the...   \n",
              "170912  RT @realannapaulina: Radical socialists like B...   \n",
              "117871  That's alright Biden, we knew you were lying!\\...   \n",
              "180550           @SpencerFernando https://t.co/yWCxqd8dG1   \n",
              "\n",
              "                                          normalized_text  \n",
              "111310  'how bad energi sector right ? weight & amp ; ...  \n",
              "186713  movi code came children.alway wonder event ? h...  \n",
              "170912  radic socialist like berni sander ocasio-corte...  \n",
              "117871  's alright biden , knew lie ! biden revers cou...  \n",
              "180550                                                     "
            ],
            "text/html": [
              "\n",
              "  <div id=\"df-34e36b2e-cf5a-40b3-b9f0-50e87ecc4035\">\n",
              "    <div class=\"colab-df-container\">\n",
              "      <div>\n",
              "<style scoped>\n",
              "    .dataframe tbody tr th:only-of-type {\n",
              "        vertical-align: middle;\n",
              "    }\n",
              "\n",
              "    .dataframe tbody tr th {\n",
              "        vertical-align: top;\n",
              "    }\n",
              "\n",
              "    .dataframe thead th {\n",
              "        text-align: right;\n",
              "    }\n",
              "</style>\n",
              "<table border=\"1\" class=\"dataframe\">\n",
              "  <thead>\n",
              "    <tr style=\"text-align: right;\">\n",
              "      <th></th>\n",
              "      <th>text</th>\n",
              "      <th>normalized_text</th>\n",
              "    </tr>\n",
              "  </thead>\n",
              "  <tbody>\n",
              "    <tr>\n",
              "      <th>111310</th>\n",
              "      <td>RT @jessefelder: 'How bad is it in the energy ...</td>\n",
              "      <td>'how bad energi sector right ? weight &amp; amp ; ...</td>\n",
              "    </tr>\n",
              "    <tr>\n",
              "      <th>186713</th>\n",
              "      <td>@0ctoberReignz This Movie was so coded and the...</td>\n",
              "      <td>movi code came children.alway wonder event ? h...</td>\n",
              "    </tr>\n",
              "    <tr>\n",
              "      <th>170912</th>\n",
              "      <td>RT @realannapaulina: Radical socialists like B...</td>\n",
              "      <td>radic socialist like berni sander ocasio-corte...</td>\n",
              "    </tr>\n",
              "    <tr>\n",
              "      <th>117871</th>\n",
              "      <td>That's alright Biden, we knew you were lying!\\...</td>\n",
              "      <td>'s alright biden , knew lie ! biden revers cou...</td>\n",
              "    </tr>\n",
              "    <tr>\n",
              "      <th>180550</th>\n",
              "      <td>@SpencerFernando https://t.co/yWCxqd8dG1</td>\n",
              "      <td></td>\n",
              "    </tr>\n",
              "  </tbody>\n",
              "</table>\n",
              "</div>\n",
              "      <button class=\"colab-df-convert\" onclick=\"convertToInteractive('df-34e36b2e-cf5a-40b3-b9f0-50e87ecc4035')\"\n",
              "              title=\"Convert this dataframe to an interactive table.\"\n",
              "              style=\"display:none;\">\n",
              "        \n",
              "  <svg xmlns=\"http://www.w3.org/2000/svg\" height=\"24px\"viewBox=\"0 0 24 24\"\n",
              "       width=\"24px\">\n",
              "    <path d=\"M0 0h24v24H0V0z\" fill=\"none\"/>\n",
              "    <path d=\"M18.56 5.44l.94 2.06.94-2.06 2.06-.94-2.06-.94-.94-2.06-.94 2.06-2.06.94zm-11 1L8.5 8.5l.94-2.06 2.06-.94-2.06-.94L8.5 2.5l-.94 2.06-2.06.94zm10 10l.94 2.06.94-2.06 2.06-.94-2.06-.94-.94-2.06-.94 2.06-2.06.94z\"/><path d=\"M17.41 7.96l-1.37-1.37c-.4-.4-.92-.59-1.43-.59-.52 0-1.04.2-1.43.59L10.3 9.45l-7.72 7.72c-.78.78-.78 2.05 0 2.83L4 21.41c.39.39.9.59 1.41.59.51 0 1.02-.2 1.41-.59l7.78-7.78 2.81-2.81c.8-.78.8-2.07 0-2.86zM5.41 20L4 18.59l7.72-7.72 1.47 1.35L5.41 20z\"/>\n",
              "  </svg>\n",
              "      </button>\n",
              "      \n",
              "  <style>\n",
              "    .colab-df-container {\n",
              "      display:flex;\n",
              "      flex-wrap:wrap;\n",
              "      gap: 12px;\n",
              "    }\n",
              "\n",
              "    .colab-df-convert {\n",
              "      background-color: #E8F0FE;\n",
              "      border: none;\n",
              "      border-radius: 50%;\n",
              "      cursor: pointer;\n",
              "      display: none;\n",
              "      fill: #1967D2;\n",
              "      height: 32px;\n",
              "      padding: 0 0 0 0;\n",
              "      width: 32px;\n",
              "    }\n",
              "\n",
              "    .colab-df-convert:hover {\n",
              "      background-color: #E2EBFA;\n",
              "      box-shadow: 0px 1px 2px rgba(60, 64, 67, 0.3), 0px 1px 3px 1px rgba(60, 64, 67, 0.15);\n",
              "      fill: #174EA6;\n",
              "    }\n",
              "\n",
              "    [theme=dark] .colab-df-convert {\n",
              "      background-color: #3B4455;\n",
              "      fill: #D2E3FC;\n",
              "    }\n",
              "\n",
              "    [theme=dark] .colab-df-convert:hover {\n",
              "      background-color: #434B5C;\n",
              "      box-shadow: 0px 1px 3px 1px rgba(0, 0, 0, 0.15);\n",
              "      filter: drop-shadow(0px 1px 2px rgba(0, 0, 0, 0.3));\n",
              "      fill: #FFFFFF;\n",
              "    }\n",
              "  </style>\n",
              "\n",
              "      <script>\n",
              "        const buttonEl =\n",
              "          document.querySelector('#df-34e36b2e-cf5a-40b3-b9f0-50e87ecc4035 button.colab-df-convert');\n",
              "        buttonEl.style.display =\n",
              "          google.colab.kernel.accessAllowed ? 'block' : 'none';\n",
              "\n",
              "        async function convertToInteractive(key) {\n",
              "          const element = document.querySelector('#df-34e36b2e-cf5a-40b3-b9f0-50e87ecc4035');\n",
              "          const dataTable =\n",
              "            await google.colab.kernel.invokeFunction('convertToInteractive',\n",
              "                                                     [key], {});\n",
              "          if (!dataTable) return;\n",
              "\n",
              "          const docLinkHtml = 'Like what you see? Visit the ' +\n",
              "            '<a target=\"_blank\" href=https://colab.research.google.com/notebooks/data_table.ipynb>data table notebook</a>'\n",
              "            + ' to learn more about interactive tables.';\n",
              "          element.innerHTML = '';\n",
              "          dataTable['output_type'] = 'display_data';\n",
              "          await google.colab.output.renderOutput(dataTable, element);\n",
              "          const docLink = document.createElement('div');\n",
              "          docLink.innerHTML = docLinkHtml;\n",
              "          element.appendChild(docLink);\n",
              "        }\n",
              "      </script>\n",
              "    </div>\n",
              "  </div>\n",
              "  "
            ]
          },
          "metadata": {},
          "execution_count": 9
        }
      ]
    },
    {
      "cell_type": "markdown",
      "source": [
        "### Spliting the data"
      ],
      "metadata": {
        "id": "h_7h2tn26cBB"
      }
    },
    {
      "cell_type": "code",
      "source": [
        "X = corpus.normalized_text\n",
        "y = corpus.tweet_category\n",
        "X_train, X_test, y_train, y_test = train_test_split(X, y, test_size = 0.2, random_state=42)\n",
        "X_train, X_valid, y_train, y_valid = train_test_split(X_train, y_train, test_size = 0.2, random_state=42)"
      ],
      "metadata": {
        "id": "WKEmcM4A5j5e"
      },
      "execution_count": null,
      "outputs": []
    },
    {
      "cell_type": "code",
      "source": [
        "y_train.value_counts()"
      ],
      "metadata": {
        "colab": {
          "base_uri": "https://localhost:8080/"
        },
        "id": "dVehan-IEdqL",
        "outputId": "feea12dd-417a-49a1-b5c8-d51cd6ea1a94"
      },
      "execution_count": null,
      "outputs": [
        {
          "output_type": "execute_result",
          "data": {
            "text/plain": [
              "0    16851\n",
              "1    16729\n",
              "Name: tweet_category, dtype: int64"
            ]
          },
          "metadata": {},
          "execution_count": 11
        }
      ]
    },
    {
      "cell_type": "code",
      "source": [
        "y_valid.value_counts()"
      ],
      "metadata": {
        "colab": {
          "base_uri": "https://localhost:8080/"
        },
        "id": "U0fGmFEeEy3z",
        "outputId": "e0010952-0b4f-4633-91a5-5d0583310734"
      },
      "execution_count": null,
      "outputs": [
        {
          "output_type": "execute_result",
          "data": {
            "text/plain": [
              "1    4243\n",
              "0    4152\n",
              "Name: tweet_category, dtype: int64"
            ]
          },
          "metadata": {},
          "execution_count": 12
        }
      ]
    },
    {
      "cell_type": "code",
      "source": [
        "y_test.value_counts()"
      ],
      "metadata": {
        "colab": {
          "base_uri": "https://localhost:8080/"
        },
        "id": "sN00-SxWFEEQ",
        "outputId": "25160b26-ccf3-4569-b0b7-bc4009c3c3de"
      },
      "execution_count": null,
      "outputs": [
        {
          "output_type": "execute_result",
          "data": {
            "text/plain": [
              "1    5263\n",
              "0    5231\n",
              "Name: tweet_category, dtype: int64"
            ]
          },
          "metadata": {},
          "execution_count": 13
        }
      ]
    },
    {
      "cell_type": "markdown",
      "source": [
        "## Feature Extraction"
      ],
      "metadata": {
        "id": "dfSD1623GFDH"
      }
    },
    {
      "cell_type": "markdown",
      "source": [
        "### Vectorization with Word2Vec"
      ],
      "metadata": {
        "id": "ZLFGlg-la4ca"
      }
    },
    {
      "cell_type": "code",
      "source": [
        "X_train_tokenized = [t.split() for t in X_train.values]"
      ],
      "metadata": {
        "id": "46jtEa18CPcR"
      },
      "execution_count": null,
      "outputs": []
    },
    {
      "cell_type": "code",
      "source": [
        "model = gensim.models.Word2Vec(sentences=X_train_tokenized, vector_size=100)"
      ],
      "metadata": {
        "id": "0Gs9eDGf_B5i"
      },
      "execution_count": null,
      "outputs": []
    },
    {
      "cell_type": "code",
      "source": [
        "def text2vectors(text, embed_matrix, max_len=100):\n",
        "    tokens = text.split()\n",
        "    vec = []\n",
        "    for token in tokens:\n",
        "        if len(vec) == max_len:\n",
        "            break\n",
        "        try:\n",
        "            vec.append(embed_matrix[token])\n",
        "        except Exception as e:\n",
        "            pass\n",
        "    for i in range(max_len - len(vec)):\n",
        "        vec.append(np.zeros(100,))\n",
        "    \n",
        "    return np.stack(vec, axis=0)\n",
        "        "
      ],
      "metadata": {
        "id": "TrecYO1rB7-6"
      },
      "execution_count": null,
      "outputs": []
    },
    {
      "cell_type": "code",
      "source": [
        "X_train_vecs = np.asarray([text2vectors(text, model.wv).flatten() for text in X_train.values])\n",
        "X_valid_vecs = np.asarray([text2vectors(text, model.wv).flatten() for text in X_valid.values])\n",
        "X_test_vecs = np.asarray([text2vectors(text, model.wv).flatten() for text in X_test.values])"
      ],
      "metadata": {
        "id": "-hohTDLhBwLp"
      },
      "execution_count": null,
      "outputs": []
    },
    {
      "cell_type": "code",
      "source": [
        "X_train_vecs.shape"
      ],
      "metadata": {
        "colab": {
          "base_uri": "https://localhost:8080/"
        },
        "id": "4f0RgZWeZ7ku",
        "outputId": "4586423e-5d82-4f57-c7cb-4cd231f2681f"
      },
      "execution_count": null,
      "outputs": [
        {
          "output_type": "execute_result",
          "data": {
            "text/plain": [
              "(33580, 10000)"
            ]
          },
          "metadata": {},
          "execution_count": 18
        }
      ]
    },
    {
      "cell_type": "markdown",
      "source": [
        "### Dimensionality reduction with PCA "
      ],
      "metadata": {
        "id": "IEHge9K9bEbM"
      }
    },
    {
      "cell_type": "code",
      "source": [
        "from sklearn.decomposition import PCA\n",
        "pca_model = PCA(n_components=1000)\n",
        "pca_model.fit(X_train_vecs)\n",
        "print(\"Sum of variance ratios: \",sum(pca_model.explained_variance_ratio_))\n"
      ],
      "metadata": {
        "colab": {
          "base_uri": "https://localhost:8080/"
        },
        "id": "kcucazoebUFN",
        "outputId": "67883fa7-61d9-4f9d-b56c-f9c0f20e1db1"
      },
      "execution_count": null,
      "outputs": [
        {
          "output_type": "stream",
          "name": "stdout",
          "text": [
            "Sum of variance ratios:  0.9863811036414698\n"
          ]
        }
      ]
    },
    {
      "cell_type": "code",
      "source": [
        "X_train_vecs = pca_model.transform(X_train_vecs)\n",
        "X_valid_vecs = pca_model.transform(X_valid_vecs)\n",
        "X_test_vecs = pca_model.transform(X_test_vecs)"
      ],
      "metadata": {
        "id": "DkrXq_bcdq0L"
      },
      "execution_count": null,
      "outputs": []
    },
    {
      "cell_type": "code",
      "source": [
        "print(X_train_vecs.shape)\n",
        "print(X_valid_vecs.shape)\n",
        "print(X_test_vecs.shape)"
      ],
      "metadata": {
        "colab": {
          "base_uri": "https://localhost:8080/"
        },
        "id": "dxqXpIThfL56",
        "outputId": "12ad472a-360f-45af-a842-0c7b250fe0b2"
      },
      "execution_count": null,
      "outputs": [
        {
          "output_type": "stream",
          "name": "stdout",
          "text": [
            "(33580, 1000)\n",
            "(8395, 1000)\n",
            "(10494, 1000)\n"
          ]
        }
      ]
    },
    {
      "cell_type": "markdown",
      "source": [
        "## Training Models"
      ],
      "metadata": {
        "id": "nW6UgA53Oi-1"
      }
    },
    {
      "cell_type": "markdown",
      "source": [
        "Defining split for Hyperparameter Optimization "
      ],
      "metadata": {
        "id": "4h-w2JDvvsHE"
      }
    },
    {
      "cell_type": "code",
      "source": [
        "split_index = [-1 if x in X_train.index else 0 for x in X_train.append(X_valid).index ]"
      ],
      "metadata": {
        "id": "5OoENMPvKqlM"
      },
      "execution_count": null,
      "outputs": []
    },
    {
      "cell_type": "code",
      "source": [
        "pds = PredefinedSplit(test_fold = split_index)"
      ],
      "metadata": {
        "id": "UeuGR1lsRQRr"
      },
      "execution_count": null,
      "outputs": []
    },
    {
      "cell_type": "markdown",
      "source": [
        "### Logistic Regression"
      ],
      "metadata": {
        "id": "d7UkFr2wOk8k"
      }
    },
    {
      "cell_type": "code",
      "source": [
        "hyperparams_lr = {\n",
        "    \"solver\" : [\"sag\", \"saga\",\"lbfgs\", \"liblinear\" ],\n",
        "    'penalty': ['none', 'l1', 'l2', 'elasticnet'],\n",
        "    'C':loguniform(1e-5, 100)\n",
        "}"
      ],
      "metadata": {
        "id": "m53NDOr99dbW"
      },
      "execution_count": null,
      "outputs": []
    },
    {
      "cell_type": "code",
      "source": [
        "clf = RandomizedSearchCV(LogisticRegression(), hyperparams_lr, verbose=1,cv=pds,\n",
        "                           scoring='f1', n_jobs=-1, n_iter=30 )"
      ],
      "metadata": {
        "id": "LK3I_xuCGwMC"
      },
      "execution_count": null,
      "outputs": []
    },
    {
      "cell_type": "code",
      "source": [
        "clf.fit(np.vstack((X_train_vecs, X_valid_vecs)), y_train.append(y_valid))"
      ],
      "metadata": {
        "colab": {
          "base_uri": "https://localhost:8080/"
        },
        "id": "yUyYCBviS9BG",
        "outputId": "56f312c1-e406-4c00-860c-f980aff301f0"
      },
      "execution_count": null,
      "outputs": [
        {
          "output_type": "stream",
          "name": "stdout",
          "text": [
            "Fitting 1 folds for each of 30 candidates, totalling 30 fits\n"
          ]
        },
        {
          "output_type": "stream",
          "name": "stderr",
          "text": [
            "/usr/local/lib/python3.7/dist-packages/joblib/externals/loky/process_executor.py:705: UserWarning: A worker stopped while some jobs were given to the executor. This can be caused by a too short worker timeout or by a memory leak.\n",
            "  \"timeout or by a memory leak.\", UserWarning\n",
            "/usr/local/lib/python3.7/dist-packages/sklearn/model_selection/_validation.py:372: FitFailedWarning: \n",
            "13 fits failed out of a total of 30.\n",
            "The score on these train-test partitions for these parameters will be set to nan.\n",
            "If these failures are not expected, you can try to debug them by setting error_score='raise'.\n",
            "\n",
            "Below are more details about the failures:\n",
            "--------------------------------------------------------------------------------\n",
            "2 fits failed with the following error:\n",
            "Traceback (most recent call last):\n",
            "  File \"/usr/local/lib/python3.7/dist-packages/sklearn/model_selection/_validation.py\", line 680, in _fit_and_score\n",
            "    estimator.fit(X_train, y_train, **fit_params)\n",
            "  File \"/usr/local/lib/python3.7/dist-packages/sklearn/linear_model/_logistic.py\", line 1473, in fit\n",
            "    % self.l1_ratio\n",
            "ValueError: l1_ratio must be between 0 and 1; got (l1_ratio=None)\n",
            "\n",
            "--------------------------------------------------------------------------------\n",
            "3 fits failed with the following error:\n",
            "Traceback (most recent call last):\n",
            "  File \"/usr/local/lib/python3.7/dist-packages/sklearn/model_selection/_validation.py\", line 680, in _fit_and_score\n",
            "    estimator.fit(X_train, y_train, **fit_params)\n",
            "  File \"/usr/local/lib/python3.7/dist-packages/sklearn/linear_model/_logistic.py\", line 1461, in fit\n",
            "    solver = _check_solver(self.solver, self.penalty, self.dual)\n",
            "  File \"/usr/local/lib/python3.7/dist-packages/sklearn/linear_model/_logistic.py\", line 449, in _check_solver\n",
            "    % (solver, penalty)\n",
            "ValueError: Solver lbfgs supports only 'l2' or 'none' penalties, got elasticnet penalty.\n",
            "\n",
            "--------------------------------------------------------------------------------\n",
            "2 fits failed with the following error:\n",
            "Traceback (most recent call last):\n",
            "  File \"/usr/local/lib/python3.7/dist-packages/sklearn/model_selection/_validation.py\", line 680, in _fit_and_score\n",
            "    estimator.fit(X_train, y_train, **fit_params)\n",
            "  File \"/usr/local/lib/python3.7/dist-packages/sklearn/linear_model/_logistic.py\", line 1461, in fit\n",
            "    solver = _check_solver(self.solver, self.penalty, self.dual)\n",
            "  File \"/usr/local/lib/python3.7/dist-packages/sklearn/linear_model/_logistic.py\", line 449, in _check_solver\n",
            "    % (solver, penalty)\n",
            "ValueError: Solver sag supports only 'l2' or 'none' penalties, got elasticnet penalty.\n",
            "\n",
            "--------------------------------------------------------------------------------\n",
            "2 fits failed with the following error:\n",
            "Traceback (most recent call last):\n",
            "  File \"/usr/local/lib/python3.7/dist-packages/sklearn/model_selection/_validation.py\", line 680, in _fit_and_score\n",
            "    estimator.fit(X_train, y_train, **fit_params)\n",
            "  File \"/usr/local/lib/python3.7/dist-packages/sklearn/linear_model/_logistic.py\", line 1461, in fit\n",
            "    solver = _check_solver(self.solver, self.penalty, self.dual)\n",
            "  File \"/usr/local/lib/python3.7/dist-packages/sklearn/linear_model/_logistic.py\", line 464, in _check_solver\n",
            "    raise ValueError(\"penalty='none' is not supported for the liblinear solver\")\n",
            "ValueError: penalty='none' is not supported for the liblinear solver\n",
            "\n",
            "--------------------------------------------------------------------------------\n",
            "3 fits failed with the following error:\n",
            "Traceback (most recent call last):\n",
            "  File \"/usr/local/lib/python3.7/dist-packages/sklearn/model_selection/_validation.py\", line 680, in _fit_and_score\n",
            "    estimator.fit(X_train, y_train, **fit_params)\n",
            "  File \"/usr/local/lib/python3.7/dist-packages/sklearn/linear_model/_logistic.py\", line 1461, in fit\n",
            "    solver = _check_solver(self.solver, self.penalty, self.dual)\n",
            "  File \"/usr/local/lib/python3.7/dist-packages/sklearn/linear_model/_logistic.py\", line 459, in _check_solver\n",
            "    solver\n",
            "ValueError: Only 'saga' solver supports elasticnet penalty, got solver=liblinear.\n",
            "\n",
            "--------------------------------------------------------------------------------\n",
            "1 fits failed with the following error:\n",
            "Traceback (most recent call last):\n",
            "  File \"/usr/local/lib/python3.7/dist-packages/sklearn/model_selection/_validation.py\", line 680, in _fit_and_score\n",
            "    estimator.fit(X_train, y_train, **fit_params)\n",
            "  File \"/usr/local/lib/python3.7/dist-packages/sklearn/linear_model/_logistic.py\", line 1461, in fit\n",
            "    solver = _check_solver(self.solver, self.penalty, self.dual)\n",
            "  File \"/usr/local/lib/python3.7/dist-packages/sklearn/linear_model/_logistic.py\", line 449, in _check_solver\n",
            "    % (solver, penalty)\n",
            "ValueError: Solver lbfgs supports only 'l2' or 'none' penalties, got l1 penalty.\n",
            "\n",
            "  warnings.warn(some_fits_failed_message, FitFailedWarning)\n",
            "/usr/local/lib/python3.7/dist-packages/sklearn/model_selection/_search.py:972: UserWarning: One or more of the test scores are non-finite: [0.94567842        nan 0.9739546         nan 0.976893   0.95445736\n",
            "        nan        nan 0.97625267 0.94496086        nan 0.9753718\n",
            "        nan        nan        nan 0.97678275        nan        nan\n",
            " 0.97397947 0.97312149 0.97678275        nan 0.97625267        nan\n",
            " 0.97493435 0.9390681  0.97727811 0.97515749 0.97503566        nan]\n",
            "  category=UserWarning,\n"
          ]
        },
        {
          "output_type": "execute_result",
          "data": {
            "text/plain": [
              "RandomizedSearchCV(cv=PredefinedSplit(test_fold=array([-1, -1, ...,  0,  0])),\n",
              "                   estimator=LogisticRegression(), n_iter=30, n_jobs=-1,\n",
              "                   param_distributions={'C': <scipy.stats._distn_infrastructure.rv_frozen object at 0x7fada122d3d0>,\n",
              "                                        'penalty': ['none', 'l1', 'l2',\n",
              "                                                    'elasticnet'],\n",
              "                                        'solver': ['sag', 'saga', 'lbfgs',\n",
              "                                                   'liblinear']},\n",
              "                   scoring='f1', verbose=1)"
            ]
          },
          "metadata": {},
          "execution_count": 106
        }
      ]
    },
    {
      "cell_type": "code",
      "source": [
        "preds = clf.predict(X_test_vecs)"
      ],
      "metadata": {
        "id": "Muf9XJnOKAOL"
      },
      "execution_count": null,
      "outputs": []
    },
    {
      "cell_type": "code",
      "source": [
        "print(classification_report(preds, y_test))"
      ],
      "metadata": {
        "colab": {
          "base_uri": "https://localhost:8080/"
        },
        "id": "Lm4EkbTRKBbg",
        "outputId": "56172d1a-8842-4a5e-9425-138e558a8875"
      },
      "execution_count": null,
      "outputs": [
        {
          "output_type": "stream",
          "name": "stdout",
          "text": [
            "              precision    recall  f1-score   support\n",
            "\n",
            "           0       0.98      0.97      0.97      5282\n",
            "           1       0.97      0.98      0.97      5212\n",
            "\n",
            "    accuracy                           0.97     10494\n",
            "   macro avg       0.97      0.97      0.97     10494\n",
            "weighted avg       0.97      0.97      0.97     10494\n",
            "\n"
          ]
        }
      ]
    },
    {
      "cell_type": "code",
      "source": [
        "disp = ConfusionMatrixDisplay.from_estimator(\n",
        "        clf,\n",
        "        X_test_vecs,\n",
        "        y_test,\n",
        "        display_labels=['No sarcasm', 'Sarcasm'],\n",
        "        cmap=plt.cm.Blues )\n",
        "disp.ax_.set_title(\"Logistic Regression\")\n",
        "plt.show()"
      ],
      "metadata": {
        "colab": {
          "base_uri": "https://localhost:8080/",
          "height": 295
        },
        "id": "mRcv56BNgG4A",
        "outputId": "9657b3d1-8208-47d4-dbfe-46ea2e5ebbf6"
      },
      "execution_count": null,
      "outputs": [
        {
          "output_type": "display_data",
          "data": {
            "text/plain": [
              "<Figure size 432x288 with 2 Axes>"
            ],
            "image/png": "[encoded data removed]"
          },
          "metadata": {
            "needs_background": "light"
          }
        }
      ]
    },
    {
      "cell_type": "markdown",
      "source": [
        "### Naive Bayes"
      ],
      "metadata": {
        "id": "K7oKb4nqpSGt"
      }
    },
    {
      "cell_type": "code",
      "source": [
        "hyperparams_nb = {\n",
        "        'var_smoothing': np.logspace(-9,-9, num=100)\n",
        "}\n"
      ],
      "metadata": {
        "id": "favvTzjR9GJ2"
      },
      "execution_count": null,
      "outputs": []
    },
    {
      "cell_type": "code",
      "source": [
        "clf_nb =RandomizedSearchCV(GaussianNB(), hyperparams_nb, verbose=1,cv=pds,\n",
        "                           scoring='f1', n_jobs=-1, n_iter=100 ) "
      ],
      "metadata": {
        "id": "6Bdn4csY935-"
      },
      "execution_count": null,
      "outputs": []
    },
    {
      "cell_type": "code",
      "source": [
        "clf_nb.fit(np.vstack((X_train_vecs, X_valid_vecs)), y_train.append(y_valid))"
      ],
      "metadata": {
        "colab": {
          "base_uri": "https://localhost:8080/"
        },
        "id": "ps05AjHbMKbp",
        "outputId": "39aad638-1a91-40e2-da1a-271cd0f839a6"
      },
      "execution_count": null,
      "outputs": [
        {
          "output_type": "stream",
          "name": "stdout",
          "text": [
            "Fitting 1 folds for each of 100 candidates, totalling 100 fits\n"
          ]
        },
        {
          "output_type": "execute_result",
          "data": {
            "text/plain": [
              "RandomizedSearchCV(cv=PredefinedSplit(test_fold=array([-1, -1, ...,  0,  0])),\n",
              "                   estimator=GaussianNB(), n_iter=100, n_jobs=-1,\n",
              "                   param_distributions={'var_smoothing': array([1.e-09, 1.e-09, 1.e-09, 1.e-09, 1.e-09, 1.e-09, 1.e-09, 1.e-09,\n",
              "       1.e-09, 1.e-09, 1.e-09, 1.e-09, 1.e-09, 1.e-09, 1.e-09, 1.e-09,\n",
              "       1.e-09, 1.e-09, 1.e-09, 1.e-09, 1.e-09, 1.e-09, 1.e-09, 1.e-09,\n",
              "       1.e-09, 1.e-09, 1.e-09, 1...\n",
              "       1.e-09, 1.e-09, 1.e-09, 1.e-09, 1.e-09, 1.e-09, 1.e-09, 1.e-09,\n",
              "       1.e-09, 1.e-09, 1.e-09, 1.e-09, 1.e-09, 1.e-09, 1.e-09, 1.e-09,\n",
              "       1.e-09, 1.e-09, 1.e-09, 1.e-09, 1.e-09, 1.e-09, 1.e-09, 1.e-09,\n",
              "       1.e-09, 1.e-09, 1.e-09, 1.e-09, 1.e-09, 1.e-09, 1.e-09, 1.e-09,\n",
              "       1.e-09, 1.e-09, 1.e-09, 1.e-09, 1.e-09, 1.e-09, 1.e-09, 1.e-09,\n",
              "       1.e-09, 1.e-09, 1.e-09, 1.e-09, 1.e-09, 1.e-09, 1.e-09, 1.e-09,\n",
              "       1.e-09, 1.e-09, 1.e-09, 1.e-09])},\n",
              "                   scoring='f1', verbose=1)"
            ]
          },
          "metadata": {},
          "execution_count": 114
        }
      ]
    },
    {
      "cell_type": "code",
      "source": [
        "preds = clf_nb.predict(X_test_vecs)\n",
        "print(classification_report(preds, y_test))"
      ],
      "metadata": {
        "colab": {
          "base_uri": "https://localhost:8080/"
        },
        "id": "_W9lNePq-6xZ",
        "outputId": "96480327-695e-4876-f526-d4ab90caf4a6"
      },
      "execution_count": null,
      "outputs": [
        {
          "output_type": "stream",
          "name": "stdout",
          "text": [
            "              precision    recall  f1-score   support\n",
            "\n",
            "           0       0.81      0.68      0.74      6206\n",
            "           1       0.63      0.77      0.69      4288\n",
            "\n",
            "    accuracy                           0.72     10494\n",
            "   macro avg       0.72      0.73      0.72     10494\n",
            "weighted avg       0.74      0.72      0.72     10494\n",
            "\n"
          ]
        }
      ]
    },
    {
      "cell_type": "code",
      "source": [
        "disp = ConfusionMatrixDisplay.from_estimator(\n",
        "        clf_nb,\n",
        "        X_test_vecs,\n",
        "        y_test,\n",
        "        display_labels=['No sarcasm', 'Sarcasm'],\n",
        "        cmap=plt.cm.Blues )\n",
        "disp.ax_.set_title(\"Gaussian Naive Bayes\")\n",
        "plt.show()"
      ],
      "metadata": {
        "colab": {
          "base_uri": "https://localhost:8080/",
          "height": 295
        },
        "id": "BJXy0h3vT6r7",
        "outputId": "df6e48fd-32dc-4050-8733-e40b8d413b06"
      },
      "execution_count": null,
      "outputs": [
        {
          "output_type": "display_data",
          "data": {
            "text/plain": [
              "<Figure size 432x288 with 2 Axes>"
            ],
            "image/png": "[encoded data removed]"
          },
          "metadata": {
            "needs_background": "light"
          }
        }
      ]
    },
    {
      "cell_type": "markdown",
      "source": [
        "### Suport Vector Machine (SVM)"
      ],
      "metadata": {
        "id": "xaxFylgnpY-f"
      }
    },
    {
      "cell_type": "code",
      "source": [
        "hyperparams_SVM =   {\n",
        "    'C': np.logspace(-5, 5, 10), \n",
        "    'gamma': np.logspace(-5, 5, 10),\n",
        "    'kernel': ['rbf', 'linear']} "
      ],
      "metadata": {
        "id": "kk2ddoZ7U5P1"
      },
      "execution_count": null,
      "outputs": []
    },
    {
      "cell_type": "code",
      "source": [
        "clf_svm =RandomizedSearchCV(SVC(), hyperparams_SVM, verbose=1,cv=pds,\n",
        "                           scoring='f1', n_jobs=-1, n_iter=10 ) "
      ],
      "metadata": {
        "id": "-rvuSQIYVwsg"
      },
      "execution_count": null,
      "outputs": []
    },
    {
      "cell_type": "code",
      "source": [
        "clf_svm.fit(np.vstack((X_train_vecs, X_valid_vecs)), y_train.append(y_valid))"
      ],
      "metadata": {
        "colab": {
          "base_uri": "https://localhost:8080/"
        },
        "id": "MPqF7F2bWlR_",
        "outputId": "84b7587d-0c24-4003-b2fe-6e0347d36646"
      },
      "execution_count": null,
      "outputs": [
        {
          "output_type": "stream",
          "name": "stdout",
          "text": [
            "Fitting 1 folds for each of 10 candidates, totalling 10 fits\n"
          ]
        },
        {
          "output_type": "execute_result",
          "data": {
            "text/plain": [
              "RandomizedSearchCV(cv=PredefinedSplit(test_fold=array([-1, -1, ...,  0,  0])),\n",
              "                   estimator=SVC(), n_jobs=-1,\n",
              "                   param_distributions={'C': array([1.00000000e-05, 1.29154967e-04, 1.66810054e-03, 2.15443469e-02,\n",
              "       2.78255940e-01, 3.59381366e+00, 4.64158883e+01, 5.99484250e+02,\n",
              "       7.74263683e+03, 1.00000000e+05]),\n",
              "                                        'gamma': array([1.00000000e-05, 1.29154967e-04, 1.66810054e-03, 2.15443469e-02,\n",
              "       2.78255940e-01, 3.59381366e+00, 4.64158883e+01, 5.99484250e+02,\n",
              "       7.74263683e+03, 1.00000000e+05]),\n",
              "                                        'kernel': ['rbf', 'linear']},\n",
              "                   scoring='f1', verbose=1)"
            ]
          },
          "metadata": {},
          "execution_count": 26
        }
      ]
    },
    {
      "cell_type": "code",
      "source": [
        "preds = clf_svm.predict(X_test_vecs)\n",
        "print(classification_report(preds, y_test))"
      ],
      "metadata": {
        "id": "Ks5PEtEDWtAT",
        "colab": {
          "base_uri": "https://localhost:8080/"
        },
        "outputId": "799da0e4-5fab-4e0b-93d9-19ad7a4bc877"
      },
      "execution_count": null,
      "outputs": [
        {
          "output_type": "stream",
          "name": "stdout",
          "text": [
            "              precision    recall  f1-score   support\n",
            "\n",
            "           0       0.99      0.98      0.99      5247\n",
            "           1       0.98      0.99      0.99      5247\n",
            "\n",
            "    accuracy                           0.99     10494\n",
            "   macro avg       0.99      0.99      0.99     10494\n",
            "weighted avg       0.99      0.99      0.99     10494\n",
            "\n"
          ]
        }
      ]
    },
    {
      "cell_type": "code",
      "source": [
        "disp = ConfusionMatrixDisplay.from_estimator(\n",
        "        clf_svm,\n",
        "        X_test_vecs,\n",
        "        y_test,\n",
        "        display_labels=['No sarcasm', 'Sarcasm'],\n",
        "        cmap=plt.cm.Blues )\n",
        "disp.ax_.set_title(\"Suport Vector Machine\")\n",
        "plt.show()"
      ],
      "metadata": {
        "id": "N0an_AacW6NM",
        "colab": {
          "base_uri": "https://localhost:8080/",
          "height": 295
        },
        "outputId": "f081b2c2-73bf-4a8e-db16-8b1ab2e7784a"
      },
      "execution_count": null,
      "outputs": [
        {
          "output_type": "display_data",
          "data": {
            "text/plain": [
              "<Figure size 432x288 with 2 Axes>"
            ],
            "image/png": "[encoded data removed]"
          },
          "metadata": {
            "needs_background": "light"
          }
        }
      ]
    },
    {
      "cell_type": "code",
      "source": [
        "clf_svm.get_params()"
      ],
      "metadata": {
        "id": "6aep6Y_I6Zil",
        "colab": {
          "base_uri": "https://localhost:8080/"
        },
        "outputId": "1bc77643-830d-4d44-cc97-d439bf9402ae"
      },
      "execution_count": null,
      "outputs": [
        {
          "output_type": "execute_result",
          "data": {
            "text/plain": [
              "{'cv': PredefinedSplit(test_fold=array([-1, -1, ...,  0,  0])),\n",
              " 'error_score': nan,\n",
              " 'estimator__C': 1.0,\n",
              " 'estimator__break_ties': False,\n",
              " 'estimator__cache_size': 200,\n",
              " 'estimator__class_weight': None,\n",
              " 'estimator__coef0': 0.0,\n",
              " 'estimator__decision_function_shape': 'ovr',\n",
              " 'estimator__degree': 3,\n",
              " 'estimator__gamma': 'scale',\n",
              " 'estimator__kernel': 'rbf',\n",
              " 'estimator__max_iter': -1,\n",
              " 'estimator__probability': False,\n",
              " 'estimator__random_state': None,\n",
              " 'estimator__shrinking': True,\n",
              " 'estimator__tol': 0.001,\n",
              " 'estimator__verbose': False,\n",
              " 'estimator': SVC(),\n",
              " 'n_iter': 10,\n",
              " 'n_jobs': -1,\n",
              " 'param_distributions': {'C': array([1.00000000e-05, 1.29154967e-04, 1.66810054e-03, 2.15443469e-02,\n",
              "         2.78255940e-01, 3.59381366e+00, 4.64158883e+01, 5.99484250e+02,\n",
              "         7.74263683e+03, 1.00000000e+05]),\n",
              "  'gamma': array([1.00000000e-05, 1.29154967e-04, 1.66810054e-03, 2.15443469e-02,\n",
              "         2.78255940e-01, 3.59381366e+00, 4.64158883e+01, 5.99484250e+02,\n",
              "         7.74263683e+03, 1.00000000e+05]),\n",
              "  'kernel': ['rbf', 'linear']},\n",
              " 'pre_dispatch': '2*n_jobs',\n",
              " 'random_state': None,\n",
              " 'refit': True,\n",
              " 'return_train_score': False,\n",
              " 'scoring': 'f1',\n",
              " 'verbose': 1}"
            ]
          },
          "metadata": {},
          "execution_count": 29
        }
      ]
    }
  ]
}