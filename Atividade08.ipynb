{
  "nbformat": 4,
  "nbformat_minor": 0,
  "metadata": {
    "colab": {
      "provenance": [],
      "collapsed_sections": [],
      "include_colab_link": true
    },
    "kernelspec": {
      "name": "python3",
      "display_name": "Python 3"
    },
    "language_info": {
      "name": "python"
    },
    "accelerator": "GPU",
    "gpuClass": "standard"
  },
  "cells": [
    {
      "cell_type": "markdown",
      "metadata": {
        "id": "view-in-github",
        "colab_type": "text"
      },
      "source": [
        "<a href=\"https://colab.research.google.com/github/nosgueira/PLN-2022-1/blob/main/Atividade08.ipynb\" target=\"_parent\"><img src=\"https://colab.research.google.com/assets/colab-badge.svg\" alt=\"Open In Colab\"/></a>"
      ]
    },
    {
      "cell_type": "markdown",
      "source": [
        "# Atividade 8: inferência de Linguagem Natural"
      ],
      "metadata": {
        "id": "ncNktCcSO99a"
      }
    },
    {
      "cell_type": "markdown",
      "source": [
        "- Aluno: Gabriel da Silva Corvino Nogueira (180113330)"
      ],
      "metadata": {
        "id": "3T01Fm0APD42"
      }
    },
    {
      "cell_type": "markdown",
      "source": [
        "## Imports"
      ],
      "metadata": {
        "id": "NQ12khzQPN4P"
      }
    },
    {
      "cell_type": "code",
      "source": [
        "import tensorflow_datasets as tfds\n",
        "import pandas as pd\n",
        "from tensorflow.keras.preprocessing.text import Tokenizer\n",
        "from tensorflow.keras.preprocessing.sequence import pad_sequences\n",
        "import matplotlib.pyplot as plt\n",
        "from keras.models import Model\n",
        "from keras.layers import Input, Dense, SimpleRNN\n",
        "from tensorflow.keras.optimizers import SGD\n",
        "from keras.utils.np_utils import to_categorical\n",
        "\n"
      ],
      "metadata": {
        "id": "2B3ruDdMXpYT"
      },
      "execution_count": 4,
      "outputs": []
    },
    {
      "cell_type": "markdown",
      "source": [
        "## Carregamento de Dados"
      ],
      "metadata": {
        "id": "V85rH-dzPRdj"
      }
    },
    {
      "cell_type": "code",
      "source": [
        "df_train = tfds.load('snli', split='train[50%:]',shuffle_files=True )\n",
        "df_train = tfds.as_dataframe(df_train)\n",
        "df_valid = tfds.load('snli', split='validation',shuffle_files=False )\n",
        "df_valid = tfds.as_dataframe(df_valid)\n",
        "df_test = tfds.load('snli', split='test',shuffle_files=False )\n",
        "df_test = tfds.as_dataframe(df_test)"
      ],
      "metadata": {
        "id": "8sW4dBZjYkxe"
      },
      "execution_count": 5,
      "outputs": []
    },
    {
      "cell_type": "code",
      "source": [
        "texts_train = [p.decode('utf-8')+' '+h.decode('utf-8') for h,p in zip(df_train.premise,\n",
        "                                                                  df_train.hypothesis)]\n",
        "df_train = pd.DataFrame({'text':texts_train, 'label':df_train.label})\n",
        "\n",
        "texts_valid = [p.decode('utf-8')+' '+h.decode('utf-8') for h,p in zip(df_valid.premise,\n",
        "                                                                      df_valid.hypothesis)]\n",
        "df_valid = pd.DataFrame({'text':texts_valid, 'label':df_valid.label})\n",
        "\n",
        "texts_test = [p.decode('utf-8')+' '+h.decode('utf-8') for h,p in zip(df_test.premise,\n",
        "                                                                      df_test.hypothesis)]\n",
        "df_test = pd.DataFrame({'text':texts_test, 'label':df_test.label})"
      ],
      "metadata": {
        "id": "UT3iY7R5ZGse"
      },
      "execution_count": 6,
      "outputs": []
    },
    {
      "cell_type": "code",
      "source": [
        "df_train"
      ],
      "metadata": {
        "colab": {
          "base_uri": "https://localhost:8080/",
          "height": 424
        },
        "id": "2r8st-r9TtPQ",
        "outputId": "5b6121b0-5ef0-4bd7-e9bb-f0243f3fbd14"
      },
      "execution_count": 7,
      "outputs": [
        {
          "output_type": "execute_result",
          "data": {
            "text/plain": [
              "                                                     text  label\n",
              "0       A child reaches up. a child reaches up into th...      0\n",
              "1       A person with a backpack A young woman wearing...      0\n",
              "2       A man holding a hard hat is running. A man hol...      0\n",
              "3       A female in weird clothing holding a glass. Wo...      0\n",
              "4       There are bikers. A group of bikers head out t...      0\n",
              "...                                                   ...    ...\n",
              "275071  A woman is holding flowers. A woman waits to c...      0\n",
              "275072  People are dancing. Women dancing in bright co...      0\n",
              "275073  There is a woman doing art. A woman wearing a ...      0\n",
              "275074  a boy is playing with some toys at the park A ...      1\n",
              "275075  The man in the boat has a friend with him. A m...      1\n",
              "\n",
              "[275076 rows x 2 columns]"
            ],
            "text/html": [
              "\n",
              "  <div id=\"df-e4080d83-8d31-4c5f-b8ca-83e1e931877c\">\n",
              "    <div class=\"colab-df-container\">\n",
              "      <div>\n",
              "<style scoped>\n",
              "    .dataframe tbody tr th:only-of-type {\n",
              "        vertical-align: middle;\n",
              "    }\n",
              "\n",
              "    .dataframe tbody tr th {\n",
              "        vertical-align: top;\n",
              "    }\n",
              "\n",
              "    .dataframe thead th {\n",
              "        text-align: right;\n",
              "    }\n",
              "</style>\n",
              "<table border=\"1\" class=\"dataframe\">\n",
              "  <thead>\n",
              "    <tr style=\"text-align: right;\">\n",
              "      <th></th>\n",
              "      <th>text</th>\n",
              "      <th>label</th>\n",
              "    </tr>\n",
              "  </thead>\n",
              "  <tbody>\n",
              "    <tr>\n",
              "      <th>0</th>\n",
              "      <td>A child reaches up. a child reaches up into th...</td>\n",
              "      <td>0</td>\n",
              "    </tr>\n",
              "    <tr>\n",
              "      <th>1</th>\n",
              "      <td>A person with a backpack A young woman wearing...</td>\n",
              "      <td>0</td>\n",
              "    </tr>\n",
              "    <tr>\n",
              "      <th>2</th>\n",
              "      <td>A man holding a hard hat is running. A man hol...</td>\n",
              "      <td>0</td>\n",
              "    </tr>\n",
              "    <tr>\n",
              "      <th>3</th>\n",
              "      <td>A female in weird clothing holding a glass. Wo...</td>\n",
              "      <td>0</td>\n",
              "    </tr>\n",
              "    <tr>\n",
              "      <th>4</th>\n",
              "      <td>There are bikers. A group of bikers head out t...</td>\n",
              "      <td>0</td>\n",
              "    </tr>\n",
              "    <tr>\n",
              "      <th>...</th>\n",
              "      <td>...</td>\n",
              "      <td>...</td>\n",
              "    </tr>\n",
              "    <tr>\n",
              "      <th>275071</th>\n",
              "      <td>A woman is holding flowers. A woman waits to c...</td>\n",
              "      <td>0</td>\n",
              "    </tr>\n",
              "    <tr>\n",
              "      <th>275072</th>\n",
              "      <td>People are dancing. Women dancing in bright co...</td>\n",
              "      <td>0</td>\n",
              "    </tr>\n",
              "    <tr>\n",
              "      <th>275073</th>\n",
              "      <td>There is a woman doing art. A woman wearing a ...</td>\n",
              "      <td>0</td>\n",
              "    </tr>\n",
              "    <tr>\n",
              "      <th>275074</th>\n",
              "      <td>a boy is playing with some toys at the park A ...</td>\n",
              "      <td>1</td>\n",
              "    </tr>\n",
              "    <tr>\n",
              "      <th>275075</th>\n",
              "      <td>The man in the boat has a friend with him. A m...</td>\n",
              "      <td>1</td>\n",
              "    </tr>\n",
              "  </tbody>\n",
              "</table>\n",
              "<p>275076 rows × 2 columns</p>\n",
              "</div>\n",
              "      <button class=\"colab-df-convert\" onclick=\"convertToInteractive('df-e4080d83-8d31-4c5f-b8ca-83e1e931877c')\"\n",
              "              title=\"Convert this dataframe to an interactive table.\"\n",
              "              style=\"display:none;\">\n",
              "        \n",
              "  <svg xmlns=\"http://www.w3.org/2000/svg\" height=\"24px\"viewBox=\"0 0 24 24\"\n",
              "       width=\"24px\">\n",
              "    <path d=\"M0 0h24v24H0V0z\" fill=\"none\"/>\n",
              "    <path d=\"M18.56 5.44l.94 2.06.94-2.06 2.06-.94-2.06-.94-.94-2.06-.94 2.06-2.06.94zm-11 1L8.5 8.5l.94-2.06 2.06-.94-2.06-.94L8.5 2.5l-.94 2.06-2.06.94zm10 10l.94 2.06.94-2.06 2.06-.94-2.06-.94-.94-2.06-.94 2.06-2.06.94z\"/><path d=\"M17.41 7.96l-1.37-1.37c-.4-.4-.92-.59-1.43-.59-.52 0-1.04.2-1.43.59L10.3 9.45l-7.72 7.72c-.78.78-.78 2.05 0 2.83L4 21.41c.39.39.9.59 1.41.59.51 0 1.02-.2 1.41-.59l7.78-7.78 2.81-2.81c.8-.78.8-2.07 0-2.86zM5.41 20L4 18.59l7.72-7.72 1.47 1.35L5.41 20z\"/>\n",
              "  </svg>\n",
              "      </button>\n",
              "      \n",
              "  <style>\n",
              "    .colab-df-container {\n",
              "      display:flex;\n",
              "      flex-wrap:wrap;\n",
              "      gap: 12px;\n",
              "    }\n",
              "\n",
              "    .colab-df-convert {\n",
              "      background-color: #E8F0FE;\n",
              "      border: none;\n",
              "      border-radius: 50%;\n",
              "      cursor: pointer;\n",
              "      display: none;\n",
              "      fill: #1967D2;\n",
              "      height: 32px;\n",
              "      padding: 0 0 0 0;\n",
              "      width: 32px;\n",
              "    }\n",
              "\n",
              "    .colab-df-convert:hover {\n",
              "      background-color: #E2EBFA;\n",
              "      box-shadow: 0px 1px 2px rgba(60, 64, 67, 0.3), 0px 1px 3px 1px rgba(60, 64, 67, 0.15);\n",
              "      fill: #174EA6;\n",
              "    }\n",
              "\n",
              "    [theme=dark] .colab-df-convert {\n",
              "      background-color: #3B4455;\n",
              "      fill: #D2E3FC;\n",
              "    }\n",
              "\n",
              "    [theme=dark] .colab-df-convert:hover {\n",
              "      background-color: #434B5C;\n",
              "      box-shadow: 0px 1px 3px 1px rgba(0, 0, 0, 0.15);\n",
              "      filter: drop-shadow(0px 1px 2px rgba(0, 0, 0, 0.3));\n",
              "      fill: #FFFFFF;\n",
              "    }\n",
              "  </style>\n",
              "\n",
              "      <script>\n",
              "        const buttonEl =\n",
              "          document.querySelector('#df-e4080d83-8d31-4c5f-b8ca-83e1e931877c button.colab-df-convert');\n",
              "        buttonEl.style.display =\n",
              "          google.colab.kernel.accessAllowed ? 'block' : 'none';\n",
              "\n",
              "        async function convertToInteractive(key) {\n",
              "          const element = document.querySelector('#df-e4080d83-8d31-4c5f-b8ca-83e1e931877c');\n",
              "          const dataTable =\n",
              "            await google.colab.kernel.invokeFunction('convertToInteractive',\n",
              "                                                     [key], {});\n",
              "          if (!dataTable) return;\n",
              "\n",
              "          const docLinkHtml = 'Like what you see? Visit the ' +\n",
              "            '<a target=\"_blank\" href=https://colab.research.google.com/notebooks/data_table.ipynb>data table notebook</a>'\n",
              "            + ' to learn more about interactive tables.';\n",
              "          element.innerHTML = '';\n",
              "          dataTable['output_type'] = 'display_data';\n",
              "          await google.colab.output.renderOutput(dataTable, element);\n",
              "          const docLink = document.createElement('div');\n",
              "          docLink.innerHTML = docLinkHtml;\n",
              "          element.appendChild(docLink);\n",
              "        }\n",
              "      </script>\n",
              "    </div>\n",
              "  </div>\n",
              "  "
            ]
          },
          "metadata": {},
          "execution_count": 7
        }
      ]
    },
    {
      "cell_type": "code",
      "source": [
        "y_train = to_categorical(df_train.label)\n",
        "y_valid = to_categorical(df_valid.label)\n",
        "y_test  = to_categorical(df_test.label)"
      ],
      "metadata": {
        "id": "t6gOUalPhHh4"
      },
      "execution_count": 8,
      "outputs": []
    },
    {
      "cell_type": "markdown",
      "source": [
        "## Numericalização"
      ],
      "metadata": {
        "id": "EpEKGoGRVEdr"
      }
    },
    {
      "cell_type": "code",
      "source": [
        "vocab_size = 2000"
      ],
      "metadata": {
        "id": "-lomVsRYfAx9"
      },
      "execution_count": 9,
      "outputs": []
    },
    {
      "cell_type": "code",
      "source": [
        "tokenizer = Tokenizer(num_words = vocab_size)\n",
        "tokenizer.fit_on_texts(df_train['text'])"
      ],
      "metadata": {
        "id": "nVpyw6Bxe1JA"
      },
      "execution_count": 10,
      "outputs": []
    },
    {
      "cell_type": "code",
      "source": [
        "train_sequences = tokenizer.texts_to_sequences(df_train['text'])"
      ],
      "metadata": {
        "id": "OKF72YXjfmv4"
      },
      "execution_count": 11,
      "outputs": []
    },
    {
      "cell_type": "markdown",
      "source": [
        "## Pós-processamento da numericalização"
      ],
      "metadata": {
        "id": "CeNOPgBgWdx_"
      }
    },
    {
      "cell_type": "code",
      "source": [
        "max_bound = 150\n",
        "hist = {}\n",
        "hist['bins'] = list(range(max_bound))\n",
        "\n",
        "counts = [0]*max_bound\n",
        "for x in train_sequences:\n",
        "    counts[len(x)]+=1\n",
        "hist['counts'] = counts\n",
        "\n",
        "fig = plt.figure(figsize=(10, 5))\n",
        "plt.bar(hist['bins'], hist['counts'])\n",
        "\n",
        "plt.xlabel(\"Quantidade de palavras\")\n",
        "plt.ylabel(\"Quantidade de textos\")\n",
        "plt.title(\"Comparando a quantidade de palavras e a quantidade de textos\")\n",
        "plt.show()\n"
      ],
      "metadata": {
        "colab": {
          "base_uri": "https://localhost:8080/",
          "height": 350
        },
        "id": "sE89PFZ3Wnu7",
        "outputId": "1a176fd9-c807-45ff-c08d-1feab47041fb"
      },
      "execution_count": 12,
      "outputs": [
        {
          "output_type": "display_data",
          "data": {
            "text/plain": [
              "<Figure size 720x360 with 1 Axes>"
            ],
            "image/png": "[encoded data removed]"
          },
          "metadata": {
            "needs_background": "light"
          }
        }
      ]
    },
    {
      "cell_type": "code",
      "source": [
        "max_length = 60"
      ],
      "metadata": {
        "id": "0Mlzn6awZYeK"
      },
      "execution_count": 13,
      "outputs": []
    },
    {
      "cell_type": "code",
      "source": [
        "train_padded = pad_sequences(train_sequences, maxlen=max_length, padding='post', truncating='post')"
      ],
      "metadata": {
        "id": "6USbab9JZPgL"
      },
      "execution_count": 14,
      "outputs": []
    },
    {
      "cell_type": "code",
      "source": [
        "valid_sequences = tokenizer.texts_to_sequences(df_valid['text'])\n",
        "test_sequences = tokenizer.texts_to_sequences(df_test['text'])\n",
        "\n",
        "valid_padded = pad_sequences(valid_sequences, maxlen=max_length, padding='post', truncating='post')\n",
        "test_padded  = pad_sequences(test_sequences, maxlen=max_length, padding='post', truncating='post')"
      ],
      "metadata": {
        "id": "C-jk1WKYZpPA"
      },
      "execution_count": 15,
      "outputs": []
    },
    {
      "cell_type": "markdown",
      "source": [
        "## Rede Neural Recorrente (RNN)"
      ],
      "metadata": {
        "id": "q6yCKDmpcdpF"
      }
    },
    {
      "cell_type": "code",
      "source": [
        "from keras.layers import Input, Dense, SimpleRNN, Embedding, Dropout, Bidirectional, LSTM\n",
        "from keras.models import Sequential"
      ],
      "metadata": {
        "id": "KM0Sh-CIgJeB"
      },
      "execution_count": 2,
      "outputs": []
    },
    {
      "cell_type": "code",
      "source": [
        "model = Sequential()\n",
        "model.add(Embedding(vocab_size, output_dim = 32, input_length=max_length))\n",
        "model.add(SimpleRNN(64, activation='relu', return_sequences=True))\n",
        "model.add(Dropout(0.5))\n",
        "model.add(SimpleRNN(32, activation='relu'))\n",
        "model.add(Dropout(0.5))\n",
        "model.add(Dense(3, activation='softmax'))\n",
        "\n",
        "model.summary()"
      ],
      "metadata": {
        "id": "3Q_xiT2FgKcU",
        "colab": {
          "base_uri": "https://localhost:8080/"
        },
        "outputId": "ca350b7c-90ff-4752-f2ca-4f2c2c12a1a2"
      },
      "execution_count": 16,
      "outputs": [
        {
          "output_type": "stream",
          "name": "stdout",
          "text": [
            "Model: \"sequential_1\"\n",
            "_________________________________________________________________\n",
            " Layer (type)                Output Shape              Param #   \n",
            "=================================================================\n",
            " embedding (Embedding)       (None, 60, 32)            64000     \n",
            "                                                                 \n",
            " simple_rnn (SimpleRNN)      (None, 60, 64)            6208      \n",
            "                                                                 \n",
            " dropout (Dropout)           (None, 60, 64)            0         \n",
            "                                                                 \n",
            " simple_rnn_1 (SimpleRNN)    (None, 32)                3104      \n",
            "                                                                 \n",
            " dropout_1 (Dropout)         (None, 32)                0         \n",
            "                                                                 \n",
            " dense (Dense)               (None, 3)                 99        \n",
            "                                                                 \n",
            "=================================================================\n",
            "Total params: 73,411\n",
            "Trainable params: 73,411\n",
            "Non-trainable params: 0\n",
            "_________________________________________________________________\n"
          ]
        }
      ]
    },
    {
      "cell_type": "code",
      "source": [
        "sgd = SGD(learning_rate=0.01)\n",
        "model.compile(loss=\"categorical_crossentropy\", optimizer=\"adam\", metrics=['accuracy'])\n",
        "history_fine = model.fit(train_padded, y_train, validation_data=(valid_padded, y_valid), epochs=30)"
      ],
      "metadata": {
        "colab": {
          "base_uri": "https://localhost:8080/"
        },
        "id": "T1wRwa1ugbOZ",
        "outputId": "2fb4b25c-d89b-4359-b06f-dae8f468ed87"
      },
      "execution_count": null,
      "outputs": [
        {
          "output_type": "stream",
          "name": "stdout",
          "text": [
            "Epoch 1/30\n",
            "8597/8597 [==============================] - 936s 109ms/step - loss: 1.0987 - accuracy: 0.3353 - val_loss: 1.0986 - val_accuracy: 0.3330\n",
            "Epoch 2/30\n",
            "8597/8597 [==============================] - 932s 108ms/step - loss: 1.0987 - accuracy: 0.3337 - val_loss: 1.0993 - val_accuracy: 0.3234\n",
            "Epoch 3/30\n",
            "8597/8597 [==============================] - 937s 109ms/step - loss: 1.0987 - accuracy: 0.3326 - val_loss: 1.0988 - val_accuracy: 0.3235\n",
            "Epoch 4/30\n",
            "8597/8597 [==============================] - 945s 110ms/step - loss: 1.0987 - accuracy: 0.3328 - val_loss: 1.0987 - val_accuracy: 0.3329\n",
            "Epoch 5/30\n",
            "8597/8597 [==============================] - 941s 109ms/step - loss: 1.0986 - accuracy: 0.3349 - val_loss: 1.0984 - val_accuracy: 0.3437\n",
            "Epoch 6/30\n",
            "8597/8597 [==============================] - 937s 109ms/step - loss: 1.0987 - accuracy: 0.3346 - val_loss: 1.0985 - val_accuracy: 0.3436\n",
            "Epoch 7/30\n",
            "8597/8597 [==============================] - 940s 109ms/step - loss: 1.0986 - accuracy: 0.3347 - val_loss: 1.0987 - val_accuracy: 0.3330\n",
            "Epoch 8/30\n",
            "8597/8597 [==============================] - 938s 109ms/step - loss: 1.0986 - accuracy: 0.3348 - val_loss: 1.0985 - val_accuracy: 0.3435\n",
            "Epoch 9/30\n",
            "8597/8597 [==============================] - 950s 110ms/step - loss: 1.0986 - accuracy: 0.3338 - val_loss: 1.0984 - val_accuracy: 0.3437\n",
            "Epoch 10/30\n",
            "8597/8597 [==============================] - 955s 111ms/step - loss: 1.0986 - accuracy: 0.3338 - val_loss: 1.0985 - val_accuracy: 0.3329\n",
            "Epoch 11/30\n",
            "5698/8597 [==================>...........] - ETA: 5:21 - loss: 1.0986 - accuracy: 0.3329"
          ]
        }
      ]
    },
    {
      "cell_type": "code",
      "source": [
        "plt.plot(history_fine.history['loss'])\n",
        "plt.plot(history_fine.history['val_loss'])\n",
        "plt.title('model loss')\n",
        "plt.ylabel('loss')\n",
        "plt.xlabel('epoch')\n",
        "plt.legend(['training set','validation set'], loc='upper left')\n",
        "plt.show()"
      ],
      "metadata": {
        "id": "e96ZjPSlk6iu",
        "colab": {
          "base_uri": "https://localhost:8080/",
          "height": 295
        },
        "outputId": "79587b0d-fe81-4148-9607-a5ac7163a010"
      },
      "execution_count": null,
      "outputs": [
        {
          "output_type": "display_data",
          "data": {
            "text/plain": [
              "<Figure size 432x288 with 1 Axes>"
            ],
            "image/png": "[encoded data removed]"
          },
          "metadata": {
            "needs_background": "light"
          }
        }
      ]
    },
    {
      "cell_type": "code",
      "source": [
        "plt.plot(history_fine.history['accuracy'])\n",
        "plt.plot(history_fine.history['val_accuracy'])\n",
        "plt.title('model accuracy')\n",
        "plt.ylabel('accuracy')\n",
        "plt.xlabel('epoch')\n",
        "plt.legend(['training set','validation set'], loc='upper left')\n",
        "plt.show()"
      ],
      "metadata": {
        "id": "Q4HCjG_Gk9q7",
        "colab": {
          "base_uri": "https://localhost:8080/",
          "height": 295
        },
        "outputId": "a93e459d-6f4b-492e-f681-a66bc54bcfd7"
      },
      "execution_count": null,
      "outputs": [
        {
          "output_type": "display_data",
          "data": {
            "text/plain": [
              "<Figure size 432x288 with 1 Axes>"
            ],
            "image/png": "[encoded data removed]"
          },
          "metadata": {
            "needs_background": "light"
          }
        }
      ]
    },
    {
      "cell_type": "code",
      "source": [
        "import numpy as np\n",
        "\n",
        "y_prob = model.predict(test_padded)\n",
        "y_pred = np.argmax(y_prob,axis=1)"
      ],
      "metadata": {
        "id": "qw126OW9lBeV"
      },
      "execution_count": null,
      "outputs": []
    },
    {
      "cell_type": "code",
      "source": [
        "from sklearn.metrics import classification_report\n",
        "print(classification_report(df_test['label'],y_pred))\n"
      ],
      "metadata": {
        "id": "O9Nal67IlHFC",
        "colab": {
          "base_uri": "https://localhost:8080/"
        },
        "outputId": "41b7e3e1-3f06-4a6a-da66-392befa368b7"
      },
      "execution_count": null,
      "outputs": [
        {
          "output_type": "stream",
          "name": "stdout",
          "text": [
            "              precision    recall  f1-score   support\n",
            "\n",
            "          -1       0.00      0.00      0.00       176\n",
            "           0       0.00      0.00      0.00      3368\n",
            "           1       0.32      1.00      0.49      3219\n",
            "           2       0.00      0.00      0.00      3237\n",
            "\n",
            "    accuracy                           0.32     10000\n",
            "   macro avg       0.08      0.25      0.12     10000\n",
            "weighted avg       0.10      0.32      0.16     10000\n",
            "\n"
          ]
        },
        {
          "output_type": "stream",
          "name": "stderr",
          "text": [
            "/usr/local/lib/python3.7/dist-packages/sklearn/metrics/_classification.py:1318: UndefinedMetricWarning: Precision and F-score are ill-defined and being set to 0.0 in labels with no predicted samples. Use `zero_division` parameter to control this behavior.\n",
            "  _warn_prf(average, modifier, msg_start, len(result))\n",
            "/usr/local/lib/python3.7/dist-packages/sklearn/metrics/_classification.py:1318: UndefinedMetricWarning: Precision and F-score are ill-defined and being set to 0.0 in labels with no predicted samples. Use `zero_division` parameter to control this behavior.\n",
            "  _warn_prf(average, modifier, msg_start, len(result))\n",
            "/usr/local/lib/python3.7/dist-packages/sklearn/metrics/_classification.py:1318: UndefinedMetricWarning: Precision and F-score are ill-defined and being set to 0.0 in labels with no predicted samples. Use `zero_division` parameter to control this behavior.\n",
            "  _warn_prf(average, modifier, msg_start, len(result))\n"
          ]
        }
      ]
    },
    {
      "cell_type": "markdown",
      "source": [
        "## BiLSTM"
      ],
      "metadata": {
        "id": "tyqADO41XJSB"
      }
    },
    {
      "cell_type": "code",
      "source": [
        "model = Sequential()\n",
        "model.add(Embedding(vocab_size, output_dim = 32, input_length=max_length))\n",
        "model.add(Bidirectional(LSTM(10, activation='relu', return_sequences=True)))\n",
        "model.add(Dropout(0.5))\n",
        "model.add(Bidirectional(LSTM(10, activation='relu')))\n",
        "model.add(Dropout(0.5))\n",
        "model.add(Dense(3, activation='softmax'))\n"
      ],
      "metadata": {
        "colab": {
          "base_uri": "https://localhost:8080/"
        },
        "id": "ngVDBgd4XXJT",
        "outputId": "d5ee98de-4e82-471a-a75a-cce756ea60a2"
      },
      "execution_count": 17,
      "outputs": [
        {
          "output_type": "stream",
          "name": "stderr",
          "text": [
            "WARNING:tensorflow:Layer lstm will not use cuDNN kernels since it doesn't meet the criteria. It will use a generic GPU kernel as fallback when running on GPU.\n",
            "WARNING:tensorflow:Layer lstm will not use cuDNN kernels since it doesn't meet the criteria. It will use a generic GPU kernel as fallback when running on GPU.\n",
            "WARNING:tensorflow:Layer lstm will not use cuDNN kernels since it doesn't meet the criteria. It will use a generic GPU kernel as fallback when running on GPU.\n",
            "WARNING:tensorflow:Layer lstm_1 will not use cuDNN kernels since it doesn't meet the criteria. It will use a generic GPU kernel as fallback when running on GPU.\n",
            "WARNING:tensorflow:Layer lstm_1 will not use cuDNN kernels since it doesn't meet the criteria. It will use a generic GPU kernel as fallback when running on GPU.\n",
            "WARNING:tensorflow:Layer lstm_1 will not use cuDNN kernels since it doesn't meet the criteria. It will use a generic GPU kernel as fallback when running on GPU.\n"
          ]
        }
      ]
    },
    {
      "cell_type": "code",
      "source": [
        "model.compile(loss=\"categorical_crossentropy\", optimizer=\"adam\", metrics=['accuracy'])\n",
        "history_fine = model.fit(train_padded, y_train, validation_data=(valid_padded, y_valid), epochs=10)"
      ],
      "metadata": {
        "colab": {
          "base_uri": "https://localhost:8080/"
        },
        "id": "qcKTDvSOXbOT",
        "outputId": "e0d4d7d4-9c5b-4918-935f-52380035c8ee"
      },
      "execution_count": null,
      "outputs": [
        {
          "output_type": "stream",
          "name": "stdout",
          "text": [
            "Epoch 1/10\n",
            "8597/8597 [==============================] - 3324s 386ms/step - loss: 12.7356 - accuracy: 0.5119 - val_loss: 0.9142 - val_accuracy: 0.5777\n",
            "Epoch 2/10\n",
            "8597/8597 [==============================] - 3285s 382ms/step - loss: 1.2522 - accuracy: 0.5574 - val_loss: 0.8744 - val_accuracy: 0.5907\n",
            "Epoch 3/10\n",
            "8597/8597 [==============================] - 3283s 382ms/step - loss: 0.9091 - accuracy: 0.5751 - val_loss: 0.8659 - val_accuracy: 0.6095\n",
            "Epoch 4/10\n",
            "7741/8597 [==========================>...] - ETA: 5:24 - loss: 0.8900 - accuracy: 0.5899"
          ]
        }
      ]
    },
    {
      "cell_type": "markdown",
      "source": [
        "Modelo não pode terminar de ser treinado devido a limitações da plataforma"
      ],
      "metadata": {
        "id": "99BNc500d3Kj"
      }
    },
    {
      "cell_type": "code",
      "source": [
        "plt.plot(history_fine.history['loss'])\n",
        "plt.plot(history_fine.history['val_loss'])\n",
        "plt.title('model loss')\n",
        "plt.ylabel('loss')\n",
        "plt.xlabel('epoch')\n",
        "plt.legend(['training set','validation set'], loc='upper left')\n",
        "plt.show()"
      ],
      "metadata": {
        "id": "DC1Ai8bbXf2_"
      },
      "execution_count": null,
      "outputs": []
    },
    {
      "cell_type": "code",
      "source": [
        "plt.plot(history_fine.history['accuracy'])\n",
        "plt.plot(history_fine.history['val_accuracy'])\n",
        "plt.title('model accuracy')\n",
        "plt.ylabel('accuracy')\n",
        "plt.xlabel('epoch')\n",
        "plt.legend(['training set','validation set'], loc='upper left')\n",
        "plt.show("
      ],
      "metadata": {
        "id": "JJj-9DmRXltB"
      },
      "execution_count": null,
      "outputs": []
    },
    {
      "cell_type": "code",
      "source": [
        "import numpy as np\n",
        "\n",
        "y_prob = model.predict(test_padded)\n",
        "y_pred = np.argmax(y_prob,axis=1)"
      ],
      "metadata": {
        "id": "8B7E-nnyXo8a"
      },
      "execution_count": null,
      "outputs": []
    },
    {
      "cell_type": "code",
      "source": [
        "from sklearn.metrics import classification_report\n",
        "print(classification_report(df_test['label'],y_pred))\n"
      ],
      "metadata": {
        "id": "E3wuzIUeXrWo"
      },
      "execution_count": null,
      "outputs": []
    }
  ]
}