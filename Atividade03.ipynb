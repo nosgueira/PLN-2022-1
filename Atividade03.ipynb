{
 "cells": [
  {
   "cell_type": "markdown",
   "metadata": {
    "colab_type": "text",
    "id": "view-in-github"
   },
   "source": [
    "<a href=\"https://colab.research.google.com/github/nosgueira/PLN-2022-1/blob/main/Atividade03.ipynb\" target=\"_parent\"><img src=\"https://colab.research.google.com/assets/colab-badge.svg\" alt=\"Open In Colab\"/></a>"
   ]
  },
  {
   "cell_type": "markdown",
   "metadata": {
    "id": "ch2UL3EWQm5W"
   },
   "source": [
    "# Atividade 3: Recuperação de Textos\n",
    "\n",
    "- Aluno: Gabriel da Silva Corvino Nogueira (18/0113330)"
   ]
  },
  {
   "cell_type": "markdown",
   "metadata": {
    "id": "jQ7sT_oh375B"
   },
   "source": [
    "## Imports"
   ]
  },
  {
   "cell_type": "code",
   "execution_count": 1,
   "metadata": {
    "colab": {
     "base_uri": "https://localhost:8080/"
    },
    "id": "b952XIwGNFUF",
    "outputId": "40570d88-4029-4a2d-c3f6-ee43e94df38e"
   },
   "outputs": [
    {
     "name": "stderr",
     "output_type": "stream",
     "text": [
      "[nltk_data] Downloading package reuters to /home/gabriel/nltk_data...\n",
      "[nltk_data]   Package reuters is already up-to-date!\n",
      "[nltk_data] Downloading package punkt to /home/gabriel/nltk_data...\n",
      "[nltk_data]   Package punkt is already up-to-date!\n",
      "[nltk_data] Downloading package stopwords to\n",
      "[nltk_data]     /home/gabriel/nltk_data...\n",
      "[nltk_data]   Package stopwords is already up-to-date!\n"
     ]
    }
   ],
   "source": [
    "import re\n",
    "import nltk\n",
    "import pandas as pd\n",
    "\n",
    "nltk.download('reuters')\n",
    "nltk.download('punkt')\n",
    "nltk.download('stopwords')\n",
    "\n",
    "from nltk.corpus import reuters\n",
    "from nltk.tokenize import word_tokenize\n",
    "from nltk.corpus import stopwords\n",
    "from nltk.stem import PorterStemmer\n",
    "from tqdm.notebook import tqdm\n"
   ]
  },
  {
   "cell_type": "markdown",
   "metadata": {
    "id": "QtW50PTmQybq"
   },
   "source": [
    "## Importação de Dados"
   ]
  },
  {
   "cell_type": "code",
   "execution_count": 2,
   "metadata": {
    "colab": {
     "base_uri": "https://localhost:8080/"
    },
    "id": "ShfpBE1XO6Ji",
    "outputId": "d932a9fe-2fa8-4c7a-8b56-e2c5036f3554"
   },
   "outputs": [
    {
     "name": "stdout",
     "output_type": "stream",
     "text": [
      "Reuters has 90 categories:\n",
      "['acq', 'alum', 'barley', 'bop', 'carcass', 'castor-oil', 'cocoa', 'coconut', 'coconut-oil', 'coffee', 'copper', 'copra-cake', 'corn', 'cotton', 'cotton-oil', 'cpi', 'cpu', 'crude', 'dfl', 'dlr', 'dmk', 'earn', 'fuel', 'gas', 'gnp', 'gold', 'grain', 'groundnut', 'groundnut-oil', 'heat', 'hog', 'housing', 'income', 'instal-debt', 'interest', 'ipi', 'iron-steel', 'jet', 'jobs', 'l-cattle', 'lead', 'lei', 'lin-oil', 'livestock', 'lumber', 'meal-feed', 'money-fx', 'money-supply', 'naphtha', 'nat-gas', 'nickel', 'nkr', 'nzdlr', 'oat', 'oilseed', 'orange', 'palladium', 'palm-oil', 'palmkernel', 'pet-chem', 'platinum', 'potato', 'propane', 'rand', 'rape-oil', 'rapeseed', 'reserves', 'retail', 'rice', 'rubber', 'rye', 'ship', 'silver', 'sorghum', 'soy-meal', 'soy-oil', 'soybean', 'strategic-metal', 'sugar', 'sun-meal', 'sun-oil', 'sunseed', 'tea', 'tin', 'trade', 'veg-oil', 'wheat', 'wpi', 'yen', 'zinc']\n"
     ]
    }
   ],
   "source": [
    "cats = reuters.categories()\n",
    "print(\"Reuters has %d categories:\\n%s\" % (len(cats), cats))"
   ]
  },
  {
   "cell_type": "code",
   "execution_count": 3,
   "metadata": {
    "id": "iAGnw9p0Peo9"
   },
   "outputs": [],
   "source": [
    "fileids=reuters.fileids()\n",
    "\n",
    "categories = []\n",
    "text = []\n",
    "\n",
    "for file in fileids:\n",
    "    categories.append(reuters.categories(file))\n",
    "    text.append(reuters.raw(file))\n",
    "corpus_df = pd.DataFrame({'ids':fileids, 'categories':categories, 'text':text})"
   ]
  },
  {
   "cell_type": "code",
   "execution_count": 4,
   "metadata": {
    "colab": {
     "base_uri": "https://localhost:8080/"
    },
    "id": "L1dB3hxMq35g",
    "outputId": "9da19794-2945-4d04-e505-56030e0a4589"
   },
   "outputs": [
    {
     "data": {
      "text/plain": [
       "10788"
      ]
     },
     "execution_count": 4,
     "metadata": {},
     "output_type": "execute_result"
    }
   ],
   "source": [
    "len(corpus_df)"
   ]
  },
  {
   "cell_type": "markdown",
   "metadata": {
    "id": "jlEIKwVcqy08"
   },
   "source": [
    "Como demonstrado acima, o corpus reuters possui mais de 10,000 textos. Sendo assim, para que seja possível executar os experimentos, iremos lidar com uma versão reduzida desse corpus:\n"
   ]
  },
  {
   "cell_type": "code",
   "execution_count": 5,
   "metadata": {
    "colab": {
     "base_uri": "https://localhost:8080/",
     "height": 424
    },
    "id": "0VPL5W_eQK2m",
    "outputId": "60f284f1-e0e2-4fd3-cfac-480c2ac7effd"
   },
   "outputs": [
    {
     "data": {
      "text/html": [
       "<div>\n",
       "<style scoped>\n",
       "    .dataframe tbody tr th:only-of-type {\n",
       "        vertical-align: middle;\n",
       "    }\n",
       "\n",
       "    .dataframe tbody tr th {\n",
       "        vertical-align: top;\n",
       "    }\n",
       "\n",
       "    .dataframe thead th {\n",
       "        text-align: right;\n",
       "    }\n",
       "</style>\n",
       "<table border=\"1\" class=\"dataframe\">\n",
       "  <thead>\n",
       "    <tr style=\"text-align: right;\">\n",
       "      <th></th>\n",
       "      <th>ids</th>\n",
       "      <th>categories</th>\n",
       "      <th>text</th>\n",
       "    </tr>\n",
       "  </thead>\n",
       "  <tbody>\n",
       "    <tr>\n",
       "      <th>0</th>\n",
       "      <td>training/13192</td>\n",
       "      <td>[earn]</td>\n",
       "      <td>FREEDOM SAVINGS AND LOAN ASS'N &amp;lt;FRDM&gt; YEAR ...</td>\n",
       "    </tr>\n",
       "    <tr>\n",
       "      <th>1</th>\n",
       "      <td>test/15709</td>\n",
       "      <td>[earn]</td>\n",
       "      <td>NORTHWESTERN NATIONAL LIFE &amp;lt;NWNL&gt; UPS PAYOU...</td>\n",
       "    </tr>\n",
       "    <tr>\n",
       "      <th>2</th>\n",
       "      <td>test/20031</td>\n",
       "      <td>[jet]</td>\n",
       "      <td>BANGLADESH TENDERS FOR TWO MLN BARRELS PETROLE...</td>\n",
       "    </tr>\n",
       "    <tr>\n",
       "      <th>3</th>\n",
       "      <td>training/4525</td>\n",
       "      <td>[crude]</td>\n",
       "      <td>HOUSE SPEAKER BACKS OIL IMPORT FORECAST PLAN\\n...</td>\n",
       "    </tr>\n",
       "    <tr>\n",
       "      <th>4</th>\n",
       "      <td>training/13889</td>\n",
       "      <td>[trade]</td>\n",
       "      <td>VOLCKER URGES INDUSTRIAL NATIONS TO KEEP TRADE...</td>\n",
       "    </tr>\n",
       "    <tr>\n",
       "      <th>...</th>\n",
       "      <td>...</td>\n",
       "      <td>...</td>\n",
       "      <td>...</td>\n",
       "    </tr>\n",
       "    <tr>\n",
       "      <th>1074</th>\n",
       "      <td>training/13120</td>\n",
       "      <td>[grain, ship]</td>\n",
       "      <td>GRAIN SHIPS LOADING AT PORTLAND\\n  There were ...</td>\n",
       "    </tr>\n",
       "    <tr>\n",
       "      <th>1075</th>\n",
       "      <td>training/4748</td>\n",
       "      <td>[acq]</td>\n",
       "      <td>SERVICE CONTROL BIDS FOR AMERICAN SERVICE\\n  &amp;...</td>\n",
       "    </tr>\n",
       "    <tr>\n",
       "      <th>1076</th>\n",
       "      <td>training/12743</td>\n",
       "      <td>[jobs]</td>\n",
       "      <td>GERMAN MARCH UNADJUSTED JOBLESS FALLS\\n  West ...</td>\n",
       "    </tr>\n",
       "    <tr>\n",
       "      <th>1077</th>\n",
       "      <td>training/5502</td>\n",
       "      <td>[earn]</td>\n",
       "      <td>NBD BANCORP &amp;lt;NBD&gt; REGULAR DIVIDEND SET\\n  Q...</td>\n",
       "    </tr>\n",
       "    <tr>\n",
       "      <th>1078</th>\n",
       "      <td>training/6213</td>\n",
       "      <td>[earn]</td>\n",
       "      <td>MONY REAL ESTATE INVESTORS &amp;lt;MYM&gt; 3RD QTR FE...</td>\n",
       "    </tr>\n",
       "  </tbody>\n",
       "</table>\n",
       "<p>1079 rows × 3 columns</p>\n",
       "</div>"
      ],
      "text/plain": [
       "                 ids     categories  \\\n",
       "0     training/13192         [earn]   \n",
       "1         test/15709         [earn]   \n",
       "2         test/20031          [jet]   \n",
       "3      training/4525        [crude]   \n",
       "4     training/13889        [trade]   \n",
       "...              ...            ...   \n",
       "1074  training/13120  [grain, ship]   \n",
       "1075   training/4748          [acq]   \n",
       "1076  training/12743         [jobs]   \n",
       "1077   training/5502         [earn]   \n",
       "1078   training/6213         [earn]   \n",
       "\n",
       "                                                   text  \n",
       "0     FREEDOM SAVINGS AND LOAN ASS'N &lt;FRDM> YEAR ...  \n",
       "1     NORTHWESTERN NATIONAL LIFE &lt;NWNL> UPS PAYOU...  \n",
       "2     BANGLADESH TENDERS FOR TWO MLN BARRELS PETROLE...  \n",
       "3     HOUSE SPEAKER BACKS OIL IMPORT FORECAST PLAN\\n...  \n",
       "4     VOLCKER URGES INDUSTRIAL NATIONS TO KEEP TRADE...  \n",
       "...                                                 ...  \n",
       "1074  GRAIN SHIPS LOADING AT PORTLAND\\n  There were ...  \n",
       "1075  SERVICE CONTROL BIDS FOR AMERICAN SERVICE\\n  &...  \n",
       "1076  GERMAN MARCH UNADJUSTED JOBLESS FALLS\\n  West ...  \n",
       "1077  NBD BANCORP &lt;NBD> REGULAR DIVIDEND SET\\n  Q...  \n",
       "1078  MONY REAL ESTATE INVESTORS &lt;MYM> 3RD QTR FE...  \n",
       "\n",
       "[1079 rows x 3 columns]"
      ]
     },
     "execution_count": 5,
     "metadata": {},
     "output_type": "execute_result"
    }
   ],
   "source": [
    "corpus_reduzido = corpus_df.sample(frac=0.1, random_state=666, ignore_index=True)\n",
    "corpus_reduzido"
   ]
  },
  {
   "cell_type": "markdown",
   "metadata": {
    "id": "Dg4H6rt2Dfv0"
   },
   "source": [
    "## Pré-processamento"
   ]
  },
  {
   "cell_type": "code",
   "execution_count": 6,
   "metadata": {
    "id": "sKVdVoRyWJRK"
   },
   "outputs": [],
   "source": [
    "def preproc(text):\n",
    "    ps = PorterStemmer()\n",
    "    text = text.lower()\n",
    "\n",
    "    stop_words = set(stopwords.words('english'))\n",
    "    pattern =re.compile(\"['\\.&,'\\(\\)><\\,;\\s]+|(\\d+[\\./,]?)+$\")\n",
    "\n",
    "    tokens = word_tokenize(text)\n",
    "    tokens = [ps.stem(token) for token in tokens]\n",
    "    tokens = [re.sub(r\"[-']+(.*)\",r'\\1', token) for token in tokens]\n",
    "\n",
    "    return [token for token in tokens if token not in stop_words \n",
    "                                         and not pattern.match(token)\n",
    "                                         and token !='']\n"
   ]
  },
  {
   "cell_type": "code",
   "execution_count": 7,
   "metadata": {
    "id": "0Y0HgBlIyPWa"
   },
   "outputs": [],
   "source": [
    "textos = corpus_reduzido.text.to_list()"
   ]
  },
  {
   "cell_type": "markdown",
   "metadata": {
    "id": "w7lp2eVMRECr"
   },
   "source": [
    " ## Representação Bag of Words"
   ]
  },
  {
   "cell_type": "markdown",
   "metadata": {
    "id": "RXRI5hFvzI3C"
   },
   "source": [
    "Para esse exemplo será utilizada a representação Bag of Words que leva em conta a frequência de cada palavra em um texto."
   ]
  },
  {
   "cell_type": "code",
   "execution_count": 8,
   "metadata": {
    "id": "tWyR0rE_RSxx"
   },
   "outputs": [],
   "source": [
    "bow_dict = {}\n",
    "for i,doc in enumerate(textos):\n",
    "    doc_name = corpus_reduzido.ids[i]\n",
    "    bow_dict[doc_name] = dict()\n",
    "    for word in preproc(doc):\n",
    "        bow_dict[doc_name][word] = 1 if word not in bow_dict[doc_name] else bow_dict[doc_name][word]+1\n",
    "        \n"
   ]
  },
  {
   "cell_type": "code",
   "execution_count": 9,
   "metadata": {
    "id": "-wUIubCaUDRc"
   },
   "outputs": [],
   "source": [
    "bow = pd.DataFrame().from_records(bow_dict).fillna(0).T.astype(int)\n",
    "bow = bow.reindex(sorted(bow.columns), axis=1)"
   ]
  },
  {
   "cell_type": "code",
   "execution_count": 10,
   "metadata": {
    "colab": {
     "base_uri": "https://localhost:8080/",
     "height": 505
    },
    "id": "QWAdf5bdyBzt",
    "outputId": "8a2a58e9-064e-4fd8-9013-f7b9426af7a9"
   },
   "outputs": [
    {
     "data": {
      "text/html": [
       "<div>\n",
       "<style scoped>\n",
       "    .dataframe tbody tr th:only-of-type {\n",
       "        vertical-align: middle;\n",
       "    }\n",
       "\n",
       "    .dataframe tbody tr th {\n",
       "        vertical-align: top;\n",
       "    }\n",
       "\n",
       "    .dataframe thead th {\n",
       "        text-align: right;\n",
       "    }\n",
       "</style>\n",
       "<table border=\"1\" class=\"dataframe\">\n",
       "  <thead>\n",
       "    <tr style=\"text-align: right;\">\n",
       "      <th></th>\n",
       "      <th>/exxon</th>\n",
       "      <th>/oapec/opec</th>\n",
       "      <th>/ompani</th>\n",
       "      <th>1/march</th>\n",
       "      <th>10.5p</th>\n",
       "      <th>100dlr-a-shar</th>\n",
       "      <th>109-7/8</th>\n",
       "      <th>10th</th>\n",
       "      <th>10year</th>\n",
       "      <th>111-1</th>\n",
       "      <th>...</th>\n",
       "      <th>zico</th>\n",
       "      <th>zimbabw</th>\n",
       "      <th>zimbabwe</th>\n",
       "      <th>zinc</th>\n",
       "      <th>zoet</th>\n",
       "      <th>zone</th>\n",
       "      <th>zoran</th>\n",
       "      <th>zorinski</th>\n",
       "      <th>zuccherifici</th>\n",
       "      <th>zurich</th>\n",
       "    </tr>\n",
       "  </thead>\n",
       "  <tbody>\n",
       "    <tr>\n",
       "      <th>test/14863</th>\n",
       "      <td>0</td>\n",
       "      <td>0</td>\n",
       "      <td>0</td>\n",
       "      <td>0</td>\n",
       "      <td>0</td>\n",
       "      <td>0</td>\n",
       "      <td>0</td>\n",
       "      <td>0</td>\n",
       "      <td>0</td>\n",
       "      <td>0</td>\n",
       "      <td>...</td>\n",
       "      <td>0</td>\n",
       "      <td>0</td>\n",
       "      <td>0</td>\n",
       "      <td>0</td>\n",
       "      <td>0</td>\n",
       "      <td>0</td>\n",
       "      <td>0</td>\n",
       "      <td>0</td>\n",
       "      <td>0</td>\n",
       "      <td>0</td>\n",
       "    </tr>\n",
       "    <tr>\n",
       "      <th>test/14918</th>\n",
       "      <td>0</td>\n",
       "      <td>0</td>\n",
       "      <td>0</td>\n",
       "      <td>0</td>\n",
       "      <td>0</td>\n",
       "      <td>0</td>\n",
       "      <td>0</td>\n",
       "      <td>0</td>\n",
       "      <td>0</td>\n",
       "      <td>0</td>\n",
       "      <td>...</td>\n",
       "      <td>0</td>\n",
       "      <td>0</td>\n",
       "      <td>0</td>\n",
       "      <td>0</td>\n",
       "      <td>0</td>\n",
       "      <td>0</td>\n",
       "      <td>0</td>\n",
       "      <td>0</td>\n",
       "      <td>0</td>\n",
       "      <td>0</td>\n",
       "    </tr>\n",
       "    <tr>\n",
       "      <th>test/14928</th>\n",
       "      <td>0</td>\n",
       "      <td>0</td>\n",
       "      <td>0</td>\n",
       "      <td>0</td>\n",
       "      <td>0</td>\n",
       "      <td>0</td>\n",
       "      <td>0</td>\n",
       "      <td>0</td>\n",
       "      <td>0</td>\n",
       "      <td>0</td>\n",
       "      <td>...</td>\n",
       "      <td>0</td>\n",
       "      <td>0</td>\n",
       "      <td>0</td>\n",
       "      <td>0</td>\n",
       "      <td>0</td>\n",
       "      <td>0</td>\n",
       "      <td>0</td>\n",
       "      <td>0</td>\n",
       "      <td>0</td>\n",
       "      <td>0</td>\n",
       "    </tr>\n",
       "    <tr>\n",
       "      <th>test/14965</th>\n",
       "      <td>0</td>\n",
       "      <td>0</td>\n",
       "      <td>0</td>\n",
       "      <td>0</td>\n",
       "      <td>0</td>\n",
       "      <td>0</td>\n",
       "      <td>0</td>\n",
       "      <td>0</td>\n",
       "      <td>0</td>\n",
       "      <td>0</td>\n",
       "      <td>...</td>\n",
       "      <td>0</td>\n",
       "      <td>0</td>\n",
       "      <td>0</td>\n",
       "      <td>0</td>\n",
       "      <td>0</td>\n",
       "      <td>0</td>\n",
       "      <td>0</td>\n",
       "      <td>0</td>\n",
       "      <td>0</td>\n",
       "      <td>0</td>\n",
       "    </tr>\n",
       "    <tr>\n",
       "      <th>test/14969</th>\n",
       "      <td>0</td>\n",
       "      <td>0</td>\n",
       "      <td>0</td>\n",
       "      <td>0</td>\n",
       "      <td>0</td>\n",
       "      <td>0</td>\n",
       "      <td>0</td>\n",
       "      <td>0</td>\n",
       "      <td>0</td>\n",
       "      <td>0</td>\n",
       "      <td>...</td>\n",
       "      <td>0</td>\n",
       "      <td>0</td>\n",
       "      <td>0</td>\n",
       "      <td>0</td>\n",
       "      <td>0</td>\n",
       "      <td>0</td>\n",
       "      <td>0</td>\n",
       "      <td>0</td>\n",
       "      <td>0</td>\n",
       "      <td>0</td>\n",
       "    </tr>\n",
       "    <tr>\n",
       "      <th>...</th>\n",
       "      <td>...</td>\n",
       "      <td>...</td>\n",
       "      <td>...</td>\n",
       "      <td>...</td>\n",
       "      <td>...</td>\n",
       "      <td>...</td>\n",
       "      <td>...</td>\n",
       "      <td>...</td>\n",
       "      <td>...</td>\n",
       "      <td>...</td>\n",
       "      <td>...</td>\n",
       "      <td>...</td>\n",
       "      <td>...</td>\n",
       "      <td>...</td>\n",
       "      <td>...</td>\n",
       "      <td>...</td>\n",
       "      <td>...</td>\n",
       "      <td>...</td>\n",
       "      <td>...</td>\n",
       "      <td>...</td>\n",
       "      <td>...</td>\n",
       "    </tr>\n",
       "    <tr>\n",
       "      <th>training/9936</th>\n",
       "      <td>0</td>\n",
       "      <td>0</td>\n",
       "      <td>0</td>\n",
       "      <td>0</td>\n",
       "      <td>0</td>\n",
       "      <td>0</td>\n",
       "      <td>0</td>\n",
       "      <td>0</td>\n",
       "      <td>0</td>\n",
       "      <td>0</td>\n",
       "      <td>...</td>\n",
       "      <td>0</td>\n",
       "      <td>0</td>\n",
       "      <td>0</td>\n",
       "      <td>0</td>\n",
       "      <td>0</td>\n",
       "      <td>0</td>\n",
       "      <td>0</td>\n",
       "      <td>0</td>\n",
       "      <td>0</td>\n",
       "      <td>0</td>\n",
       "    </tr>\n",
       "    <tr>\n",
       "      <th>training/9942</th>\n",
       "      <td>0</td>\n",
       "      <td>0</td>\n",
       "      <td>0</td>\n",
       "      <td>0</td>\n",
       "      <td>0</td>\n",
       "      <td>0</td>\n",
       "      <td>0</td>\n",
       "      <td>0</td>\n",
       "      <td>0</td>\n",
       "      <td>0</td>\n",
       "      <td>...</td>\n",
       "      <td>0</td>\n",
       "      <td>0</td>\n",
       "      <td>0</td>\n",
       "      <td>0</td>\n",
       "      <td>0</td>\n",
       "      <td>0</td>\n",
       "      <td>0</td>\n",
       "      <td>0</td>\n",
       "      <td>0</td>\n",
       "      <td>0</td>\n",
       "    </tr>\n",
       "    <tr>\n",
       "      <th>training/9952</th>\n",
       "      <td>0</td>\n",
       "      <td>0</td>\n",
       "      <td>0</td>\n",
       "      <td>0</td>\n",
       "      <td>0</td>\n",
       "      <td>0</td>\n",
       "      <td>0</td>\n",
       "      <td>0</td>\n",
       "      <td>0</td>\n",
       "      <td>0</td>\n",
       "      <td>...</td>\n",
       "      <td>0</td>\n",
       "      <td>0</td>\n",
       "      <td>0</td>\n",
       "      <td>0</td>\n",
       "      <td>0</td>\n",
       "      <td>0</td>\n",
       "      <td>0</td>\n",
       "      <td>0</td>\n",
       "      <td>0</td>\n",
       "      <td>0</td>\n",
       "    </tr>\n",
       "    <tr>\n",
       "      <th>training/9953</th>\n",
       "      <td>0</td>\n",
       "      <td>0</td>\n",
       "      <td>0</td>\n",
       "      <td>0</td>\n",
       "      <td>0</td>\n",
       "      <td>0</td>\n",
       "      <td>0</td>\n",
       "      <td>0</td>\n",
       "      <td>0</td>\n",
       "      <td>0</td>\n",
       "      <td>...</td>\n",
       "      <td>0</td>\n",
       "      <td>0</td>\n",
       "      <td>0</td>\n",
       "      <td>0</td>\n",
       "      <td>0</td>\n",
       "      <td>0</td>\n",
       "      <td>0</td>\n",
       "      <td>0</td>\n",
       "      <td>0</td>\n",
       "      <td>0</td>\n",
       "    </tr>\n",
       "    <tr>\n",
       "      <th>training/9958</th>\n",
       "      <td>0</td>\n",
       "      <td>0</td>\n",
       "      <td>0</td>\n",
       "      <td>0</td>\n",
       "      <td>0</td>\n",
       "      <td>0</td>\n",
       "      <td>0</td>\n",
       "      <td>0</td>\n",
       "      <td>0</td>\n",
       "      <td>0</td>\n",
       "      <td>...</td>\n",
       "      <td>0</td>\n",
       "      <td>0</td>\n",
       "      <td>0</td>\n",
       "      <td>0</td>\n",
       "      <td>0</td>\n",
       "      <td>0</td>\n",
       "      <td>0</td>\n",
       "      <td>0</td>\n",
       "      <td>0</td>\n",
       "      <td>0</td>\n",
       "    </tr>\n",
       "  </tbody>\n",
       "</table>\n",
       "<p>1079 rows × 7508 columns</p>\n",
       "</div>"
      ],
      "text/plain": [
       "               /exxon  /oapec/opec  /ompani  1/march  10.5p  100dlr-a-shar  \\\n",
       "test/14863          0            0        0        0      0              0   \n",
       "test/14918          0            0        0        0      0              0   \n",
       "test/14928          0            0        0        0      0              0   \n",
       "test/14965          0            0        0        0      0              0   \n",
       "test/14969          0            0        0        0      0              0   \n",
       "...               ...          ...      ...      ...    ...            ...   \n",
       "training/9936       0            0        0        0      0              0   \n",
       "training/9942       0            0        0        0      0              0   \n",
       "training/9952       0            0        0        0      0              0   \n",
       "training/9953       0            0        0        0      0              0   \n",
       "training/9958       0            0        0        0      0              0   \n",
       "\n",
       "               109-7/8  10th  10year  111-1  ...  zico  zimbabw  zimbabwe  \\\n",
       "test/14863           0     0       0      0  ...     0        0         0   \n",
       "test/14918           0     0       0      0  ...     0        0         0   \n",
       "test/14928           0     0       0      0  ...     0        0         0   \n",
       "test/14965           0     0       0      0  ...     0        0         0   \n",
       "test/14969           0     0       0      0  ...     0        0         0   \n",
       "...                ...   ...     ...    ...  ...   ...      ...       ...   \n",
       "training/9936        0     0       0      0  ...     0        0         0   \n",
       "training/9942        0     0       0      0  ...     0        0         0   \n",
       "training/9952        0     0       0      0  ...     0        0         0   \n",
       "training/9953        0     0       0      0  ...     0        0         0   \n",
       "training/9958        0     0       0      0  ...     0        0         0   \n",
       "\n",
       "               zinc  zoet  zone  zoran  zorinski  zuccherifici  zurich  \n",
       "test/14863        0     0     0      0         0             0       0  \n",
       "test/14918        0     0     0      0         0             0       0  \n",
       "test/14928        0     0     0      0         0             0       0  \n",
       "test/14965        0     0     0      0         0             0       0  \n",
       "test/14969        0     0     0      0         0             0       0  \n",
       "...             ...   ...   ...    ...       ...           ...     ...  \n",
       "training/9936     0     0     0      0         0             0       0  \n",
       "training/9942     0     0     0      0         0             0       0  \n",
       "training/9952     0     0     0      0         0             0       0  \n",
       "training/9953     0     0     0      0         0             0       0  \n",
       "training/9958     0     0     0      0         0             0       0  \n",
       "\n",
       "[1079 rows x 7508 columns]"
      ]
     },
     "execution_count": 10,
     "metadata": {},
     "output_type": "execute_result"
    }
   ],
   "source": [
    "bow"
   ]
  },
  {
   "cell_type": "markdown",
   "metadata": {
    "id": "_pazRLf-FTQ2"
   },
   "source": [
    "## Representação TF-IDF"
   ]
  },
  {
   "cell_type": "markdown",
   "metadata": {
    "id": "DfN7EKCd1BGr"
   },
   "source": [
    "### Term Frequency"
   ]
  },
  {
   "cell_type": "code",
   "execution_count": 11,
   "metadata": {
    "id": "n5_E9Syb36JR"
   },
   "outputs": [],
   "source": [
    "tf = {}\n",
    "\n",
    "for i, doc in enumerate(textos):\n",
    "    \n",
    "    doc_name = corpus_reduzido.ids[i]\n",
    "    tf[doc_name] = dict()\n",
    "    words = preproc(doc)\n",
    "\n",
    "    for word in words:\n",
    "        tf[doc_name][word] = (1 if  word not in tf[doc_name] \n",
    "                                    else tf[doc_name][word]+1)\n",
    "    tf[doc_name] = {word:(freq/len(words)) \n",
    "                    for word, freq in tf[doc_name].items()}\n",
    "\n"
   ]
  },
  {
   "cell_type": "markdown",
   "metadata": {
    "id": "biz-O6TM9dT9"
   },
   "source": [
    "### Inverse Document Frequency"
   ]
  },
  {
   "cell_type": "code",
   "execution_count": 12,
   "metadata": {
    "id": "IntMaG-dC9Gi"
   },
   "outputs": [],
   "source": [
    "import math\n",
    "vocab = bow.columns\n",
    "idf =  {}\n",
    "\n",
    "for word in vocab:\n",
    "    idf[word] = math.log(len(bow)/len(bow[word][bow[word]!=0]))\n",
    "    \n",
    "    \n"
   ]
  },
  {
   "cell_type": "markdown",
   "metadata": {
    "id": "tdqfDGHhHkug"
   },
   "source": [
    "### TF-IDF"
   ]
  },
  {
   "cell_type": "code",
   "execution_count": 13,
   "metadata": {
    "id": "64zdQcrwHoIm"
   },
   "outputs": [],
   "source": [
    "tfidf_dict = {}\n",
    "\n",
    "for doc in tf:\n",
    "    tfidf_dict[doc] = dict()\n",
    "    for word in tf[doc]:\n",
    "        tfidf_dict[doc][word] = tf[doc][word]*idf[word]"
   ]
  },
  {
   "cell_type": "code",
   "execution_count": 14,
   "metadata": {
    "id": "_Z-Q7J1nIRFe"
   },
   "outputs": [],
   "source": [
    "tfidf = pd.DataFrame().from_records(tfidf_dict).fillna(0).T\n",
    "tfidf = tfidf.reindex(sorted(tfidf.columns), axis=1)"
   ]
  },
  {
   "cell_type": "code",
   "execution_count": 15,
   "metadata": {
    "colab": {
     "base_uri": "https://localhost:8080/",
     "height": 505
    },
    "id": "m0f5TK84KG33",
    "outputId": "081bfd7e-fdc7-4fb9-a7f3-2261083aa9e7"
   },
   "outputs": [
    {
     "data": {
      "text/html": [
       "<div>\n",
       "<style scoped>\n",
       "    .dataframe tbody tr th:only-of-type {\n",
       "        vertical-align: middle;\n",
       "    }\n",
       "\n",
       "    .dataframe tbody tr th {\n",
       "        vertical-align: top;\n",
       "    }\n",
       "\n",
       "    .dataframe thead th {\n",
       "        text-align: right;\n",
       "    }\n",
       "</style>\n",
       "<table border=\"1\" class=\"dataframe\">\n",
       "  <thead>\n",
       "    <tr style=\"text-align: right;\">\n",
       "      <th></th>\n",
       "      <th>/exxon</th>\n",
       "      <th>/oapec/opec</th>\n",
       "      <th>/ompani</th>\n",
       "      <th>1/march</th>\n",
       "      <th>10.5p</th>\n",
       "      <th>100dlr-a-shar</th>\n",
       "      <th>109-7/8</th>\n",
       "      <th>10th</th>\n",
       "      <th>10year</th>\n",
       "      <th>111-1</th>\n",
       "      <th>...</th>\n",
       "      <th>zico</th>\n",
       "      <th>zimbabw</th>\n",
       "      <th>zimbabwe</th>\n",
       "      <th>zinc</th>\n",
       "      <th>zoet</th>\n",
       "      <th>zone</th>\n",
       "      <th>zoran</th>\n",
       "      <th>zorinski</th>\n",
       "      <th>zuccherifici</th>\n",
       "      <th>zurich</th>\n",
       "    </tr>\n",
       "  </thead>\n",
       "  <tbody>\n",
       "    <tr>\n",
       "      <th>test/14863</th>\n",
       "      <td>0.0</td>\n",
       "      <td>0.0</td>\n",
       "      <td>0.0</td>\n",
       "      <td>0.0</td>\n",
       "      <td>0.0</td>\n",
       "      <td>0.0</td>\n",
       "      <td>0.0</td>\n",
       "      <td>0.0</td>\n",
       "      <td>0.0</td>\n",
       "      <td>0.0</td>\n",
       "      <td>...</td>\n",
       "      <td>0.0</td>\n",
       "      <td>0.0</td>\n",
       "      <td>0.0</td>\n",
       "      <td>0.0</td>\n",
       "      <td>0.0</td>\n",
       "      <td>0.0</td>\n",
       "      <td>0.0</td>\n",
       "      <td>0.0</td>\n",
       "      <td>0.0</td>\n",
       "      <td>0.0</td>\n",
       "    </tr>\n",
       "    <tr>\n",
       "      <th>test/14918</th>\n",
       "      <td>0.0</td>\n",
       "      <td>0.0</td>\n",
       "      <td>0.0</td>\n",
       "      <td>0.0</td>\n",
       "      <td>0.0</td>\n",
       "      <td>0.0</td>\n",
       "      <td>0.0</td>\n",
       "      <td>0.0</td>\n",
       "      <td>0.0</td>\n",
       "      <td>0.0</td>\n",
       "      <td>...</td>\n",
       "      <td>0.0</td>\n",
       "      <td>0.0</td>\n",
       "      <td>0.0</td>\n",
       "      <td>0.0</td>\n",
       "      <td>0.0</td>\n",
       "      <td>0.0</td>\n",
       "      <td>0.0</td>\n",
       "      <td>0.0</td>\n",
       "      <td>0.0</td>\n",
       "      <td>0.0</td>\n",
       "    </tr>\n",
       "    <tr>\n",
       "      <th>test/14928</th>\n",
       "      <td>0.0</td>\n",
       "      <td>0.0</td>\n",
       "      <td>0.0</td>\n",
       "      <td>0.0</td>\n",
       "      <td>0.0</td>\n",
       "      <td>0.0</td>\n",
       "      <td>0.0</td>\n",
       "      <td>0.0</td>\n",
       "      <td>0.0</td>\n",
       "      <td>0.0</td>\n",
       "      <td>...</td>\n",
       "      <td>0.0</td>\n",
       "      <td>0.0</td>\n",
       "      <td>0.0</td>\n",
       "      <td>0.0</td>\n",
       "      <td>0.0</td>\n",
       "      <td>0.0</td>\n",
       "      <td>0.0</td>\n",
       "      <td>0.0</td>\n",
       "      <td>0.0</td>\n",
       "      <td>0.0</td>\n",
       "    </tr>\n",
       "    <tr>\n",
       "      <th>test/14965</th>\n",
       "      <td>0.0</td>\n",
       "      <td>0.0</td>\n",
       "      <td>0.0</td>\n",
       "      <td>0.0</td>\n",
       "      <td>0.0</td>\n",
       "      <td>0.0</td>\n",
       "      <td>0.0</td>\n",
       "      <td>0.0</td>\n",
       "      <td>0.0</td>\n",
       "      <td>0.0</td>\n",
       "      <td>...</td>\n",
       "      <td>0.0</td>\n",
       "      <td>0.0</td>\n",
       "      <td>0.0</td>\n",
       "      <td>0.0</td>\n",
       "      <td>0.0</td>\n",
       "      <td>0.0</td>\n",
       "      <td>0.0</td>\n",
       "      <td>0.0</td>\n",
       "      <td>0.0</td>\n",
       "      <td>0.0</td>\n",
       "    </tr>\n",
       "    <tr>\n",
       "      <th>test/14969</th>\n",
       "      <td>0.0</td>\n",
       "      <td>0.0</td>\n",
       "      <td>0.0</td>\n",
       "      <td>0.0</td>\n",
       "      <td>0.0</td>\n",
       "      <td>0.0</td>\n",
       "      <td>0.0</td>\n",
       "      <td>0.0</td>\n",
       "      <td>0.0</td>\n",
       "      <td>0.0</td>\n",
       "      <td>...</td>\n",
       "      <td>0.0</td>\n",
       "      <td>0.0</td>\n",
       "      <td>0.0</td>\n",
       "      <td>0.0</td>\n",
       "      <td>0.0</td>\n",
       "      <td>0.0</td>\n",
       "      <td>0.0</td>\n",
       "      <td>0.0</td>\n",
       "      <td>0.0</td>\n",
       "      <td>0.0</td>\n",
       "    </tr>\n",
       "    <tr>\n",
       "      <th>...</th>\n",
       "      <td>...</td>\n",
       "      <td>...</td>\n",
       "      <td>...</td>\n",
       "      <td>...</td>\n",
       "      <td>...</td>\n",
       "      <td>...</td>\n",
       "      <td>...</td>\n",
       "      <td>...</td>\n",
       "      <td>...</td>\n",
       "      <td>...</td>\n",
       "      <td>...</td>\n",
       "      <td>...</td>\n",
       "      <td>...</td>\n",
       "      <td>...</td>\n",
       "      <td>...</td>\n",
       "      <td>...</td>\n",
       "      <td>...</td>\n",
       "      <td>...</td>\n",
       "      <td>...</td>\n",
       "      <td>...</td>\n",
       "      <td>...</td>\n",
       "    </tr>\n",
       "    <tr>\n",
       "      <th>training/9936</th>\n",
       "      <td>0.0</td>\n",
       "      <td>0.0</td>\n",
       "      <td>0.0</td>\n",
       "      <td>0.0</td>\n",
       "      <td>0.0</td>\n",
       "      <td>0.0</td>\n",
       "      <td>0.0</td>\n",
       "      <td>0.0</td>\n",
       "      <td>0.0</td>\n",
       "      <td>0.0</td>\n",
       "      <td>...</td>\n",
       "      <td>0.0</td>\n",
       "      <td>0.0</td>\n",
       "      <td>0.0</td>\n",
       "      <td>0.0</td>\n",
       "      <td>0.0</td>\n",
       "      <td>0.0</td>\n",
       "      <td>0.0</td>\n",
       "      <td>0.0</td>\n",
       "      <td>0.0</td>\n",
       "      <td>0.0</td>\n",
       "    </tr>\n",
       "    <tr>\n",
       "      <th>training/9942</th>\n",
       "      <td>0.0</td>\n",
       "      <td>0.0</td>\n",
       "      <td>0.0</td>\n",
       "      <td>0.0</td>\n",
       "      <td>0.0</td>\n",
       "      <td>0.0</td>\n",
       "      <td>0.0</td>\n",
       "      <td>0.0</td>\n",
       "      <td>0.0</td>\n",
       "      <td>0.0</td>\n",
       "      <td>...</td>\n",
       "      <td>0.0</td>\n",
       "      <td>0.0</td>\n",
       "      <td>0.0</td>\n",
       "      <td>0.0</td>\n",
       "      <td>0.0</td>\n",
       "      <td>0.0</td>\n",
       "      <td>0.0</td>\n",
       "      <td>0.0</td>\n",
       "      <td>0.0</td>\n",
       "      <td>0.0</td>\n",
       "    </tr>\n",
       "    <tr>\n",
       "      <th>training/9952</th>\n",
       "      <td>0.0</td>\n",
       "      <td>0.0</td>\n",
       "      <td>0.0</td>\n",
       "      <td>0.0</td>\n",
       "      <td>0.0</td>\n",
       "      <td>0.0</td>\n",
       "      <td>0.0</td>\n",
       "      <td>0.0</td>\n",
       "      <td>0.0</td>\n",
       "      <td>0.0</td>\n",
       "      <td>...</td>\n",
       "      <td>0.0</td>\n",
       "      <td>0.0</td>\n",
       "      <td>0.0</td>\n",
       "      <td>0.0</td>\n",
       "      <td>0.0</td>\n",
       "      <td>0.0</td>\n",
       "      <td>0.0</td>\n",
       "      <td>0.0</td>\n",
       "      <td>0.0</td>\n",
       "      <td>0.0</td>\n",
       "    </tr>\n",
       "    <tr>\n",
       "      <th>training/9953</th>\n",
       "      <td>0.0</td>\n",
       "      <td>0.0</td>\n",
       "      <td>0.0</td>\n",
       "      <td>0.0</td>\n",
       "      <td>0.0</td>\n",
       "      <td>0.0</td>\n",
       "      <td>0.0</td>\n",
       "      <td>0.0</td>\n",
       "      <td>0.0</td>\n",
       "      <td>0.0</td>\n",
       "      <td>...</td>\n",
       "      <td>0.0</td>\n",
       "      <td>0.0</td>\n",
       "      <td>0.0</td>\n",
       "      <td>0.0</td>\n",
       "      <td>0.0</td>\n",
       "      <td>0.0</td>\n",
       "      <td>0.0</td>\n",
       "      <td>0.0</td>\n",
       "      <td>0.0</td>\n",
       "      <td>0.0</td>\n",
       "    </tr>\n",
       "    <tr>\n",
       "      <th>training/9958</th>\n",
       "      <td>0.0</td>\n",
       "      <td>0.0</td>\n",
       "      <td>0.0</td>\n",
       "      <td>0.0</td>\n",
       "      <td>0.0</td>\n",
       "      <td>0.0</td>\n",
       "      <td>0.0</td>\n",
       "      <td>0.0</td>\n",
       "      <td>0.0</td>\n",
       "      <td>0.0</td>\n",
       "      <td>...</td>\n",
       "      <td>0.0</td>\n",
       "      <td>0.0</td>\n",
       "      <td>0.0</td>\n",
       "      <td>0.0</td>\n",
       "      <td>0.0</td>\n",
       "      <td>0.0</td>\n",
       "      <td>0.0</td>\n",
       "      <td>0.0</td>\n",
       "      <td>0.0</td>\n",
       "      <td>0.0</td>\n",
       "    </tr>\n",
       "  </tbody>\n",
       "</table>\n",
       "<p>1079 rows × 7508 columns</p>\n",
       "</div>"
      ],
      "text/plain": [
       "               /exxon  /oapec/opec  /ompani  1/march  10.5p  100dlr-a-shar  \\\n",
       "test/14863        0.0          0.0      0.0      0.0    0.0            0.0   \n",
       "test/14918        0.0          0.0      0.0      0.0    0.0            0.0   \n",
       "test/14928        0.0          0.0      0.0      0.0    0.0            0.0   \n",
       "test/14965        0.0          0.0      0.0      0.0    0.0            0.0   \n",
       "test/14969        0.0          0.0      0.0      0.0    0.0            0.0   \n",
       "...               ...          ...      ...      ...    ...            ...   \n",
       "training/9936     0.0          0.0      0.0      0.0    0.0            0.0   \n",
       "training/9942     0.0          0.0      0.0      0.0    0.0            0.0   \n",
       "training/9952     0.0          0.0      0.0      0.0    0.0            0.0   \n",
       "training/9953     0.0          0.0      0.0      0.0    0.0            0.0   \n",
       "training/9958     0.0          0.0      0.0      0.0    0.0            0.0   \n",
       "\n",
       "               109-7/8  10th  10year  111-1  ...  zico  zimbabw  zimbabwe  \\\n",
       "test/14863         0.0   0.0     0.0    0.0  ...   0.0      0.0       0.0   \n",
       "test/14918         0.0   0.0     0.0    0.0  ...   0.0      0.0       0.0   \n",
       "test/14928         0.0   0.0     0.0    0.0  ...   0.0      0.0       0.0   \n",
       "test/14965         0.0   0.0     0.0    0.0  ...   0.0      0.0       0.0   \n",
       "test/14969         0.0   0.0     0.0    0.0  ...   0.0      0.0       0.0   \n",
       "...                ...   ...     ...    ...  ...   ...      ...       ...   \n",
       "training/9936      0.0   0.0     0.0    0.0  ...   0.0      0.0       0.0   \n",
       "training/9942      0.0   0.0     0.0    0.0  ...   0.0      0.0       0.0   \n",
       "training/9952      0.0   0.0     0.0    0.0  ...   0.0      0.0       0.0   \n",
       "training/9953      0.0   0.0     0.0    0.0  ...   0.0      0.0       0.0   \n",
       "training/9958      0.0   0.0     0.0    0.0  ...   0.0      0.0       0.0   \n",
       "\n",
       "               zinc  zoet  zone  zoran  zorinski  zuccherifici  zurich  \n",
       "test/14863      0.0   0.0   0.0    0.0       0.0           0.0     0.0  \n",
       "test/14918      0.0   0.0   0.0    0.0       0.0           0.0     0.0  \n",
       "test/14928      0.0   0.0   0.0    0.0       0.0           0.0     0.0  \n",
       "test/14965      0.0   0.0   0.0    0.0       0.0           0.0     0.0  \n",
       "test/14969      0.0   0.0   0.0    0.0       0.0           0.0     0.0  \n",
       "...             ...   ...   ...    ...       ...           ...     ...  \n",
       "training/9936   0.0   0.0   0.0    0.0       0.0           0.0     0.0  \n",
       "training/9942   0.0   0.0   0.0    0.0       0.0           0.0     0.0  \n",
       "training/9952   0.0   0.0   0.0    0.0       0.0           0.0     0.0  \n",
       "training/9953   0.0   0.0   0.0    0.0       0.0           0.0     0.0  \n",
       "training/9958   0.0   0.0   0.0    0.0       0.0           0.0     0.0  \n",
       "\n",
       "[1079 rows x 7508 columns]"
      ]
     },
     "execution_count": 15,
     "metadata": {},
     "output_type": "execute_result"
    }
   ],
   "source": [
    "tfidf"
   ]
  },
  {
   "cell_type": "markdown",
   "metadata": {
    "id": "-KFNO0KzKX6G"
   },
   "source": [
    "## Similaridade entre Documentos"
   ]
  },
  {
   "cell_type": "markdown",
   "metadata": {
    "id": "1SzXxeZcKcRA"
   },
   "source": [
    "### Similaridade de Cosseno"
   ]
  },
  {
   "cell_type": "code",
   "execution_count": 16,
   "metadata": {
    "id": "X_4qjBBfKjMQ"
   },
   "outputs": [],
   "source": [
    "def cosine_similarity(A, B):\n",
    "    dot = sum(a*b for a,b in zip(A,B))\n",
    "    normA = (sum(a**2 for a in A))**0.5\n",
    "    normB = (sum(b**2 for b in B))**0.5\n",
    "    return dot/(normA*normB)\n"
   ]
  },
  {
   "cell_type": "code",
   "execution_count": 17,
   "metadata": {
    "id": "_k7Z5KYoVD-R"
   },
   "outputs": [],
   "source": [
    "def comp(id_a, id_b, embedding):\n",
    "    a = embedding.T[id_a].values\n",
    "    b = embedding.T[id_b].values\n",
    "    return cosine_similarity(a, b)\n"
   ]
  },
  {
   "cell_type": "markdown",
   "metadata": {
    "id": "ecX6PUPf3f0c"
   },
   "source": [
    "### Função de Avaliação"
   ]
  },
  {
   "cell_type": "code",
   "execution_count": 18,
   "metadata": {
    "id": "Wn0QPfu-d-R6"
   },
   "outputs": [],
   "source": [
    "def get_categories(df, id):\n",
    "    return set(df[df.ids==id].categories.explode())\n"
   ]
  },
  {
   "cell_type": "markdown",
   "metadata": {
    "id": "e28NIpTH66da"
   },
   "source": [
    "A função à seguir retorna uma tabela (lista) de 10 posições indicando a quantidade de recuperações corretas por posição no rank de similaridade"
   ]
  },
  {
   "cell_type": "code",
   "execution_count": 19,
   "metadata": {
    "id": "RFLqXgGGK7kE"
   },
   "outputs": [],
   "source": [
    "def get_score(embedding, df):\n",
    "\n",
    "    scores = [0]*10\n",
    "    ids = df.ids.to_list()\n",
    "    \n",
    "    for id_a in tqdm(ids):\n",
    "        rank = [(id_b, comp(id_a, id_b,embedding)) for id_b in ids\n",
    "                if id_b!=id_a]\n",
    "    \n",
    "        top10 = sorted(rank, key=lambda pair : pair[1], reverse=True)[:10]\n",
    "    \n",
    "        for i, (id, _)in enumerate(top10):\n",
    "            cats_a = get_categories(df,id_a)\n",
    "            cats_b = get_categories(df,id)\n",
    "            if len(cats_a & cats_b)!=0 :\n",
    "                scores[i]+=1\n",
    "    return scores"
   ]
  },
  {
   "cell_type": "code",
   "execution_count": 25,
   "metadata": {
    "id": "_kGSvtrxsHjp"
   },
   "outputs": [],
   "source": [
    "def gen_table(scores):\n",
    "    pontuacao = pd.DataFrame(\n",
    "    {'Posição':range(1,11),\n",
    "     'Acertos': scores,\n",
    "    'Acurácia':[acertos/len(corpus_reduzido) for acertos in scores]})\n",
    "    pontuacao.set_index(pontuacao.columns[0], inplace=True)\n",
    "    return pontuacao"
   ]
  },
  {
   "cell_type": "markdown",
   "metadata": {
    "id": "3CycYeCMSmM3"
   },
   "source": [
    "### Similaridade por Bag of Words (contagem)"
   ]
  },
  {
   "cell_type": "code",
   "execution_count": 21,
   "metadata": {
    "colab": {
     "base_uri": "https://localhost:8080/",
     "height": 49,
     "referenced_widgets": [
      "3f6a6d9bd7114829b0c4b78a54bbb9aa",
      "11f3ddb750e5424f86bba7e01ac93d6a",
      "edb96ec4e05d4f919e693be3f0ff4149",
      "184fc2bebb3f4f5db73e9b99d660a0c0",
      "b368cfb00a0e46afbf1d025f31b44e42",
      "a399650b0b1c43e0a5808fa4c23a2fef",
      "1e23025798c4451eb365ff9b103a9f16",
      "89f397c25c4a4119a41e1eb16faea401",
      "82990c1447bd4b5ba73b8b23349976ce",
      "51f95f6946e34909b90b0c36394e1ea4",
      "1fbbcd5b54a84f73a9e96671a6712508"
     ]
    },
    "id": "vFeoQqGyffJf",
    "outputId": "671e6220-ae5a-4309-9089-62a6069de571"
   },
   "outputs": [
    {
     "data": {
      "application/vnd.jupyter.widget-view+json": {
       "model_id": "8bcb79b51f10481abec3fa2566428135",
       "version_major": 2,
       "version_minor": 0
      },
      "text/plain": [
       "  0%|          | 0/1079 [00:00<?, ?it/s]"
      ]
     },
     "metadata": {},
     "output_type": "display_data"
    }
   ],
   "source": [
    "scores_bow = get_score(bow, corpus_reduzido)"
   ]
  },
  {
   "cell_type": "markdown",
   "metadata": {
    "id": "bupmRWndsdkI"
   },
   "source": [
    "A seguir, é possível ver a quantidade de acertos por posição em nosso processo de recuperação utilizando a representação Bag of Words de contagem: "
   ]
  },
  {
   "cell_type": "code",
   "execution_count": 22,
   "metadata": {
    "id": "hc4HKWhuoFLu"
   },
   "outputs": [
    {
     "data": {
      "text/html": [
       "<div>\n",
       "<style scoped>\n",
       "    .dataframe tbody tr th:only-of-type {\n",
       "        vertical-align: middle;\n",
       "    }\n",
       "\n",
       "    .dataframe tbody tr th {\n",
       "        vertical-align: top;\n",
       "    }\n",
       "\n",
       "    .dataframe thead th {\n",
       "        text-align: right;\n",
       "    }\n",
       "</style>\n",
       "<table border=\"1\" class=\"dataframe\">\n",
       "  <thead>\n",
       "    <tr style=\"text-align: right;\">\n",
       "      <th></th>\n",
       "      <th>Acertos</th>\n",
       "      <th>Acurácia</th>\n",
       "    </tr>\n",
       "    <tr>\n",
       "      <th>Posição</th>\n",
       "      <th></th>\n",
       "      <th></th>\n",
       "    </tr>\n",
       "  </thead>\n",
       "  <tbody>\n",
       "    <tr>\n",
       "      <th>1</th>\n",
       "      <td>875</td>\n",
       "      <td>0.810936</td>\n",
       "    </tr>\n",
       "    <tr>\n",
       "      <th>2</th>\n",
       "      <td>819</td>\n",
       "      <td>0.759036</td>\n",
       "    </tr>\n",
       "    <tr>\n",
       "      <th>3</th>\n",
       "      <td>796</td>\n",
       "      <td>0.737720</td>\n",
       "    </tr>\n",
       "    <tr>\n",
       "      <th>4</th>\n",
       "      <td>763</td>\n",
       "      <td>0.707136</td>\n",
       "    </tr>\n",
       "    <tr>\n",
       "      <th>5</th>\n",
       "      <td>745</td>\n",
       "      <td>0.690454</td>\n",
       "    </tr>\n",
       "    <tr>\n",
       "      <th>6</th>\n",
       "      <td>744</td>\n",
       "      <td>0.689527</td>\n",
       "    </tr>\n",
       "    <tr>\n",
       "      <th>7</th>\n",
       "      <td>727</td>\n",
       "      <td>0.673772</td>\n",
       "    </tr>\n",
       "    <tr>\n",
       "      <th>8</th>\n",
       "      <td>705</td>\n",
       "      <td>0.653383</td>\n",
       "    </tr>\n",
       "    <tr>\n",
       "      <th>9</th>\n",
       "      <td>706</td>\n",
       "      <td>0.654310</td>\n",
       "    </tr>\n",
       "    <tr>\n",
       "      <th>10</th>\n",
       "      <td>686</td>\n",
       "      <td>0.635774</td>\n",
       "    </tr>\n",
       "  </tbody>\n",
       "</table>\n",
       "</div>"
      ],
      "text/plain": [
       "         Acertos  Acurácia\n",
       "Posição                   \n",
       "1            875  0.810936\n",
       "2            819  0.759036\n",
       "3            796  0.737720\n",
       "4            763  0.707136\n",
       "5            745  0.690454\n",
       "6            744  0.689527\n",
       "7            727  0.673772\n",
       "8            705  0.653383\n",
       "9            706  0.654310\n",
       "10           686  0.635774"
      ]
     },
     "execution_count": 22,
     "metadata": {},
     "output_type": "execute_result"
    }
   ],
   "source": [
    "gen_table(scores_bow)"
   ]
  },
  {
   "cell_type": "markdown",
   "metadata": {
    "id": "e67d7Qil6Zb4"
   },
   "source": [
    "### Similaridade por TF-IDF"
   ]
  },
  {
   "cell_type": "code",
   "execution_count": 23,
   "metadata": {
    "id": "b5vUpMF5Mz4Y"
   },
   "outputs": [
    {
     "data": {
      "application/vnd.jupyter.widget-view+json": {
       "model_id": "2e1798204f044c9697e1dff6868870fc",
       "version_major": 2,
       "version_minor": 0
      },
      "text/plain": [
       "  0%|          | 0/1079 [00:00<?, ?it/s]"
      ]
     },
     "metadata": {},
     "output_type": "display_data"
    }
   ],
   "source": [
    "scores_tfidf = get_score(tfidf, corpus_reduzido)"
   ]
  },
  {
   "cell_type": "markdown",
   "metadata": {
    "id": "aUTN_NYFvhEC"
   },
   "source": [
    "A seguir, é possível ver a quantidade de acertos por posição em nosso processo de recuperação utilizando a representação TF-IDF: "
   ]
  },
  {
   "cell_type": "code",
   "execution_count": 26,
   "metadata": {
    "id": "cQLdmeJdvlGl"
   },
   "outputs": [
    {
     "data": {
      "text/html": [
       "<div>\n",
       "<style scoped>\n",
       "    .dataframe tbody tr th:only-of-type {\n",
       "        vertical-align: middle;\n",
       "    }\n",
       "\n",
       "    .dataframe tbody tr th {\n",
       "        vertical-align: top;\n",
       "    }\n",
       "\n",
       "    .dataframe thead th {\n",
       "        text-align: right;\n",
       "    }\n",
       "</style>\n",
       "<table border=\"1\" class=\"dataframe\">\n",
       "  <thead>\n",
       "    <tr style=\"text-align: right;\">\n",
       "      <th></th>\n",
       "      <th>Acertos</th>\n",
       "      <th>Acurácia</th>\n",
       "    </tr>\n",
       "    <tr>\n",
       "      <th>Posição</th>\n",
       "      <th></th>\n",
       "      <th></th>\n",
       "    </tr>\n",
       "  </thead>\n",
       "  <tbody>\n",
       "    <tr>\n",
       "      <th>1</th>\n",
       "      <td>832</td>\n",
       "      <td>0.771084</td>\n",
       "    </tr>\n",
       "    <tr>\n",
       "      <th>2</th>\n",
       "      <td>827</td>\n",
       "      <td>0.766450</td>\n",
       "    </tr>\n",
       "    <tr>\n",
       "      <th>3</th>\n",
       "      <td>789</td>\n",
       "      <td>0.731233</td>\n",
       "    </tr>\n",
       "    <tr>\n",
       "      <th>4</th>\n",
       "      <td>756</td>\n",
       "      <td>0.700649</td>\n",
       "    </tr>\n",
       "    <tr>\n",
       "      <th>5</th>\n",
       "      <td>734</td>\n",
       "      <td>0.680259</td>\n",
       "    </tr>\n",
       "    <tr>\n",
       "      <th>6</th>\n",
       "      <td>729</td>\n",
       "      <td>0.675626</td>\n",
       "    </tr>\n",
       "    <tr>\n",
       "      <th>7</th>\n",
       "      <td>719</td>\n",
       "      <td>0.666358</td>\n",
       "    </tr>\n",
       "    <tr>\n",
       "      <th>8</th>\n",
       "      <td>711</td>\n",
       "      <td>0.658943</td>\n",
       "    </tr>\n",
       "    <tr>\n",
       "      <th>9</th>\n",
       "      <td>698</td>\n",
       "      <td>0.646895</td>\n",
       "    </tr>\n",
       "    <tr>\n",
       "      <th>10</th>\n",
       "      <td>670</td>\n",
       "      <td>0.620945</td>\n",
       "    </tr>\n",
       "  </tbody>\n",
       "</table>\n",
       "</div>"
      ],
      "text/plain": [
       "         Acertos  Acurácia\n",
       "Posição                   \n",
       "1            832  0.771084\n",
       "2            827  0.766450\n",
       "3            789  0.731233\n",
       "4            756  0.700649\n",
       "5            734  0.680259\n",
       "6            729  0.675626\n",
       "7            719  0.666358\n",
       "8            711  0.658943\n",
       "9            698  0.646895\n",
       "10           670  0.620945"
      ]
     },
     "execution_count": 26,
     "metadata": {},
     "output_type": "execute_result"
    }
   ],
   "source": [
    "gen_table(scores_tfidf)"
   ]
  },
  {
   "cell_type": "markdown",
   "metadata": {},
   "source": [
    "### Análise dos resultados\n",
    "\n",
    "Ao analisar os resultados, é possível perceber que a representação Bag of Words obteve melhores resultados em recuperação de textos em comparação à representação TFIDF."
   ]
  },
  {
   "cell_type": "code",
   "execution_count": 49,
   "metadata": {
    "scrolled": true
   },
   "outputs": [
    {
     "data": {
      "text/html": [
       "<div>\n",
       "<style scoped>\n",
       "    .dataframe tbody tr th:only-of-type {\n",
       "        vertical-align: middle;\n",
       "    }\n",
       "\n",
       "    .dataframe tbody tr th {\n",
       "        vertical-align: top;\n",
       "    }\n",
       "\n",
       "    .dataframe thead th {\n",
       "        text-align: right;\n",
       "    }\n",
       "</style>\n",
       "<table border=\"1\" class=\"dataframe\">\n",
       "  <thead>\n",
       "    <tr style=\"text-align: right;\">\n",
       "      <th></th>\n",
       "      <th>Acertos Bow</th>\n",
       "      <th>Acertos TF-IDF</th>\n",
       "      <th>Acurácia Bow</th>\n",
       "      <th>Acurácia TF-IDF</th>\n",
       "    </tr>\n",
       "    <tr>\n",
       "      <th>Posição</th>\n",
       "      <th></th>\n",
       "      <th></th>\n",
       "      <th></th>\n",
       "      <th></th>\n",
       "    </tr>\n",
       "  </thead>\n",
       "  <tbody>\n",
       "    <tr>\n",
       "      <th>1</th>\n",
       "      <td>875</td>\n",
       "      <td>832</td>\n",
       "      <td>0.810936</td>\n",
       "      <td>0.771084</td>\n",
       "    </tr>\n",
       "    <tr>\n",
       "      <th>2</th>\n",
       "      <td>819</td>\n",
       "      <td>827</td>\n",
       "      <td>0.759036</td>\n",
       "      <td>0.766450</td>\n",
       "    </tr>\n",
       "    <tr>\n",
       "      <th>3</th>\n",
       "      <td>796</td>\n",
       "      <td>789</td>\n",
       "      <td>0.737720</td>\n",
       "      <td>0.731233</td>\n",
       "    </tr>\n",
       "    <tr>\n",
       "      <th>4</th>\n",
       "      <td>763</td>\n",
       "      <td>756</td>\n",
       "      <td>0.707136</td>\n",
       "      <td>0.700649</td>\n",
       "    </tr>\n",
       "    <tr>\n",
       "      <th>5</th>\n",
       "      <td>745</td>\n",
       "      <td>734</td>\n",
       "      <td>0.690454</td>\n",
       "      <td>0.680259</td>\n",
       "    </tr>\n",
       "    <tr>\n",
       "      <th>6</th>\n",
       "      <td>744</td>\n",
       "      <td>729</td>\n",
       "      <td>0.689527</td>\n",
       "      <td>0.675626</td>\n",
       "    </tr>\n",
       "    <tr>\n",
       "      <th>7</th>\n",
       "      <td>727</td>\n",
       "      <td>719</td>\n",
       "      <td>0.673772</td>\n",
       "      <td>0.666358</td>\n",
       "    </tr>\n",
       "    <tr>\n",
       "      <th>8</th>\n",
       "      <td>705</td>\n",
       "      <td>711</td>\n",
       "      <td>0.653383</td>\n",
       "      <td>0.658943</td>\n",
       "    </tr>\n",
       "    <tr>\n",
       "      <th>9</th>\n",
       "      <td>706</td>\n",
       "      <td>698</td>\n",
       "      <td>0.654310</td>\n",
       "      <td>0.646895</td>\n",
       "    </tr>\n",
       "    <tr>\n",
       "      <th>10</th>\n",
       "      <td>686</td>\n",
       "      <td>670</td>\n",
       "      <td>0.635774</td>\n",
       "      <td>0.620945</td>\n",
       "    </tr>\n",
       "  </tbody>\n",
       "</table>\n",
       "</div>"
      ],
      "text/plain": [
       "         Acertos Bow  Acertos TF-IDF  Acurácia Bow  Acurácia TF-IDF\n",
       "Posição                                                            \n",
       "1                875             832      0.810936         0.771084\n",
       "2                819             827      0.759036         0.766450\n",
       "3                796             789      0.737720         0.731233\n",
       "4                763             756      0.707136         0.700649\n",
       "5                745             734      0.690454         0.680259\n",
       "6                744             729      0.689527         0.675626\n",
       "7                727             719      0.673772         0.666358\n",
       "8                705             711      0.653383         0.658943\n",
       "9                706             698      0.654310         0.646895\n",
       "10               686             670      0.635774         0.620945"
      ]
     },
     "execution_count": 49,
     "metadata": {},
     "output_type": "execute_result"
    }
   ],
   "source": [
    "df = pd.concat([gen_table(scores_bow), gen_table(scores_tfidf)], axis=1)\n",
    "df.columns=[nome+(\" Bow\" if i <2 else \" TF-IDF\") for i, nome in enumerate(df.columns) ]\n",
    "df = df[sorted(df.columns)]\n",
    "df"
   ]
  }
 ],
 "metadata": {
  "colab": {
   "authorship_tag": "ABX9TyOt2XZCoLQ0PD5fImXOLvTm",
   "include_colab_link": true,
   "name": "Atividade-3ipynb",
   "provenance": []
  },
  "gpuClass": "standard",
  "kernelspec": {
   "display_name": "Python 3 (ipykernel)",
   "language": "python",
   "name": "python3"
  },
  "language_info": {
   "codemirror_mode": {
    "name": "ipython",
    "version": 3
   },
   "file_extension": ".py",
   "mimetype": "text/x-python",
   "name": "python",
   "nbconvert_exporter": "python",
   "pygments_lexer": "ipython3",
   "version": "3.10.5"
  },
  "widgets": {
   "application/vnd.jupyter.widget-state+json": {
    "11f3ddb750e5424f86bba7e01ac93d6a": {
     "model_module": "@jupyter-widgets/controls",
     "model_module_version": "1.5.0",
     "model_name": "HTMLModel",
     "state": {
      "_dom_classes": [],
      "_model_module": "@jupyter-widgets/controls",
      "_model_module_version": "1.5.0",
      "_model_name": "HTMLModel",
      "_view_count": null,
      "_view_module": "@jupyter-widgets/controls",
      "_view_module_version": "1.5.0",
      "_view_name": "HTMLView",
      "description": "",
      "description_tooltip": null,
      "layout": "IPY_MODEL_a399650b0b1c43e0a5808fa4c23a2fef",
      "placeholder": "​",
      "style": "IPY_MODEL_1e23025798c4451eb365ff9b103a9f16",
      "value": " 13%"
     }
    },
    "184fc2bebb3f4f5db73e9b99d660a0c0": {
     "model_module": "@jupyter-widgets/controls",
     "model_module_version": "1.5.0",
     "model_name": "HTMLModel",
     "state": {
      "_dom_classes": [],
      "_model_module": "@jupyter-widgets/controls",
      "_model_module_version": "1.5.0",
      "_model_name": "HTMLModel",
      "_view_count": null,
      "_view_module": "@jupyter-widgets/controls",
      "_view_module_version": "1.5.0",
      "_view_name": "HTMLView",
      "description": "",
      "description_tooltip": null,
      "layout": "IPY_MODEL_51f95f6946e34909b90b0c36394e1ea4",
      "placeholder": "​",
      "style": "IPY_MODEL_1fbbcd5b54a84f73a9e96671a6712508",
      "value": " 138/1079 [23:00&lt;2:38:29, 10.11s/it]"
     }
    },
    "1e23025798c4451eb365ff9b103a9f16": {
     "model_module": "@jupyter-widgets/controls",
     "model_module_version": "1.5.0",
     "model_name": "DescriptionStyleModel",
     "state": {
      "_model_module": "@jupyter-widgets/controls",
      "_model_module_version": "1.5.0",
      "_model_name": "DescriptionStyleModel",
      "_view_count": null,
      "_view_module": "@jupyter-widgets/base",
      "_view_module_version": "1.2.0",
      "_view_name": "StyleView",
      "description_width": ""
     }
    },
    "1fbbcd5b54a84f73a9e96671a6712508": {
     "model_module": "@jupyter-widgets/controls",
     "model_module_version": "1.5.0",
     "model_name": "DescriptionStyleModel",
     "state": {
      "_model_module": "@jupyter-widgets/controls",
      "_model_module_version": "1.5.0",
      "_model_name": "DescriptionStyleModel",
      "_view_count": null,
      "_view_module": "@jupyter-widgets/base",
      "_view_module_version": "1.2.0",
      "_view_name": "StyleView",
      "description_width": ""
     }
    },
    "3f6a6d9bd7114829b0c4b78a54bbb9aa": {
     "model_module": "@jupyter-widgets/controls",
     "model_module_version": "1.5.0",
     "model_name": "HBoxModel",
     "state": {
      "_dom_classes": [],
      "_model_module": "@jupyter-widgets/controls",
      "_model_module_version": "1.5.0",
      "_model_name": "HBoxModel",
      "_view_count": null,
      "_view_module": "@jupyter-widgets/controls",
      "_view_module_version": "1.5.0",
      "_view_name": "HBoxView",
      "box_style": "",
      "children": [
       "IPY_MODEL_11f3ddb750e5424f86bba7e01ac93d6a",
       "IPY_MODEL_edb96ec4e05d4f919e693be3f0ff4149",
       "IPY_MODEL_184fc2bebb3f4f5db73e9b99d660a0c0"
      ],
      "layout": "IPY_MODEL_b368cfb00a0e46afbf1d025f31b44e42"
     }
    },
    "51f95f6946e34909b90b0c36394e1ea4": {
     "model_module": "@jupyter-widgets/base",
     "model_module_version": "1.2.0",
     "model_name": "LayoutModel",
     "state": {
      "_model_module": "@jupyter-widgets/base",
      "_model_module_version": "1.2.0",
      "_model_name": "LayoutModel",
      "_view_count": null,
      "_view_module": "@jupyter-widgets/base",
      "_view_module_version": "1.2.0",
      "_view_name": "LayoutView",
      "align_content": null,
      "align_items": null,
      "align_self": null,
      "border": null,
      "bottom": null,
      "display": null,
      "flex": null,
      "flex_flow": null,
      "grid_area": null,
      "grid_auto_columns": null,
      "grid_auto_flow": null,
      "grid_auto_rows": null,
      "grid_column": null,
      "grid_gap": null,
      "grid_row": null,
      "grid_template_areas": null,
      "grid_template_columns": null,
      "grid_template_rows": null,
      "height": null,
      "justify_content": null,
      "justify_items": null,
      "left": null,
      "margin": null,
      "max_height": null,
      "max_width": null,
      "min_height": null,
      "min_width": null,
      "object_fit": null,
      "object_position": null,
      "order": null,
      "overflow": null,
      "overflow_x": null,
      "overflow_y": null,
      "padding": null,
      "right": null,
      "top": null,
      "visibility": null,
      "width": null
     }
    },
    "82990c1447bd4b5ba73b8b23349976ce": {
     "model_module": "@jupyter-widgets/controls",
     "model_module_version": "1.5.0",
     "model_name": "ProgressStyleModel",
     "state": {
      "_model_module": "@jupyter-widgets/controls",
      "_model_module_version": "1.5.0",
      "_model_name": "ProgressStyleModel",
      "_view_count": null,
      "_view_module": "@jupyter-widgets/base",
      "_view_module_version": "1.2.0",
      "_view_name": "StyleView",
      "bar_color": null,
      "description_width": ""
     }
    },
    "89f397c25c4a4119a41e1eb16faea401": {
     "model_module": "@jupyter-widgets/base",
     "model_module_version": "1.2.0",
     "model_name": "LayoutModel",
     "state": {
      "_model_module": "@jupyter-widgets/base",
      "_model_module_version": "1.2.0",
      "_model_name": "LayoutModel",
      "_view_count": null,
      "_view_module": "@jupyter-widgets/base",
      "_view_module_version": "1.2.0",
      "_view_name": "LayoutView",
      "align_content": null,
      "align_items": null,
      "align_self": null,
      "border": null,
      "bottom": null,
      "display": null,
      "flex": null,
      "flex_flow": null,
      "grid_area": null,
      "grid_auto_columns": null,
      "grid_auto_flow": null,
      "grid_auto_rows": null,
      "grid_column": null,
      "grid_gap": null,
      "grid_row": null,
      "grid_template_areas": null,
      "grid_template_columns": null,
      "grid_template_rows": null,
      "height": null,
      "justify_content": null,
      "justify_items": null,
      "left": null,
      "margin": null,
      "max_height": null,
      "max_width": null,
      "min_height": null,
      "min_width": null,
      "object_fit": null,
      "object_position": null,
      "order": null,
      "overflow": null,
      "overflow_x": null,
      "overflow_y": null,
      "padding": null,
      "right": null,
      "top": null,
      "visibility": null,
      "width": null
     }
    },
    "a399650b0b1c43e0a5808fa4c23a2fef": {
     "model_module": "@jupyter-widgets/base",
     "model_module_version": "1.2.0",
     "model_name": "LayoutModel",
     "state": {
      "_model_module": "@jupyter-widgets/base",
      "_model_module_version": "1.2.0",
      "_model_name": "LayoutModel",
      "_view_count": null,
      "_view_module": "@jupyter-widgets/base",
      "_view_module_version": "1.2.0",
      "_view_name": "LayoutView",
      "align_content": null,
      "align_items": null,
      "align_self": null,
      "border": null,
      "bottom": null,
      "display": null,
      "flex": null,
      "flex_flow": null,
      "grid_area": null,
      "grid_auto_columns": null,
      "grid_auto_flow": null,
      "grid_auto_rows": null,
      "grid_column": null,
      "grid_gap": null,
      "grid_row": null,
      "grid_template_areas": null,
      "grid_template_columns": null,
      "grid_template_rows": null,
      "height": null,
      "justify_content": null,
      "justify_items": null,
      "left": null,
      "margin": null,
      "max_height": null,
      "max_width": null,
      "min_height": null,
      "min_width": null,
      "object_fit": null,
      "object_position": null,
      "order": null,
      "overflow": null,
      "overflow_x": null,
      "overflow_y": null,
      "padding": null,
      "right": null,
      "top": null,
      "visibility": null,
      "width": null
     }
    },
    "b368cfb00a0e46afbf1d025f31b44e42": {
     "model_module": "@jupyter-widgets/base",
     "model_module_version": "1.2.0",
     "model_name": "LayoutModel",
     "state": {
      "_model_module": "@jupyter-widgets/base",
      "_model_module_version": "1.2.0",
      "_model_name": "LayoutModel",
      "_view_count": null,
      "_view_module": "@jupyter-widgets/base",
      "_view_module_version": "1.2.0",
      "_view_name": "LayoutView",
      "align_content": null,
      "align_items": null,
      "align_self": null,
      "border": null,
      "bottom": null,
      "display": null,
      "flex": null,
      "flex_flow": null,
      "grid_area": null,
      "grid_auto_columns": null,
      "grid_auto_flow": null,
      "grid_auto_rows": null,
      "grid_column": null,
      "grid_gap": null,
      "grid_row": null,
      "grid_template_areas": null,
      "grid_template_columns": null,
      "grid_template_rows": null,
      "height": null,
      "justify_content": null,
      "justify_items": null,
      "left": null,
      "margin": null,
      "max_height": null,
      "max_width": null,
      "min_height": null,
      "min_width": null,
      "object_fit": null,
      "object_position": null,
      "order": null,
      "overflow": null,
      "overflow_x": null,
      "overflow_y": null,
      "padding": null,
      "right": null,
      "top": null,
      "visibility": null,
      "width": null
     }
    },
    "edb96ec4e05d4f919e693be3f0ff4149": {
     "model_module": "@jupyter-widgets/controls",
     "model_module_version": "1.5.0",
     "model_name": "FloatProgressModel",
     "state": {
      "_dom_classes": [],
      "_model_module": "@jupyter-widgets/controls",
      "_model_module_version": "1.5.0",
      "_model_name": "FloatProgressModel",
      "_view_count": null,
      "_view_module": "@jupyter-widgets/controls",
      "_view_module_version": "1.5.0",
      "_view_name": "ProgressView",
      "bar_style": "",
      "description": "",
      "description_tooltip": null,
      "layout": "IPY_MODEL_89f397c25c4a4119a41e1eb16faea401",
      "max": 1079,
      "min": 0,
      "orientation": "horizontal",
      "style": "IPY_MODEL_82990c1447bd4b5ba73b8b23349976ce",
      "value": 138
     }
    }
   }
  }
 },
 "nbformat": 4,
 "nbformat_minor": 1
}
