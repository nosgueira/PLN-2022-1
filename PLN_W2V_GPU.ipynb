{
  "cells": [
    {
      "cell_type": "markdown",
      "metadata": {
        "id": "view-in-github",
        "colab_type": "text"
      },
      "source": [
        "<a href=\"https://colab.research.google.com/github/nosgueira/PLN-2022-1/blob/main/PLN_W2V_GPU.ipynb\" target=\"_parent\"><img src=\"https://colab.research.google.com/assets/colab-badge.svg\" alt=\"Open In Colab\"/></a>"
      ]
    },
    {
      "cell_type": "markdown",
      "metadata": {
        "id": "nAagbBE4eI2q"
      },
      "source": [
        "## Classification Using Word2Vec "
      ]
    },
    {
      "cell_type": "code",
      "execution_count": null,
      "metadata": {
        "id": "bS8mHtbKAG1O"
      },
      "outputs": [],
      "source": [
        "!pip install -qU gensim"
      ]
    },
    {
      "cell_type": "markdown",
      "metadata": {
        "id": "YxAZA0a4eO3l"
      },
      "source": [
        "## Imports"
      ]
    },
    {
      "cell_type": "code",
      "execution_count": null,
      "metadata": {
        "colab": {
          "base_uri": "https://localhost:8080/"
        },
        "id": "-zPxIrqW1eAL",
        "outputId": "0c31de73-79df-4373-c0cc-a4a80e998d66"
      },
      "outputs": [
        {
          "name": "stderr",
          "output_type": "stream",
          "text": [
            "[nltk_data] Downloading package punkt to /root/nltk_data...\n",
            "[nltk_data]   Package punkt is already up-to-date!\n",
            "[nltk_data] Downloading package stopwords to /root/nltk_data...\n",
            "[nltk_data]   Package stopwords is already up-to-date!\n"
          ]
        },
        {
          "data": {
            "text/plain": [
              "True"
            ]
          },
          "execution_count": 4,
          "metadata": {},
          "output_type": "execute_result"
        }
      ],
      "source": [
        "from nltk.tokenize import TweetTokenizer\n",
        "from sklearn.linear_model import LogisticRegression\n",
        "from sklearn.model_selection import RandomizedSearchCV\n",
        "from sklearn.metrics import classification_report\n",
        "from sklearn.model_selection import PredefinedSplit\n",
        "from sklearn.model_selection import train_test_split\n",
        "from sklearn.metrics import ConfusionMatrixDisplay\n",
        "from sklearn.metrics import confusion_matrix\n",
        "from keras.utils.np_utils import to_categorical\n",
        "from gensim.models import KeyedVectors\n",
        "from sklearn.svm import SVC\n",
        "from sklearn.naive_bayes import MultinomialNB\n",
        "import matplotlib.pyplot as plt\n",
        "import seaborn as sns\n",
        "import gensim\n",
        "import gensim.downloader\n",
        "\n",
        "\n",
        "\n",
        "from scipy.sparse import hstack\n",
        "from scipy.sparse import vstack\n",
        "from scipy.stats import loguniform\n",
        "import nltk\n",
        "import pandas as pd\n",
        "import numpy as np\n",
        "\n",
        "import re\n",
        "\n",
        "nltk.download('punkt')\n",
        "nltk.download('stopwords')\n",
        "\n"
      ]
    },
    {
      "cell_type": "markdown",
      "metadata": {
        "id": "J32RcdKNlJBM"
      },
      "source": [
        "##  Data processing"
      ]
    },
    {
      "cell_type": "markdown",
      "metadata": {
        "id": "vxs-jfbuFy7r"
      },
      "source": [
        "### Loading data"
      ]
    },
    {
      "cell_type": "code",
      "execution_count": null,
      "metadata": {
        "id": "3_d8zWgv1mHG"
      },
      "outputs": [],
      "source": [
        "corpus = pd.read_csv('https://query.data.world/s/aikveq4giwygvkn4wyirtwiqwmyc7q')"
      ]
    },
    {
      "cell_type": "code",
      "execution_count": null,
      "metadata": {
        "colab": {
          "base_uri": "https://localhost:8080/",
          "height": 424
        },
        "id": "2m_Nz9Ae1tR-",
        "outputId": "9d8a60ad-80bb-4a65-f5e1-fa718ca86355"
      },
      "outputs": [
        {
          "data": {
            "text/html": [
              "\n",
              "  <div id=\"df-8d9735d7-98cd-45c4-8075-49c5bc08ef34\">\n",
              "    <div class=\"colab-df-container\">\n",
              "      <div>\n",
              "<style scoped>\n",
              "    .dataframe tbody tr th:only-of-type {\n",
              "        vertical-align: middle;\n",
              "    }\n",
              "\n",
              "    .dataframe tbody tr th {\n",
              "        vertical-align: top;\n",
              "    }\n",
              "\n",
              "    .dataframe thead th {\n",
              "        text-align: right;\n",
              "    }\n",
              "</style>\n",
              "<table border=\"1\" class=\"dataframe\">\n",
              "  <thead>\n",
              "    <tr style=\"text-align: right;\">\n",
              "      <th></th>\n",
              "      <th>Unnamed: 0</th>\n",
              "      <th>tweet_category</th>\n",
              "      <th>user</th>\n",
              "      <th>location</th>\n",
              "      <th>date</th>\n",
              "      <th>text</th>\n",
              "    </tr>\n",
              "  </thead>\n",
              "  <tbody>\n",
              "    <tr>\n",
              "      <th>0</th>\n",
              "      <td>0</td>\n",
              "      <td>1</td>\n",
              "      <td>dflenick</td>\n",
              "      <td>Davie, FL</td>\n",
              "      <td>2020-02-11 20:03:56</td>\n",
              "      <td>b'RT @TribulationThe: Deep State Dems continue...</td>\n",
              "    </tr>\n",
              "    <tr>\n",
              "      <th>1</th>\n",
              "      <td>1</td>\n",
              "      <td>1</td>\n",
              "      <td>RestartMIGA6</td>\n",
              "      <td>NaN</td>\n",
              "      <td>2020-02-11 20:03:54</td>\n",
              "      <td>b'RT @restartleader: The Republicans of Americ...</td>\n",
              "    </tr>\n",
              "    <tr>\n",
              "      <th>2</th>\n",
              "      <td>2</td>\n",
              "      <td>1</td>\n",
              "      <td>RayeannJ</td>\n",
              "      <td>California, USA</td>\n",
              "      <td>2020-02-11 20:03:54</td>\n",
              "      <td>b'RT @DeeTwoCents: This is the Republican\\xe2\\...</td>\n",
              "    </tr>\n",
              "    <tr>\n",
              "      <th>3</th>\n",
              "      <td>3</td>\n",
              "      <td>1</td>\n",
              "      <td>peggydumptrump</td>\n",
              "      <td>United States</td>\n",
              "      <td>2020-02-11 20:03:53</td>\n",
              "      <td>b\"RT @mog7546: \\xe2\\x80\\x9cSOFT ON CRIME\\xe2\\x...</td>\n",
              "    </tr>\n",
              "    <tr>\n",
              "      <th>4</th>\n",
              "      <td>4</td>\n",
              "      <td>1</td>\n",
              "      <td>LochnerWalter</td>\n",
              "      <td>NaN</td>\n",
              "      <td>2020-02-11 20:03:52</td>\n",
              "      <td>b'RT @AndyOstroy: @realDonaldTrump YOU\\xe2\\x80...</td>\n",
              "    </tr>\n",
              "    <tr>\n",
              "      <th>...</th>\n",
              "      <td>...</td>\n",
              "      <td>...</td>\n",
              "      <td>...</td>\n",
              "      <td>...</td>\n",
              "      <td>...</td>\n",
              "      <td>...</td>\n",
              "    </tr>\n",
              "    <tr>\n",
              "      <th>209872</th>\n",
              "      <td>104932</td>\n",
              "      <td>0</td>\n",
              "      <td>CrypticIcon</td>\n",
              "      <td>NaN</td>\n",
              "      <td>2020-03-07 04:51:48</td>\n",
              "      <td>RT @Jim_Jordan: The Comey FBI lied to the FISA...</td>\n",
              "    </tr>\n",
              "    <tr>\n",
              "      <th>209873</th>\n",
              "      <td>104933</td>\n",
              "      <td>0</td>\n",
              "      <td>SwordofTruth10</td>\n",
              "      <td>NaN</td>\n",
              "      <td>2020-03-07 08:30:30</td>\n",
              "      <td>RT @DiamondandSilk: Ex-Treasury Employee Plead...</td>\n",
              "    </tr>\n",
              "    <tr>\n",
              "      <th>209874</th>\n",
              "      <td>104934</td>\n",
              "      <td>0</td>\n",
              "      <td>thegre8_1</td>\n",
              "      <td>USA</td>\n",
              "      <td>2020-03-07 04:27:53</td>\n",
              "      <td>RT @DailyMail: US hospitals are preparing for ...</td>\n",
              "    </tr>\n",
              "    <tr>\n",
              "      <th>209875</th>\n",
              "      <td>104935</td>\n",
              "      <td>0</td>\n",
              "      <td>billslater</td>\n",
              "      <td>Chicago, IL</td>\n",
              "      <td>2020-03-07 04:55:39</td>\n",
              "      <td>RT @RealJamesWoods: MY NAME IS BILL W.  I like...</td>\n",
              "    </tr>\n",
              "    <tr>\n",
              "      <th>209876</th>\n",
              "      <td>104936</td>\n",
              "      <td>0</td>\n",
              "      <td>bolding_daniel</td>\n",
              "      <td>Greenville, SC</td>\n",
              "      <td>2020-03-07 06:48:22</td>\n",
              "      <td>@XesLana1 @Scholar_Atheist You said it!</td>\n",
              "    </tr>\n",
              "  </tbody>\n",
              "</table>\n",
              "<p>209877 rows × 6 columns</p>\n",
              "</div>\n",
              "      <button class=\"colab-df-convert\" onclick=\"convertToInteractive('df-8d9735d7-98cd-45c4-8075-49c5bc08ef34')\"\n",
              "              title=\"Convert this dataframe to an interactive table.\"\n",
              "              style=\"display:none;\">\n",
              "        \n",
              "  <svg xmlns=\"http://www.w3.org/2000/svg\" height=\"24px\"viewBox=\"0 0 24 24\"\n",
              "       width=\"24px\">\n",
              "    <path d=\"M0 0h24v24H0V0z\" fill=\"none\"/>\n",
              "    <path d=\"M18.56 5.44l.94 2.06.94-2.06 2.06-.94-2.06-.94-.94-2.06-.94 2.06-2.06.94zm-11 1L8.5 8.5l.94-2.06 2.06-.94-2.06-.94L8.5 2.5l-.94 2.06-2.06.94zm10 10l.94 2.06.94-2.06 2.06-.94-2.06-.94-.94-2.06-.94 2.06-2.06.94z\"/><path d=\"M17.41 7.96l-1.37-1.37c-.4-.4-.92-.59-1.43-.59-.52 0-1.04.2-1.43.59L10.3 9.45l-7.72 7.72c-.78.78-.78 2.05 0 2.83L4 21.41c.39.39.9.59 1.41.59.51 0 1.02-.2 1.41-.59l7.78-7.78 2.81-2.81c.8-.78.8-2.07 0-2.86zM5.41 20L4 18.59l7.72-7.72 1.47 1.35L5.41 20z\"/>\n",
              "  </svg>\n",
              "      </button>\n",
              "      \n",
              "  <style>\n",
              "    .colab-df-container {\n",
              "      display:flex;\n",
              "      flex-wrap:wrap;\n",
              "      gap: 12px;\n",
              "    }\n",
              "\n",
              "    .colab-df-convert {\n",
              "      background-color: #E8F0FE;\n",
              "      border: none;\n",
              "      border-radius: 50%;\n",
              "      cursor: pointer;\n",
              "      display: none;\n",
              "      fill: #1967D2;\n",
              "      height: 32px;\n",
              "      padding: 0 0 0 0;\n",
              "      width: 32px;\n",
              "    }\n",
              "\n",
              "    .colab-df-convert:hover {\n",
              "      background-color: #E2EBFA;\n",
              "      box-shadow: 0px 1px 2px rgba(60, 64, 67, 0.3), 0px 1px 3px 1px rgba(60, 64, 67, 0.15);\n",
              "      fill: #174EA6;\n",
              "    }\n",
              "\n",
              "    [theme=dark] .colab-df-convert {\n",
              "      background-color: #3B4455;\n",
              "      fill: #D2E3FC;\n",
              "    }\n",
              "\n",
              "    [theme=dark] .colab-df-convert:hover {\n",
              "      background-color: #434B5C;\n",
              "      box-shadow: 0px 1px 3px 1px rgba(0, 0, 0, 0.15);\n",
              "      filter: drop-shadow(0px 1px 2px rgba(0, 0, 0, 0.3));\n",
              "      fill: #FFFFFF;\n",
              "    }\n",
              "  </style>\n",
              "\n",
              "      <script>\n",
              "        const buttonEl =\n",
              "          document.querySelector('#df-8d9735d7-98cd-45c4-8075-49c5bc08ef34 button.colab-df-convert');\n",
              "        buttonEl.style.display =\n",
              "          google.colab.kernel.accessAllowed ? 'block' : 'none';\n",
              "\n",
              "        async function convertToInteractive(key) {\n",
              "          const element = document.querySelector('#df-8d9735d7-98cd-45c4-8075-49c5bc08ef34');\n",
              "          const dataTable =\n",
              "            await google.colab.kernel.invokeFunction('convertToInteractive',\n",
              "                                                     [key], {});\n",
              "          if (!dataTable) return;\n",
              "\n",
              "          const docLinkHtml = 'Like what you see? Visit the ' +\n",
              "            '<a target=\"_blank\" href=https://colab.research.google.com/notebooks/data_table.ipynb>data table notebook</a>'\n",
              "            + ' to learn more about interactive tables.';\n",
              "          element.innerHTML = '';\n",
              "          dataTable['output_type'] = 'display_data';\n",
              "          await google.colab.output.renderOutput(dataTable, element);\n",
              "          const docLink = document.createElement('div');\n",
              "          docLink.innerHTML = docLinkHtml;\n",
              "          element.appendChild(docLink);\n",
              "        }\n",
              "      </script>\n",
              "    </div>\n",
              "  </div>\n",
              "  "
            ],
            "text/plain": [
              "        Unnamed: 0  tweet_category            user         location  \\\n",
              "0                0               1        dflenick        Davie, FL   \n",
              "1                1               1    RestartMIGA6              NaN   \n",
              "2                2               1        RayeannJ  California, USA   \n",
              "3                3               1  peggydumptrump    United States   \n",
              "4                4               1   LochnerWalter              NaN   \n",
              "...            ...             ...             ...              ...   \n",
              "209872      104932               0     CrypticIcon              NaN   \n",
              "209873      104933               0  SwordofTruth10              NaN   \n",
              "209874      104934               0       thegre8_1              USA   \n",
              "209875      104935               0      billslater      Chicago, IL   \n",
              "209876      104936               0  bolding_daniel   Greenville, SC   \n",
              "\n",
              "                       date                                               text  \n",
              "0       2020-02-11 20:03:56  b'RT @TribulationThe: Deep State Dems continue...  \n",
              "1       2020-02-11 20:03:54  b'RT @restartleader: The Republicans of Americ...  \n",
              "2       2020-02-11 20:03:54  b'RT @DeeTwoCents: This is the Republican\\xe2\\...  \n",
              "3       2020-02-11 20:03:53  b\"RT @mog7546: \\xe2\\x80\\x9cSOFT ON CRIME\\xe2\\x...  \n",
              "4       2020-02-11 20:03:52  b'RT @AndyOstroy: @realDonaldTrump YOU\\xe2\\x80...  \n",
              "...                     ...                                                ...  \n",
              "209872  2020-03-07 04:51:48  RT @Jim_Jordan: The Comey FBI lied to the FISA...  \n",
              "209873  2020-03-07 08:30:30  RT @DiamondandSilk: Ex-Treasury Employee Plead...  \n",
              "209874  2020-03-07 04:27:53  RT @DailyMail: US hospitals are preparing for ...  \n",
              "209875  2020-03-07 04:55:39  RT @RealJamesWoods: MY NAME IS BILL W.  I like...  \n",
              "209876  2020-03-07 06:48:22            @XesLana1 @Scholar_Atheist You said it!  \n",
              "\n",
              "[209877 rows x 6 columns]"
            ]
          },
          "execution_count": 6,
          "metadata": {},
          "output_type": "execute_result"
        }
      ],
      "source": [
        "corpus"
      ]
    },
    {
      "cell_type": "markdown",
      "metadata": {
        "id": "XvVrqh6x5aAZ"
      },
      "source": [
        "Por questões de economia de tempo, serão utilizados apenas 25% dos tweets:"
      ]
    },
    {
      "cell_type": "code",
      "execution_count": null,
      "metadata": {
        "id": "ousTGIYt2-yt"
      },
      "outputs": [],
      "source": [
        "corpus = corpus.groupby('tweet_category', group_keys=False).apply(lambda x:x.sample(frac=0.25, random_state=42))\n"
      ]
    },
    {
      "cell_type": "code",
      "execution_count": null,
      "metadata": {
        "colab": {
          "base_uri": "https://localhost:8080/"
        },
        "id": "nH0Hr0rX4DXR",
        "outputId": "7371615c-0b83-4a0f-80c9-bb6d52202ac7"
      },
      "outputs": [
        {
          "data": {
            "text/plain": [
              "1    26235\n",
              "0    26234\n",
              "Name: tweet_category, dtype: int64"
            ]
          },
          "execution_count": 8,
          "metadata": {},
          "output_type": "execute_result"
        }
      ],
      "source": [
        "corpus['tweet_category'].value_counts()"
      ]
    },
    {
      "cell_type": "markdown",
      "metadata": {
        "id": "h_7h2tn26cBB"
      },
      "source": [
        "### Spliting the data"
      ]
    },
    {
      "cell_type": "code",
      "execution_count": null,
      "metadata": {
        "id": "YE74ORqLIJH-"
      },
      "outputs": [],
      "source": [
        "from keras.preprocessing.text import Tokenizer\n",
        "from keras.preprocessing.sequence import pad_sequences"
      ]
    },
    {
      "cell_type": "code",
      "execution_count": null,
      "metadata": {
        "id": "WKEmcM4A5j5e"
      },
      "outputs": [],
      "source": [
        "X = corpus.text\n",
        "y = corpus.tweet_category\n",
        "X_train, X_test, y_train, y_test = train_test_split(X, y, test_size = 0.2, random_state=42)\n",
        "X_train, X_valid, y_train, y_valid = train_test_split(X_train, y_train, test_size = 0.2, random_state=42)"
      ]
    },
    {
      "cell_type": "code",
      "execution_count": null,
      "metadata": {
        "colab": {
          "base_uri": "https://localhost:8080/"
        },
        "id": "dVehan-IEdqL",
        "outputId": "52a2a38b-3a49-451a-ceb2-77b66dec1279"
      },
      "outputs": [
        {
          "data": {
            "text/plain": [
              "0    16851\n",
              "1    16729\n",
              "Name: tweet_category, dtype: int64"
            ]
          },
          "execution_count": 11,
          "metadata": {},
          "output_type": "execute_result"
        }
      ],
      "source": [
        "y_train.value_counts()"
      ]
    },
    {
      "cell_type": "code",
      "execution_count": null,
      "metadata": {
        "colab": {
          "base_uri": "https://localhost:8080/"
        },
        "id": "U0fGmFEeEy3z",
        "outputId": "3cfd22ed-a804-49c0-f327-5b08a546a417"
      },
      "outputs": [
        {
          "data": {
            "text/plain": [
              "1    4243\n",
              "0    4152\n",
              "Name: tweet_category, dtype: int64"
            ]
          },
          "execution_count": 12,
          "metadata": {},
          "output_type": "execute_result"
        }
      ],
      "source": [
        "y_valid.value_counts()"
      ]
    },
    {
      "cell_type": "code",
      "execution_count": null,
      "metadata": {
        "colab": {
          "base_uri": "https://localhost:8080/"
        },
        "id": "sN00-SxWFEEQ",
        "outputId": "9bf8b27c-4b2c-4042-f8f9-3b41d3252425"
      },
      "outputs": [
        {
          "data": {
            "text/plain": [
              "1    5263\n",
              "0    5231\n",
              "Name: tweet_category, dtype: int64"
            ]
          },
          "execution_count": 13,
          "metadata": {},
          "output_type": "execute_result"
        }
      ],
      "source": [
        "y_test.value_counts()"
      ]
    },
    {
      "cell_type": "markdown",
      "metadata": {
        "id": "UAqcxH62qmmF"
      },
      "source": [
        "### Text preprocessing"
      ]
    },
    {
      "cell_type": "code",
      "execution_count": null,
      "metadata": {
        "id": "SgmfGVjaIWqL"
      },
      "outputs": [],
      "source": [
        "NUM_WORDS=20000\n",
        "tokenizer = Tokenizer(NUM_WORDS, lower=True)"
      ]
    },
    {
      "cell_type": "code",
      "execution_count": null,
      "metadata": {
        "id": "FEfKgN2HKLJQ"
      },
      "outputs": [],
      "source": [
        "tokenizer.fit_on_texts(X_train.values)"
      ]
    },
    {
      "cell_type": "code",
      "execution_count": null,
      "metadata": {
        "id": "ch-5gSSVKR5R"
      },
      "outputs": [],
      "source": [
        "X_train_seq  = tokenizer.texts_to_sequences(X_train.values)\n",
        "X_valid_seq  = tokenizer.texts_to_sequences(X_valid.values)\n",
        "X_test_seq   = tokenizer.texts_to_sequences(X_test.values)"
      ]
    },
    {
      "cell_type": "code",
      "execution_count": null,
      "metadata": {
        "id": "n4SK5lTwKgum"
      },
      "outputs": [],
      "source": [
        "word_index = tokenizer.word_index"
      ]
    },
    {
      "cell_type": "code",
      "execution_count": null,
      "metadata": {
        "colab": {
          "base_uri": "https://localhost:8080/"
        },
        "id": "QUnXMFF5OvPJ",
        "outputId": "80fcb0ae-88c1-4bdd-963b-ae1b2ccdb75e"
      },
      "outputs": [
        {
          "data": {
            "text/plain": [
              "(33580, 344)"
            ]
          },
          "execution_count": 18,
          "metadata": {},
          "output_type": "execute_result"
        }
      ],
      "source": [
        "X_train_padded = pad_sequences(X_train_seq)\n",
        "X_train_padded.shape"
      ]
    },
    {
      "cell_type": "code",
      "execution_count": null,
      "metadata": {
        "colab": {
          "base_uri": "https://localhost:8080/"
        },
        "id": "QZcy7Fi9PB6G",
        "outputId": "ac1a52a4-b532-4bdd-9d35-8aac6060b127"
      },
      "outputs": [
        {
          "data": {
            "text/plain": [
              "(8395, 344)"
            ]
          },
          "execution_count": 19,
          "metadata": {},
          "output_type": "execute_result"
        }
      ],
      "source": [
        "X_valid_padded = pad_sequences(X_valid_seq, maxlen=X_train_padded.shape[-1])\n",
        "X_valid_padded.shape"
      ]
    },
    {
      "cell_type": "code",
      "execution_count": null,
      "metadata": {
        "colab": {
          "base_uri": "https://localhost:8080/"
        },
        "id": "XPWDVBj6i244",
        "outputId": "ba283b56-ff83-42f9-f220-5e536e9c53ac"
      },
      "outputs": [
        {
          "data": {
            "text/plain": [
              "(10494, 344)"
            ]
          },
          "execution_count": 20,
          "metadata": {},
          "output_type": "execute_result"
        }
      ],
      "source": [
        "X_test_padded = pad_sequences(X_test_seq, maxlen=X_train_padded.shape[-1])\n",
        "X_test_padded.shape"
      ]
    },
    {
      "cell_type": "code",
      "execution_count": null,
      "metadata": {
        "id": "doNRkQyAPr__"
      },
      "outputs": [],
      "source": [
        "y_train_cat = to_categorical(y_train)\n",
        "y_valid_cat = to_categorical(y_valid)\n",
        "y_test_cat = to_categorical(y_test)"
      ]
    },
    {
      "cell_type": "markdown",
      "metadata": {
        "id": "dfSD1623GFDH"
      },
      "source": [
        "## Feature Extraction"
      ]
    },
    {
      "cell_type": "markdown",
      "metadata": {
        "id": "ZLFGlg-la4ca"
      },
      "source": [
        "### Vectorization with Word2Vec "
      ]
    },
    {
      "cell_type": "code",
      "execution_count": null,
      "metadata": {
        "id": "5WsAerA7puAZ"
      },
      "outputs": [],
      "source": [
        "tknzr = TweetTokenizer(strip_handles=True, reduce_len=True, preserve_case=False)\n",
        "tokenized_texts = [ tknzr.tokenize(tweet) for tweet in X_train.values]"
      ]
    },
    {
      "cell_type": "code",
      "execution_count": null,
      "metadata": {
        "id": "qTF9ZbjmqJ34"
      },
      "outputs": [],
      "source": [
        "from gensim.models.word2vec import Word2Vec\n",
        "model = Word2Vec(sentences=tokenized_texts,vector_size=100)"
      ]
    },
    {
      "cell_type": "code",
      "execution_count": null,
      "metadata": {
        "id": "2Y2Y1VNerHmg"
      },
      "outputs": [],
      "source": [
        "wv=model.wv"
      ]
    },
    {
      "cell_type": "code",
      "execution_count": null,
      "metadata": {
        "id": "dcH7G9WzQ1_l"
      },
      "outputs": [],
      "source": [
        "EMBEDDING_DIM = 100\n",
        "vocab_size=min(len(word_index)+1, NUM_WORDS)\n"
      ]
    },
    {
      "cell_type": "code",
      "execution_count": null,
      "metadata": {
        "id": "Vcr5vBWHR-fz"
      },
      "outputs": [],
      "source": [
        "embedding_matrix = np.zeros((vocab_size, EMBEDDING_DIM))\n",
        "for word, i in word_index.items():\n",
        "    if i>=NUM_WORDS:\n",
        "        continue\n",
        "    try :\n",
        "        embedding_vector = wv[word]\n",
        "        embedding_matrix[i] = embedding_vector\n",
        "    except KeyError:\n",
        "        embedding_matrix[i] = np.random.normal(0, np.sqrt(0.25), EMBEDDING_DIM)"
      ]
    },
    {
      "cell_type": "code",
      "execution_count": null,
      "metadata": {
        "id": "sd-zfKt8T2jz"
      },
      "outputs": [],
      "source": [
        "del(wv)"
      ]
    },
    {
      "cell_type": "markdown",
      "metadata": {
        "id": "nW6UgA53Oi-1"
      },
      "source": [
        "## Training Models"
      ]
    },
    {
      "cell_type": "markdown",
      "metadata": {
        "id": "2v9Tx_k3yYOB"
      },
      "source": [
        "### Convolutional Neural Network"
      ]
    },
    {
      "cell_type": "code",
      "execution_count": null,
      "metadata": {
        "id": "nBDBnpqTPVLm"
      },
      "outputs": [],
      "source": [
        "from keras.models import Model\n",
        "from keras import regularizers\n",
        "from keras.layers import Embedding, Input, Reshape\n",
        "from keras.layers import Conv2D, MaxPooling2D\n",
        "from keras.layers import concatenate, Flatten, Dense, Dropout\n",
        "from keras.callbacks import EarlyStopping\n",
        "from tensorflow.keras.optimizers import Adam\n"
      ]
    },
    {
      "cell_type": "markdown",
      "metadata": {
        "id": "86XBZgnaV5Qk"
      },
      "source": [
        "Hyper-paramters:"
      ]
    },
    {
      "cell_type": "code",
      "execution_count": null,
      "metadata": {
        "id": "aImXNfTgV9G_"
      },
      "outputs": [],
      "source": [
        "NUM_FILTERS = 100"
      ]
    },
    {
      "cell_type": "code",
      "execution_count": null,
      "metadata": {
        "colab": {
          "base_uri": "https://localhost:8080/"
        },
        "id": "jv_Td48GWLgp",
        "outputId": "f792fcb5-94bb-45d4-c622-2ce33b6aa54e"
      },
      "outputs": [
        {
          "data": {
            "text/plain": [
              "344"
            ]
          },
          "execution_count": 30,
          "metadata": {},
          "output_type": "execute_result"
        }
      ],
      "source": [
        "seq_len = X_train_padded.shape[1]\n",
        "seq_len"
      ]
    },
    {
      "cell_type": "code",
      "execution_count": null,
      "metadata": {
        "id": "MedABnXcUQzU"
      },
      "outputs": [],
      "source": [
        "embedding_layer = Embedding(vocab_size,\n",
        "                            EMBEDDING_DIM,\n",
        "                            weights=[embedding_matrix],\n",
        "                            trainable=False)"
      ]
    },
    {
      "cell_type": "code",
      "execution_count": null,
      "metadata": {
        "id": "a69upu1bV4JD"
      },
      "outputs": [],
      "source": [
        "inputs = Input(shape=(seq_len,))\n",
        "embedding = embedding_layer (inputs)\n",
        "reshape = Reshape((seq_len, EMBEDDING_DIM, 1)) (embedding)\n",
        "\n",
        "\n",
        "conv_0 = Conv2D(NUM_FILTERS, (3, EMBEDDING_DIM),activation='relu', kernel_regularizer=regularizers.l2(0.01))(reshape)\n",
        "conv_1 = Conv2D(NUM_FILTERS, (4, EMBEDDING_DIM),activation='relu', kernel_regularizer=regularizers.l2(0.01))(reshape)\n",
        "conv_2 = Conv2D(NUM_FILTERS, (5, EMBEDDING_DIM),activation='relu', kernel_regularizer=regularizers.l2(0.01))(reshape)\n",
        "\n",
        "maxpool_0 = MaxPooling2D((seq_len - 4, 1), strides=(1,1))(conv_0)\n",
        "maxpool_1 = MaxPooling2D((seq_len - 5, 1), strides=(1,1))(conv_1)\n",
        "maxpool_2 = MaxPooling2D((seq_len - 6, 1), strides=(1,1))(conv_2)\n",
        "\n",
        "merged_tensor = concatenate([maxpool_0, maxpool_1, maxpool_2], axis=1)\n",
        "flatten = Flatten()(merged_tensor)\n",
        "dropout = Dropout(0.5)(flatten)\n",
        "output = Dense(units=2, activation='softmax', kernel_regularizer=regularizers.l2(0.01)) (dropout)\n"
      ]
    },
    {
      "cell_type": "code",
      "execution_count": null,
      "metadata": {
        "id": "4G9K1J4tcprX"
      },
      "outputs": [],
      "source": [
        "model = Model(inputs, output)"
      ]
    },
    {
      "cell_type": "code",
      "execution_count": null,
      "metadata": {
        "id": "cFvNxZHwXwzK"
      },
      "outputs": [],
      "source": [
        "adam = Adam(learning_rate=1e-3)\n",
        "\n",
        "model.compile(loss='categorical_crossentropy',\n",
        "              optimizer=adam,\n",
        "              metrics=['acc'])\n",
        "\n",
        "callbacks = [EarlyStopping(monitor='val_loss',patience=2)]"
      ]
    },
    {
      "cell_type": "code",
      "execution_count": null,
      "metadata": {
        "colab": {
          "background_save": true,
          "base_uri": "https://localhost:8080/"
        },
        "id": "2yg-Pzt9dhZP",
        "outputId": "f1ab370a-d53d-44d0-c07d-308408db5d83"
      },
      "outputs": [
        {
          "name": "stdout",
          "output_type": "stream",
          "text": [
            "Epoch 1/10\n",
            "34/34 [==============================] - 145s 4s/step - loss: 0.2304 - acc: 0.9448 - val_loss: 0.1508 - val_acc: 0.9799\n",
            "Epoch 2/10\n",
            "34/34 [==============================] - 145s 4s/step - loss: 0.1313 - acc: 0.9820 - val_loss: 0.1089 - val_acc: 0.9832\n",
            "Epoch 3/10\n",
            "34/34 [==============================] - 144s 4s/step - loss: 0.1021 - acc: 0.9853 - val_loss: 0.0911 - val_acc: 0.9853\n",
            "Epoch 4/10\n",
            "34/34 [==============================] - 144s 4s/step - loss: 0.0889 - acc: 0.9864 - val_loss: 0.0816 - val_acc: 0.9858\n",
            "Epoch 5/10\n",
            "34/34 [==============================] - 145s 4s/step - loss: 0.0802 - acc: 0.9874 - val_loss: 0.0747 - val_acc: 0.9863\n",
            "Epoch 6/10\n",
            "34/34 [==============================] - 145s 4s/step - loss: 0.0757 - acc: 0.9870 - val_loss: 0.0712 - val_acc: 0.9876\n",
            "Epoch 7/10\n",
            "34/34 [==============================] - 144s 4s/step - loss: 0.0709 - acc: 0.9879 - val_loss: 0.0680 - val_acc: 0.9870\n",
            "Epoch 8/10\n",
            "34/34 [==============================] - 145s 4s/step - loss: 0.0683 - acc: 0.9880 - val_loss: 0.0656 - val_acc: 0.9876\n",
            "Epoch 9/10\n",
            "34/34 [==============================] - 145s 4s/step - loss: 0.0657 - acc: 0.9885 - val_loss: 0.0638 - val_acc: 0.9874\n",
            "Epoch 10/10\n",
            "34/34 [==============================] - 144s 4s/step - loss: 0.0642 - acc: 0.9887 - val_loss: 0.0625 - val_acc: 0.9875\n"
          ]
        },
        {
          "data": {
            "text/plain": [
              "<keras.callbacks.History at 0x7fc3b400fa90>"
            ]
          },
          "execution_count": 38,
          "metadata": {},
          "output_type": "execute_result"
        }
      ],
      "source": [
        "model.fit(X_train_padded,y_train_cat,\n",
        "          validation_data=(X_valid_padded, y_valid_cat),\n",
        "          batch_size=1000,\n",
        "          epochs=10, \n",
        "          callbacks=callbacks )"
      ]
    },
    {
      "cell_type": "code",
      "execution_count": null,
      "metadata": {
        "id": "Gxs8YDOFycQa"
      },
      "outputs": [],
      "source": [
        "y_prob = model.predict(X_test_padded)"
      ]
    },
    {
      "cell_type": "code",
      "execution_count": null,
      "metadata": {
        "id": "6UF-qImxjBoj"
      },
      "outputs": [],
      "source": [
        "y_pred = np.argmax(y_prob, axis=1)"
      ]
    },
    {
      "cell_type": "code",
      "execution_count": null,
      "metadata": {
        "colab": {
          "base_uri": "https://localhost:8080/"
        },
        "id": "rJ7LV2ImjG7Q",
        "outputId": "4879938e-0dca-46f7-a5ef-ed93a7faa7fa"
      },
      "outputs": [
        {
          "name": "stdout",
          "output_type": "stream",
          "text": [
            "              precision    recall  f1-score   support\n",
            "\n",
            "           0       0.98      0.99      0.99      5231\n",
            "           1       0.99      0.98      0.99      5263\n",
            "\n",
            "    accuracy                           0.99     10494\n",
            "   macro avg       0.99      0.99      0.99     10494\n",
            "weighted avg       0.99      0.99      0.99     10494\n",
            "\n"
          ]
        }
      ],
      "source": [
        "print(classification_report(y_test, y_pred))"
      ]
    },
    {
      "cell_type": "code",
      "execution_count": null,
      "metadata": {
        "colab": {
          "base_uri": "https://localhost:8080/",
          "height": 295
        },
        "id": "fT1ARb_wjnhy",
        "outputId": "ee9bcfe0-51a9-4192-b872-abbd61668173"
      },
      "outputs": [
        {
          "data": {
            "image/png": "[encoded data removed]",
            "text/plain": [
              "<Figure size 432x288 with 2 Axes>"
            ]
          },
          "metadata": {},
          "output_type": "display_data"
        }
      ],
      "source": [
        "cm=confusion_matrix(y_test,y_pred)\n",
        "disp = ConfusionMatrixDisplay(confusion_matrix=cm, display_labels=[\"No Sarcasm\", \"Sarcasm\"])\n",
        "disp.plot(cmap=plt.cm.Blues)\n",
        "disp.ax_.set_title(\"CNN + Word2Vec\")\n",
        "plt.show()"
      ]
    }
  ],
  "metadata": {
    "accelerator": "GPU",
    "colab": {
      "collapsed_sections": [],
      "provenance": [],
      "mount_file_id": "1kBnExrEjxMPAnkrxZO_UWhFO8JkfQpHg",
      "authorship_tag": "ABX9TyOnHiE55jrUDojNhxQvN2sE",
      "include_colab_link": true
    },
    "kernelspec": {
      "display_name": "Python 3",
      "name": "python3"
    },
    "language_info": {
      "name": "python"
    }
  },
  "nbformat": 4,
  "nbformat_minor": 0
}