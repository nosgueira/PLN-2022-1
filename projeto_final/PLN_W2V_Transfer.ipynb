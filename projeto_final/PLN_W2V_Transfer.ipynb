{
  "nbformat": 4,
  "nbformat_minor": 0,
  "metadata": {
    "colab": {
      "provenance": [],
      "collapsed_sections": [],
      "mount_file_id": "1yJnJRpJXm8mMLcbAy3dC4SQG8ZWGKKuB",
      "authorship_tag": "ABX9TyOSlI6c5G4xinrx1SrL078e",
      "include_colab_link": true
    },
    "kernelspec": {
      "name": "python3",
      "display_name": "Python 3"
    },
    "language_info": {
      "name": "python"
    }
  },
  "cells": [
    {
      "cell_type": "markdown",
      "metadata": {
        "id": "view-in-github",
        "colab_type": "text"
      },
      "source": [
        "<a href=\"https://colab.research.google.com/github/nosgueira/PLN-2022-1/blob/main/C%C3%B3pia_de_C%C3%B3pia_de_PLN_W2V_Transfer.ipynb\" target=\"_parent\"><img src=\"https://colab.research.google.com/assets/colab-badge.svg\" alt=\"Open In Colab\"/></a>"
      ]
    },
    {
      "cell_type": "markdown",
      "source": [
        "# Classification Using Word2Vec (Transfer Learning)"
      ],
      "metadata": {
        "id": "nAagbBE4eI2q"
      }
    },
    {
      "cell_type": "code",
      "source": [
        "!pip install -qU gensim"
      ],
      "metadata": {
        "id": "bS8mHtbKAG1O",
        "colab": {
          "base_uri": "https://localhost:8080/"
        },
        "outputId": "7941cbc1-69d6-4632-f38e-94fece8764c3"
      },
      "execution_count": null,
      "outputs": [
        {
          "output_type": "stream",
          "name": "stdout",
          "text": [
            "\u001b[K     |████████████████████████████████| 24.1 MB 1.2 MB/s \n",
            "\u001b[?25h"
          ]
        }
      ]
    },
    {
      "cell_type": "markdown",
      "source": [
        "## Imports"
      ],
      "metadata": {
        "id": "YxAZA0a4eO3l"
      }
    },
    {
      "cell_type": "code",
      "execution_count": null,
      "metadata": {
        "colab": {
          "base_uri": "https://localhost:8080/"
        },
        "id": "-zPxIrqW1eAL",
        "outputId": "623402f0-ab0a-4a24-97d7-9a51611f8bf0"
      },
      "outputs": [
        {
          "output_type": "stream",
          "name": "stderr",
          "text": [
            "[nltk_data] Downloading package punkt to /root/nltk_data...\n",
            "[nltk_data]   Unzipping tokenizers/punkt.zip.\n",
            "[nltk_data] Downloading package stopwords to /root/nltk_data...\n",
            "[nltk_data]   Unzipping corpora/stopwords.zip.\n"
          ]
        }
      ],
      "source": [
        "from nltk.corpus import stopwords\n",
        "from nltk.stem import PorterStemmer\n",
        "from sklearn.linear_model import LogisticRegression\n",
        "from sklearn.model_selection import RandomizedSearchCV\n",
        "from sklearn.metrics import classification_report\n",
        "from sklearn.model_selection import PredefinedSplit\n",
        "from sklearn.model_selection import train_test_split\n",
        "from sklearn.metrics import ConfusionMatrixDisplay\n",
        "from gensim.models import KeyedVectors\n",
        "from sklearn.svm import SVC\n",
        "from sklearn.naive_bayes import GaussianNB\n",
        "import matplotlib.pyplot as plt\n",
        "import seaborn as sns\n",
        "import gensim\n",
        "import gensim.downloader\n",
        "\n",
        "\n",
        "\n",
        "from scipy.sparse import hstack\n",
        "from scipy.sparse import vstack\n",
        "from scipy.stats import loguniform\n",
        "import nltk\n",
        "import pandas as pd\n",
        "import numpy as np\n",
        "\n",
        "import re\n",
        "\n",
        "nltk.download('punkt')\n",
        "nltk.download('stopwords')\n",
        "\n",
        "# Defining stop words\n",
        "stop_words = set(stopwords.words('english'))\n"
      ]
    },
    {
      "cell_type": "markdown",
      "source": [
        "##  Data processing"
      ],
      "metadata": {
        "id": "J32RcdKNlJBM"
      }
    },
    {
      "cell_type": "markdown",
      "source": [
        "### Loading data"
      ],
      "metadata": {
        "id": "vxs-jfbuFy7r"
      }
    },
    {
      "cell_type": "code",
      "source": [
        "corpus = pd.read_csv('https://query.data.world/s/aikveq4giwygvkn4wyirtwiqwmyc7q')"
      ],
      "metadata": {
        "id": "3_d8zWgv1mHG"
      },
      "execution_count": null,
      "outputs": []
    },
    {
      "cell_type": "code",
      "source": [
        "corpus"
      ],
      "metadata": {
        "colab": {
          "base_uri": "https://localhost:8080/",
          "height": 939
        },
        "id": "2m_Nz9Ae1tR-",
        "outputId": "68b2fa18-2469-40b7-b66d-2c5f9c8a14fc"
      },
      "execution_count": null,
      "outputs": [
        {
          "output_type": "execute_result",
          "data": {
            "text/plain": [
              "        Unnamed: 0  tweet_category            user         location  \\\n",
              "0                0               1        dflenick        Davie, FL   \n",
              "1                1               1    RestartMIGA6              NaN   \n",
              "2                2               1        RayeannJ  California, USA   \n",
              "3                3               1  peggydumptrump    United States   \n",
              "4                4               1   LochnerWalter              NaN   \n",
              "...            ...             ...             ...              ...   \n",
              "209872      104932               0     CrypticIcon              NaN   \n",
              "209873      104933               0  SwordofTruth10              NaN   \n",
              "209874      104934               0       thegre8_1              USA   \n",
              "209875      104935               0      billslater      Chicago, IL   \n",
              "209876      104936               0  bolding_daniel   Greenville, SC   \n",
              "\n",
              "                       date                                               text  \n",
              "0       2020-02-11 20:03:56  b'RT @TribulationThe: Deep State Dems continue...  \n",
              "1       2020-02-11 20:03:54  b'RT @restartleader: The Republicans of Americ...  \n",
              "2       2020-02-11 20:03:54  b'RT @DeeTwoCents: This is the Republican\\xe2\\...  \n",
              "3       2020-02-11 20:03:53  b\"RT @mog7546: \\xe2\\x80\\x9cSOFT ON CRIME\\xe2\\x...  \n",
              "4       2020-02-11 20:03:52  b'RT @AndyOstroy: @realDonaldTrump YOU\\xe2\\x80...  \n",
              "...                     ...                                                ...  \n",
              "209872  2020-03-07 04:51:48  RT @Jim_Jordan: The Comey FBI lied to the FISA...  \n",
              "209873  2020-03-07 08:30:30  RT @DiamondandSilk: Ex-Treasury Employee Plead...  \n",
              "209874  2020-03-07 04:27:53  RT @DailyMail: US hospitals are preparing for ...  \n",
              "209875  2020-03-07 04:55:39  RT @RealJamesWoods: MY NAME IS BILL W.  I like...  \n",
              "209876  2020-03-07 06:48:22            @XesLana1 @Scholar_Atheist You said it!  \n",
              "\n",
              "[209877 rows x 6 columns]"
            ],
            "text/html": [
              "\n",
              "  <div id=\"df-66b0b2f6-8acf-4dfb-a0ea-121b409454c2\">\n",
              "    <div class=\"colab-df-container\">\n",
              "      <div>\n",
              "<style scoped>\n",
              "    .dataframe tbody tr th:only-of-type {\n",
              "        vertical-align: middle;\n",
              "    }\n",
              "\n",
              "    .dataframe tbody tr th {\n",
              "        vertical-align: top;\n",
              "    }\n",
              "\n",
              "    .dataframe thead th {\n",
              "        text-align: right;\n",
              "    }\n",
              "</style>\n",
              "<table border=\"1\" class=\"dataframe\">\n",
              "  <thead>\n",
              "    <tr style=\"text-align: right;\">\n",
              "      <th></th>\n",
              "      <th>Unnamed: 0</th>\n",
              "      <th>tweet_category</th>\n",
              "      <th>user</th>\n",
              "      <th>location</th>\n",
              "      <th>date</th>\n",
              "      <th>text</th>\n",
              "    </tr>\n",
              "  </thead>\n",
              "  <tbody>\n",
              "    <tr>\n",
              "      <th>0</th>\n",
              "      <td>0</td>\n",
              "      <td>1</td>\n",
              "      <td>dflenick</td>\n",
              "      <td>Davie, FL</td>\n",
              "      <td>2020-02-11 20:03:56</td>\n",
              "      <td>b'RT @TribulationThe: Deep State Dems continue...</td>\n",
              "    </tr>\n",
              "    <tr>\n",
              "      <th>1</th>\n",
              "      <td>1</td>\n",
              "      <td>1</td>\n",
              "      <td>RestartMIGA6</td>\n",
              "      <td>NaN</td>\n",
              "      <td>2020-02-11 20:03:54</td>\n",
              "      <td>b'RT @restartleader: The Republicans of Americ...</td>\n",
              "    </tr>\n",
              "    <tr>\n",
              "      <th>2</th>\n",
              "      <td>2</td>\n",
              "      <td>1</td>\n",
              "      <td>RayeannJ</td>\n",
              "      <td>California, USA</td>\n",
              "      <td>2020-02-11 20:03:54</td>\n",
              "      <td>b'RT @DeeTwoCents: This is the Republican\\xe2\\...</td>\n",
              "    </tr>\n",
              "    <tr>\n",
              "      <th>3</th>\n",
              "      <td>3</td>\n",
              "      <td>1</td>\n",
              "      <td>peggydumptrump</td>\n",
              "      <td>United States</td>\n",
              "      <td>2020-02-11 20:03:53</td>\n",
              "      <td>b\"RT @mog7546: \\xe2\\x80\\x9cSOFT ON CRIME\\xe2\\x...</td>\n",
              "    </tr>\n",
              "    <tr>\n",
              "      <th>4</th>\n",
              "      <td>4</td>\n",
              "      <td>1</td>\n",
              "      <td>LochnerWalter</td>\n",
              "      <td>NaN</td>\n",
              "      <td>2020-02-11 20:03:52</td>\n",
              "      <td>b'RT @AndyOstroy: @realDonaldTrump YOU\\xe2\\x80...</td>\n",
              "    </tr>\n",
              "    <tr>\n",
              "      <th>...</th>\n",
              "      <td>...</td>\n",
              "      <td>...</td>\n",
              "      <td>...</td>\n",
              "      <td>...</td>\n",
              "      <td>...</td>\n",
              "      <td>...</td>\n",
              "    </tr>\n",
              "    <tr>\n",
              "      <th>209872</th>\n",
              "      <td>104932</td>\n",
              "      <td>0</td>\n",
              "      <td>CrypticIcon</td>\n",
              "      <td>NaN</td>\n",
              "      <td>2020-03-07 04:51:48</td>\n",
              "      <td>RT @Jim_Jordan: The Comey FBI lied to the FISA...</td>\n",
              "    </tr>\n",
              "    <tr>\n",
              "      <th>209873</th>\n",
              "      <td>104933</td>\n",
              "      <td>0</td>\n",
              "      <td>SwordofTruth10</td>\n",
              "      <td>NaN</td>\n",
              "      <td>2020-03-07 08:30:30</td>\n",
              "      <td>RT @DiamondandSilk: Ex-Treasury Employee Plead...</td>\n",
              "    </tr>\n",
              "    <tr>\n",
              "      <th>209874</th>\n",
              "      <td>104934</td>\n",
              "      <td>0</td>\n",
              "      <td>thegre8_1</td>\n",
              "      <td>USA</td>\n",
              "      <td>2020-03-07 04:27:53</td>\n",
              "      <td>RT @DailyMail: US hospitals are preparing for ...</td>\n",
              "    </tr>\n",
              "    <tr>\n",
              "      <th>209875</th>\n",
              "      <td>104935</td>\n",
              "      <td>0</td>\n",
              "      <td>billslater</td>\n",
              "      <td>Chicago, IL</td>\n",
              "      <td>2020-03-07 04:55:39</td>\n",
              "      <td>RT @RealJamesWoods: MY NAME IS BILL W.  I like...</td>\n",
              "    </tr>\n",
              "    <tr>\n",
              "      <th>209876</th>\n",
              "      <td>104936</td>\n",
              "      <td>0</td>\n",
              "      <td>bolding_daniel</td>\n",
              "      <td>Greenville, SC</td>\n",
              "      <td>2020-03-07 06:48:22</td>\n",
              "      <td>@XesLana1 @Scholar_Atheist You said it!</td>\n",
              "    </tr>\n",
              "  </tbody>\n",
              "</table>\n",
              "<p>209877 rows × 6 columns</p>\n",
              "</div>\n",
              "      <button class=\"colab-df-convert\" onclick=\"convertToInteractive('df-66b0b2f6-8acf-4dfb-a0ea-121b409454c2')\"\n",
              "              title=\"Convert this dataframe to an interactive table.\"\n",
              "              style=\"display:none;\">\n",
              "        \n",
              "  <svg xmlns=\"http://www.w3.org/2000/svg\" height=\"24px\"viewBox=\"0 0 24 24\"\n",
              "       width=\"24px\">\n",
              "    <path d=\"M0 0h24v24H0V0z\" fill=\"none\"/>\n",
              "    <path d=\"M18.56 5.44l.94 2.06.94-2.06 2.06-.94-2.06-.94-.94-2.06-.94 2.06-2.06.94zm-11 1L8.5 8.5l.94-2.06 2.06-.94-2.06-.94L8.5 2.5l-.94 2.06-2.06.94zm10 10l.94 2.06.94-2.06 2.06-.94-2.06-.94-.94-2.06-.94 2.06-2.06.94z\"/><path d=\"M17.41 7.96l-1.37-1.37c-.4-.4-.92-.59-1.43-.59-.52 0-1.04.2-1.43.59L10.3 9.45l-7.72 7.72c-.78.78-.78 2.05 0 2.83L4 21.41c.39.39.9.59 1.41.59.51 0 1.02-.2 1.41-.59l7.78-7.78 2.81-2.81c.8-.78.8-2.07 0-2.86zM5.41 20L4 18.59l7.72-7.72 1.47 1.35L5.41 20z\"/>\n",
              "  </svg>\n",
              "      </button>\n",
              "      \n",
              "  <style>\n",
              "    .colab-df-container {\n",
              "      display:flex;\n",
              "      flex-wrap:wrap;\n",
              "      gap: 12px;\n",
              "    }\n",
              "\n",
              "    .colab-df-convert {\n",
              "      background-color: #E8F0FE;\n",
              "      border: none;\n",
              "      border-radius: 50%;\n",
              "      cursor: pointer;\n",
              "      display: none;\n",
              "      fill: #1967D2;\n",
              "      height: 32px;\n",
              "      padding: 0 0 0 0;\n",
              "      width: 32px;\n",
              "    }\n",
              "\n",
              "    .colab-df-convert:hover {\n",
              "      background-color: #E2EBFA;\n",
              "      box-shadow: 0px 1px 2px rgba(60, 64, 67, 0.3), 0px 1px 3px 1px rgba(60, 64, 67, 0.15);\n",
              "      fill: #174EA6;\n",
              "    }\n",
              "\n",
              "    [theme=dark] .colab-df-convert {\n",
              "      background-color: #3B4455;\n",
              "      fill: #D2E3FC;\n",
              "    }\n",
              "\n",
              "    [theme=dark] .colab-df-convert:hover {\n",
              "      background-color: #434B5C;\n",
              "      box-shadow: 0px 1px 3px 1px rgba(0, 0, 0, 0.15);\n",
              "      filter: drop-shadow(0px 1px 2px rgba(0, 0, 0, 0.3));\n",
              "      fill: #FFFFFF;\n",
              "    }\n",
              "  </style>\n",
              "\n",
              "      <script>\n",
              "        const buttonEl =\n",
              "          document.querySelector('#df-66b0b2f6-8acf-4dfb-a0ea-121b409454c2 button.colab-df-convert');\n",
              "        buttonEl.style.display =\n",
              "          google.colab.kernel.accessAllowed ? 'block' : 'none';\n",
              "\n",
              "        async function convertToInteractive(key) {\n",
              "          const element = document.querySelector('#df-66b0b2f6-8acf-4dfb-a0ea-121b409454c2');\n",
              "          const dataTable =\n",
              "            await google.colab.kernel.invokeFunction('convertToInteractive',\n",
              "                                                     [key], {});\n",
              "          if (!dataTable) return;\n",
              "\n",
              "          const docLinkHtml = 'Like what you see? Visit the ' +\n",
              "            '<a target=\"_blank\" href=https://colab.research.google.com/notebooks/data_table.ipynb>data table notebook</a>'\n",
              "            + ' to learn more about interactive tables.';\n",
              "          element.innerHTML = '';\n",
              "          dataTable['output_type'] = 'display_data';\n",
              "          await google.colab.output.renderOutput(dataTable, element);\n",
              "          const docLink = document.createElement('div');\n",
              "          docLink.innerHTML = docLinkHtml;\n",
              "          element.appendChild(docLink);\n",
              "        }\n",
              "      </script>\n",
              "    </div>\n",
              "  </div>\n",
              "  "
            ]
          },
          "metadata": {},
          "execution_count": 4
        }
      ]
    },
    {
      "cell_type": "markdown",
      "source": [
        "Por questões de economia de tempo, serão utilizados apenas 25% dos tweets:"
      ],
      "metadata": {
        "id": "XvVrqh6x5aAZ"
      }
    },
    {
      "cell_type": "code",
      "source": [
        "corpus = corpus.groupby('tweet_category', group_keys=False).apply(lambda x:x.sample(frac=0.25, random_state=42))\n"
      ],
      "metadata": {
        "id": "ousTGIYt2-yt"
      },
      "execution_count": null,
      "outputs": []
    },
    {
      "cell_type": "code",
      "source": [
        "corpus['tweet_category'].value_counts()"
      ],
      "metadata": {
        "colab": {
          "base_uri": "https://localhost:8080/"
        },
        "id": "nH0Hr0rX4DXR",
        "outputId": "3e12cbdb-4316-4c40-bad7-e33122b077df"
      },
      "execution_count": null,
      "outputs": [
        {
          "output_type": "execute_result",
          "data": {
            "text/plain": [
              "1    26235\n",
              "0    26234\n",
              "Name: tweet_category, dtype: int64"
            ]
          },
          "metadata": {},
          "execution_count": 6
        }
      ]
    },
    {
      "cell_type": "markdown",
      "source": [
        "### Text preprocessing"
      ],
      "metadata": {
        "id": "UAqcxH62qmmF"
      }
    },
    {
      "cell_type": "code",
      "source": [
        "\n",
        "def preproc(tweet):\n",
        "\n",
        "    tweet = re.sub(r\"(?:\\@|https?\\://)\\S+\", \" \", tweet) # remove mentions and urls\n",
        "    tweet = re.sub(r\"\\\\n\", \" \", tweet)                  # remove line breaks\n",
        "    tweet = re.sub(r\"\\\\\", \" \\\\\\\\\", tweet)               # separate unicode characters (emoji)\n",
        "    tweet = re.sub(r\"b?'?RT[\\s$]\", \" \", tweet)          # remove RT\n",
        "\n",
        "    # Tokenization\n",
        "    tokens = nltk.word_tokenize(tweet) \n",
        "\n",
        "    # Decapitalization\n",
        "    tokens = [t.lower() for t in tokens] \n",
        "\n",
        "    # Remove stop words\n",
        "    tokens = [t for t in tokens if t not in stop_words] \n",
        "\n",
        "    ps = PorterStemmer()\n",
        "\n",
        "    # Stemming\n",
        "    tokens = [ps.stem(t) for t in tokens]\n",
        "\n",
        "    return \" \".join(tokens)\n"
      ],
      "metadata": {
        "id": "shpJfNPDq1eT"
      },
      "execution_count": null,
      "outputs": []
    },
    {
      "cell_type": "code",
      "source": [
        "corpus['normalized_text'] = corpus.text.apply(preproc)"
      ],
      "metadata": {
        "id": "i8S-J3UMrpv9"
      },
      "execution_count": null,
      "outputs": []
    },
    {
      "cell_type": "code",
      "source": [
        "corpus['tweet_category'].value_counts()"
      ],
      "metadata": {
        "colab": {
          "base_uri": "https://localhost:8080/"
        },
        "id": "7pYbpXIz3Kk-",
        "outputId": "a709aac7-1b86-46df-9bc4-74372aa69de2"
      },
      "execution_count": null,
      "outputs": [
        {
          "output_type": "execute_result",
          "data": {
            "text/plain": [
              "1    26235\n",
              "0    26234\n",
              "Name: tweet_category, dtype: int64"
            ]
          },
          "metadata": {},
          "execution_count": 9
        }
      ]
    },
    {
      "cell_type": "code",
      "source": [
        "corpus[['text', 'normalized_text']].head()\n"
      ],
      "metadata": {
        "colab": {
          "base_uri": "https://localhost:8080/",
          "height": 337
        },
        "id": "RpokE3429IaR",
        "outputId": "8bf13f59-b1e9-4b5e-d43d-e0d876c2df3f"
      },
      "execution_count": null,
      "outputs": [
        {
          "output_type": "execute_result",
          "data": {
            "text/plain": [
              "                                                     text  \\\n",
              "111310  RT @jessefelder: 'How bad is it in the energy ...   \n",
              "186713  @0ctoberReignz This Movie was so coded and the...   \n",
              "170912  RT @realannapaulina: Radical socialists like B...   \n",
              "117871  That's alright Biden, we knew you were lying!\\...   \n",
              "180550           @SpencerFernando https://t.co/yWCxqd8dG1   \n",
              "\n",
              "                                          normalized_text  \n",
              "111310  'how bad energi sector right ? weight & amp ; ...  \n",
              "186713  movi code came children.alway wonder event ? h...  \n",
              "170912  radic socialist like berni sander ocasio-corte...  \n",
              "117871  's alright biden , knew lie ! biden revers cou...  \n",
              "180550                                                     "
            ],
            "text/html": [
              "\n",
              "  <div id=\"df-86798dd8-1eed-4cd3-818e-b7fff7f65449\">\n",
              "    <div class=\"colab-df-container\">\n",
              "      <div>\n",
              "<style scoped>\n",
              "    .dataframe tbody tr th:only-of-type {\n",
              "        vertical-align: middle;\n",
              "    }\n",
              "\n",
              "    .dataframe tbody tr th {\n",
              "        vertical-align: top;\n",
              "    }\n",
              "\n",
              "    .dataframe thead th {\n",
              "        text-align: right;\n",
              "    }\n",
              "</style>\n",
              "<table border=\"1\" class=\"dataframe\">\n",
              "  <thead>\n",
              "    <tr style=\"text-align: right;\">\n",
              "      <th></th>\n",
              "      <th>text</th>\n",
              "      <th>normalized_text</th>\n",
              "    </tr>\n",
              "  </thead>\n",
              "  <tbody>\n",
              "    <tr>\n",
              "      <th>111310</th>\n",
              "      <td>RT @jessefelder: 'How bad is it in the energy ...</td>\n",
              "      <td>'how bad energi sector right ? weight &amp; amp ; ...</td>\n",
              "    </tr>\n",
              "    <tr>\n",
              "      <th>186713</th>\n",
              "      <td>@0ctoberReignz This Movie was so coded and the...</td>\n",
              "      <td>movi code came children.alway wonder event ? h...</td>\n",
              "    </tr>\n",
              "    <tr>\n",
              "      <th>170912</th>\n",
              "      <td>RT @realannapaulina: Radical socialists like B...</td>\n",
              "      <td>radic socialist like berni sander ocasio-corte...</td>\n",
              "    </tr>\n",
              "    <tr>\n",
              "      <th>117871</th>\n",
              "      <td>That's alright Biden, we knew you were lying!\\...</td>\n",
              "      <td>'s alright biden , knew lie ! biden revers cou...</td>\n",
              "    </tr>\n",
              "    <tr>\n",
              "      <th>180550</th>\n",
              "      <td>@SpencerFernando https://t.co/yWCxqd8dG1</td>\n",
              "      <td></td>\n",
              "    </tr>\n",
              "  </tbody>\n",
              "</table>\n",
              "</div>\n",
              "      <button class=\"colab-df-convert\" onclick=\"convertToInteractive('df-86798dd8-1eed-4cd3-818e-b7fff7f65449')\"\n",
              "              title=\"Convert this dataframe to an interactive table.\"\n",
              "              style=\"display:none;\">\n",
              "        \n",
              "  <svg xmlns=\"http://www.w3.org/2000/svg\" height=\"24px\"viewBox=\"0 0 24 24\"\n",
              "       width=\"24px\">\n",
              "    <path d=\"M0 0h24v24H0V0z\" fill=\"none\"/>\n",
              "    <path d=\"M18.56 5.44l.94 2.06.94-2.06 2.06-.94-2.06-.94-.94-2.06-.94 2.06-2.06.94zm-11 1L8.5 8.5l.94-2.06 2.06-.94-2.06-.94L8.5 2.5l-.94 2.06-2.06.94zm10 10l.94 2.06.94-2.06 2.06-.94-2.06-.94-.94-2.06-.94 2.06-2.06.94z\"/><path d=\"M17.41 7.96l-1.37-1.37c-.4-.4-.92-.59-1.43-.59-.52 0-1.04.2-1.43.59L10.3 9.45l-7.72 7.72c-.78.78-.78 2.05 0 2.83L4 21.41c.39.39.9.59 1.41.59.51 0 1.02-.2 1.41-.59l7.78-7.78 2.81-2.81c.8-.78.8-2.07 0-2.86zM5.41 20L4 18.59l7.72-7.72 1.47 1.35L5.41 20z\"/>\n",
              "  </svg>\n",
              "      </button>\n",
              "      \n",
              "  <style>\n",
              "    .colab-df-container {\n",
              "      display:flex;\n",
              "      flex-wrap:wrap;\n",
              "      gap: 12px;\n",
              "    }\n",
              "\n",
              "    .colab-df-convert {\n",
              "      background-color: #E8F0FE;\n",
              "      border: none;\n",
              "      border-radius: 50%;\n",
              "      cursor: pointer;\n",
              "      display: none;\n",
              "      fill: #1967D2;\n",
              "      height: 32px;\n",
              "      padding: 0 0 0 0;\n",
              "      width: 32px;\n",
              "    }\n",
              "\n",
              "    .colab-df-convert:hover {\n",
              "      background-color: #E2EBFA;\n",
              "      box-shadow: 0px 1px 2px rgba(60, 64, 67, 0.3), 0px 1px 3px 1px rgba(60, 64, 67, 0.15);\n",
              "      fill: #174EA6;\n",
              "    }\n",
              "\n",
              "    [theme=dark] .colab-df-convert {\n",
              "      background-color: #3B4455;\n",
              "      fill: #D2E3FC;\n",
              "    }\n",
              "\n",
              "    [theme=dark] .colab-df-convert:hover {\n",
              "      background-color: #434B5C;\n",
              "      box-shadow: 0px 1px 3px 1px rgba(0, 0, 0, 0.15);\n",
              "      filter: drop-shadow(0px 1px 2px rgba(0, 0, 0, 0.3));\n",
              "      fill: #FFFFFF;\n",
              "    }\n",
              "  </style>\n",
              "\n",
              "      <script>\n",
              "        const buttonEl =\n",
              "          document.querySelector('#df-86798dd8-1eed-4cd3-818e-b7fff7f65449 button.colab-df-convert');\n",
              "        buttonEl.style.display =\n",
              "          google.colab.kernel.accessAllowed ? 'block' : 'none';\n",
              "\n",
              "        async function convertToInteractive(key) {\n",
              "          const element = document.querySelector('#df-86798dd8-1eed-4cd3-818e-b7fff7f65449');\n",
              "          const dataTable =\n",
              "            await google.colab.kernel.invokeFunction('convertToInteractive',\n",
              "                                                     [key], {});\n",
              "          if (!dataTable) return;\n",
              "\n",
              "          const docLinkHtml = 'Like what you see? Visit the ' +\n",
              "            '<a target=\"_blank\" href=https://colab.research.google.com/notebooks/data_table.ipynb>data table notebook</a>'\n",
              "            + ' to learn more about interactive tables.';\n",
              "          element.innerHTML = '';\n",
              "          dataTable['output_type'] = 'display_data';\n",
              "          await google.colab.output.renderOutput(dataTable, element);\n",
              "          const docLink = document.createElement('div');\n",
              "          docLink.innerHTML = docLinkHtml;\n",
              "          element.appendChild(docLink);\n",
              "        }\n",
              "      </script>\n",
              "    </div>\n",
              "  </div>\n",
              "  "
            ]
          },
          "metadata": {},
          "execution_count": 10
        }
      ]
    },
    {
      "cell_type": "markdown",
      "source": [
        "### Spliting the data"
      ],
      "metadata": {
        "id": "h_7h2tn26cBB"
      }
    },
    {
      "cell_type": "code",
      "source": [
        "X = corpus.normalized_text\n",
        "y = corpus.tweet_category\n",
        "X_train, X_test, y_train, y_test = train_test_split(X, y, test_size = 0.2, random_state=42)\n",
        "X_train, X_valid, y_train, y_valid = train_test_split(X_train, y_train, test_size = 0.2, random_state=42)"
      ],
      "metadata": {
        "id": "WKEmcM4A5j5e"
      },
      "execution_count": null,
      "outputs": []
    },
    {
      "cell_type": "code",
      "source": [
        "y_train.value_counts()"
      ],
      "metadata": {
        "colab": {
          "base_uri": "https://localhost:8080/"
        },
        "id": "dVehan-IEdqL",
        "outputId": "967b9771-256b-4c64-8e03-fffd13de9ecc"
      },
      "execution_count": null,
      "outputs": [
        {
          "output_type": "execute_result",
          "data": {
            "text/plain": [
              "0    16851\n",
              "1    16729\n",
              "Name: tweet_category, dtype: int64"
            ]
          },
          "metadata": {},
          "execution_count": 12
        }
      ]
    },
    {
      "cell_type": "code",
      "source": [
        "y_valid.value_counts()"
      ],
      "metadata": {
        "colab": {
          "base_uri": "https://localhost:8080/"
        },
        "id": "U0fGmFEeEy3z",
        "outputId": "b8e8112f-dfa5-49df-d7ba-fd208a51bee3"
      },
      "execution_count": null,
      "outputs": [
        {
          "output_type": "execute_result",
          "data": {
            "text/plain": [
              "1    4243\n",
              "0    4152\n",
              "Name: tweet_category, dtype: int64"
            ]
          },
          "metadata": {},
          "execution_count": 13
        }
      ]
    },
    {
      "cell_type": "code",
      "source": [
        "y_test.value_counts()"
      ],
      "metadata": {
        "colab": {
          "base_uri": "https://localhost:8080/"
        },
        "id": "sN00-SxWFEEQ",
        "outputId": "d9ab17b4-6a49-45d1-c37c-7a01ac675ce0"
      },
      "execution_count": null,
      "outputs": [
        {
          "output_type": "execute_result",
          "data": {
            "text/plain": [
              "1    5263\n",
              "0    5231\n",
              "Name: tweet_category, dtype: int64"
            ]
          },
          "metadata": {},
          "execution_count": 14
        }
      ]
    },
    {
      "cell_type": "markdown",
      "source": [
        "## Feature Extraction"
      ],
      "metadata": {
        "id": "dfSD1623GFDH"
      }
    },
    {
      "cell_type": "markdown",
      "source": [
        "### Vectorization with Pre-trainded Word2Vec (google-news)"
      ],
      "metadata": {
        "id": "ZLFGlg-la4ca"
      }
    },
    {
      "cell_type": "code",
      "source": [
        "wv = KeyedVectors.load(\"drive/MyDrive/word2vec.wordvectors\", mmap='r')"
      ],
      "metadata": {
        "id": "5WsAerA7puAZ"
      },
      "execution_count": null,
      "outputs": []
    },
    {
      "cell_type": "code",
      "source": [
        "def text2vectors(text, embed_matrix, max_len=35):\n",
        "    tokens = set(text.split())\n",
        "    vec = []\n",
        "    for token in tokens:\n",
        "        if len(vec) == max_len:\n",
        "            break\n",
        "        try:\n",
        "            vec.append(embed_matrix[token])\n",
        "        except Exception as e:\n",
        "            pass\n",
        "    for i in range(max_len - len(vec)):\n",
        "        vec.append(np.zeros(300,))\n",
        "    \n",
        "    return np.stack(vec, axis=0)\n",
        "        "
      ],
      "metadata": {
        "id": "TrecYO1rB7-6"
      },
      "execution_count": null,
      "outputs": []
    },
    {
      "cell_type": "code",
      "source": [
        "X_train_vecs = np.asarray([text2vectors(text, wv).flatten() for text in X_train.values])\n",
        "X_valid_vecs = np.asarray([text2vectors(text, wv).flatten() for text in X_valid.values])\n",
        "X_test_vecs = np.asarray([text2vectors(text, wv).flatten() for text in X_test.values])"
      ],
      "metadata": {
        "id": "-hohTDLhBwLp"
      },
      "execution_count": null,
      "outputs": []
    },
    {
      "cell_type": "code",
      "source": [
        "X_train_vecs.shape"
      ],
      "metadata": {
        "colab": {
          "base_uri": "https://localhost:8080/"
        },
        "id": "4f0RgZWeZ7ku",
        "outputId": "33b40c83-166e-4b8c-fcb5-eeaeef89132f"
      },
      "execution_count": null,
      "outputs": [
        {
          "output_type": "execute_result",
          "data": {
            "text/plain": [
              "(33580, 10500)"
            ]
          },
          "metadata": {},
          "execution_count": 18
        }
      ]
    },
    {
      "cell_type": "markdown",
      "source": [
        "### Dimensionality reduction with PCA "
      ],
      "metadata": {
        "id": "IEHge9K9bEbM"
      }
    },
    {
      "cell_type": "code",
      "source": [
        "from sklearn.decomposition import PCA\n",
        "pca_model = PCA(n_components=2000)\n",
        "pca_model.fit(X_train_vecs)\n",
        "print(\"Sum of variance ratios: \",sum(pca_model.explained_variance_ratio_))\n"
      ],
      "metadata": {
        "colab": {
          "base_uri": "https://localhost:8080/"
        },
        "id": "kcucazoebUFN",
        "outputId": "00078d82-dc7f-4833-925c-d805556aed2c"
      },
      "execution_count": null,
      "outputs": [
        {
          "output_type": "stream",
          "name": "stdout",
          "text": [
            "Sum of variance ratios:  0.91826095793855\n"
          ]
        }
      ]
    },
    {
      "cell_type": "code",
      "source": [
        "X_train_vecs = pca_model.transform(X_train_vecs)\n",
        "X_valid_vecs = pca_model.transform(X_valid_vecs)\n",
        "X_test_vecs = pca_model.transform(X_test_vecs)"
      ],
      "metadata": {
        "id": "DkrXq_bcdq0L"
      },
      "execution_count": null,
      "outputs": []
    },
    {
      "cell_type": "code",
      "source": [
        "print(X_train_vecs.shape)\n",
        "print(X_valid_vecs.shape)\n",
        "print(X_test_vecs.shape)"
      ],
      "metadata": {
        "colab": {
          "base_uri": "https://localhost:8080/"
        },
        "id": "dxqXpIThfL56",
        "outputId": "f7933882-2f8e-4f31-db0a-f5873266054d"
      },
      "execution_count": null,
      "outputs": [
        {
          "output_type": "stream",
          "name": "stdout",
          "text": [
            "(33580, 2000)\n",
            "(8395, 2000)\n",
            "(10494, 2000)\n"
          ]
        }
      ]
    },
    {
      "cell_type": "markdown",
      "source": [
        "## Training Models"
      ],
      "metadata": {
        "id": "nW6UgA53Oi-1"
      }
    },
    {
      "cell_type": "markdown",
      "source": [
        "Defining split for Hyperparameter Optimization "
      ],
      "metadata": {
        "id": "4h-w2JDvvsHE"
      }
    },
    {
      "cell_type": "code",
      "source": [
        "split_index = [-1 if x in X_train.index else 0 for x in X_train.append(X_valid).index ]"
      ],
      "metadata": {
        "id": "5OoENMPvKqlM"
      },
      "execution_count": null,
      "outputs": []
    },
    {
      "cell_type": "code",
      "source": [
        "pds = PredefinedSplit(test_fold = split_index)"
      ],
      "metadata": {
        "id": "UeuGR1lsRQRr"
      },
      "execution_count": null,
      "outputs": []
    },
    {
      "cell_type": "markdown",
      "source": [
        "### Logistic Regression"
      ],
      "metadata": {
        "id": "d7UkFr2wOk8k"
      }
    },
    {
      "cell_type": "code",
      "source": [
        "hyperparams_lr = {\n",
        "    \"solver\" : [\"sag\", \"saga\",\"lbfgs\", \"liblinear\" ],\n",
        "    'penalty': ['none', 'l1', 'l2', 'elasticnet'],\n",
        "    'C':loguniform(1e-5, 100)\n",
        "}"
      ],
      "metadata": {
        "id": "m53NDOr99dbW"
      },
      "execution_count": null,
      "outputs": []
    },
    {
      "cell_type": "code",
      "source": [
        "clf = RandomizedSearchCV(LogisticRegression(), hyperparams_lr, verbose=1,cv=pds,\n",
        "                           scoring='f1', n_jobs=-1, n_iter=30 )"
      ],
      "metadata": {
        "id": "LK3I_xuCGwMC"
      },
      "execution_count": null,
      "outputs": []
    },
    {
      "cell_type": "code",
      "source": [
        "clf.fit(np.vstack((X_train_vecs, X_valid_vecs)), y_train.append(y_valid))"
      ],
      "metadata": {
        "colab": {
          "base_uri": "https://localhost:8080/"
        },
        "id": "yUyYCBviS9BG",
        "outputId": "ce068eda-e790-41e3-b508-f8a5ccd7f43f"
      },
      "execution_count": null,
      "outputs": [
        {
          "output_type": "stream",
          "name": "stdout",
          "text": [
            "Fitting 1 folds for each of 30 candidates, totalling 30 fits\n"
          ]
        },
        {
          "output_type": "stream",
          "name": "stderr",
          "text": [
            "/usr/local/lib/python3.7/dist-packages/joblib/externals/loky/process_executor.py:705: UserWarning: A worker stopped while some jobs were given to the executor. This can be caused by a too short worker timeout or by a memory leak.\n",
            "  \"timeout or by a memory leak.\", UserWarning\n",
            "/usr/local/lib/python3.7/dist-packages/sklearn/model_selection/_validation.py:372: FitFailedWarning: \n",
            "12 fits failed out of a total of 30.\n",
            "The score on these train-test partitions for these parameters will be set to nan.\n",
            "If these failures are not expected, you can try to debug them by setting error_score='raise'.\n",
            "\n",
            "Below are more details about the failures:\n",
            "--------------------------------------------------------------------------------\n",
            "3 fits failed with the following error:\n",
            "Traceback (most recent call last):\n",
            "  File \"/usr/local/lib/python3.7/dist-packages/sklearn/model_selection/_validation.py\", line 680, in _fit_and_score\n",
            "    estimator.fit(X_train, y_train, **fit_params)\n",
            "  File \"/usr/local/lib/python3.7/dist-packages/sklearn/linear_model/_logistic.py\", line 1461, in fit\n",
            "    solver = _check_solver(self.solver, self.penalty, self.dual)\n",
            "  File \"/usr/local/lib/python3.7/dist-packages/sklearn/linear_model/_logistic.py\", line 449, in _check_solver\n",
            "    % (solver, penalty)\n",
            "ValueError: Solver lbfgs supports only 'l2' or 'none' penalties, got elasticnet penalty.\n",
            "\n",
            "--------------------------------------------------------------------------------\n",
            "1 fits failed with the following error:\n",
            "Traceback (most recent call last):\n",
            "  File \"/usr/local/lib/python3.7/dist-packages/sklearn/model_selection/_validation.py\", line 680, in _fit_and_score\n",
            "    estimator.fit(X_train, y_train, **fit_params)\n",
            "  File \"/usr/local/lib/python3.7/dist-packages/sklearn/linear_model/_logistic.py\", line 1461, in fit\n",
            "    solver = _check_solver(self.solver, self.penalty, self.dual)\n",
            "  File \"/usr/local/lib/python3.7/dist-packages/sklearn/linear_model/_logistic.py\", line 449, in _check_solver\n",
            "    % (solver, penalty)\n",
            "ValueError: Solver lbfgs supports only 'l2' or 'none' penalties, got l1 penalty.\n",
            "\n",
            "--------------------------------------------------------------------------------\n",
            "2 fits failed with the following error:\n",
            "Traceback (most recent call last):\n",
            "  File \"/usr/local/lib/python3.7/dist-packages/sklearn/model_selection/_validation.py\", line 680, in _fit_and_score\n",
            "    estimator.fit(X_train, y_train, **fit_params)\n",
            "  File \"/usr/local/lib/python3.7/dist-packages/sklearn/linear_model/_logistic.py\", line 1461, in fit\n",
            "    solver = _check_solver(self.solver, self.penalty, self.dual)\n",
            "  File \"/usr/local/lib/python3.7/dist-packages/sklearn/linear_model/_logistic.py\", line 459, in _check_solver\n",
            "    solver\n",
            "ValueError: Only 'saga' solver supports elasticnet penalty, got solver=liblinear.\n",
            "\n",
            "--------------------------------------------------------------------------------\n",
            "5 fits failed with the following error:\n",
            "Traceback (most recent call last):\n",
            "  File \"/usr/local/lib/python3.7/dist-packages/sklearn/model_selection/_validation.py\", line 680, in _fit_and_score\n",
            "    estimator.fit(X_train, y_train, **fit_params)\n",
            "  File \"/usr/local/lib/python3.7/dist-packages/sklearn/linear_model/_logistic.py\", line 1473, in fit\n",
            "    % self.l1_ratio\n",
            "ValueError: l1_ratio must be between 0 and 1; got (l1_ratio=None)\n",
            "\n",
            "--------------------------------------------------------------------------------\n",
            "1 fits failed with the following error:\n",
            "Traceback (most recent call last):\n",
            "  File \"/usr/local/lib/python3.7/dist-packages/sklearn/model_selection/_validation.py\", line 680, in _fit_and_score\n",
            "    estimator.fit(X_train, y_train, **fit_params)\n",
            "  File \"/usr/local/lib/python3.7/dist-packages/sklearn/linear_model/_logistic.py\", line 1461, in fit\n",
            "    solver = _check_solver(self.solver, self.penalty, self.dual)\n",
            "  File \"/usr/local/lib/python3.7/dist-packages/sklearn/linear_model/_logistic.py\", line 449, in _check_solver\n",
            "    % (solver, penalty)\n",
            "ValueError: Solver sag supports only 'l2' or 'none' penalties, got l1 penalty.\n",
            "\n",
            "  warnings.warn(some_fits_failed_message, FitFailedWarning)\n",
            "/usr/local/lib/python3.7/dist-packages/sklearn/model_selection/_search.py:972: UserWarning: One or more of the test scores are non-finite: [0.89180871        nan 0.9245083  0.89038826 0.92586491        nan\n",
            "        nan 0.72579853 0.91907241 0.89909995 0.92501471        nan\n",
            " 0.92401932        nan        nan 0.         0.92401932 0.92401932\n",
            "        nan 0.91148552 0.88221381 0.92477928 0.92604805 0.92421921\n",
            "        nan        nan        nan        nan 0.92564706        nan]\n",
            "  category=UserWarning,\n"
          ]
        },
        {
          "output_type": "execute_result",
          "data": {
            "text/plain": [
              "RandomizedSearchCV(cv=PredefinedSplit(test_fold=array([-1, -1, ...,  0,  0])),\n",
              "                   estimator=LogisticRegression(), n_iter=30, n_jobs=-1,\n",
              "                   param_distributions={'C': <scipy.stats._distn_infrastructure.rv_frozen object at 0x7f30b9ac0510>,\n",
              "                                        'penalty': ['none', 'l1', 'l2',\n",
              "                                                    'elasticnet'],\n",
              "                                        'solver': ['sag', 'saga', 'lbfgs',\n",
              "                                                   'liblinear']},\n",
              "                   scoring='f1', verbose=1)"
            ]
          },
          "metadata": {},
          "execution_count": 26
        }
      ]
    },
    {
      "cell_type": "code",
      "source": [
        "preds = clf.predict(X_test_vecs)"
      ],
      "metadata": {
        "id": "Muf9XJnOKAOL"
      },
      "execution_count": null,
      "outputs": []
    },
    {
      "cell_type": "code",
      "source": [
        "print(classification_report(preds, y_test))"
      ],
      "metadata": {
        "colab": {
          "base_uri": "https://localhost:8080/"
        },
        "id": "Lm4EkbTRKBbg",
        "outputId": "d5cdac6c-dfc9-4381-fec8-487419e1ed58"
      },
      "execution_count": null,
      "outputs": [
        {
          "output_type": "stream",
          "name": "stdout",
          "text": [
            "              precision    recall  f1-score   support\n",
            "\n",
            "           0       0.93      0.92      0.93      5286\n",
            "           1       0.92      0.93      0.93      5208\n",
            "\n",
            "    accuracy                           0.93     10494\n",
            "   macro avg       0.93      0.93      0.93     10494\n",
            "weighted avg       0.93      0.93      0.93     10494\n",
            "\n"
          ]
        }
      ]
    },
    {
      "cell_type": "code",
      "source": [
        "disp = ConfusionMatrixDisplay.from_estimator(\n",
        "        clf,\n",
        "        X_test_vecs,\n",
        "        y_test,\n",
        "        display_labels=['No sarcasm', 'Sarcasm'],\n",
        "        cmap=plt.cm.Blues )\n",
        "disp.ax_.set_title(\"Logistic Regression\")\n",
        "plt.show()"
      ],
      "metadata": {
        "colab": {
          "base_uri": "https://localhost:8080/",
          "height": 295
        },
        "id": "mRcv56BNgG4A",
        "outputId": "bc689048-1746-4499-d145-6205f862062b"
      },
      "execution_count": null,
      "outputs": [
        {
          "output_type": "display_data",
          "data": {
            "text/plain": [
              "<Figure size 432x288 with 2 Axes>"
            ],
            "image/png": "[encoded data removed]"
          },
          "metadata": {
            "needs_background": "light"
          }
        }
      ]
    },
    {
      "cell_type": "markdown",
      "source": [
        "### Naive Bayes"
      ],
      "metadata": {
        "id": "K7oKb4nqpSGt"
      }
    },
    {
      "cell_type": "code",
      "source": [
        "hyperparams_nb = {\n",
        "        'var_smoothing': np.logspace(-9,-9, num=100)\n",
        "}\n"
      ],
      "metadata": {
        "id": "favvTzjR9GJ2"
      },
      "execution_count": null,
      "outputs": []
    },
    {
      "cell_type": "code",
      "source": [
        "clf_nb =RandomizedSearchCV(GaussianNB(), hyperparams_nb, verbose=1,cv=pds,\n",
        "                           scoring='f1', n_jobs=-1, n_iter=100 ) "
      ],
      "metadata": {
        "id": "6Bdn4csY935-"
      },
      "execution_count": null,
      "outputs": []
    },
    {
      "cell_type": "code",
      "source": [
        "clf_nb.fit(np.vstack((X_train_vecs, X_valid_vecs)), y_train.append(y_valid))"
      ],
      "metadata": {
        "colab": {
          "base_uri": "https://localhost:8080/"
        },
        "id": "ps05AjHbMKbp",
        "outputId": "44f7dc3d-cae9-4274-9547-412236b85b98"
      },
      "execution_count": null,
      "outputs": [
        {
          "output_type": "stream",
          "name": "stdout",
          "text": [
            "Fitting 1 folds for each of 100 candidates, totalling 100 fits\n"
          ]
        },
        {
          "output_type": "execute_result",
          "data": {
            "text/plain": [
              "RandomizedSearchCV(cv=PredefinedSplit(test_fold=array([-1, -1, ...,  0,  0])),\n",
              "                   estimator=GaussianNB(), n_iter=100, n_jobs=-1,\n",
              "                   param_distributions={'var_smoothing': array([1.e-09, 1.e-09, 1.e-09, 1.e-09, 1.e-09, 1.e-09, 1.e-09, 1.e-09,\n",
              "       1.e-09, 1.e-09, 1.e-09, 1.e-09, 1.e-09, 1.e-09, 1.e-09, 1.e-09,\n",
              "       1.e-09, 1.e-09, 1.e-09, 1.e-09, 1.e-09, 1.e-09, 1.e-09, 1.e-09,\n",
              "       1.e-09, 1.e-09, 1.e-09, 1...\n",
              "       1.e-09, 1.e-09, 1.e-09, 1.e-09, 1.e-09, 1.e-09, 1.e-09, 1.e-09,\n",
              "       1.e-09, 1.e-09, 1.e-09, 1.e-09, 1.e-09, 1.e-09, 1.e-09, 1.e-09,\n",
              "       1.e-09, 1.e-09, 1.e-09, 1.e-09, 1.e-09, 1.e-09, 1.e-09, 1.e-09,\n",
              "       1.e-09, 1.e-09, 1.e-09, 1.e-09, 1.e-09, 1.e-09, 1.e-09, 1.e-09,\n",
              "       1.e-09, 1.e-09, 1.e-09, 1.e-09, 1.e-09, 1.e-09, 1.e-09, 1.e-09,\n",
              "       1.e-09, 1.e-09, 1.e-09, 1.e-09, 1.e-09, 1.e-09, 1.e-09, 1.e-09,\n",
              "       1.e-09, 1.e-09, 1.e-09, 1.e-09])},\n",
              "                   scoring='f1', verbose=1)"
            ]
          },
          "metadata": {},
          "execution_count": 26
        }
      ]
    },
    {
      "cell_type": "code",
      "source": [
        "preds = clf_nb.predict(X_test_vecs)\n",
        "print(classification_report(preds, y_test))"
      ],
      "metadata": {
        "colab": {
          "base_uri": "https://localhost:8080/"
        },
        "id": "_W9lNePq-6xZ",
        "outputId": "7d62f474-f777-4147-ba1c-f368902db289"
      },
      "execution_count": null,
      "outputs": [
        {
          "output_type": "stream",
          "name": "stdout",
          "text": [
            "              precision    recall  f1-score   support\n",
            "\n",
            "           0       0.86      0.67      0.75      6732\n",
            "           1       0.58      0.81      0.67      3762\n",
            "\n",
            "    accuracy                           0.72     10494\n",
            "   macro avg       0.72      0.74      0.71     10494\n",
            "weighted avg       0.76      0.72      0.73     10494\n",
            "\n"
          ]
        }
      ]
    },
    {
      "cell_type": "code",
      "source": [
        "disp = ConfusionMatrixDisplay.from_estimator(\n",
        "        clf_nb,\n",
        "        X_test_vecs,\n",
        "        y_test,\n",
        "        display_labels=['No sarcasm', 'Sarcasm'],\n",
        "        cmap=plt.cm.Blues )\n",
        "disp.ax_.set_title(\"Gaussian Naive Bayes\")\n",
        "plt.show()"
      ],
      "metadata": {
        "colab": {
          "base_uri": "https://localhost:8080/",
          "height": 295
        },
        "id": "BJXy0h3vT6r7",
        "outputId": "3d0c1305-fdf1-4c28-ebd0-cef8fd24ac84"
      },
      "execution_count": null,
      "outputs": [
        {
          "output_type": "display_data",
          "data": {
            "text/plain": [
              "<Figure size 432x288 with 2 Axes>"
            ],
            "image/png": "[encoded data removed]"
          },
          "metadata": {
            "needs_background": "light"
          }
        }
      ]
    },
    {
      "cell_type": "markdown",
      "source": [
        "### Suport Vector Machine (SVM)"
      ],
      "metadata": {
        "id": "xaxFylgnpY-f"
      }
    },
    {
      "cell_type": "code",
      "source": [
        "hyperparams_SVM =   {\n",
        "    'C': np.logspace(-5, 5, 10), \n",
        "    'gamma': np.logspace(-5, 5, 10),\n",
        "    'kernel': ['rbf', 'linear']} "
      ],
      "metadata": {
        "id": "kk2ddoZ7U5P1"
      },
      "execution_count": null,
      "outputs": []
    },
    {
      "cell_type": "code",
      "source": [
        "clf_svm =SVC()"
      ],
      "metadata": {
        "id": "-rvuSQIYVwsg"
      },
      "execution_count": null,
      "outputs": []
    },
    {
      "cell_type": "code",
      "source": [
        "clf_svm.fit(np.vstack((X_train_vecs, X_valid_vecs)), y_train.append(y_valid))"
      ],
      "metadata": {
        "colab": {
          "base_uri": "https://localhost:8080/"
        },
        "id": "MPqF7F2bWlR_",
        "outputId": "e341ae64-0c48-48a8-e770-bcd57a4d2681"
      },
      "execution_count": null,
      "outputs": [
        {
          "output_type": "execute_result",
          "data": {
            "text/plain": [
              "SVC()"
            ]
          },
          "metadata": {},
          "execution_count": 27
        }
      ]
    },
    {
      "cell_type": "code",
      "source": [
        "preds = clf_svm.predict(X_test_vecs)\n",
        "print(classification_report(preds, y_test))"
      ],
      "metadata": {
        "id": "Ks5PEtEDWtAT",
        "colab": {
          "base_uri": "https://localhost:8080/"
        },
        "outputId": "43f91516-9048-4b52-8e87-2906a4383cfd"
      },
      "execution_count": null,
      "outputs": [
        {
          "output_type": "stream",
          "name": "stdout",
          "text": [
            "              precision    recall  f1-score   support\n",
            "\n",
            "           0       0.97      0.95      0.96      5335\n",
            "           1       0.95      0.97      0.96      5159\n",
            "\n",
            "    accuracy                           0.96     10494\n",
            "   macro avg       0.96      0.96      0.96     10494\n",
            "weighted avg       0.96      0.96      0.96     10494\n",
            "\n"
          ]
        }
      ]
    },
    {
      "cell_type": "code",
      "source": [
        "disp = ConfusionMatrixDisplay.from_estimator(\n",
        "        clf_svm,\n",
        "        X_test_vecs,\n",
        "        y_test,\n",
        "        display_labels=['No sarcasm', 'Sarcasm'],\n",
        "        cmap=plt.cm.Blues )\n",
        "disp.ax_.set_title(\"Suport Vector Machine\")\n",
        "plt.show()"
      ],
      "metadata": {
        "id": "20tgP5FC6MZj",
        "colab": {
          "base_uri": "https://localhost:8080/",
          "height": 295
        },
        "outputId": "1d52b7c2-a14b-43c2-f5f4-ff0f13869bd0"
      },
      "execution_count": null,
      "outputs": [
        {
          "output_type": "display_data",
          "data": {
            "text/plain": [
              "<Figure size 432x288 with 2 Axes>"
            ],
            "image/png": "[encoded data removed]"
          },
          "metadata": {
            "needs_background": "light"
          }
        }
      ]
    },
    {
      "cell_type": "code",
      "source": [
        "clf_svm.get_params()"
      ],
      "metadata": {
        "id": "L7cH7fE06dtE"
      },
      "execution_count": null,
      "outputs": []
    }
  ]
}