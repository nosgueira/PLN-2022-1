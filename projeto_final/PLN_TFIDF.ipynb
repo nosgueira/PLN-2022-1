{
  "nbformat": 4,
  "nbformat_minor": 0,
  "metadata": {
    "colab": {
      "provenance": [],
      "collapsed_sections": [],
      "authorship_tag": "ABX9TyM47mEuwio+g9raH7RMiXds",
      "include_colab_link": true
    },
    "kernelspec": {
      "name": "python3",
      "display_name": "Python 3"
    },
    "language_info": {
      "name": "python"
    }
  },
  "cells": [
    {
      "cell_type": "markdown",
      "metadata": {
        "id": "view-in-github",
        "colab_type": "text"
      },
      "source": [
        "<a href=\"https://colab.research.google.com/github/nosgueira/PLN-2022-1/blob/main/Projeto_PLN_TFIDF.ipynb\" target=\"_parent\"><img src=\"https://colab.research.google.com/assets/colab-badge.svg\" alt=\"Open In Colab\"/></a>"
      ]
    },
    {
      "cell_type": "markdown",
      "source": [
        "# Classification Using Text Features"
      ],
      "metadata": {
        "id": "nAagbBE4eI2q"
      }
    },
    {
      "cell_type": "code",
      "source": [
        "!pip install -Uq empath"
      ],
      "metadata": {
        "id": "I1qdCT_BkF9y",
        "colab": {
          "base_uri": "https://localhost:8080/"
        },
        "outputId": "a5b3e0e3-d4c8-4f2e-d0ba-830989895427"
      },
      "execution_count": null,
      "outputs": [
        {
          "output_type": "stream",
          "name": "stdout",
          "text": [
            "\u001b[?25l\r\u001b[K     |█████▊                          | 10 kB 20.0 MB/s eta 0:00:01\r\u001b[K     |███████████▍                    | 20 kB 14.3 MB/s eta 0:00:01\r\u001b[K     |█████████████████               | 30 kB 7.7 MB/s eta 0:00:01\r\u001b[K     |██████████████████████▊         | 40 kB 3.5 MB/s eta 0:00:01\r\u001b[K     |████████████████████████████▍   | 51 kB 4.1 MB/s eta 0:00:01\r\u001b[K     |████████████████████████████████| 57 kB 2.4 MB/s \n",
            "\u001b[?25h  Building wheel for empath (setup.py) ... \u001b[?25l\u001b[?25hdone\n"
          ]
        }
      ]
    },
    {
      "cell_type": "markdown",
      "source": [
        "## Imports"
      ],
      "metadata": {
        "id": "YxAZA0a4eO3l"
      }
    },
    {
      "cell_type": "code",
      "execution_count": null,
      "metadata": {
        "colab": {
          "base_uri": "https://localhost:8080/"
        },
        "id": "-zPxIrqW1eAL",
        "outputId": "0d60ce11-46a0-457f-9c04-bcfbb0d844b3"
      },
      "outputs": [
        {
          "output_type": "stream",
          "name": "stderr",
          "text": [
            "[nltk_data] Downloading package punkt to /root/nltk_data...\n",
            "[nltk_data]   Unzipping tokenizers/punkt.zip.\n",
            "[nltk_data] Downloading package stopwords to /root/nltk_data...\n",
            "[nltk_data]   Unzipping corpora/stopwords.zip.\n"
          ]
        }
      ],
      "source": [
        "from nltk.corpus import stopwords\n",
        "from nltk.stem import PorterStemmer\n",
        "from sklearn.feature_extraction.text import TfidfVectorizer\n",
        "from sklearn.linear_model import LogisticRegression\n",
        "from sklearn.neighbors import KNeighborsClassifier\n",
        "from sklearn.model_selection import RandomizedSearchCV\n",
        "from sklearn.metrics import classification_report\n",
        "from sklearn.model_selection import PredefinedSplit\n",
        "from sklearn.model_selection import train_test_split\n",
        "from sklearn.metrics import ConfusionMatrixDisplay\n",
        "from sklearn.svm import SVC\n",
        "\n",
        "from empath import Empath\n",
        "from sklearn.naive_bayes import MultinomialNB\n",
        "import matplotlib.pyplot as plt\n",
        "import seaborn as sns\n",
        "\n",
        "\n",
        "\n",
        "\n",
        "from scipy.sparse import hstack\n",
        "from scipy.sparse import vstack\n",
        "from scipy.stats import loguniform\n",
        "import nltk\n",
        "import pandas as pd\n",
        "import numpy as np\n",
        "\n",
        "import re\n",
        "\n",
        "nltk.download('punkt')\n",
        "nltk.download('stopwords')\n",
        "\n",
        "# Defining stop words\n",
        "stop_words = set(stopwords.words('english'))\n",
        "\n",
        "# Defininf lexicon\n",
        "lexicon = Empath()"
      ]
    },
    {
      "cell_type": "markdown",
      "source": [
        "##  Data processing"
      ],
      "metadata": {
        "id": "J32RcdKNlJBM"
      }
    },
    {
      "cell_type": "markdown",
      "source": [
        "### Loading data"
      ],
      "metadata": {
        "id": "vxs-jfbuFy7r"
      }
    },
    {
      "cell_type": "code",
      "source": [
        "corpus = pd.read_csv('https://query.data.world/s/aikveq4giwygvkn4wyirtwiqwmyc7q')"
      ],
      "metadata": {
        "id": "3_d8zWgv1mHG"
      },
      "execution_count": null,
      "outputs": []
    },
    {
      "cell_type": "code",
      "source": [
        "corpus"
      ],
      "metadata": {
        "colab": {
          "base_uri": "https://localhost:8080/",
          "height": 939
        },
        "id": "2m_Nz9Ae1tR-",
        "outputId": "9d0833b9-eb31-488d-819c-b6dbb077ff68"
      },
      "execution_count": null,
      "outputs": [
        {
          "output_type": "execute_result",
          "data": {
            "text/plain": [
              "        Unnamed: 0  tweet_category            user         location  \\\n",
              "0                0               1        dflenick        Davie, FL   \n",
              "1                1               1    RestartMIGA6              NaN   \n",
              "2                2               1        RayeannJ  California, USA   \n",
              "3                3               1  peggydumptrump    United States   \n",
              "4                4               1   LochnerWalter              NaN   \n",
              "...            ...             ...             ...              ...   \n",
              "209872      104932               0     CrypticIcon              NaN   \n",
              "209873      104933               0  SwordofTruth10              NaN   \n",
              "209874      104934               0       thegre8_1              USA   \n",
              "209875      104935               0      billslater      Chicago, IL   \n",
              "209876      104936               0  bolding_daniel   Greenville, SC   \n",
              "\n",
              "                       date                                               text  \n",
              "0       2020-02-11 20:03:56  b'RT @TribulationThe: Deep State Dems continue...  \n",
              "1       2020-02-11 20:03:54  b'RT @restartleader: The Republicans of Americ...  \n",
              "2       2020-02-11 20:03:54  b'RT @DeeTwoCents: This is the Republican\\xe2\\...  \n",
              "3       2020-02-11 20:03:53  b\"RT @mog7546: \\xe2\\x80\\x9cSOFT ON CRIME\\xe2\\x...  \n",
              "4       2020-02-11 20:03:52  b'RT @AndyOstroy: @realDonaldTrump YOU\\xe2\\x80...  \n",
              "...                     ...                                                ...  \n",
              "209872  2020-03-07 04:51:48  RT @Jim_Jordan: The Comey FBI lied to the FISA...  \n",
              "209873  2020-03-07 08:30:30  RT @DiamondandSilk: Ex-Treasury Employee Plead...  \n",
              "209874  2020-03-07 04:27:53  RT @DailyMail: US hospitals are preparing for ...  \n",
              "209875  2020-03-07 04:55:39  RT @RealJamesWoods: MY NAME IS BILL W.  I like...  \n",
              "209876  2020-03-07 06:48:22            @XesLana1 @Scholar_Atheist You said it!  \n",
              "\n",
              "[209877 rows x 6 columns]"
            ],
            "text/html": [
              "\n",
              "  <div id=\"df-3d555b65-2513-4b9b-94b9-2e577ed3c6bf\">\n",
              "    <div class=\"colab-df-container\">\n",
              "      <div>\n",
              "<style scoped>\n",
              "    .dataframe tbody tr th:only-of-type {\n",
              "        vertical-align: middle;\n",
              "    }\n",
              "\n",
              "    .dataframe tbody tr th {\n",
              "        vertical-align: top;\n",
              "    }\n",
              "\n",
              "    .dataframe thead th {\n",
              "        text-align: right;\n",
              "    }\n",
              "</style>\n",
              "<table border=\"1\" class=\"dataframe\">\n",
              "  <thead>\n",
              "    <tr style=\"text-align: right;\">\n",
              "      <th></th>\n",
              "      <th>Unnamed: 0</th>\n",
              "      <th>tweet_category</th>\n",
              "      <th>user</th>\n",
              "      <th>location</th>\n",
              "      <th>date</th>\n",
              "      <th>text</th>\n",
              "    </tr>\n",
              "  </thead>\n",
              "  <tbody>\n",
              "    <tr>\n",
              "      <th>0</th>\n",
              "      <td>0</td>\n",
              "      <td>1</td>\n",
              "      <td>dflenick</td>\n",
              "      <td>Davie, FL</td>\n",
              "      <td>2020-02-11 20:03:56</td>\n",
              "      <td>b'RT @TribulationThe: Deep State Dems continue...</td>\n",
              "    </tr>\n",
              "    <tr>\n",
              "      <th>1</th>\n",
              "      <td>1</td>\n",
              "      <td>1</td>\n",
              "      <td>RestartMIGA6</td>\n",
              "      <td>NaN</td>\n",
              "      <td>2020-02-11 20:03:54</td>\n",
              "      <td>b'RT @restartleader: The Republicans of Americ...</td>\n",
              "    </tr>\n",
              "    <tr>\n",
              "      <th>2</th>\n",
              "      <td>2</td>\n",
              "      <td>1</td>\n",
              "      <td>RayeannJ</td>\n",
              "      <td>California, USA</td>\n",
              "      <td>2020-02-11 20:03:54</td>\n",
              "      <td>b'RT @DeeTwoCents: This is the Republican\\xe2\\...</td>\n",
              "    </tr>\n",
              "    <tr>\n",
              "      <th>3</th>\n",
              "      <td>3</td>\n",
              "      <td>1</td>\n",
              "      <td>peggydumptrump</td>\n",
              "      <td>United States</td>\n",
              "      <td>2020-02-11 20:03:53</td>\n",
              "      <td>b\"RT @mog7546: \\xe2\\x80\\x9cSOFT ON CRIME\\xe2\\x...</td>\n",
              "    </tr>\n",
              "    <tr>\n",
              "      <th>4</th>\n",
              "      <td>4</td>\n",
              "      <td>1</td>\n",
              "      <td>LochnerWalter</td>\n",
              "      <td>NaN</td>\n",
              "      <td>2020-02-11 20:03:52</td>\n",
              "      <td>b'RT @AndyOstroy: @realDonaldTrump YOU\\xe2\\x80...</td>\n",
              "    </tr>\n",
              "    <tr>\n",
              "      <th>...</th>\n",
              "      <td>...</td>\n",
              "      <td>...</td>\n",
              "      <td>...</td>\n",
              "      <td>...</td>\n",
              "      <td>...</td>\n",
              "      <td>...</td>\n",
              "    </tr>\n",
              "    <tr>\n",
              "      <th>209872</th>\n",
              "      <td>104932</td>\n",
              "      <td>0</td>\n",
              "      <td>CrypticIcon</td>\n",
              "      <td>NaN</td>\n",
              "      <td>2020-03-07 04:51:48</td>\n",
              "      <td>RT @Jim_Jordan: The Comey FBI lied to the FISA...</td>\n",
              "    </tr>\n",
              "    <tr>\n",
              "      <th>209873</th>\n",
              "      <td>104933</td>\n",
              "      <td>0</td>\n",
              "      <td>SwordofTruth10</td>\n",
              "      <td>NaN</td>\n",
              "      <td>2020-03-07 08:30:30</td>\n",
              "      <td>RT @DiamondandSilk: Ex-Treasury Employee Plead...</td>\n",
              "    </tr>\n",
              "    <tr>\n",
              "      <th>209874</th>\n",
              "      <td>104934</td>\n",
              "      <td>0</td>\n",
              "      <td>thegre8_1</td>\n",
              "      <td>USA</td>\n",
              "      <td>2020-03-07 04:27:53</td>\n",
              "      <td>RT @DailyMail: US hospitals are preparing for ...</td>\n",
              "    </tr>\n",
              "    <tr>\n",
              "      <th>209875</th>\n",
              "      <td>104935</td>\n",
              "      <td>0</td>\n",
              "      <td>billslater</td>\n",
              "      <td>Chicago, IL</td>\n",
              "      <td>2020-03-07 04:55:39</td>\n",
              "      <td>RT @RealJamesWoods: MY NAME IS BILL W.  I like...</td>\n",
              "    </tr>\n",
              "    <tr>\n",
              "      <th>209876</th>\n",
              "      <td>104936</td>\n",
              "      <td>0</td>\n",
              "      <td>bolding_daniel</td>\n",
              "      <td>Greenville, SC</td>\n",
              "      <td>2020-03-07 06:48:22</td>\n",
              "      <td>@XesLana1 @Scholar_Atheist You said it!</td>\n",
              "    </tr>\n",
              "  </tbody>\n",
              "</table>\n",
              "<p>209877 rows × 6 columns</p>\n",
              "</div>\n",
              "      <button class=\"colab-df-convert\" onclick=\"convertToInteractive('df-3d555b65-2513-4b9b-94b9-2e577ed3c6bf')\"\n",
              "              title=\"Convert this dataframe to an interactive table.\"\n",
              "              style=\"display:none;\">\n",
              "        \n",
              "  <svg xmlns=\"http://www.w3.org/2000/svg\" height=\"24px\"viewBox=\"0 0 24 24\"\n",
              "       width=\"24px\">\n",
              "    <path d=\"M0 0h24v24H0V0z\" fill=\"none\"/>\n",
              "    <path d=\"M18.56 5.44l.94 2.06.94-2.06 2.06-.94-2.06-.94-.94-2.06-.94 2.06-2.06.94zm-11 1L8.5 8.5l.94-2.06 2.06-.94-2.06-.94L8.5 2.5l-.94 2.06-2.06.94zm10 10l.94 2.06.94-2.06 2.06-.94-2.06-.94-.94-2.06-.94 2.06-2.06.94z\"/><path d=\"M17.41 7.96l-1.37-1.37c-.4-.4-.92-.59-1.43-.59-.52 0-1.04.2-1.43.59L10.3 9.45l-7.72 7.72c-.78.78-.78 2.05 0 2.83L4 21.41c.39.39.9.59 1.41.59.51 0 1.02-.2 1.41-.59l7.78-7.78 2.81-2.81c.8-.78.8-2.07 0-2.86zM5.41 20L4 18.59l7.72-7.72 1.47 1.35L5.41 20z\"/>\n",
              "  </svg>\n",
              "      </button>\n",
              "      \n",
              "  <style>\n",
              "    .colab-df-container {\n",
              "      display:flex;\n",
              "      flex-wrap:wrap;\n",
              "      gap: 12px;\n",
              "    }\n",
              "\n",
              "    .colab-df-convert {\n",
              "      background-color: #E8F0FE;\n",
              "      border: none;\n",
              "      border-radius: 50%;\n",
              "      cursor: pointer;\n",
              "      display: none;\n",
              "      fill: #1967D2;\n",
              "      height: 32px;\n",
              "      padding: 0 0 0 0;\n",
              "      width: 32px;\n",
              "    }\n",
              "\n",
              "    .colab-df-convert:hover {\n",
              "      background-color: #E2EBFA;\n",
              "      box-shadow: 0px 1px 2px rgba(60, 64, 67, 0.3), 0px 1px 3px 1px rgba(60, 64, 67, 0.15);\n",
              "      fill: #174EA6;\n",
              "    }\n",
              "\n",
              "    [theme=dark] .colab-df-convert {\n",
              "      background-color: #3B4455;\n",
              "      fill: #D2E3FC;\n",
              "    }\n",
              "\n",
              "    [theme=dark] .colab-df-convert:hover {\n",
              "      background-color: #434B5C;\n",
              "      box-shadow: 0px 1px 3px 1px rgba(0, 0, 0, 0.15);\n",
              "      filter: drop-shadow(0px 1px 2px rgba(0, 0, 0, 0.3));\n",
              "      fill: #FFFFFF;\n",
              "    }\n",
              "  </style>\n",
              "\n",
              "      <script>\n",
              "        const buttonEl =\n",
              "          document.querySelector('#df-3d555b65-2513-4b9b-94b9-2e577ed3c6bf button.colab-df-convert');\n",
              "        buttonEl.style.display =\n",
              "          google.colab.kernel.accessAllowed ? 'block' : 'none';\n",
              "\n",
              "        async function convertToInteractive(key) {\n",
              "          const element = document.querySelector('#df-3d555b65-2513-4b9b-94b9-2e577ed3c6bf');\n",
              "          const dataTable =\n",
              "            await google.colab.kernel.invokeFunction('convertToInteractive',\n",
              "                                                     [key], {});\n",
              "          if (!dataTable) return;\n",
              "\n",
              "          const docLinkHtml = 'Like what you see? Visit the ' +\n",
              "            '<a target=\"_blank\" href=https://colab.research.google.com/notebooks/data_table.ipynb>data table notebook</a>'\n",
              "            + ' to learn more about interactive tables.';\n",
              "          element.innerHTML = '';\n",
              "          dataTable['output_type'] = 'display_data';\n",
              "          await google.colab.output.renderOutput(dataTable, element);\n",
              "          const docLink = document.createElement('div');\n",
              "          docLink.innerHTML = docLinkHtml;\n",
              "          element.appendChild(docLink);\n",
              "        }\n",
              "      </script>\n",
              "    </div>\n",
              "  </div>\n",
              "  "
            ]
          },
          "metadata": {},
          "execution_count": 4
        }
      ]
    },
    {
      "cell_type": "markdown",
      "source": [
        "Por questões de economia de tempo, serão utilizados apenas 25% dos tweets:"
      ],
      "metadata": {
        "id": "XvVrqh6x5aAZ"
      }
    },
    {
      "cell_type": "code",
      "source": [
        "corpus = corpus.groupby('tweet_category', group_keys=False).apply(lambda x:x.sample(frac=0.25, random_state=42))\n"
      ],
      "metadata": {
        "id": "ousTGIYt2-yt"
      },
      "execution_count": null,
      "outputs": []
    },
    {
      "cell_type": "code",
      "source": [
        "corpus['tweet_category'].value_counts()"
      ],
      "metadata": {
        "colab": {
          "base_uri": "https://localhost:8080/"
        },
        "id": "nH0Hr0rX4DXR",
        "outputId": "6da21bb8-f1d0-4acf-8200-79accea36920"
      },
      "execution_count": null,
      "outputs": [
        {
          "output_type": "execute_result",
          "data": {
            "text/plain": [
              "1    26235\n",
              "0    26234\n",
              "Name: tweet_category, dtype: int64"
            ]
          },
          "metadata": {},
          "execution_count": 6
        }
      ]
    },
    {
      "cell_type": "markdown",
      "source": [
        "### Text preprocessing"
      ],
      "metadata": {
        "id": "UAqcxH62qmmF"
      }
    },
    {
      "cell_type": "code",
      "source": [
        "\n",
        "def preproc(tweet):\n",
        "\n",
        "    tweet = re.sub(r\"(?:\\@|https?\\://)\\S+\", \" \", tweet) # remove mentions and urls\n",
        "    tweet = re.sub(r\"\\\\n\", \" \", tweet)                  # remove line breaks\n",
        "    tweet = re.sub(r\"\\\\\", \" \\\\\\\\\", tweet)               # separate unicode characters (emoji)\n",
        "    tweet = re.sub(r\"b?'?RT[\\s$]\", \" \", tweet)          # remove RT\n",
        "\n",
        "    # Tokenization\n",
        "    tokens = nltk.word_tokenize(tweet) \n",
        "\n",
        "    # Decapitalization\n",
        "    tokens = [t.lower() for t in tokens] \n",
        "\n",
        "    # Remove stop words\n",
        "    tokens = [t for t in tokens if t not in stop_words] \n",
        "\n",
        "    ps = PorterStemmer()\n",
        "\n",
        "    # Stemming\n",
        "    tokens = [ps.stem(t) for t in tokens]\n",
        "\n",
        "    return \" \".join(tokens)\n"
      ],
      "metadata": {
        "id": "shpJfNPDq1eT"
      },
      "execution_count": null,
      "outputs": []
    },
    {
      "cell_type": "code",
      "source": [
        "corpus['normalized_text'] = corpus.text.apply(preproc)"
      ],
      "metadata": {
        "id": "i8S-J3UMrpv9"
      },
      "execution_count": null,
      "outputs": []
    },
    {
      "cell_type": "code",
      "source": [
        "corpus['tweet_category'].value_counts()"
      ],
      "metadata": {
        "colab": {
          "base_uri": "https://localhost:8080/"
        },
        "id": "7pYbpXIz3Kk-",
        "outputId": "05ddf58d-1839-483f-df29-bd58b15b0768"
      },
      "execution_count": null,
      "outputs": [
        {
          "output_type": "execute_result",
          "data": {
            "text/plain": [
              "1    26235\n",
              "0    26234\n",
              "Name: tweet_category, dtype: int64"
            ]
          },
          "metadata": {},
          "execution_count": 9
        }
      ]
    },
    {
      "cell_type": "code",
      "source": [
        "corpus[['text', 'normalized_text']].head()\n"
      ],
      "metadata": {
        "colab": {
          "base_uri": "https://localhost:8080/",
          "height": 337
        },
        "id": "RpokE3429IaR",
        "outputId": "28ff6757-9260-49d4-c715-91f70f25cceb"
      },
      "execution_count": null,
      "outputs": [
        {
          "output_type": "execute_result",
          "data": {
            "text/plain": [
              "                                                     text  \\\n",
              "111310  RT @jessefelder: 'How bad is it in the energy ...   \n",
              "186713  @0ctoberReignz This Movie was so coded and the...   \n",
              "170912  RT @realannapaulina: Radical socialists like B...   \n",
              "117871  That's alright Biden, we knew you were lying!\\...   \n",
              "180550           @SpencerFernando https://t.co/yWCxqd8dG1   \n",
              "\n",
              "                                          normalized_text  \n",
              "111310  'how bad energi sector right ? weight & amp ; ...  \n",
              "186713  movi code came children.alway wonder event ? h...  \n",
              "170912  radic socialist like berni sander ocasio-corte...  \n",
              "117871  's alright biden , knew lie ! biden revers cou...  \n",
              "180550                                                     "
            ],
            "text/html": [
              "\n",
              "  <div id=\"df-a081283a-809f-4c8a-913a-c2ecad34d1d8\">\n",
              "    <div class=\"colab-df-container\">\n",
              "      <div>\n",
              "<style scoped>\n",
              "    .dataframe tbody tr th:only-of-type {\n",
              "        vertical-align: middle;\n",
              "    }\n",
              "\n",
              "    .dataframe tbody tr th {\n",
              "        vertical-align: top;\n",
              "    }\n",
              "\n",
              "    .dataframe thead th {\n",
              "        text-align: right;\n",
              "    }\n",
              "</style>\n",
              "<table border=\"1\" class=\"dataframe\">\n",
              "  <thead>\n",
              "    <tr style=\"text-align: right;\">\n",
              "      <th></th>\n",
              "      <th>text</th>\n",
              "      <th>normalized_text</th>\n",
              "    </tr>\n",
              "  </thead>\n",
              "  <tbody>\n",
              "    <tr>\n",
              "      <th>111310</th>\n",
              "      <td>RT @jessefelder: 'How bad is it in the energy ...</td>\n",
              "      <td>'how bad energi sector right ? weight &amp; amp ; ...</td>\n",
              "    </tr>\n",
              "    <tr>\n",
              "      <th>186713</th>\n",
              "      <td>@0ctoberReignz This Movie was so coded and the...</td>\n",
              "      <td>movi code came children.alway wonder event ? h...</td>\n",
              "    </tr>\n",
              "    <tr>\n",
              "      <th>170912</th>\n",
              "      <td>RT @realannapaulina: Radical socialists like B...</td>\n",
              "      <td>radic socialist like berni sander ocasio-corte...</td>\n",
              "    </tr>\n",
              "    <tr>\n",
              "      <th>117871</th>\n",
              "      <td>That's alright Biden, we knew you were lying!\\...</td>\n",
              "      <td>'s alright biden , knew lie ! biden revers cou...</td>\n",
              "    </tr>\n",
              "    <tr>\n",
              "      <th>180550</th>\n",
              "      <td>@SpencerFernando https://t.co/yWCxqd8dG1</td>\n",
              "      <td></td>\n",
              "    </tr>\n",
              "  </tbody>\n",
              "</table>\n",
              "</div>\n",
              "      <button class=\"colab-df-convert\" onclick=\"convertToInteractive('df-a081283a-809f-4c8a-913a-c2ecad34d1d8')\"\n",
              "              title=\"Convert this dataframe to an interactive table.\"\n",
              "              style=\"display:none;\">\n",
              "        \n",
              "  <svg xmlns=\"http://www.w3.org/2000/svg\" height=\"24px\"viewBox=\"0 0 24 24\"\n",
              "       width=\"24px\">\n",
              "    <path d=\"M0 0h24v24H0V0z\" fill=\"none\"/>\n",
              "    <path d=\"M18.56 5.44l.94 2.06.94-2.06 2.06-.94-2.06-.94-.94-2.06-.94 2.06-2.06.94zm-11 1L8.5 8.5l.94-2.06 2.06-.94-2.06-.94L8.5 2.5l-.94 2.06-2.06.94zm10 10l.94 2.06.94-2.06 2.06-.94-2.06-.94-.94-2.06-.94 2.06-2.06.94z\"/><path d=\"M17.41 7.96l-1.37-1.37c-.4-.4-.92-.59-1.43-.59-.52 0-1.04.2-1.43.59L10.3 9.45l-7.72 7.72c-.78.78-.78 2.05 0 2.83L4 21.41c.39.39.9.59 1.41.59.51 0 1.02-.2 1.41-.59l7.78-7.78 2.81-2.81c.8-.78.8-2.07 0-2.86zM5.41 20L4 18.59l7.72-7.72 1.47 1.35L5.41 20z\"/>\n",
              "  </svg>\n",
              "      </button>\n",
              "      \n",
              "  <style>\n",
              "    .colab-df-container {\n",
              "      display:flex;\n",
              "      flex-wrap:wrap;\n",
              "      gap: 12px;\n",
              "    }\n",
              "\n",
              "    .colab-df-convert {\n",
              "      background-color: #E8F0FE;\n",
              "      border: none;\n",
              "      border-radius: 50%;\n",
              "      cursor: pointer;\n",
              "      display: none;\n",
              "      fill: #1967D2;\n",
              "      height: 32px;\n",
              "      padding: 0 0 0 0;\n",
              "      width: 32px;\n",
              "    }\n",
              "\n",
              "    .colab-df-convert:hover {\n",
              "      background-color: #E2EBFA;\n",
              "      box-shadow: 0px 1px 2px rgba(60, 64, 67, 0.3), 0px 1px 3px 1px rgba(60, 64, 67, 0.15);\n",
              "      fill: #174EA6;\n",
              "    }\n",
              "\n",
              "    [theme=dark] .colab-df-convert {\n",
              "      background-color: #3B4455;\n",
              "      fill: #D2E3FC;\n",
              "    }\n",
              "\n",
              "    [theme=dark] .colab-df-convert:hover {\n",
              "      background-color: #434B5C;\n",
              "      box-shadow: 0px 1px 3px 1px rgba(0, 0, 0, 0.15);\n",
              "      filter: drop-shadow(0px 1px 2px rgba(0, 0, 0, 0.3));\n",
              "      fill: #FFFFFF;\n",
              "    }\n",
              "  </style>\n",
              "\n",
              "      <script>\n",
              "        const buttonEl =\n",
              "          document.querySelector('#df-a081283a-809f-4c8a-913a-c2ecad34d1d8 button.colab-df-convert');\n",
              "        buttonEl.style.display =\n",
              "          google.colab.kernel.accessAllowed ? 'block' : 'none';\n",
              "\n",
              "        async function convertToInteractive(key) {\n",
              "          const element = document.querySelector('#df-a081283a-809f-4c8a-913a-c2ecad34d1d8');\n",
              "          const dataTable =\n",
              "            await google.colab.kernel.invokeFunction('convertToInteractive',\n",
              "                                                     [key], {});\n",
              "          if (!dataTable) return;\n",
              "\n",
              "          const docLinkHtml = 'Like what you see? Visit the ' +\n",
              "            '<a target=\"_blank\" href=https://colab.research.google.com/notebooks/data_table.ipynb>data table notebook</a>'\n",
              "            + ' to learn more about interactive tables.';\n",
              "          element.innerHTML = '';\n",
              "          dataTable['output_type'] = 'display_data';\n",
              "          await google.colab.output.renderOutput(dataTable, element);\n",
              "          const docLink = document.createElement('div');\n",
              "          docLink.innerHTML = docLinkHtml;\n",
              "          element.appendChild(docLink);\n",
              "        }\n",
              "      </script>\n",
              "    </div>\n",
              "  </div>\n",
              "  "
            ]
          },
          "metadata": {},
          "execution_count": 10
        }
      ]
    },
    {
      "cell_type": "markdown",
      "source": [
        "### Spliting the data"
      ],
      "metadata": {
        "id": "h_7h2tn26cBB"
      }
    },
    {
      "cell_type": "code",
      "source": [
        "X = corpus.normalized_text\n",
        "y = corpus.tweet_category\n",
        "X_train, X_test, y_train, y_test = train_test_split(X, y, test_size = 0.2, random_state=42)\n",
        "X_train, X_valid, y_train, y_valid = train_test_split(X_train, y_train, test_size = 0.2, random_state=42)"
      ],
      "metadata": {
        "id": "WKEmcM4A5j5e"
      },
      "execution_count": null,
      "outputs": []
    },
    {
      "cell_type": "code",
      "source": [
        "y_train.value_counts()"
      ],
      "metadata": {
        "colab": {
          "base_uri": "https://localhost:8080/"
        },
        "id": "dVehan-IEdqL",
        "outputId": "d68c782e-343a-4c2a-9827-1ef701c997e9"
      },
      "execution_count": null,
      "outputs": [
        {
          "output_type": "execute_result",
          "data": {
            "text/plain": [
              "0    16851\n",
              "1    16729\n",
              "Name: tweet_category, dtype: int64"
            ]
          },
          "metadata": {},
          "execution_count": 12
        }
      ]
    },
    {
      "cell_type": "code",
      "source": [
        "y_valid.value_counts()"
      ],
      "metadata": {
        "colab": {
          "base_uri": "https://localhost:8080/"
        },
        "id": "U0fGmFEeEy3z",
        "outputId": "9e33687c-a987-41c7-8c90-74463489b796"
      },
      "execution_count": null,
      "outputs": [
        {
          "output_type": "execute_result",
          "data": {
            "text/plain": [
              "1    4243\n",
              "0    4152\n",
              "Name: tweet_category, dtype: int64"
            ]
          },
          "metadata": {},
          "execution_count": 13
        }
      ]
    },
    {
      "cell_type": "code",
      "source": [
        "y_test.value_counts()"
      ],
      "metadata": {
        "colab": {
          "base_uri": "https://localhost:8080/"
        },
        "id": "sN00-SxWFEEQ",
        "outputId": "6517b354-d9b2-498a-bb44-256181aa5b3c"
      },
      "execution_count": null,
      "outputs": [
        {
          "output_type": "execute_result",
          "data": {
            "text/plain": [
              "1    5263\n",
              "0    5231\n",
              "Name: tweet_category, dtype: int64"
            ]
          },
          "metadata": {},
          "execution_count": 14
        }
      ]
    },
    {
      "cell_type": "markdown",
      "source": [
        "## Feature Extraction"
      ],
      "metadata": {
        "id": "dfSD1623GFDH"
      }
    },
    {
      "cell_type": "markdown",
      "source": [
        "### Lexicon (Empath)"
      ],
      "metadata": {
        "id": "TCSVDg6gnYu6"
      }
    },
    {
      "cell_type": "code",
      "source": [
        "def get_lexicon_array(tweet):\n",
        "    return np.array(list(lexicon.analyze(tweet).values()))"
      ],
      "metadata": {
        "id": "Iyb1FVvukk7B"
      },
      "execution_count": null,
      "outputs": []
    },
    {
      "cell_type": "code",
      "source": [
        "X_train_lexicon = X_train.apply(get_lexicon_array).values\n",
        "X_valid_lexicon = X_valid.apply(get_lexicon_array).values\n",
        "X_test_lexicon  = X_test.apply(get_lexicon_array).values"
      ],
      "metadata": {
        "id": "sLh5Jy8YliER"
      },
      "execution_count": null,
      "outputs": []
    },
    {
      "cell_type": "code",
      "source": [
        "X_train_lexicon =np.stack(X_train_lexicon)\n",
        "X_valid_lexicon =np.stack(X_valid_lexicon)\n",
        "X_test_lexicon  =np.stack(X_test_lexicon)"
      ],
      "metadata": {
        "id": "DFSXFyk1xqxv"
      },
      "execution_count": null,
      "outputs": []
    },
    {
      "cell_type": "code",
      "source": [
        "print(X_train_lexicon.shape)\n",
        "print(X_valid_lexicon.shape)\n",
        "print(X_test_lexicon.shape)"
      ],
      "metadata": {
        "colab": {
          "base_uri": "https://localhost:8080/"
        },
        "id": "LG7pQhbyuP9j",
        "outputId": "75a9e21d-8034-4c48-8a17-c433c5659e0b"
      },
      "execution_count": null,
      "outputs": [
        {
          "output_type": "stream",
          "name": "stdout",
          "text": [
            "(33580, 194)\n",
            "(8395, 194)\n",
            "(10494, 194)\n"
          ]
        }
      ]
    },
    {
      "cell_type": "markdown",
      "source": [
        "### TFIDF"
      ],
      "metadata": {
        "id": "mlM-xMxDqqWv"
      }
    },
    {
      "cell_type": "code",
      "source": [
        "vectorizer = TfidfVectorizer(min_df=2)\n",
        "\n",
        "X_train_tfidf = vectorizer.fit_transform(X_train)\n",
        "X_valid_tfidf = vectorizer.transform(X_valid)\n",
        "X_test_tfidf  = vectorizer.transform(X_test)\n"
      ],
      "metadata": {
        "id": "MUzo61Ut6v49"
      },
      "execution_count": null,
      "outputs": []
    },
    {
      "cell_type": "code",
      "source": [
        "print(X_train_tfidf.shape)\n",
        "print(X_valid_tfidf.shape)\n",
        "print(X_test_tfidf.shape)"
      ],
      "metadata": {
        "colab": {
          "base_uri": "https://localhost:8080/"
        },
        "id": "D17voe5G8FKo",
        "outputId": "9e164583-512e-458b-d723-8ba062f3b67a"
      },
      "execution_count": null,
      "outputs": [
        {
          "output_type": "stream",
          "name": "stdout",
          "text": [
            "(33580, 11959)\n",
            "(8395, 11959)\n",
            "(10494, 11959)\n"
          ]
        }
      ]
    },
    {
      "cell_type": "markdown",
      "source": [
        "### Joining features"
      ],
      "metadata": {
        "id": "2MRJPxTBuil8"
      }
    },
    {
      "cell_type": "code",
      "source": [
        "X_train_full = hstack((X_train_tfidf, X_train_lexicon))\n",
        "X_valid_full = hstack((X_valid_tfidf, X_valid_lexicon))\n",
        "X_test_full = hstack((X_test_tfidf, X_test_lexicon))\n"
      ],
      "metadata": {
        "id": "LI4tdj0QzNsb"
      },
      "execution_count": null,
      "outputs": []
    },
    {
      "cell_type": "code",
      "source": [
        "print(X_train_full.shape)\n",
        "print(X_valid_full.shape)\n",
        "print(X_test_full.shape)"
      ],
      "metadata": {
        "colab": {
          "base_uri": "https://localhost:8080/"
        },
        "id": "2X59G-AZvdYv",
        "outputId": "bd988baf-7fe2-42e5-966c-211947f287f3"
      },
      "execution_count": null,
      "outputs": [
        {
          "output_type": "stream",
          "name": "stdout",
          "text": [
            "(33580, 12153)\n",
            "(8395, 12153)\n",
            "(10494, 12153)\n"
          ]
        }
      ]
    },
    {
      "cell_type": "markdown",
      "source": [
        "## Training Models"
      ],
      "metadata": {
        "id": "nW6UgA53Oi-1"
      }
    },
    {
      "cell_type": "markdown",
      "source": [
        "Defining split for Hyperparameter Optimization "
      ],
      "metadata": {
        "id": "4h-w2JDvvsHE"
      }
    },
    {
      "cell_type": "code",
      "source": [
        "split_index = [-1 if x in X_train.index else 0 for x in X_train.append(X_valid).index ]"
      ],
      "metadata": {
        "id": "5OoENMPvKqlM"
      },
      "execution_count": null,
      "outputs": []
    },
    {
      "cell_type": "code",
      "source": [
        "pds = PredefinedSplit(test_fold = split_index)"
      ],
      "metadata": {
        "id": "UeuGR1lsRQRr"
      },
      "execution_count": null,
      "outputs": []
    },
    {
      "cell_type": "markdown",
      "source": [
        "### Logistic Regression"
      ],
      "metadata": {
        "id": "d7UkFr2wOk8k"
      }
    },
    {
      "cell_type": "code",
      "source": [
        "hyperparams = {\n",
        "    \"solver\" : [\"sag\", \"saga\",\"lbfgs\", \"liblinear\" ],\n",
        "    'penalty': ['none', 'l1', 'l2', 'elasticnet'],\n",
        "    'C':loguniform(1e-5, 100)\n",
        "}"
      ],
      "metadata": {
        "id": "m53NDOr99dbW"
      },
      "execution_count": null,
      "outputs": []
    },
    {
      "cell_type": "code",
      "source": [
        "clf = RandomizedSearchCV(LogisticRegression(), hyperparams, verbose=1,cv=pds,\n",
        "                           scoring='f1', n_jobs=-1, n_iter=100 )"
      ],
      "metadata": {
        "id": "LK3I_xuCGwMC"
      },
      "execution_count": null,
      "outputs": []
    },
    {
      "cell_type": "code",
      "source": [
        "clf.fit(vstack([X_train_full, X_valid_full]), y_train.append(y_valid))"
      ],
      "metadata": {
        "colab": {
          "base_uri": "https://localhost:8080/"
        },
        "id": "yUyYCBviS9BG",
        "outputId": "79f533f0-abc6-4b6b-a244-bc875ae3e50f"
      },
      "execution_count": null,
      "outputs": [
        {
          "output_type": "stream",
          "name": "stdout",
          "text": [
            "Fitting 1 folds for each of 100 candidates, totalling 100 fits\n"
          ]
        },
        {
          "output_type": "stream",
          "name": "stderr",
          "text": [
            "/usr/local/lib/python3.7/dist-packages/sklearn/model_selection/_validation.py:372: FitFailedWarning: \n",
            "33 fits failed out of a total of 100.\n",
            "The score on these train-test partitions for these parameters will be set to nan.\n",
            "If these failures are not expected, you can try to debug them by setting error_score='raise'.\n",
            "\n",
            "Below are more details about the failures:\n",
            "--------------------------------------------------------------------------------\n",
            "8 fits failed with the following error:\n",
            "Traceback (most recent call last):\n",
            "  File \"/usr/local/lib/python3.7/dist-packages/sklearn/model_selection/_validation.py\", line 680, in _fit_and_score\n",
            "    estimator.fit(X_train, y_train, **fit_params)\n",
            "  File \"/usr/local/lib/python3.7/dist-packages/sklearn/linear_model/_logistic.py\", line 1461, in fit\n",
            "    solver = _check_solver(self.solver, self.penalty, self.dual)\n",
            "  File \"/usr/local/lib/python3.7/dist-packages/sklearn/linear_model/_logistic.py\", line 449, in _check_solver\n",
            "    % (solver, penalty)\n",
            "ValueError: Solver sag supports only 'l2' or 'none' penalties, got elasticnet penalty.\n",
            "\n",
            "--------------------------------------------------------------------------------\n",
            "2 fits failed with the following error:\n",
            "Traceback (most recent call last):\n",
            "  File \"/usr/local/lib/python3.7/dist-packages/sklearn/model_selection/_validation.py\", line 680, in _fit_and_score\n",
            "    estimator.fit(X_train, y_train, **fit_params)\n",
            "  File \"/usr/local/lib/python3.7/dist-packages/sklearn/linear_model/_logistic.py\", line 1461, in fit\n",
            "    solver = _check_solver(self.solver, self.penalty, self.dual)\n",
            "  File \"/usr/local/lib/python3.7/dist-packages/sklearn/linear_model/_logistic.py\", line 449, in _check_solver\n",
            "    % (solver, penalty)\n",
            "ValueError: Solver sag supports only 'l2' or 'none' penalties, got l1 penalty.\n",
            "\n",
            "--------------------------------------------------------------------------------\n",
            "4 fits failed with the following error:\n",
            "Traceback (most recent call last):\n",
            "  File \"/usr/local/lib/python3.7/dist-packages/sklearn/model_selection/_validation.py\", line 680, in _fit_and_score\n",
            "    estimator.fit(X_train, y_train, **fit_params)\n",
            "  File \"/usr/local/lib/python3.7/dist-packages/sklearn/linear_model/_logistic.py\", line 1461, in fit\n",
            "    solver = _check_solver(self.solver, self.penalty, self.dual)\n",
            "  File \"/usr/local/lib/python3.7/dist-packages/sklearn/linear_model/_logistic.py\", line 449, in _check_solver\n",
            "    % (solver, penalty)\n",
            "ValueError: Solver lbfgs supports only 'l2' or 'none' penalties, got elasticnet penalty.\n",
            "\n",
            "--------------------------------------------------------------------------------\n",
            "7 fits failed with the following error:\n",
            "Traceback (most recent call last):\n",
            "  File \"/usr/local/lib/python3.7/dist-packages/sklearn/model_selection/_validation.py\", line 680, in _fit_and_score\n",
            "    estimator.fit(X_train, y_train, **fit_params)\n",
            "  File \"/usr/local/lib/python3.7/dist-packages/sklearn/linear_model/_logistic.py\", line 1461, in fit\n",
            "    solver = _check_solver(self.solver, self.penalty, self.dual)\n",
            "  File \"/usr/local/lib/python3.7/dist-packages/sklearn/linear_model/_logistic.py\", line 459, in _check_solver\n",
            "    solver\n",
            "ValueError: Only 'saga' solver supports elasticnet penalty, got solver=liblinear.\n",
            "\n",
            "--------------------------------------------------------------------------------\n",
            "6 fits failed with the following error:\n",
            "Traceback (most recent call last):\n",
            "  File \"/usr/local/lib/python3.7/dist-packages/sklearn/model_selection/_validation.py\", line 680, in _fit_and_score\n",
            "    estimator.fit(X_train, y_train, **fit_params)\n",
            "  File \"/usr/local/lib/python3.7/dist-packages/sklearn/linear_model/_logistic.py\", line 1461, in fit\n",
            "    solver = _check_solver(self.solver, self.penalty, self.dual)\n",
            "  File \"/usr/local/lib/python3.7/dist-packages/sklearn/linear_model/_logistic.py\", line 464, in _check_solver\n",
            "    raise ValueError(\"penalty='none' is not supported for the liblinear solver\")\n",
            "ValueError: penalty='none' is not supported for the liblinear solver\n",
            "\n",
            "--------------------------------------------------------------------------------\n",
            "4 fits failed with the following error:\n",
            "Traceback (most recent call last):\n",
            "  File \"/usr/local/lib/python3.7/dist-packages/sklearn/model_selection/_validation.py\", line 680, in _fit_and_score\n",
            "    estimator.fit(X_train, y_train, **fit_params)\n",
            "  File \"/usr/local/lib/python3.7/dist-packages/sklearn/linear_model/_logistic.py\", line 1461, in fit\n",
            "    solver = _check_solver(self.solver, self.penalty, self.dual)\n",
            "  File \"/usr/local/lib/python3.7/dist-packages/sklearn/linear_model/_logistic.py\", line 449, in _check_solver\n",
            "    % (solver, penalty)\n",
            "ValueError: Solver lbfgs supports only 'l2' or 'none' penalties, got l1 penalty.\n",
            "\n",
            "--------------------------------------------------------------------------------\n",
            "2 fits failed with the following error:\n",
            "Traceback (most recent call last):\n",
            "  File \"/usr/local/lib/python3.7/dist-packages/sklearn/model_selection/_validation.py\", line 680, in _fit_and_score\n",
            "    estimator.fit(X_train, y_train, **fit_params)\n",
            "  File \"/usr/local/lib/python3.7/dist-packages/sklearn/linear_model/_logistic.py\", line 1473, in fit\n",
            "    % self.l1_ratio\n",
            "ValueError: l1_ratio must be between 0 and 1; got (l1_ratio=None)\n",
            "\n",
            "  warnings.warn(some_fits_failed_message, FitFailedWarning)\n",
            "/usr/local/lib/python3.7/dist-packages/sklearn/model_selection/_search.py:972: UserWarning: One or more of the test scores are non-finite: [0.95150006 0.95209652        nan 0.95197133        nan 0.61141855\n",
            "        nan        nan        nan 0.83483483        nan        nan\n",
            " 0.93844846 0.95618957 0.73040225 0.83942886 0.95221027 0.92267851\n",
            "        nan        nan        nan 0.71672355        nan 0.82709403\n",
            " 0.95668775        nan 0.68549758 0.80951785        nan 0.55401901\n",
            "        nan 0.95113459        nan 0.95221027        nan 0.95618957\n",
            " 0.9569161         nan 0.95763922 0.95195985 0.95150006        nan\n",
            " 0.95221027 0.95221027 0.71972318 0.92281799 0.95500239 0.95076482\n",
            "        nan        nan        nan 0.82245827 0.9019174         nan\n",
            "        nan 0.68875893 0.95658414        nan 0.95792493        nan\n",
            " 0.95150006 0.95655288 0.9025974         nan 0.86113208 0.59554706\n",
            " 0.95221027 0.95209652 0.93119883 0.95150006        nan        nan\n",
            " 0.94721758        nan 0.95150006 0.92780781 0.87295597 0.95704057\n",
            " 0.95221027 0.95222169 0.95150006 0.95365824        nan        nan\n",
            " 0.95233544 0.71034483        nan 0.95150006 0.94094869 0.95195985\n",
            " 0.93140971        nan 0.95208508 0.         0.70161875 0.95195985\n",
            " 0.95606495 0.63797265 0.8528869  0.88562092]\n",
            "  category=UserWarning,\n"
          ]
        },
        {
          "output_type": "execute_result",
          "data": {
            "text/plain": [
              "RandomizedSearchCV(cv=PredefinedSplit(test_fold=array([-1, -1, ...,  0,  0])),\n",
              "                   estimator=LogisticRegression(), n_iter=100, n_jobs=-1,\n",
              "                   param_distributions={'C': <scipy.stats._distn_infrastructure.rv_frozen object at 0x7fecfdce4710>,\n",
              "                                        'penalty': ['none', 'l1', 'l2',\n",
              "                                                    'elasticnet'],\n",
              "                                        'solver': ['sag', 'saga', 'lbfgs',\n",
              "                                                   'liblinear']},\n",
              "                   scoring='f1', verbose=1)"
            ]
          },
          "metadata": {},
          "execution_count": 28
        }
      ]
    },
    {
      "cell_type": "code",
      "source": [
        "preds = clf.predict(X_test_full)"
      ],
      "metadata": {
        "id": "Muf9XJnOKAOL"
      },
      "execution_count": null,
      "outputs": []
    },
    {
      "cell_type": "code",
      "source": [
        "print(classification_report(preds, y_test))"
      ],
      "metadata": {
        "colab": {
          "base_uri": "https://localhost:8080/"
        },
        "id": "Lm4EkbTRKBbg",
        "outputId": "280e6892-ce0c-42e5-f54a-62f5e36b39d9"
      },
      "execution_count": null,
      "outputs": [
        {
          "output_type": "stream",
          "name": "stdout",
          "text": [
            "              precision    recall  f1-score   support\n",
            "\n",
            "           0       0.97      0.95      0.96      5351\n",
            "           1       0.95      0.97      0.96      5143\n",
            "\n",
            "    accuracy                           0.96     10494\n",
            "   macro avg       0.96      0.96      0.96     10494\n",
            "weighted avg       0.96      0.96      0.96     10494\n",
            "\n"
          ]
        }
      ]
    },
    {
      "cell_type": "code",
      "source": [
        "disp = ConfusionMatrixDisplay.from_estimator(\n",
        "        clf,\n",
        "        X_test_full,\n",
        "        y_test,\n",
        "        display_labels=['No sarcasm', 'Sarcasm'],\n",
        "        cmap=plt.cm.Blues )\n",
        "disp.ax_.set_title(\"Logistic Regression\")\n",
        "plt.show()"
      ],
      "metadata": {
        "colab": {
          "base_uri": "https://localhost:8080/",
          "height": 295
        },
        "id": "mRcv56BNgG4A",
        "outputId": "37546aa0-91e4-415d-8d5f-0b63e2a983fc"
      },
      "execution_count": null,
      "outputs": [
        {
          "output_type": "display_data",
          "data": {
            "text/plain": [
              "<Figure size 432x288 with 2 Axes>"
            ],
            "image/png": "[encoded data removed]"
          },
          "metadata": {
            "needs_background": "light"
          }
        }
      ]
    },
    {
      "cell_type": "markdown",
      "source": [
        "### Naive Bayes"
      ],
      "metadata": {
        "id": "K7oKb4nqpSGt"
      }
    },
    {
      "cell_type": "code",
      "source": [
        "hyperparams_nb = {\n",
        "        'alpha': np.logspace(-9,-9, num=100)\n",
        "}\n"
      ],
      "metadata": {
        "id": "favvTzjR9GJ2"
      },
      "execution_count": null,
      "outputs": []
    },
    {
      "cell_type": "code",
      "source": [
        "clf_nb =RandomizedSearchCV(MultinomialNB(), hyperparams_nb, verbose=1,cv=pds,\n",
        "                           scoring='f1', n_jobs=-1, n_iter=100 ) "
      ],
      "metadata": {
        "id": "6Bdn4csY935-"
      },
      "execution_count": null,
      "outputs": []
    },
    {
      "cell_type": "code",
      "source": [
        "clf_nb.fit(vstack([X_train_full, X_valid_full]), y_train.append(y_valid))"
      ],
      "metadata": {
        "colab": {
          "base_uri": "https://localhost:8080/"
        },
        "id": "ps05AjHbMKbp",
        "outputId": "abd366b7-a659-477f-85bf-ee5954b364d0"
      },
      "execution_count": null,
      "outputs": [
        {
          "output_type": "stream",
          "name": "stdout",
          "text": [
            "Fitting 1 folds for each of 100 candidates, totalling 100 fits\n"
          ]
        },
        {
          "output_type": "execute_result",
          "data": {
            "text/plain": [
              "RandomizedSearchCV(cv=PredefinedSplit(test_fold=array([-1, -1, ...,  0,  0])),\n",
              "                   estimator=MultinomialNB(), n_iter=100, n_jobs=-1,\n",
              "                   param_distributions={'alpha': array([1.e-09, 1.e-09, 1.e-09, 1.e-09, 1.e-09, 1.e-09, 1.e-09, 1.e-09,\n",
              "       1.e-09, 1.e-09, 1.e-09, 1.e-09, 1.e-09, 1.e-09, 1.e-09, 1.e-09,\n",
              "       1.e-09, 1.e-09, 1.e-09, 1.e-09, 1.e-09, 1.e-09, 1.e-09, 1.e-09,\n",
              "       1.e-09, 1.e-09, 1.e-09, 1.e-09...\n",
              "       1.e-09, 1.e-09, 1.e-09, 1.e-09, 1.e-09, 1.e-09, 1.e-09, 1.e-09,\n",
              "       1.e-09, 1.e-09, 1.e-09, 1.e-09, 1.e-09, 1.e-09, 1.e-09, 1.e-09,\n",
              "       1.e-09, 1.e-09, 1.e-09, 1.e-09, 1.e-09, 1.e-09, 1.e-09, 1.e-09,\n",
              "       1.e-09, 1.e-09, 1.e-09, 1.e-09, 1.e-09, 1.e-09, 1.e-09, 1.e-09,\n",
              "       1.e-09, 1.e-09, 1.e-09, 1.e-09, 1.e-09, 1.e-09, 1.e-09, 1.e-09,\n",
              "       1.e-09, 1.e-09, 1.e-09, 1.e-09, 1.e-09, 1.e-09, 1.e-09, 1.e-09,\n",
              "       1.e-09, 1.e-09, 1.e-09, 1.e-09])},\n",
              "                   scoring='f1', verbose=1)"
            ]
          },
          "metadata": {},
          "execution_count": 43
        }
      ]
    },
    {
      "cell_type": "code",
      "source": [
        "preds = clf_nb.predict(X_test_full)\n",
        "print(classification_report(preds, y_test))"
      ],
      "metadata": {
        "colab": {
          "base_uri": "https://localhost:8080/"
        },
        "id": "_W9lNePq-6xZ",
        "outputId": "04177fff-69f0-4106-e790-785de6229687"
      },
      "execution_count": null,
      "outputs": [
        {
          "output_type": "stream",
          "name": "stdout",
          "text": [
            "              precision    recall  f1-score   support\n",
            "\n",
            "           0       0.87      0.88      0.88      5186\n",
            "           1       0.88      0.88      0.88      5308\n",
            "\n",
            "    accuracy                           0.88     10494\n",
            "   macro avg       0.88      0.88      0.88     10494\n",
            "weighted avg       0.88      0.88      0.88     10494\n",
            "\n"
          ]
        }
      ]
    },
    {
      "cell_type": "code",
      "source": [
        "disp = ConfusionMatrixDisplay.from_estimator(\n",
        "        clf_nb,\n",
        "        X_test_full,\n",
        "        y_test,\n",
        "        display_labels=['No sarcasm', 'Sarcasm'],\n",
        "        cmap=plt.cm.Blues )\n",
        "disp.ax_.set_title(\"Multinomial Naive Bayes\")\n",
        "plt.show()"
      ],
      "metadata": {
        "colab": {
          "base_uri": "https://localhost:8080/",
          "height": 295
        },
        "id": "BJXy0h3vT6r7",
        "outputId": "313c1846-493e-4799-afa8-969441208c4a"
      },
      "execution_count": null,
      "outputs": [
        {
          "output_type": "display_data",
          "data": {
            "text/plain": [
              "<Figure size 432x288 with 2 Axes>"
            ],
            "image/png": "[encoded data removed]"
          },
          "metadata": {
            "needs_background": "light"
          }
        }
      ]
    },
    {
      "cell_type": "markdown",
      "source": [
        "### Suport Vector Machine (SVM)"
      ],
      "metadata": {
        "id": "xaxFylgnpY-f"
      }
    },
    {
      "cell_type": "code",
      "source": [
        "hyperparams_SVM =   {\n",
        "    'C': np.logspace(-5, 5, 10), \n",
        "    'gamma': np.logspace(-5, 5, 10),\n",
        "    'kernel': ['rbf', 'linear']} "
      ],
      "metadata": {
        "id": "kk2ddoZ7U5P1"
      },
      "execution_count": null,
      "outputs": []
    },
    {
      "cell_type": "code",
      "source": [
        "clf_svm =RandomizedSearchCV(SVC(), hyperparams_SVM, verbose=1,cv=pds,\n",
        "                           scoring='f1', n_jobs=-1, n_iter=10 ) "
      ],
      "metadata": {
        "id": "-rvuSQIYVwsg"
      },
      "execution_count": null,
      "outputs": []
    },
    {
      "cell_type": "code",
      "source": [
        "clf_svm.fit(vstack([X_train_full, X_valid_full]), y_train.append(y_valid))"
      ],
      "metadata": {
        "colab": {
          "base_uri": "https://localhost:8080/"
        },
        "id": "MPqF7F2bWlR_",
        "outputId": "e903ac5a-304c-4ce7-c324-b4d5d8d085eb"
      },
      "execution_count": null,
      "outputs": [
        {
          "output_type": "stream",
          "name": "stdout",
          "text": [
            "Fitting 1 folds for each of 10 candidates, totalling 10 fits\n"
          ]
        },
        {
          "output_type": "execute_result",
          "data": {
            "text/plain": [
              "RandomizedSearchCV(cv=PredefinedSplit(test_fold=array([-1, -1, ...,  0,  0])),\n",
              "                   estimator=SVC(), n_jobs=-1,\n",
              "                   param_distributions={'C': array([1.00000000e-05, 1.29154967e-04, 1.66810054e-03, 2.15443469e-02,\n",
              "       2.78255940e-01, 3.59381366e+00, 4.64158883e+01, 5.99484250e+02,\n",
              "       7.74263683e+03, 1.00000000e+05]),\n",
              "                                        'gamma': array([1.00000000e-05, 1.29154967e-04, 1.66810054e-03, 2.15443469e-02,\n",
              "       2.78255940e-01, 3.59381366e+00, 4.64158883e+01, 5.99484250e+02,\n",
              "       7.74263683e+03, 1.00000000e+05]),\n",
              "                                        'kernel': ['rbf', 'linear']},\n",
              "                   scoring='f1', verbose=1)"
            ]
          },
          "metadata": {},
          "execution_count": 27
        }
      ]
    },
    {
      "cell_type": "code",
      "source": [
        "preds = clf_svm.predict(X_test_full)\n",
        "print(classification_report(preds, y_test))"
      ],
      "metadata": {
        "colab": {
          "base_uri": "https://localhost:8080/"
        },
        "id": "Ks5PEtEDWtAT",
        "outputId": "17b0da57-a3aa-4d5e-8638-2e3d9c8d7c67"
      },
      "execution_count": null,
      "outputs": [
        {
          "output_type": "stream",
          "name": "stdout",
          "text": [
            "              precision    recall  f1-score   support\n",
            "\n",
            "           0       0.96      0.96      0.96      5256\n",
            "           1       0.96      0.96      0.96      5238\n",
            "\n",
            "    accuracy                           0.96     10494\n",
            "   macro avg       0.96      0.96      0.96     10494\n",
            "weighted avg       0.96      0.96      0.96     10494\n",
            "\n"
          ]
        }
      ]
    },
    {
      "cell_type": "code",
      "source": [
        "disp = ConfusionMatrixDisplay.from_estimator(\n",
        "        clf_svm,\n",
        "        X_test_full,\n",
        "        y_test,\n",
        "        display_labels=['No sarcasm', 'Sarcasm'],\n",
        "        cmap=plt.cm.Blues )\n",
        "disp.ax_.set_title(\"Suport Vector Machine\")\n",
        "plt.show()"
      ],
      "metadata": {
        "colab": {
          "base_uri": "https://localhost:8080/",
          "height": 295
        },
        "id": "N0an_AacW6NM",
        "outputId": "00feefe5-8d0c-4cb8-faa0-94335b244a26"
      },
      "execution_count": null,
      "outputs": [
        {
          "output_type": "display_data",
          "data": {
            "text/plain": [
              "<Figure size 432x288 with 2 Axes>"
            ],
            "image/png": "[encoded data removed]"
          },
          "metadata": {
            "needs_background": "light"
          }
        }
      ]
    },
    {
      "cell_type": "code",
      "source": [
        "clf_svm.get_params()"
      ],
      "metadata": {
        "colab": {
          "base_uri": "https://localhost:8080/"
        },
        "id": "8KO1rqkA6TRF",
        "outputId": "9cdd437f-04e4-42dd-c6aa-f5fda843ff3a"
      },
      "execution_count": null,
      "outputs": [
        {
          "output_type": "execute_result",
          "data": {
            "text/plain": [
              "{'cv': PredefinedSplit(test_fold=array([-1, -1, ...,  0,  0])),\n",
              " 'error_score': nan,\n",
              " 'estimator__C': 1.0,\n",
              " 'estimator__break_ties': False,\n",
              " 'estimator__cache_size': 200,\n",
              " 'estimator__class_weight': None,\n",
              " 'estimator__coef0': 0.0,\n",
              " 'estimator__decision_function_shape': 'ovr',\n",
              " 'estimator__degree': 3,\n",
              " 'estimator__gamma': 'scale',\n",
              " 'estimator__kernel': 'rbf',\n",
              " 'estimator__max_iter': -1,\n",
              " 'estimator__probability': False,\n",
              " 'estimator__random_state': None,\n",
              " 'estimator__shrinking': True,\n",
              " 'estimator__tol': 0.001,\n",
              " 'estimator__verbose': False,\n",
              " 'estimator': SVC(),\n",
              " 'n_iter': 10,\n",
              " 'n_jobs': -1,\n",
              " 'param_distributions': {'C': array([1.00000000e-05, 1.29154967e-04, 1.66810054e-03, 2.15443469e-02,\n",
              "         2.78255940e-01, 3.59381366e+00, 4.64158883e+01, 5.99484250e+02,\n",
              "         7.74263683e+03, 1.00000000e+05]),\n",
              "  'gamma': array([1.00000000e-05, 1.29154967e-04, 1.66810054e-03, 2.15443469e-02,\n",
              "         2.78255940e-01, 3.59381366e+00, 4.64158883e+01, 5.99484250e+02,\n",
              "         7.74263683e+03, 1.00000000e+05]),\n",
              "  'kernel': ['rbf', 'linear']},\n",
              " 'pre_dispatch': '2*n_jobs',\n",
              " 'random_state': None,\n",
              " 'refit': True,\n",
              " 'return_train_score': False,\n",
              " 'scoring': 'f1',\n",
              " 'verbose': 1}"
            ]
          },
          "metadata": {},
          "execution_count": 30
        }
      ]
    }
  ]
}