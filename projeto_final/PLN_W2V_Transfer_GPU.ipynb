{
  "nbformat": 4,
  "nbformat_minor": 0,
  "metadata": {
    "colab": {
      "provenance": [],
      "collapsed_sections": [],
      "mount_file_id": "1kBnExrEjxMPAnkrxZO_UWhFO8JkfQpHg",
      "authorship_tag": "ABX9TyM6vKLu6Ab066AMrYCPYAyJ",
      "include_colab_link": true
    },
    "kernelspec": {
      "name": "python3",
      "display_name": "Python 3"
    },
    "language_info": {
      "name": "python"
    },
    "accelerator": "GPU"
  },
  "cells": [
    {
      "cell_type": "markdown",
      "metadata": {
        "id": "view-in-github",
        "colab_type": "text"
      },
      "source": [
        "<a href=\"https://colab.research.google.com/github/nosgueira/PLN-2022-1/blob/main/PLN_W2V_Transfer_GPU.ipynb\" target=\"_parent\"><img src=\"https://colab.research.google.com/assets/colab-badge.svg\" alt=\"Open In Colab\"/></a>"
      ]
    },
    {
      "cell_type": "markdown",
      "source": [
        "# Classification Using Word2Vec (Transfer Learning)"
      ],
      "metadata": {
        "id": "nAagbBE4eI2q"
      }
    },
    {
      "cell_type": "code",
      "source": [
        "!pip install -qU gensim"
      ],
      "metadata": {
        "id": "bS8mHtbKAG1O"
      },
      "execution_count": null,
      "outputs": []
    },
    {
      "cell_type": "markdown",
      "source": [
        "## Imports"
      ],
      "metadata": {
        "id": "YxAZA0a4eO3l"
      }
    },
    {
      "cell_type": "code",
      "execution_count": null,
      "metadata": {
        "colab": {
          "base_uri": "https://localhost:8080/"
        },
        "id": "-zPxIrqW1eAL",
        "outputId": "e8384fa2-b147-4130-bb16-ef2f51d85acd"
      },
      "outputs": [
        {
          "output_type": "stream",
          "name": "stderr",
          "text": [
            "[nltk_data] Downloading package punkt to /root/nltk_data...\n",
            "[nltk_data]   Package punkt is already up-to-date!\n",
            "[nltk_data] Downloading package stopwords to /root/nltk_data...\n",
            "[nltk_data]   Package stopwords is already up-to-date!\n"
          ]
        }
      ],
      "source": [
        "from nltk.corpus import stopwords\n",
        "from nltk.stem import PorterStemmer\n",
        "from sklearn.linear_model import LogisticRegression\n",
        "from sklearn.model_selection import RandomizedSearchCV\n",
        "from sklearn.metrics import classification_report\n",
        "from sklearn.model_selection import PredefinedSplit\n",
        "from sklearn.model_selection import train_test_split\n",
        "from sklearn.metrics import ConfusionMatrixDisplay\n",
        "from sklearn.metrics import confusion_matrix\n",
        "from keras.utils.np_utils import to_categorical\n",
        "from gensim.models import KeyedVectors\n",
        "from sklearn.svm import SVC\n",
        "from sklearn.naive_bayes import MultinomialNB\n",
        "import matplotlib.pyplot as plt\n",
        "import seaborn as sns\n",
        "import gensim\n",
        "import gensim.downloader\n",
        "\n",
        "\n",
        "\n",
        "from scipy.sparse import hstack\n",
        "from scipy.sparse import vstack\n",
        "from scipy.stats import loguniform\n",
        "import nltk\n",
        "import pandas as pd\n",
        "import numpy as np\n",
        "\n",
        "import re\n",
        "\n",
        "nltk.download('punkt')\n",
        "nltk.download('stopwords')\n",
        "\n",
        "# Defining stop words\n",
        "stop_words = set(stopwords.words('english'))\n"
      ]
    },
    {
      "cell_type": "markdown",
      "source": [
        "##  Data processing"
      ],
      "metadata": {
        "id": "J32RcdKNlJBM"
      }
    },
    {
      "cell_type": "markdown",
      "source": [
        "### Loading data"
      ],
      "metadata": {
        "id": "vxs-jfbuFy7r"
      }
    },
    {
      "cell_type": "code",
      "source": [
        "corpus = pd.read_csv('https://query.data.world/s/aikveq4giwygvkn4wyirtwiqwmyc7q')"
      ],
      "metadata": {
        "id": "3_d8zWgv1mHG"
      },
      "execution_count": null,
      "outputs": []
    },
    {
      "cell_type": "code",
      "source": [
        "corpus"
      ],
      "metadata": {
        "colab": {
          "base_uri": "https://localhost:8080/",
          "height": 424
        },
        "id": "2m_Nz9Ae1tR-",
        "outputId": "c521d696-dbb3-4334-f8d4-7c6fb8bfabfd"
      },
      "execution_count": null,
      "outputs": [
        {
          "output_type": "execute_result",
          "data": {
            "text/plain": [
              "        Unnamed: 0  tweet_category            user         location  \\\n",
              "0                0               1        dflenick        Davie, FL   \n",
              "1                1               1    RestartMIGA6              NaN   \n",
              "2                2               1        RayeannJ  California, USA   \n",
              "3                3               1  peggydumptrump    United States   \n",
              "4                4               1   LochnerWalter              NaN   \n",
              "...            ...             ...             ...              ...   \n",
              "209872      104932               0     CrypticIcon              NaN   \n",
              "209873      104933               0  SwordofTruth10              NaN   \n",
              "209874      104934               0       thegre8_1              USA   \n",
              "209875      104935               0      billslater      Chicago, IL   \n",
              "209876      104936               0  bolding_daniel   Greenville, SC   \n",
              "\n",
              "                       date                                               text  \n",
              "0       2020-02-11 20:03:56  b'RT @TribulationThe: Deep State Dems continue...  \n",
              "1       2020-02-11 20:03:54  b'RT @restartleader: The Republicans of Americ...  \n",
              "2       2020-02-11 20:03:54  b'RT @DeeTwoCents: This is the Republican\\xe2\\...  \n",
              "3       2020-02-11 20:03:53  b\"RT @mog7546: \\xe2\\x80\\x9cSOFT ON CRIME\\xe2\\x...  \n",
              "4       2020-02-11 20:03:52  b'RT @AndyOstroy: @realDonaldTrump YOU\\xe2\\x80...  \n",
              "...                     ...                                                ...  \n",
              "209872  2020-03-07 04:51:48  RT @Jim_Jordan: The Comey FBI lied to the FISA...  \n",
              "209873  2020-03-07 08:30:30  RT @DiamondandSilk: Ex-Treasury Employee Plead...  \n",
              "209874  2020-03-07 04:27:53  RT @DailyMail: US hospitals are preparing for ...  \n",
              "209875  2020-03-07 04:55:39  RT @RealJamesWoods: MY NAME IS BILL W.  I like...  \n",
              "209876  2020-03-07 06:48:22            @XesLana1 @Scholar_Atheist You said it!  \n",
              "\n",
              "[209877 rows x 6 columns]"
            ],
            "text/html": [
              "\n",
              "  <div id=\"df-60ce8fc1-739f-4a01-9cc2-22969b8a6931\">\n",
              "    <div class=\"colab-df-container\">\n",
              "      <div>\n",
              "<style scoped>\n",
              "    .dataframe tbody tr th:only-of-type {\n",
              "        vertical-align: middle;\n",
              "    }\n",
              "\n",
              "    .dataframe tbody tr th {\n",
              "        vertical-align: top;\n",
              "    }\n",
              "\n",
              "    .dataframe thead th {\n",
              "        text-align: right;\n",
              "    }\n",
              "</style>\n",
              "<table border=\"1\" class=\"dataframe\">\n",
              "  <thead>\n",
              "    <tr style=\"text-align: right;\">\n",
              "      <th></th>\n",
              "      <th>Unnamed: 0</th>\n",
              "      <th>tweet_category</th>\n",
              "      <th>user</th>\n",
              "      <th>location</th>\n",
              "      <th>date</th>\n",
              "      <th>text</th>\n",
              "    </tr>\n",
              "  </thead>\n",
              "  <tbody>\n",
              "    <tr>\n",
              "      <th>0</th>\n",
              "      <td>0</td>\n",
              "      <td>1</td>\n",
              "      <td>dflenick</td>\n",
              "      <td>Davie, FL</td>\n",
              "      <td>2020-02-11 20:03:56</td>\n",
              "      <td>b'RT @TribulationThe: Deep State Dems continue...</td>\n",
              "    </tr>\n",
              "    <tr>\n",
              "      <th>1</th>\n",
              "      <td>1</td>\n",
              "      <td>1</td>\n",
              "      <td>RestartMIGA6</td>\n",
              "      <td>NaN</td>\n",
              "      <td>2020-02-11 20:03:54</td>\n",
              "      <td>b'RT @restartleader: The Republicans of Americ...</td>\n",
              "    </tr>\n",
              "    <tr>\n",
              "      <th>2</th>\n",
              "      <td>2</td>\n",
              "      <td>1</td>\n",
              "      <td>RayeannJ</td>\n",
              "      <td>California, USA</td>\n",
              "      <td>2020-02-11 20:03:54</td>\n",
              "      <td>b'RT @DeeTwoCents: This is the Republican\\xe2\\...</td>\n",
              "    </tr>\n",
              "    <tr>\n",
              "      <th>3</th>\n",
              "      <td>3</td>\n",
              "      <td>1</td>\n",
              "      <td>peggydumptrump</td>\n",
              "      <td>United States</td>\n",
              "      <td>2020-02-11 20:03:53</td>\n",
              "      <td>b\"RT @mog7546: \\xe2\\x80\\x9cSOFT ON CRIME\\xe2\\x...</td>\n",
              "    </tr>\n",
              "    <tr>\n",
              "      <th>4</th>\n",
              "      <td>4</td>\n",
              "      <td>1</td>\n",
              "      <td>LochnerWalter</td>\n",
              "      <td>NaN</td>\n",
              "      <td>2020-02-11 20:03:52</td>\n",
              "      <td>b'RT @AndyOstroy: @realDonaldTrump YOU\\xe2\\x80...</td>\n",
              "    </tr>\n",
              "    <tr>\n",
              "      <th>...</th>\n",
              "      <td>...</td>\n",
              "      <td>...</td>\n",
              "      <td>...</td>\n",
              "      <td>...</td>\n",
              "      <td>...</td>\n",
              "      <td>...</td>\n",
              "    </tr>\n",
              "    <tr>\n",
              "      <th>209872</th>\n",
              "      <td>104932</td>\n",
              "      <td>0</td>\n",
              "      <td>CrypticIcon</td>\n",
              "      <td>NaN</td>\n",
              "      <td>2020-03-07 04:51:48</td>\n",
              "      <td>RT @Jim_Jordan: The Comey FBI lied to the FISA...</td>\n",
              "    </tr>\n",
              "    <tr>\n",
              "      <th>209873</th>\n",
              "      <td>104933</td>\n",
              "      <td>0</td>\n",
              "      <td>SwordofTruth10</td>\n",
              "      <td>NaN</td>\n",
              "      <td>2020-03-07 08:30:30</td>\n",
              "      <td>RT @DiamondandSilk: Ex-Treasury Employee Plead...</td>\n",
              "    </tr>\n",
              "    <tr>\n",
              "      <th>209874</th>\n",
              "      <td>104934</td>\n",
              "      <td>0</td>\n",
              "      <td>thegre8_1</td>\n",
              "      <td>USA</td>\n",
              "      <td>2020-03-07 04:27:53</td>\n",
              "      <td>RT @DailyMail: US hospitals are preparing for ...</td>\n",
              "    </tr>\n",
              "    <tr>\n",
              "      <th>209875</th>\n",
              "      <td>104935</td>\n",
              "      <td>0</td>\n",
              "      <td>billslater</td>\n",
              "      <td>Chicago, IL</td>\n",
              "      <td>2020-03-07 04:55:39</td>\n",
              "      <td>RT @RealJamesWoods: MY NAME IS BILL W.  I like...</td>\n",
              "    </tr>\n",
              "    <tr>\n",
              "      <th>209876</th>\n",
              "      <td>104936</td>\n",
              "      <td>0</td>\n",
              "      <td>bolding_daniel</td>\n",
              "      <td>Greenville, SC</td>\n",
              "      <td>2020-03-07 06:48:22</td>\n",
              "      <td>@XesLana1 @Scholar_Atheist You said it!</td>\n",
              "    </tr>\n",
              "  </tbody>\n",
              "</table>\n",
              "<p>209877 rows × 6 columns</p>\n",
              "</div>\n",
              "      <button class=\"colab-df-convert\" onclick=\"convertToInteractive('df-60ce8fc1-739f-4a01-9cc2-22969b8a6931')\"\n",
              "              title=\"Convert this dataframe to an interactive table.\"\n",
              "              style=\"display:none;\">\n",
              "        \n",
              "  <svg xmlns=\"http://www.w3.org/2000/svg\" height=\"24px\"viewBox=\"0 0 24 24\"\n",
              "       width=\"24px\">\n",
              "    <path d=\"M0 0h24v24H0V0z\" fill=\"none\"/>\n",
              "    <path d=\"M18.56 5.44l.94 2.06.94-2.06 2.06-.94-2.06-.94-.94-2.06-.94 2.06-2.06.94zm-11 1L8.5 8.5l.94-2.06 2.06-.94-2.06-.94L8.5 2.5l-.94 2.06-2.06.94zm10 10l.94 2.06.94-2.06 2.06-.94-2.06-.94-.94-2.06-.94 2.06-2.06.94z\"/><path d=\"M17.41 7.96l-1.37-1.37c-.4-.4-.92-.59-1.43-.59-.52 0-1.04.2-1.43.59L10.3 9.45l-7.72 7.72c-.78.78-.78 2.05 0 2.83L4 21.41c.39.39.9.59 1.41.59.51 0 1.02-.2 1.41-.59l7.78-7.78 2.81-2.81c.8-.78.8-2.07 0-2.86zM5.41 20L4 18.59l7.72-7.72 1.47 1.35L5.41 20z\"/>\n",
              "  </svg>\n",
              "      </button>\n",
              "      \n",
              "  <style>\n",
              "    .colab-df-container {\n",
              "      display:flex;\n",
              "      flex-wrap:wrap;\n",
              "      gap: 12px;\n",
              "    }\n",
              "\n",
              "    .colab-df-convert {\n",
              "      background-color: #E8F0FE;\n",
              "      border: none;\n",
              "      border-radius: 50%;\n",
              "      cursor: pointer;\n",
              "      display: none;\n",
              "      fill: #1967D2;\n",
              "      height: 32px;\n",
              "      padding: 0 0 0 0;\n",
              "      width: 32px;\n",
              "    }\n",
              "\n",
              "    .colab-df-convert:hover {\n",
              "      background-color: #E2EBFA;\n",
              "      box-shadow: 0px 1px 2px rgba(60, 64, 67, 0.3), 0px 1px 3px 1px rgba(60, 64, 67, 0.15);\n",
              "      fill: #174EA6;\n",
              "    }\n",
              "\n",
              "    [theme=dark] .colab-df-convert {\n",
              "      background-color: #3B4455;\n",
              "      fill: #D2E3FC;\n",
              "    }\n",
              "\n",
              "    [theme=dark] .colab-df-convert:hover {\n",
              "      background-color: #434B5C;\n",
              "      box-shadow: 0px 1px 3px 1px rgba(0, 0, 0, 0.15);\n",
              "      filter: drop-shadow(0px 1px 2px rgba(0, 0, 0, 0.3));\n",
              "      fill: #FFFFFF;\n",
              "    }\n",
              "  </style>\n",
              "\n",
              "      <script>\n",
              "        const buttonEl =\n",
              "          document.querySelector('#df-60ce8fc1-739f-4a01-9cc2-22969b8a6931 button.colab-df-convert');\n",
              "        buttonEl.style.display =\n",
              "          google.colab.kernel.accessAllowed ? 'block' : 'none';\n",
              "\n",
              "        async function convertToInteractive(key) {\n",
              "          const element = document.querySelector('#df-60ce8fc1-739f-4a01-9cc2-22969b8a6931');\n",
              "          const dataTable =\n",
              "            await google.colab.kernel.invokeFunction('convertToInteractive',\n",
              "                                                     [key], {});\n",
              "          if (!dataTable) return;\n",
              "\n",
              "          const docLinkHtml = 'Like what you see? Visit the ' +\n",
              "            '<a target=\"_blank\" href=https://colab.research.google.com/notebooks/data_table.ipynb>data table notebook</a>'\n",
              "            + ' to learn more about interactive tables.';\n",
              "          element.innerHTML = '';\n",
              "          dataTable['output_type'] = 'display_data';\n",
              "          await google.colab.output.renderOutput(dataTable, element);\n",
              "          const docLink = document.createElement('div');\n",
              "          docLink.innerHTML = docLinkHtml;\n",
              "          element.appendChild(docLink);\n",
              "        }\n",
              "      </script>\n",
              "    </div>\n",
              "  </div>\n",
              "  "
            ]
          },
          "metadata": {},
          "execution_count": 4
        }
      ]
    },
    {
      "cell_type": "markdown",
      "source": [
        "Por questões de economia de tempo, serão utilizados apenas 25% dos tweets:"
      ],
      "metadata": {
        "id": "XvVrqh6x5aAZ"
      }
    },
    {
      "cell_type": "code",
      "source": [
        "corpus = corpus.groupby('tweet_category', group_keys=False).apply(lambda x:x.sample(frac=0.25, random_state=42))\n"
      ],
      "metadata": {
        "id": "ousTGIYt2-yt"
      },
      "execution_count": null,
      "outputs": []
    },
    {
      "cell_type": "code",
      "source": [
        "corpus['tweet_category'].value_counts()"
      ],
      "metadata": {
        "colab": {
          "base_uri": "https://localhost:8080/"
        },
        "id": "nH0Hr0rX4DXR",
        "outputId": "67e093ce-124e-4e36-c637-1a9cdc9f0f11"
      },
      "execution_count": null,
      "outputs": [
        {
          "output_type": "execute_result",
          "data": {
            "text/plain": [
              "1    26235\n",
              "0    26234\n",
              "Name: tweet_category, dtype: int64"
            ]
          },
          "metadata": {},
          "execution_count": 6
        }
      ]
    },
    {
      "cell_type": "markdown",
      "source": [
        "### Spliting the data"
      ],
      "metadata": {
        "id": "h_7h2tn26cBB"
      }
    },
    {
      "cell_type": "code",
      "source": [
        "from keras.preprocessing.text import Tokenizer\n",
        "from keras.preprocessing.sequence import pad_sequences"
      ],
      "metadata": {
        "id": "YE74ORqLIJH-"
      },
      "execution_count": null,
      "outputs": []
    },
    {
      "cell_type": "code",
      "source": [
        "X = corpus.text\n",
        "y = corpus.tweet_category\n",
        "X_train, X_test, y_train, y_test = train_test_split(X, y, test_size = 0.2, random_state=42)\n",
        "X_train, X_valid, y_train, y_valid = train_test_split(X_train, y_train, test_size = 0.2, random_state=42)"
      ],
      "metadata": {
        "id": "WKEmcM4A5j5e"
      },
      "execution_count": null,
      "outputs": []
    },
    {
      "cell_type": "code",
      "source": [
        "y_train.value_counts()"
      ],
      "metadata": {
        "colab": {
          "base_uri": "https://localhost:8080/"
        },
        "id": "dVehan-IEdqL",
        "outputId": "cc968190-c2dc-4e14-c99b-b4affc57cd0a"
      },
      "execution_count": null,
      "outputs": [
        {
          "output_type": "execute_result",
          "data": {
            "text/plain": [
              "0    16851\n",
              "1    16729\n",
              "Name: tweet_category, dtype: int64"
            ]
          },
          "metadata": {},
          "execution_count": 9
        }
      ]
    },
    {
      "cell_type": "code",
      "source": [
        "y_valid.value_counts()"
      ],
      "metadata": {
        "colab": {
          "base_uri": "https://localhost:8080/"
        },
        "id": "U0fGmFEeEy3z",
        "outputId": "dd7c00b4-336d-4032-8000-89eabbb1bb1c"
      },
      "execution_count": null,
      "outputs": [
        {
          "output_type": "execute_result",
          "data": {
            "text/plain": [
              "1    4243\n",
              "0    4152\n",
              "Name: tweet_category, dtype: int64"
            ]
          },
          "metadata": {},
          "execution_count": 10
        }
      ]
    },
    {
      "cell_type": "code",
      "source": [
        "y_test.value_counts()"
      ],
      "metadata": {
        "colab": {
          "base_uri": "https://localhost:8080/"
        },
        "id": "sN00-SxWFEEQ",
        "outputId": "53fb0c05-834f-402b-a32b-17f4a9675182"
      },
      "execution_count": null,
      "outputs": [
        {
          "output_type": "execute_result",
          "data": {
            "text/plain": [
              "1    5263\n",
              "0    5231\n",
              "Name: tweet_category, dtype: int64"
            ]
          },
          "metadata": {},
          "execution_count": 11
        }
      ]
    },
    {
      "cell_type": "markdown",
      "source": [
        "### Text preprocessing"
      ],
      "metadata": {
        "id": "UAqcxH62qmmF"
      }
    },
    {
      "cell_type": "code",
      "source": [
        "NUM_WORDS=20000\n",
        "tokenizer = Tokenizer(NUM_WORDS, lower=True)"
      ],
      "metadata": {
        "id": "SgmfGVjaIWqL"
      },
      "execution_count": null,
      "outputs": []
    },
    {
      "cell_type": "code",
      "source": [
        "tokenizer.fit_on_texts(X_train.values)"
      ],
      "metadata": {
        "id": "FEfKgN2HKLJQ"
      },
      "execution_count": null,
      "outputs": []
    },
    {
      "cell_type": "code",
      "source": [
        "X_train_seq  = tokenizer.texts_to_sequences(X_train.values)\n",
        "X_valid_seq  = tokenizer.texts_to_sequences(X_valid.values)\n",
        "X_test_seq   = tokenizer.texts_to_sequences(X_test.values)"
      ],
      "metadata": {
        "id": "ch-5gSSVKR5R"
      },
      "execution_count": null,
      "outputs": []
    },
    {
      "cell_type": "code",
      "source": [
        "word_index = tokenizer.word_index"
      ],
      "metadata": {
        "id": "n4SK5lTwKgum"
      },
      "execution_count": null,
      "outputs": []
    },
    {
      "cell_type": "code",
      "source": [
        "X_train_padded = pad_sequences(X_train_seq)\n",
        "X_train_padded.shape"
      ],
      "metadata": {
        "colab": {
          "base_uri": "https://localhost:8080/"
        },
        "id": "QUnXMFF5OvPJ",
        "outputId": "c639e372-62d5-4a03-a10f-a52baf3ac27d"
      },
      "execution_count": null,
      "outputs": [
        {
          "output_type": "execute_result",
          "data": {
            "text/plain": [
              "(33580, 344)"
            ]
          },
          "metadata": {},
          "execution_count": 16
        }
      ]
    },
    {
      "cell_type": "code",
      "source": [
        "X_valid_padded = pad_sequences(X_valid_seq, maxlen=X_train_padded.shape[-1])\n",
        "X_valid_padded.shape"
      ],
      "metadata": {
        "colab": {
          "base_uri": "https://localhost:8080/"
        },
        "id": "QZcy7Fi9PB6G",
        "outputId": "ae463f11-99d1-4ecb-db62-ee589ffbb815"
      },
      "execution_count": null,
      "outputs": [
        {
          "output_type": "execute_result",
          "data": {
            "text/plain": [
              "(8395, 344)"
            ]
          },
          "metadata": {},
          "execution_count": 17
        }
      ]
    },
    {
      "cell_type": "code",
      "source": [
        "X_test_padded = pad_sequences(X_test_seq, maxlen=X_train_padded.shape[-1])\n",
        "X_test_padded.shape"
      ],
      "metadata": {
        "colab": {
          "base_uri": "https://localhost:8080/"
        },
        "id": "XPWDVBj6i244",
        "outputId": "17d0f645-b47e-4c29-cf1a-cc3183e16a67"
      },
      "execution_count": null,
      "outputs": [
        {
          "output_type": "execute_result",
          "data": {
            "text/plain": [
              "(10494, 344)"
            ]
          },
          "metadata": {},
          "execution_count": 35
        }
      ]
    },
    {
      "cell_type": "code",
      "source": [
        "y_train_cat = to_categorical(y_train)\n",
        "y_valid_cat = to_categorical(y_valid)\n",
        "y_test_cat = to_categorical(y_test)"
      ],
      "metadata": {
        "id": "doNRkQyAPr__"
      },
      "execution_count": null,
      "outputs": []
    },
    {
      "cell_type": "markdown",
      "source": [
        "## Feature Extraction"
      ],
      "metadata": {
        "id": "dfSD1623GFDH"
      }
    },
    {
      "cell_type": "markdown",
      "source": [
        "### Vectorization with Pre-trainded Word2Vec (google-news)"
      ],
      "metadata": {
        "id": "ZLFGlg-la4ca"
      }
    },
    {
      "cell_type": "code",
      "source": [
        "wv = KeyedVectors.load(\"drive/MyDrive/word2vec.wordvectors\", mmap='r')"
      ],
      "metadata": {
        "id": "5WsAerA7puAZ"
      },
      "execution_count": null,
      "outputs": []
    },
    {
      "cell_type": "code",
      "source": [
        "EMBEDDING_DIM = 300\n",
        "vocab_size=min(len(word_index)+1, NUM_WORDS)\n"
      ],
      "metadata": {
        "id": "dcH7G9WzQ1_l"
      },
      "execution_count": null,
      "outputs": []
    },
    {
      "cell_type": "code",
      "source": [
        "embedding_matrix = np.zeros((vocab_size, EMBEDDING_DIM))\n",
        "for word, i in word_index.items():\n",
        "    if i>=NUM_WORDS:\n",
        "        continue\n",
        "    try :\n",
        "        embedding_vector = wv[word]\n",
        "        embedding_matrix[i] = embedding_vector\n",
        "    except KeyError:\n",
        "        embedding_matrix[i] = np.random.normal(0, np.sqrt(0.25), EMBEDDING_DIM)"
      ],
      "metadata": {
        "id": "Vcr5vBWHR-fz"
      },
      "execution_count": null,
      "outputs": []
    },
    {
      "cell_type": "code",
      "source": [
        "del(wv)"
      ],
      "metadata": {
        "id": "sd-zfKt8T2jz"
      },
      "execution_count": null,
      "outputs": []
    },
    {
      "cell_type": "markdown",
      "source": [
        "## Training Models"
      ],
      "metadata": {
        "id": "nW6UgA53Oi-1"
      }
    },
    {
      "cell_type": "markdown",
      "source": [
        "### Convolutional Neural Network"
      ],
      "metadata": {
        "id": "2v9Tx_k3yYOB"
      }
    },
    {
      "cell_type": "code",
      "source": [
        "from keras.models import Model\n",
        "from keras import regularizers\n",
        "from keras.layers import Embedding, Input, Reshape\n",
        "from keras.layers import Conv2D, MaxPooling2D\n",
        "from keras.layers import concatenate, Flatten, Dense, Dropout\n",
        "from keras.callbacks import EarlyStopping\n",
        "from tensorflow.keras.optimizers import Adam\n"
      ],
      "metadata": {
        "id": "nBDBnpqTPVLm"
      },
      "execution_count": null,
      "outputs": []
    },
    {
      "cell_type": "markdown",
      "source": [
        "Hyper-paramters:"
      ],
      "metadata": {
        "id": "86XBZgnaV5Qk"
      }
    },
    {
      "cell_type": "code",
      "source": [
        "NUM_FILTERS = 100"
      ],
      "metadata": {
        "id": "aImXNfTgV9G_"
      },
      "execution_count": null,
      "outputs": []
    },
    {
      "cell_type": "code",
      "source": [
        "seq_len = X_train_padded.shape[1]\n",
        "seq_len"
      ],
      "metadata": {
        "colab": {
          "base_uri": "https://localhost:8080/"
        },
        "id": "jv_Td48GWLgp",
        "outputId": "4d4ee68d-e59a-41fa-b986-af9d6645c961"
      },
      "execution_count": null,
      "outputs": [
        {
          "output_type": "execute_result",
          "data": {
            "text/plain": [
              "344"
            ]
          },
          "metadata": {},
          "execution_count": 25
        }
      ]
    },
    {
      "cell_type": "code",
      "source": [
        "embedding_layer = Embedding(vocab_size,\n",
        "                            EMBEDDING_DIM,\n",
        "                            weights=[embedding_matrix],\n",
        "                            trainable=False)"
      ],
      "metadata": {
        "id": "MedABnXcUQzU"
      },
      "execution_count": null,
      "outputs": []
    },
    {
      "cell_type": "code",
      "source": [
        "inputs = Input(shape=(seq_len,))\n",
        "embedding = embedding_layer (inputs)\n",
        "reshape = Reshape((seq_len, EMBEDDING_DIM, 1)) (embedding)\n",
        "\n",
        "\n",
        "conv_0 = Conv2D(NUM_FILTERS, (3, EMBEDDING_DIM),activation='relu', kernel_regularizer=regularizers.l2(0.01))(reshape)\n",
        "conv_1 = Conv2D(NUM_FILTERS, (4, EMBEDDING_DIM),activation='relu', kernel_regularizer=regularizers.l2(0.01))(reshape)\n",
        "conv_2 = Conv2D(NUM_FILTERS, (5, EMBEDDING_DIM),activation='relu', kernel_regularizer=regularizers.l2(0.01))(reshape)\n",
        "\n",
        "maxpool_0 = MaxPooling2D((seq_len - 4, 1), strides=(1,1))(conv_0)\n",
        "maxpool_1 = MaxPooling2D((seq_len - 5, 1), strides=(1,1))(conv_1)\n",
        "maxpool_2 = MaxPooling2D((seq_len - 6, 1), strides=(1,1))(conv_2)\n",
        "\n",
        "merged_tensor = concatenate([maxpool_0, maxpool_1, maxpool_2], axis=1)\n",
        "flatten = Flatten()(merged_tensor)\n",
        "dropout = Dropout(0.5)(flatten)\n",
        "output = Dense(units=2, activation='softmax', kernel_regularizer=regularizers.l2(0.01)) (dropout)\n"
      ],
      "metadata": {
        "id": "a69upu1bV4JD"
      },
      "execution_count": null,
      "outputs": []
    },
    {
      "cell_type": "code",
      "source": [
        "model = Model(inputs, output)"
      ],
      "metadata": {
        "id": "4G9K1J4tcprX"
      },
      "execution_count": null,
      "outputs": []
    },
    {
      "cell_type": "code",
      "source": [
        "adam = Adam(learning_rate=1e-3)\n",
        "\n",
        "model.compile(loss='categorical_crossentropy',\n",
        "              optimizer=adam,\n",
        "              metrics=['acc'])\n",
        "\n",
        "callbacks = [EarlyStopping(monitor='val_loss',patience=2)]"
      ],
      "metadata": {
        "id": "cFvNxZHwXwzK"
      },
      "execution_count": null,
      "outputs": []
    },
    {
      "cell_type": "code",
      "source": [
        "model.fit(X_train_padded,y_train_cat,\n",
        "          validation_data=(X_valid_padded, y_valid_cat),\n",
        "          batch_size=1000,\n",
        "          epochs=10, \n",
        "          callbacks=callbacks )"
      ],
      "metadata": {
        "colab": {
          "base_uri": "https://localhost:8080/"
        },
        "id": "2yg-Pzt9dhZP",
        "outputId": "08a5c1f0-ed65-4253-c2ea-3cf9c857b31f"
      },
      "execution_count": null,
      "outputs": [
        {
          "output_type": "stream",
          "name": "stdout",
          "text": [
            "Epoch 1/10\n",
            "34/34 [==============================] - 13s 355ms/step - loss: 0.0958 - acc: 0.9889 - val_loss: 0.0914 - val_acc: 0.9896\n",
            "Epoch 2/10\n",
            "34/34 [==============================] - 12s 354ms/step - loss: 0.0903 - acc: 0.9909 - val_loss: 0.0895 - val_acc: 0.9909\n",
            "Epoch 3/10\n",
            "34/34 [==============================] - 12s 357ms/step - loss: 0.0907 - acc: 0.9905 - val_loss: 0.0895 - val_acc: 0.9906\n",
            "Epoch 4/10\n",
            "34/34 [==============================] - 12s 361ms/step - loss: 0.0907 - acc: 0.9904 - val_loss: 0.0893 - val_acc: 0.9902\n",
            "Epoch 5/10\n",
            "34/34 [==============================] - 12s 364ms/step - loss: 0.0900 - acc: 0.9904 - val_loss: 0.0946 - val_acc: 0.9857\n",
            "Epoch 6/10\n",
            "34/34 [==============================] - 12s 369ms/step - loss: 0.0913 - acc: 0.9902 - val_loss: 0.0899 - val_acc: 0.9896\n"
          ]
        },
        {
          "output_type": "execute_result",
          "data": {
            "text/plain": [
              "<keras.callbacks.History at 0x7f04acd9dbd0>"
            ]
          },
          "metadata": {},
          "execution_count": 44
        }
      ]
    },
    {
      "cell_type": "code",
      "source": [
        "y_prob = model.predict(X_test_padded)"
      ],
      "metadata": {
        "id": "Gxs8YDOFycQa"
      },
      "execution_count": null,
      "outputs": []
    },
    {
      "cell_type": "code",
      "source": [
        "y_pred = np.argmax(y_prob, axis=1)"
      ],
      "metadata": {
        "id": "6UF-qImxjBoj"
      },
      "execution_count": null,
      "outputs": []
    },
    {
      "cell_type": "code",
      "source": [
        "print(classification_report(y_test, y_pred))"
      ],
      "metadata": {
        "colab": {
          "base_uri": "https://localhost:8080/"
        },
        "id": "rJ7LV2ImjG7Q",
        "outputId": "c84b3258-f8ea-4415-ea37-dd8735e8d906"
      },
      "execution_count": null,
      "outputs": [
        {
          "output_type": "stream",
          "name": "stdout",
          "text": [
            "              precision    recall  f1-score   support\n",
            "\n",
            "           0       0.98      1.00      0.99      5231\n",
            "           1       1.00      0.98      0.99      5263\n",
            "\n",
            "    accuracy                           0.99     10494\n",
            "   macro avg       0.99      0.99      0.99     10494\n",
            "weighted avg       0.99      0.99      0.99     10494\n",
            "\n"
          ]
        }
      ]
    },
    {
      "cell_type": "code",
      "source": [
        "cm=confusion_matrix(y_test,y_pred)\n",
        "disp = ConfusionMatrixDisplay(confusion_matrix=cm, display_labels=[\"No Sarcasm\", \"Sarcasm\"])\n",
        "disp.plot(cmap=plt.cm.Blues)\n",
        "disp.ax_.set_title(\"CNN + pretrained Word2Vec\")\n",
        "plt.show()"
      ],
      "metadata": {
        "colab": {
          "base_uri": "https://localhost:8080/",
          "height": 295
        },
        "id": "fT1ARb_wjnhy",
        "outputId": "6b19ff59-a20f-436f-f570-56245794579c"
      },
      "execution_count": null,
      "outputs": [
        {
          "output_type": "display_data",
          "data": {
            "text/plain": [
              "<Figure size 432x288 with 2 Axes>"
            ],
            "image/png": "[encoded data removed]"
          },
          "metadata": {
            "needs_background": "light"
          }
        }
      ]
    }
  ]
}